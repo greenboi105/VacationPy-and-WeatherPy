{
 "cells": [
  {
   "cell_type": "markdown",
   "metadata": {},
   "source": [
    "# VacationPy\n",
    "---"
   ]
  },
  {
   "cell_type": "code",
   "execution_count": 2,
   "metadata": {},
   "outputs": [],
   "source": [
    "# Dependencies and Setup\n",
    "import hvplot.pandas\n",
    "import pandas as pd\n",
    "import requests\n",
    "import plotly.express as px\n",
    "px.set_mapbox_access_token(\"pk.eyJ1IjoiZ3JlZW5ib2kxMDUiLCJhIjoiY2xlMGo4aGZ0MDlyNTN2cWtlYnAyeTduNCJ9.22dna4Wm_VmFU1OKBXCFgQ\")\n",
    "\n",
    "# Import API key\n",
    "from api_keys import geoapify_key"
   ]
  },
  {
   "cell_type": "code",
   "execution_count": 3,
   "metadata": {},
   "outputs": [
    {
     "data": {
      "text/html": [
       "<div>\n",
       "<style scoped>\n",
       "    .dataframe tbody tr th:only-of-type {\n",
       "        vertical-align: middle;\n",
       "    }\n",
       "\n",
       "    .dataframe tbody tr th {\n",
       "        vertical-align: top;\n",
       "    }\n",
       "\n",
       "    .dataframe thead th {\n",
       "        text-align: right;\n",
       "    }\n",
       "</style>\n",
       "<table border=\"1\" class=\"dataframe\">\n",
       "  <thead>\n",
       "    <tr style=\"text-align: right;\">\n",
       "      <th></th>\n",
       "      <th>City_ID</th>\n",
       "      <th>City</th>\n",
       "      <th>Lat</th>\n",
       "      <th>Lng</th>\n",
       "      <th>Max Temp</th>\n",
       "      <th>Humidity</th>\n",
       "      <th>Cloudiness</th>\n",
       "      <th>Wind Speed</th>\n",
       "      <th>Country</th>\n",
       "      <th>Date</th>\n",
       "    </tr>\n",
       "  </thead>\n",
       "  <tbody>\n",
       "    <tr>\n",
       "      <th>0</th>\n",
       "      <td>0</td>\n",
       "      <td>ushuaia</td>\n",
       "      <td>-54.8000</td>\n",
       "      <td>-68.3000</td>\n",
       "      <td>9.81</td>\n",
       "      <td>46</td>\n",
       "      <td>20</td>\n",
       "      <td>8.23</td>\n",
       "      <td>AR</td>\n",
       "      <td>1696006230</td>\n",
       "    </tr>\n",
       "    <tr>\n",
       "      <th>1</th>\n",
       "      <td>1</td>\n",
       "      <td>amga</td>\n",
       "      <td>60.8953</td>\n",
       "      <td>131.9608</td>\n",
       "      <td>-2.50</td>\n",
       "      <td>72</td>\n",
       "      <td>23</td>\n",
       "      <td>1.69</td>\n",
       "      <td>RU</td>\n",
       "      <td>1696006603</td>\n",
       "    </tr>\n",
       "    <tr>\n",
       "      <th>2</th>\n",
       "      <td>2</td>\n",
       "      <td>tidjikja</td>\n",
       "      <td>18.5564</td>\n",
       "      <td>-11.4271</td>\n",
       "      <td>41.52</td>\n",
       "      <td>7</td>\n",
       "      <td>80</td>\n",
       "      <td>5.31</td>\n",
       "      <td>MR</td>\n",
       "      <td>1696006271</td>\n",
       "    </tr>\n",
       "    <tr>\n",
       "      <th>3</th>\n",
       "      <td>3</td>\n",
       "      <td>ilulissat</td>\n",
       "      <td>69.2167</td>\n",
       "      <td>-51.1000</td>\n",
       "      <td>2.01</td>\n",
       "      <td>64</td>\n",
       "      <td>75</td>\n",
       "      <td>1.54</td>\n",
       "      <td>GL</td>\n",
       "      <td>1696006232</td>\n",
       "    </tr>\n",
       "    <tr>\n",
       "      <th>4</th>\n",
       "      <td>4</td>\n",
       "      <td>tromso</td>\n",
       "      <td>69.6496</td>\n",
       "      <td>18.9570</td>\n",
       "      <td>10.01</td>\n",
       "      <td>93</td>\n",
       "      <td>75</td>\n",
       "      <td>0.00</td>\n",
       "      <td>NO</td>\n",
       "      <td>1696006274</td>\n",
       "    </tr>\n",
       "  </tbody>\n",
       "</table>\n",
       "</div>"
      ],
      "text/plain": [
       "   City_ID       City      Lat       Lng  Max Temp  Humidity  Cloudiness  \\\n",
       "0        0    ushuaia -54.8000  -68.3000      9.81        46          20   \n",
       "1        1       amga  60.8953  131.9608     -2.50        72          23   \n",
       "2        2   tidjikja  18.5564  -11.4271     41.52         7          80   \n",
       "3        3  ilulissat  69.2167  -51.1000      2.01        64          75   \n",
       "4        4     tromso  69.6496   18.9570     10.01        93          75   \n",
       "\n",
       "   Wind Speed Country        Date  \n",
       "0        8.23      AR  1696006230  \n",
       "1        1.69      RU  1696006603  \n",
       "2        5.31      MR  1696006271  \n",
       "3        1.54      GL  1696006232  \n",
       "4        0.00      NO  1696006274  "
      ]
     },
     "execution_count": 3,
     "metadata": {},
     "output_type": "execute_result"
    }
   ],
   "source": [
    "# Load the CSV file created in Part 1 into a Pandas DataFrame\n",
    "city_data_df = pd.read_csv(\"../output_data/cities.csv\")\n",
    "\n",
    "# Display sample data\n",
    "city_data_df.head()"
   ]
  },
  {
   "cell_type": "code",
   "execution_count": 4,
   "metadata": {},
   "outputs": [
    {
     "name": "stderr",
     "output_type": "stream",
     "text": [
      "/Users/greenboi/opt/anaconda3/lib/python3.9/site-packages/geoviews/operation/__init__.py:14: HoloviewsDeprecationWarning: 'ResamplingOperation' is deprecated and will be removed in version 1.17, use 'ResampleOperation2D' instead.\n",
      "  from holoviews.operation.datashader import (\n"
     ]
    },
    {
     "data": {},
     "metadata": {},
     "output_type": "display_data"
    },
    {
     "data": {
      "application/vnd.holoviews_exec.v0+json": "",
      "text/html": [
       "<div id='1004'>\n",
       "  <div class=\"bk-root\" id=\"aca17145-83ab-44aa-ab53-65758cdf3e6f\" data-root-id=\"1004\"></div>\n",
       "</div>\n",
       "<script type=\"application/javascript\">(function(root) {\n",
       "  function embed_document(root) {\n",
       "    var docs_json = {\"d9ae11fb-ca26-4295-aa92-bcaba35f2674\":{\"defs\":[{\"extends\":null,\"module\":null,\"name\":\"ReactiveHTML1\",\"overrides\":[],\"properties\":[]},{\"extends\":null,\"module\":null,\"name\":\"FlexBox1\",\"overrides\":[],\"properties\":[{\"default\":\"flex-start\",\"kind\":null,\"name\":\"align_content\"},{\"default\":\"flex-start\",\"kind\":null,\"name\":\"align_items\"},{\"default\":\"row\",\"kind\":null,\"name\":\"flex_direction\"},{\"default\":\"wrap\",\"kind\":null,\"name\":\"flex_wrap\"},{\"default\":\"flex-start\",\"kind\":null,\"name\":\"justify_content\"}]},{\"extends\":null,\"module\":null,\"name\":\"GridStack1\",\"overrides\":[],\"properties\":[{\"default\":\"warn\",\"kind\":null,\"name\":\"mode\"},{\"default\":null,\"kind\":null,\"name\":\"ncols\"},{\"default\":null,\"kind\":null,\"name\":\"nrows\"},{\"default\":true,\"kind\":null,\"name\":\"allow_resize\"},{\"default\":true,\"kind\":null,\"name\":\"allow_drag\"},{\"default\":[],\"kind\":null,\"name\":\"state\"}]},{\"extends\":null,\"module\":null,\"name\":\"click1\",\"overrides\":[],\"properties\":[{\"default\":\"\",\"kind\":null,\"name\":\"terminal_output\"},{\"default\":\"\",\"kind\":null,\"name\":\"debug_name\"},{\"default\":0,\"kind\":null,\"name\":\"clears\"}]},{\"extends\":null,\"module\":null,\"name\":\"NotificationAreaBase1\",\"overrides\":[],\"properties\":[{\"default\":\"bottom-right\",\"kind\":null,\"name\":\"position\"},{\"default\":0,\"kind\":null,\"name\":\"_clear\"}]},{\"extends\":null,\"module\":null,\"name\":\"NotificationArea1\",\"overrides\":[],\"properties\":[{\"default\":[],\"kind\":null,\"name\":\"notifications\"},{\"default\":\"bottom-right\",\"kind\":null,\"name\":\"position\"},{\"default\":0,\"kind\":null,\"name\":\"_clear\"},{\"default\":[{\"background\":\"#ffc107\",\"icon\":{\"className\":\"fas fa-exclamation-triangle\",\"color\":\"white\",\"tagName\":\"i\"},\"type\":\"warning\"},{\"background\":\"#007bff\",\"icon\":{\"className\":\"fas fa-info-circle\",\"color\":\"white\",\"tagName\":\"i\"},\"type\":\"info\"}],\"kind\":null,\"name\":\"types\"}]},{\"extends\":null,\"module\":null,\"name\":\"Notification\",\"overrides\":[],\"properties\":[{\"default\":null,\"kind\":null,\"name\":\"background\"},{\"default\":3000,\"kind\":null,\"name\":\"duration\"},{\"default\":null,\"kind\":null,\"name\":\"icon\"},{\"default\":\"\",\"kind\":null,\"name\":\"message\"},{\"default\":null,\"kind\":null,\"name\":\"notification_type\"},{\"default\":false,\"kind\":null,\"name\":\"_destroyed\"}]},{\"extends\":null,\"module\":null,\"name\":\"TemplateActions1\",\"overrides\":[],\"properties\":[{\"default\":0,\"kind\":null,\"name\":\"open_modal\"},{\"default\":0,\"kind\":null,\"name\":\"close_modal\"}]},{\"extends\":null,\"module\":null,\"name\":\"MaterialTemplateActions1\",\"overrides\":[],\"properties\":[{\"default\":0,\"kind\":null,\"name\":\"open_modal\"},{\"default\":0,\"kind\":null,\"name\":\"close_modal\"}]}],\"roots\":{\"references\":[{\"attributes\":{\"coordinates\":null,\"group\":null,\"text_color\":\"black\",\"text_font_size\":\"12pt\"},\"id\":\"1016\",\"type\":\"Title\"},{\"attributes\":{\"label\":{\"field\":\"color\"},\"renderers\":[{\"id\":\"1085\"}]},\"id\":\"1094\",\"type\":\"LegendItem\"},{\"attributes\":{\"coordinates\":null,\"group\":null,\"level\":\"glyph\",\"tile_source\":{\"id\":\"1071\"}},\"id\":\"1074\",\"type\":\"TileRenderer\"},{\"attributes\":{\"margin\":[5,5,5,5],\"name\":\"HSpacer01550\",\"sizing_mode\":\"stretch_width\"},\"id\":\"1005\",\"type\":\"Spacer\"},{\"attributes\":{\"children\":[{\"id\":\"1005\"},{\"id\":\"1015\"},{\"id\":\"1105\"}],\"margin\":[0,0,0,0],\"name\":\"Row01546\",\"tags\":[\"embedded\"]},\"id\":\"1004\",\"type\":\"Row\"},{\"attributes\":{\"click_policy\":\"mute\",\"coordinates\":null,\"group\":null,\"items\":[{\"id\":\"1094\"}],\"location\":[0,0]},\"id\":\"1093\",\"type\":\"Legend\"},{\"attributes\":{\"fill_color\":{\"field\":\"color\",\"transform\":{\"id\":\"1076\"}},\"hatch_color\":{\"field\":\"color\",\"transform\":{\"id\":\"1076\"}},\"line_color\":{\"field\":\"color\",\"transform\":{\"id\":\"1076\"}},\"size\":{\"field\":\"size\"},\"tags\":[\"apply_ranges\"],\"x\":{\"field\":\"Lng\"},\"y\":{\"field\":\"Lat\"}},\"id\":\"1083\",\"type\":\"Scatter\"},{\"attributes\":{\"callback\":null,\"formatters\":{\"$x\":{\"id\":\"1095\"},\"$y\":{\"id\":\"1096\"}},\"renderers\":[{\"id\":\"1085\"}],\"tags\":[\"hv_created\"],\"tooltips\":[[\"Lng\",\"$x{custom}\"],[\"Lat\",\"$y{custom}\"],[\"City\",\"@{City}\"],[\"Humidity\",\"@{Humidity}\"]]},\"id\":\"1014\",\"type\":\"HoverTool\"},{\"attributes\":{\"fill_color\":{\"field\":\"color\",\"transform\":{\"id\":\"1076\"}},\"hatch_color\":{\"field\":\"color\",\"transform\":{\"id\":\"1076\"}},\"line_color\":{\"field\":\"color\",\"transform\":{\"id\":\"1076\"}},\"size\":{\"field\":\"size\"},\"tags\":[\"apply_ranges\"],\"x\":{\"field\":\"Lng\"},\"y\":{\"field\":\"Lat\"}},\"id\":\"1080\",\"type\":\"Scatter\"},{\"attributes\":{},\"id\":\"1022\",\"type\":\"LinearScale\"},{\"attributes\":{},\"id\":\"1078\",\"type\":\"Selection\"},{\"attributes\":{\"fill_alpha\":{\"value\":0.2},\"fill_color\":{\"field\":\"color\",\"transform\":{\"id\":\"1076\"}},\"hatch_alpha\":{\"value\":0.2},\"hatch_color\":{\"field\":\"color\",\"transform\":{\"id\":\"1076\"}},\"line_alpha\":{\"value\":0.2},\"line_color\":{\"field\":\"color\",\"transform\":{\"id\":\"1076\"}},\"size\":{\"field\":\"size\"},\"tags\":[\"apply_ranges\"],\"x\":{\"field\":\"Lng\"},\"y\":{\"field\":\"Lat\"}},\"id\":\"1084\",\"type\":\"Scatter\"},{\"attributes\":{\"axis_label\":\"y\",\"coordinates\":null,\"formatter\":{\"id\":\"1048\"},\"group\":null,\"major_label_policy\":{\"id\":\"1058\"},\"ticker\":{\"id\":\"1047\"}},\"id\":\"1028\",\"type\":\"LinearAxis\"},{\"attributes\":{\"axis\":{\"id\":\"1028\"},\"coordinates\":null,\"dimension\":1,\"grid_line_color\":null,\"group\":null,\"ticker\":null},\"id\":\"1031\",\"type\":\"Grid\"},{\"attributes\":{},\"id\":\"1058\",\"type\":\"AllLabels\"},{\"attributes\":{\"coordinates\":null,\"data_source\":{\"id\":\"1077\"},\"glyph\":{\"id\":\"1080\"},\"group\":null,\"hover_glyph\":{\"id\":\"1083\"},\"muted_glyph\":{\"id\":\"1084\"},\"nonselection_glyph\":{\"id\":\"1081\"},\"selection_glyph\":{\"id\":\"1082\"},\"view\":{\"id\":\"1086\"}},\"id\":\"1085\",\"type\":\"GlyphRenderer\"},{\"attributes\":{\"code\":\"\\n        var projections = Bokeh.require(\\\"core/util/projections\\\");\\n        var x = special_vars.data_x\\n        var y = special_vars.data_y\\n        var coords = projections.wgs84_mercator.invert(x, y)\\n        return \\\"\\\" + (coords[1]).toFixed(4)\\n    \"},\"id\":\"1096\",\"type\":\"CustomJSHover\"},{\"attributes\":{\"dimension\":\"lon\"},\"id\":\"1045\",\"type\":\"MercatorTicker\"},{\"attributes\":{},\"id\":\"1051\",\"type\":\"AllLabels\"},{\"attributes\":{},\"id\":\"1032\",\"type\":\"SaveTool\"},{\"attributes\":{\"fill_color\":{\"field\":\"color\",\"transform\":{\"id\":\"1076\"}},\"hatch_color\":{\"field\":\"color\",\"transform\":{\"id\":\"1076\"}},\"line_color\":{\"field\":\"color\",\"transform\":{\"id\":\"1076\"}},\"size\":{\"field\":\"size\"},\"tags\":[\"apply_ranges\"],\"x\":{\"field\":\"Lng\"},\"y\":{\"field\":\"Lat\"}},\"id\":\"1082\",\"type\":\"Scatter\"},{\"attributes\":{\"dimension\":\"lat\"},\"id\":\"1047\",\"type\":\"MercatorTicker\"},{\"attributes\":{\"bottom_units\":\"screen\",\"coordinates\":null,\"fill_alpha\":0.5,\"fill_color\":\"lightgrey\",\"group\":null,\"left_units\":\"screen\",\"level\":\"overlay\",\"line_alpha\":1.0,\"line_color\":\"black\",\"line_dash\":[4,4],\"line_width\":2,\"right_units\":\"screen\",\"syncable\":false,\"top_units\":\"screen\"},\"id\":\"1037\",\"type\":\"BoxAnnotation\"},{\"attributes\":{},\"id\":\"1033\",\"type\":\"PanTool\"},{\"attributes\":{\"code\":\"\\n        var projections = Bokeh.require(\\\"core/util/projections\\\");\\n        var x = special_vars.data_x\\n        var y = special_vars.data_y\\n        var coords = projections.wgs84_mercator.invert(x, y)\\n        return \\\"\\\" + (coords[0]).toFixed(4)\\n    \"},\"id\":\"1095\",\"type\":\"CustomJSHover\"},{\"attributes\":{\"zoom_on_axis\":false},\"id\":\"1034\",\"type\":\"WheelZoomTool\"},{\"attributes\":{\"match_aspect\":true,\"overlay\":{\"id\":\"1037\"}},\"id\":\"1035\",\"type\":\"BoxZoomTool\"},{\"attributes\":{\"source\":{\"id\":\"1077\"}},\"id\":\"1086\",\"type\":\"CDSView\"},{\"attributes\":{\"data\":{\"City\":[\"ushuaia\",\"amga\",\"tidjikja\",\"ilulissat\",\"tromso\",\"nagykoros\",\"nagqu\",\"alta\",\"tabou\",\"ratnagiri\",\"udachny\",\"tanjung pandan\",\"forster\",\"grytviken\",\"whitehorse\",\"edinburgh of the seven seas\",\"tommot\",\"potoci\",\"urangan\",\"abancay\",\"saiha\",\"klyuchi\",\"port-aux-francais\",\"dudinka\",\"college\",\"berdigestyakh\",\"suoyarvi\",\"kingston\",\"st. john's\",\"albany\",\"lebu\",\"blackmans bay\",\"christchurch\",\"adamstown\",\"uturoa\",\"invercargill\",\"jertih\",\"sodra sandby\",\"kapa'a\",\"chonchi\",\"bethel\",\"longyearbyen\",\"saint-pierre\",\"kon tum\",\"puerto ayora\",\"labytnangi\",\"stanley\",\"yellowknife\",\"vikhorevka\",\"margate\",\"bredasdorp\",\"copala\",\"papatowai\",\"bac lieu\",\"jagnair\",\"shimoda\",\"tura\",\"puerto natales\",\"margaret river\",\"port alfred\",\"waitangi\",\"thompson\",\"kisangani\",\"windhoek\",\"portland\",\"hawaiian paradise park\",\"port elizabeth\",\"avarua\",\"qaqortoq\",\"presque isle\",\"rawson\",\"jamestown\",\"djibo\",\"iqaluit\",\"san antonio\",\"kruisfontein\",\"oroqen zizhiqi\",\"morant bay\",\"choele choel\",\"shalqar\",\"alice springs\",\"sao gabriel da cachoeira\",\"khovd\",\"saipan\",\"nova sintra\",\"keflavik\",\"rikaze\",\"at taraf\",\"hakha\",\"songling\",\"petropavlovsk-kamchatsky\",\"hermanus\",\"kayangel\",\"sierra grande\",\"sungai raya\",\"at-bashi\",\"patnanungan\",\"enewetak\",\"arkhangel'sk\",\"camana\",\"coquimbo\",\"kuala terengganu\",\"touggourt\",\"sola\",\"port mathurin\",\"mancio lima\",\"tumbes\",\"tiksi\",\"mokopane\",\"cockburn town\",\"sinjar\",\"crane\",\"la passe\",\"wailua homesteads\",\"lihue\",\"al qusiyah\",\"island harbour\",\"tamanrasset\",\"sitka\",\"gadzhiyevo\",\"olonkinbyen\",\"vrede\",\"ratangarh\",\"rongelap\",\"georgetown\",\"ndioum\",\"corner brook\",\"greenville\",\"maceio\",\"calama\",\"shaowu\",\"punta arenas\",\"maniago\",\"hami\",\"chernomorskoye\",\"ribeira grande\",\"sisimiut\",\"vila franca do campo\",\"sinop\",\"saint-philippe\",\"haiku-pauwela\",\"maragogi\",\"chabahar\",\"bayanhongor\",\"walvis bay\",\"jiuquan\",\"bilibino\",\"whangarei\",\"buritis\",\"hamilton\",\"palmer\",\"tolanaro\",\"mana\",\"barcelos\",\"pont rouge\",\"aykhal\",\"inderbor\",\"kailua-kona\",\"hithadhoo\",\"douglas\",\"bennington\",\"kavaratti\",\"wagar\",\"souillac\",\"covington\",\"mendoza\",\"bathsheba\",\"sao joao da barra\",\"ta`u\",\"devoto\",\"nyurba\",\"kirkwood\",\"vera\",\"keelung\",\"genhe\",\"hammerfest\",\"red hill\",\"siwa oasis\",\"utrik\",\"sinabang\",\"oriximina\",\"la trinite\",\"alesund\",\"vadso\",\"aztec\",\"vernon\",\"nar'yan-mar\",\"geraldton\",\"kodiak\",\"xiaogan\",\"waiuku\",\"frontera\",\"slave lake\",\"mil'kovo\",\"bardai\",\"noyabrsk\",\"seosan\",\"port saint john's\",\"kirchenviertel\",\"codrington\",\"tralee\",\"new norfolk\",\"happy valley-goose bay\",\"afif\",\"mounana\",\"cajica\",\"parthenay\",\"pori\",\"pizarro\",\"joshimath\",\"aras-asan\",\"nikolayevsk-on-amure\",\"coromandel\",\"mutuali\",\"lib\",\"kenai\",\"masuguru\",\"yambio\",\"trairi\",\"constantia\",\"kargopol'\",\"afaahiti\",\"sarigol\",\"douentza\",\"muncar\",\"pakokku\",\"key west\",\"sabana de torres\",\"alpena\",\"aqaba\",\"isafjordur\",\"salinopolis\",\"shitanjing\",\"polyarnyy\",\"talnakh\",\"guerrero negro\",\"minas de marcona\",\"mata-utu\",\"ulladulla\",\"nadi\",\"vilyuysk\",\"san sebastian de la gomera\",\"san antonio de pale\",\"gharo\",\"aasiaat\",\"tinogasta\",\"san pedro pochutla\",\"juan griego\",\"labasa\",\"natal\",\"kloulklubed\",\"buryn'\",\"carnarvon\",\"anadyr\",\"bikenibeu village\",\"petrovsk\",\"morondava\",\"dakoro\",\"kerikeri\",\"akureyri\",\"n'dalatando\",\"thabazimbi\",\"queenstown\",\"iskateley\",\"necochea\",\"tyukalinsk\",\"goz beida\",\"nuuk\",\"vorgashor\",\"machico\",\"kapuskasing\",\"cabo san lucas\",\"kourou\",\"filadelfia\",\"antofagasta\",\"presidente medici\",\"sattahip\",\"togur\",\"sarangani\",\"ihtiman\",\"port lincoln\",\"abhayapuri\",\"makushino\",\"banswara\",\"selfoss\",\"sao tome\",\"santarem\",\"maxcanu\",\"cururupu\",\"at taj\",\"bengkulu\",\"aral\",\"northam\",\"ola\",\"ankazobe\",\"mazamitla\",\"cole harbour\",\"jayapura\",\"igarka\",\"galesong\",\"vila velha\",\"chalons-en-champagne\",\"severo-yeniseyskiy\",\"nogliki\",\"cortland\",\"ayr\",\"sayan\",\"kavieng\",\"malango\",\"nyala\",\"puerto boyaca\",\"sur\",\"revda\",\"flin flon\",\"macau\",\"mach\",\"san juan nepomuceno\",\"vydrino\",\"fisterra\",\"palikir - national government center\",\"olyokminsk\",\"touros\",\"fada\",\"fale old settlement\",\"lincoln city\",\"pisco\",\"kuta\",\"olinda\",\"taoudenni\",\"dakhla\",\"jalapa\",\"tomatlan\",\"labrador city\",\"bodaybo\",\"saldanha\",\"nemuro\",\"ust-nera\",\"manokwari\",\"suntar\",\"east london\",\"villa de san antonio\",\"ha'il\",\"baiyin\",\"san rafael del yuma\",\"faya-largeau\",\"wanning\",\"tazovsky\",\"kisanga\",\"kafr ad dawwar\",\"weno\",\"cromwell\",\"badger\",\"urumqi\",\"rio grande\",\"rehoboth\",\"marsabit\",\"manismata\",\"akjoujt\",\"kone\",\"mount isa\",\"kayar\",\"shenjiamen\",\"terme\",\"bairnsdale\",\"umluj\",\"berezovyy\",\"west island\",\"petrozavodsk\",\"achit\",\"port isabel\",\"serhetabat\",\"salaga\",\"bandon\",\"saudarkrokur\",\"malpe\",\"puerto baquerizo moreno\",\"dolores\",\"nefta\",\"remire-montjoly\",\"salinas\",\"emporia\",\"east falmouth\",\"atar\",\"tangalle\",\"mpongwe\",\"zhangjiajie\",\"arno\",\"dawson creek\",\"soure\",\"olds\",\"shibetsu\",\"egilsstadir\",\"malanje\",\"viqueque\",\"larache\",\"tukrah\",\"midvagur\",\"teno\",\"pariaman\",\"colac\",\"lautoka\",\"hasaki\",\"sambava\",\"abepura\",\"isangel\",\"fortuna\",\"ambon\",\"porto seguro\",\"chos malal\",\"quelimane\",\"champerico\",\"katsuura\",\"okayama\",\"kachia\",\"kirakira\",\"cove\",\"ketchikan\",\"bacalar\",\"kigoma\",\"tan-tan\",\"qom\",\"tofol\",\"bubaque\",\"balaipungut\",\"grahamstown\",\"puerto aysen\",\"mount gambier\",\"yinchuan\",\"matola\",\"mercedes\",\"sidi khaled\",\"puerto carreno\",\"chibougamau\",\"nasice\",\"durham\",\"ulsteinvik\",\"cacoal\",\"atakpame\",\"tirebolu\",\"cabaritan east\",\"sansanne-mango\",\"larroque\",\"hobyo\",\"benguela\",\"nizhnesortymskiy\",\"kristiansund\",\"arraial do cabo\",\"fuglafjordur\",\"san patricio\",\"scarborough\",\"taroa\",\"seven pagodas\",\"yenangyaung\",\"la ronge\",\"bin yauri\",\"bamboo flat\",\"shumikha\",\"arteche\",\"antalaha\",\"praia da vitoria\",\"dunedin\",\"fort st. john\",\"el nido\",\"hastings\",\"lospalos\",\"sinan\",\"letlhakane\",\"chimoio\",\"buka\",\"adre\",\"meiganga\",\"polla\",\"mumbwa\",\"yulinshi\",\"prince rupert\",\"ocean city\",\"mandalgovi\",\"grootfontein\",\"kumeny\",\"ringkobing\",\"velikiye luki\",\"keetmanshoop\",\"nova xavantina\",\"shindand\",\"hwange\",\"kushiro\",\"kibi\",\"urucara\",\"valle de la pascua\",\"katabu\",\"kill devil hills\",\"la'ie\",\"atafu village\",\"pundong\",\"goure\",\"mafra\",\"ismailia\",\"pierre\",\"yuyao\",\"sao paulo de olivenca\",\"challapata\",\"huarmey\",\"bel ombre\",\"khilok\",\"kuraymah\",\"kralendijk\",\"sao jose da coroa grande\",\"pacific grove\",\"puerto deseado\",\"soio\",\"fort bragg\",\"megion\",\"kununurra\",\"usogorsk\",\"carutapera\",\"duyun\",\"tengrela\",\"leninskoye\",\"krasnoyarsk\",\"santa cruz\",\"the pas\",\"midoun\",\"waliso\",\"zeya\",\"lewiston orchards\",\"charters towers\",\"san agustin de valle fertil\",\"la sarre\",\"kondoa\",\"acapulco de juarez\",\"lehighton\",\"ancud\",\"awjilah\",\"chicoana\",\"mahina\",\"pandan\",\"zemio\",\"talitsa\",\"lompoc\",\"mwinilunga\",\"ixtapa\",\"vakarai\",\"byala slatina\",\"koster\",\"kudahuvadhoo\",\"linares\",\"doka\",\"okhotsk\",\"mejit\",\"zarzis\",\"puerto armuelles\",\"mountain home\",\"heroica matamoros\",\"kharovsk\",\"fortaleza\",\"szczyrk\",\"starotitarovskaya\",\"coxim\",\"araripe\",\"sandnessjoen\",\"bhim tal\",\"sarukhan\",\"qandala\",\"puerto real\",\"waterloo\",\"tinajo\",\"salinas de hidalgo\",\"seabra\",\"ribeira brava\",\"cabedelo\",\"bandar lampung\",\"patterson\",\"changling\",\"vicam\",\"monroe\",\"changtu\",\"al ain city\",\"kaiyuan\",\"saint-pathus\",\"kuusamo\",\"liepaja\",\"khandyga\",\"arar\",\"lorengau\",\"garden city\"],\"Humidity\":[46,72,7,64,93,53,83,87,81,88,92,86,80,81,95,76,92,38,81,43,99,57,73,91,74,63,90,71,61,93,65,89,83,80,80,84,92,93,82,54,89,69,73,97,87,74,72,93,69,59,77,57,70,87,36,85,91,40,72,87,91,82,66,7,87,95,53,88,55,67,42,72,24,87,54,53,84,65,35,48,33,66,63,83,77,71,48,32,99,95,100,81,81,35,90,85,80,79,94,76,72,83,27,71,68,94,78,81,28,66,19,43,73,82,83,13,78,13,87,91,81,28,24,78,92,23,47,91,61,7,93,50,44,21,52,88,82,99,88,81,78,63,70,57,63,26,97,91,36,91,85,78,57,58,58,98,35,72,75,50,93,81,23,78,91,16,74,70,78,20,91,71,37,91,84,87,59,24,81,80,24,70,79,87,60,89,77,87,87,90,85,51,76,63,86,71,64,77,60,64,82,98,51,11,91,58,62,82,69,71,88,95,32,28,75,86,49,79,52,67,78,84,56,16,92,89,70,58,76,13,61,62,20,91,91,65,60,73,95,64,57,65,81,65,94,28,57,66,87,62,81,44,78,93,79,64,83,22,88,81,60,26,24,77,68,77,44,100,77,58,48,58,52,90,65,29,89,95,75,54,47,80,78,58,61,66,66,44,47,11,95,24,83,89,62,63,67,86,99,69,75,71,95,89,74,72,49,81,99,45,45,40,96,93,89,13,58,68,92,94,90,57,92,76,97,82,94,65,11,69,59,62,47,87,82,78,93,85,90,73,67,14,56,54,28,92,80,56,63,89,97,65,41,77,10,36,88,10,78,24,66,88,88,39,60,95,83,100,94,68,30,86,86,80,92,69,67,27,52,76,51,90,8,90,30,92,81,100,54,87,81,87,53,90,39,70,93,55,84,77,64,75,86,83,72,95,95,78,35,73,63,84,72,90,88,84,93,89,61,61,22,85,75,88,49,87,62,17,51,41,19,70,59,47,83,76,29,89,88,87,65,40,86,77,72,82,73,94,52,68,80,74,93,82,75,83,91,93,87,88,81,93,86,23,92,64,24,69,34,50,96,61,35,32,98,91,58,9,83,85,68,3,28,24,31,83,92,21,39,96,91,83,72,91,25,89,62,58,95,35,15,76,78,81,13,55,62,86,52,83,78,77,83,89,52,88,62,34,89,39,100,63,81,76,74,93,24,43,62,66,75,60,36,34,83,87,98,96,75,51,72,53,32,32,74,56,62,92,76,63,85,38,61,88,62,100,57,22,14,87,84,82,63,39,73,73,38,25,77,68,93,59,71,37,74,65,26,93,66,100,88,65,10,84,82],\"Lat\":{\"__ndarray__\":\"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\",\"dtype\":\"float64\",\"order\":\"little\",\"shape\":[585]},\"Lng\":{\"__ndarray__\":\"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\",\"dtype\":\"float64\",\"order\":\"little\",\"shape\":[585]},\"color\":[\"ushuaia\",\"amga\",\"tidjikja\",\"ilulissat\",\"tromso\",\"nagykoros\",\"nagqu\",\"alta\",\"tabou\",\"ratnagiri\",\"udachny\",\"tanjung pandan\",\"forster\",\"grytviken\",\"whitehorse\",\"edinburgh of the seven seas\",\"tommot\",\"potoci\",\"urangan\",\"abancay\",\"saiha\",\"klyuchi\",\"port-aux-francais\",\"dudinka\",\"college\",\"berdigestyakh\",\"suoyarvi\",\"kingston\",\"st. john's\",\"albany\",\"lebu\",\"blackmans bay\",\"christchurch\",\"adamstown\",\"uturoa\",\"invercargill\",\"jertih\",\"sodra sandby\",\"kapa'a\",\"chonchi\",\"bethel\",\"longyearbyen\",\"saint-pierre\",\"kon tum\",\"puerto ayora\",\"labytnangi\",\"stanley\",\"yellowknife\",\"vikhorevka\",\"margate\",\"bredasdorp\",\"copala\",\"papatowai\",\"bac lieu\",\"jagnair\",\"shimoda\",\"tura\",\"puerto natales\",\"margaret river\",\"port alfred\",\"waitangi\",\"thompson\",\"kisangani\",\"windhoek\",\"portland\",\"hawaiian paradise park\",\"port elizabeth\",\"avarua\",\"qaqortoq\",\"presque isle\",\"rawson\",\"jamestown\",\"djibo\",\"iqaluit\",\"san antonio\",\"kruisfontein\",\"oroqen zizhiqi\",\"morant bay\",\"choele choel\",\"shalqar\",\"alice springs\",\"sao gabriel da cachoeira\",\"khovd\",\"saipan\",\"nova sintra\",\"keflavik\",\"rikaze\",\"at taraf\",\"hakha\",\"songling\",\"petropavlovsk-kamchatsky\",\"hermanus\",\"kayangel\",\"sierra grande\",\"sungai raya\",\"at-bashi\",\"patnanungan\",\"enewetak\",\"arkhangel'sk\",\"camana\",\"coquimbo\",\"kuala terengganu\",\"touggourt\",\"sola\",\"port mathurin\",\"mancio lima\",\"tumbes\",\"tiksi\",\"mokopane\",\"cockburn town\",\"sinjar\",\"crane\",\"la passe\",\"wailua homesteads\",\"lihue\",\"al qusiyah\",\"island harbour\",\"tamanrasset\",\"sitka\",\"gadzhiyevo\",\"olonkinbyen\",\"vrede\",\"ratangarh\",\"rongelap\",\"georgetown\",\"ndioum\",\"corner brook\",\"greenville\",\"maceio\",\"calama\",\"shaowu\",\"punta arenas\",\"maniago\",\"hami\",\"chernomorskoye\",\"ribeira grande\",\"sisimiut\",\"vila franca do campo\",\"sinop\",\"saint-philippe\",\"haiku-pauwela\",\"maragogi\",\"chabahar\",\"bayanhongor\",\"walvis bay\",\"jiuquan\",\"bilibino\",\"whangarei\",\"buritis\",\"hamilton\",\"palmer\",\"tolanaro\",\"mana\",\"barcelos\",\"pont rouge\",\"aykhal\",\"inderbor\",\"kailua-kona\",\"hithadhoo\",\"douglas\",\"bennington\",\"kavaratti\",\"wagar\",\"souillac\",\"covington\",\"mendoza\",\"bathsheba\",\"sao joao da barra\",\"ta`u\",\"devoto\",\"nyurba\",\"kirkwood\",\"vera\",\"keelung\",\"genhe\",\"hammerfest\",\"red hill\",\"siwa oasis\",\"utrik\",\"sinabang\",\"oriximina\",\"la trinite\",\"alesund\",\"vadso\",\"aztec\",\"vernon\",\"nar'yan-mar\",\"geraldton\",\"kodiak\",\"xiaogan\",\"waiuku\",\"frontera\",\"slave lake\",\"mil'kovo\",\"bardai\",\"noyabrsk\",\"seosan\",\"port saint john's\",\"kirchenviertel\",\"codrington\",\"tralee\",\"new norfolk\",\"happy valley-goose bay\",\"afif\",\"mounana\",\"cajica\",\"parthenay\",\"pori\",\"pizarro\",\"joshimath\",\"aras-asan\",\"nikolayevsk-on-amure\",\"coromandel\",\"mutuali\",\"lib\",\"kenai\",\"masuguru\",\"yambio\",\"trairi\",\"constantia\",\"kargopol'\",\"afaahiti\",\"sarigol\",\"douentza\",\"muncar\",\"pakokku\",\"key west\",\"sabana de torres\",\"alpena\",\"aqaba\",\"isafjordur\",\"salinopolis\",\"shitanjing\",\"polyarnyy\",\"talnakh\",\"guerrero negro\",\"minas de marcona\",\"mata-utu\",\"ulladulla\",\"nadi\",\"vilyuysk\",\"san sebastian de la gomera\",\"san antonio de pale\",\"gharo\",\"aasiaat\",\"tinogasta\",\"san pedro pochutla\",\"juan griego\",\"labasa\",\"natal\",\"kloulklubed\",\"buryn'\",\"carnarvon\",\"anadyr\",\"bikenibeu village\",\"petrovsk\",\"morondava\",\"dakoro\",\"kerikeri\",\"akureyri\",\"n'dalatando\",\"thabazimbi\",\"queenstown\",\"iskateley\",\"necochea\",\"tyukalinsk\",\"goz beida\",\"nuuk\",\"vorgashor\",\"machico\",\"kapuskasing\",\"cabo san lucas\",\"kourou\",\"filadelfia\",\"antofagasta\",\"presidente medici\",\"sattahip\",\"togur\",\"sarangani\",\"ihtiman\",\"port lincoln\",\"abhayapuri\",\"makushino\",\"banswara\",\"selfoss\",\"sao tome\",\"santarem\",\"maxcanu\",\"cururupu\",\"at taj\",\"bengkulu\",\"aral\",\"northam\",\"ola\",\"ankazobe\",\"mazamitla\",\"cole harbour\",\"jayapura\",\"igarka\",\"galesong\",\"vila velha\",\"chalons-en-champagne\",\"severo-yeniseyskiy\",\"nogliki\",\"cortland\",\"ayr\",\"sayan\",\"kavieng\",\"malango\",\"nyala\",\"puerto boyaca\",\"sur\",\"revda\",\"flin flon\",\"macau\",\"mach\",\"san juan nepomuceno\",\"vydrino\",\"fisterra\",\"palikir - national government center\",\"olyokminsk\",\"touros\",\"fada\",\"fale old settlement\",\"lincoln city\",\"pisco\",\"kuta\",\"olinda\",\"taoudenni\",\"dakhla\",\"jalapa\",\"tomatlan\",\"labrador city\",\"bodaybo\",\"saldanha\",\"nemuro\",\"ust-nera\",\"manokwari\",\"suntar\",\"east london\",\"villa de san antonio\",\"ha'il\",\"baiyin\",\"san rafael del yuma\",\"faya-largeau\",\"wanning\",\"tazovsky\",\"kisanga\",\"kafr ad dawwar\",\"weno\",\"cromwell\",\"badger\",\"urumqi\",\"rio grande\",\"rehoboth\",\"marsabit\",\"manismata\",\"akjoujt\",\"kone\",\"mount isa\",\"kayar\",\"shenjiamen\",\"terme\",\"bairnsdale\",\"umluj\",\"berezovyy\",\"west island\",\"petrozavodsk\",\"achit\",\"port isabel\",\"serhetabat\",\"salaga\",\"bandon\",\"saudarkrokur\",\"malpe\",\"puerto baquerizo moreno\",\"dolores\",\"nefta\",\"remire-montjoly\",\"salinas\",\"emporia\",\"east falmouth\",\"atar\",\"tangalle\",\"mpongwe\",\"zhangjiajie\",\"arno\",\"dawson creek\",\"soure\",\"olds\",\"shibetsu\",\"egilsstadir\",\"malanje\",\"viqueque\",\"larache\",\"tukrah\",\"midvagur\",\"teno\",\"pariaman\",\"colac\",\"lautoka\",\"hasaki\",\"sambava\",\"abepura\",\"isangel\",\"fortuna\",\"ambon\",\"porto seguro\",\"chos malal\",\"quelimane\",\"champerico\",\"katsuura\",\"okayama\",\"kachia\",\"kirakira\",\"cove\",\"ketchikan\",\"bacalar\",\"kigoma\",\"tan-tan\",\"qom\",\"tofol\",\"bubaque\",\"balaipungut\",\"grahamstown\",\"puerto aysen\",\"mount gambier\",\"yinchuan\",\"matola\",\"mercedes\",\"sidi khaled\",\"puerto carreno\",\"chibougamau\",\"nasice\",\"durham\",\"ulsteinvik\",\"cacoal\",\"atakpame\",\"tirebolu\",\"cabaritan east\",\"sansanne-mango\",\"larroque\",\"hobyo\",\"benguela\",\"nizhnesortymskiy\",\"kristiansund\",\"arraial do cabo\",\"fuglafjordur\",\"san patricio\",\"scarborough\",\"taroa\",\"seven pagodas\",\"yenangyaung\",\"la ronge\",\"bin yauri\",\"bamboo flat\",\"shumikha\",\"arteche\",\"antalaha\",\"praia da vitoria\",\"dunedin\",\"fort st. john\",\"el nido\",\"hastings\",\"lospalos\",\"sinan\",\"letlhakane\",\"chimoio\",\"buka\",\"adre\",\"meiganga\",\"polla\",\"mumbwa\",\"yulinshi\",\"prince rupert\",\"ocean city\",\"mandalgovi\",\"grootfontein\",\"kumeny\",\"ringkobing\",\"velikiye luki\",\"keetmanshoop\",\"nova xavantina\",\"shindand\",\"hwange\",\"kushiro\",\"kibi\",\"urucara\",\"valle de la pascua\",\"katabu\",\"kill devil hills\",\"la'ie\",\"atafu village\",\"pundong\",\"goure\",\"mafra\",\"ismailia\",\"pierre\",\"yuyao\",\"sao paulo de olivenca\",\"challapata\",\"huarmey\",\"bel ombre\",\"khilok\",\"kuraymah\",\"kralendijk\",\"sao jose da coroa grande\",\"pacific grove\",\"puerto deseado\",\"soio\",\"fort bragg\",\"megion\",\"kununurra\",\"usogorsk\",\"carutapera\",\"duyun\",\"tengrela\",\"leninskoye\",\"krasnoyarsk\",\"santa cruz\",\"the pas\",\"midoun\",\"waliso\",\"zeya\",\"lewiston orchards\",\"charters towers\",\"san agustin de valle fertil\",\"la sarre\",\"kondoa\",\"acapulco de juarez\",\"lehighton\",\"ancud\",\"awjilah\",\"chicoana\",\"mahina\",\"pandan\",\"zemio\",\"talitsa\",\"lompoc\",\"mwinilunga\",\"ixtapa\",\"vakarai\",\"byala slatina\",\"koster\",\"kudahuvadhoo\",\"linares\",\"doka\",\"okhotsk\",\"mejit\",\"zarzis\",\"puerto armuelles\",\"mountain home\",\"heroica matamoros\",\"kharovsk\",\"fortaleza\",\"szczyrk\",\"starotitarovskaya\",\"coxim\",\"araripe\",\"sandnessjoen\",\"bhim tal\",\"sarukhan\",\"qandala\",\"puerto real\",\"waterloo\",\"tinajo\",\"salinas de hidalgo\",\"seabra\",\"ribeira brava\",\"cabedelo\",\"bandar lampung\",\"patterson\",\"changling\",\"vicam\",\"monroe\",\"changtu\",\"al ain city\",\"kaiyuan\",\"saint-pathus\",\"kuusamo\",\"liepaja\",\"khandyga\",\"arar\",\"lorengau\",\"garden city\"],\"size\":{\"__ndarray__\":\"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\",\"dtype\":\"float64\",\"order\":\"little\",\"shape\":[585]}},\"selected\":{\"id\":\"1078\"},\"selection_policy\":{\"id\":\"1090\"}},\"id\":\"1077\",\"type\":\"ColumnDataSource\"},{\"attributes\":{},\"id\":\"1036\",\"type\":\"ResetTool\"},{\"attributes\":{\"active_drag\":{\"id\":\"1033\"},\"tools\":[{\"id\":\"1014\"},{\"id\":\"1032\"},{\"id\":\"1033\"},{\"id\":\"1034\"},{\"id\":\"1035\"},{\"id\":\"1036\"}]},\"id\":\"1038\",\"type\":\"Toolbar\"},{\"attributes\":{\"dimension\":\"lon\"},\"id\":\"1046\",\"type\":\"MercatorTickFormatter\"},{\"attributes\":{\"margin\":[5,5,5,5],\"name\":\"HSpacer01551\",\"sizing_mode\":\"stretch_width\"},\"id\":\"1105\",\"type\":\"Spacer\"},{\"attributes\":{\"dimension\":\"lat\"},\"id\":\"1048\",\"type\":\"MercatorTickFormatter\"},{\"attributes\":{\"end\":22940611.99815698,\"min_interval\":5,\"reset_end\":22940611.99815698,\"reset_start\":-22626290.283953086,\"start\":-22626290.283953086,\"tags\":[[[\"Lng\",\"Lng\",null]]]},\"id\":\"1010\",\"type\":\"Range1d\"},{\"attributes\":{\"factors\":[\"ushuaia\",\"amga\",\"tidjikja\",\"ilulissat\",\"tromso\",\"nagykoros\",\"nagqu\",\"alta\",\"tabou\",\"ratnagiri\",\"udachny\",\"tanjung pandan\",\"forster\",\"grytviken\",\"whitehorse\",\"edinburgh of the seven seas\",\"tommot\",\"potoci\",\"urangan\",\"abancay\",\"saiha\",\"klyuchi\",\"port-aux-francais\",\"dudinka\",\"college\",\"berdigestyakh\",\"suoyarvi\",\"kingston\",\"st. john's\",\"albany\",\"lebu\",\"blackmans bay\",\"christchurch\",\"adamstown\",\"uturoa\",\"invercargill\",\"jertih\",\"sodra sandby\",\"kapa'a\",\"chonchi\",\"bethel\",\"longyearbyen\",\"saint-pierre\",\"kon tum\",\"puerto ayora\",\"labytnangi\",\"stanley\",\"yellowknife\",\"vikhorevka\",\"margate\",\"bredasdorp\",\"copala\",\"papatowai\",\"bac lieu\",\"jagnair\",\"shimoda\",\"tura\",\"puerto natales\",\"margaret river\",\"port alfred\",\"waitangi\",\"thompson\",\"kisangani\",\"windhoek\",\"portland\",\"hawaiian paradise park\",\"port elizabeth\",\"avarua\",\"qaqortoq\",\"presque isle\",\"rawson\",\"jamestown\",\"djibo\",\"iqaluit\",\"san antonio\",\"kruisfontein\",\"oroqen zizhiqi\",\"morant bay\",\"choele choel\",\"shalqar\",\"alice springs\",\"sao gabriel da cachoeira\",\"khovd\",\"saipan\",\"nova sintra\",\"keflavik\",\"rikaze\",\"at taraf\",\"hakha\",\"songling\",\"petropavlovsk-kamchatsky\",\"hermanus\",\"kayangel\",\"sierra grande\",\"sungai raya\",\"at-bashi\",\"patnanungan\",\"enewetak\",\"arkhangel'sk\",\"camana\",\"coquimbo\",\"kuala terengganu\",\"touggourt\",\"sola\",\"port mathurin\",\"mancio lima\",\"tumbes\",\"tiksi\",\"mokopane\",\"cockburn town\",\"sinjar\",\"crane\",\"la passe\",\"wailua homesteads\",\"lihue\",\"al qusiyah\",\"island harbour\",\"tamanrasset\",\"sitka\",\"gadzhiyevo\",\"olonkinbyen\",\"vrede\",\"ratangarh\",\"rongelap\",\"georgetown\",\"ndioum\",\"corner brook\",\"greenville\",\"maceio\",\"calama\",\"shaowu\",\"punta arenas\",\"maniago\",\"hami\",\"chernomorskoye\",\"ribeira grande\",\"sisimiut\",\"vila franca do campo\",\"sinop\",\"saint-philippe\",\"haiku-pauwela\",\"maragogi\",\"chabahar\",\"bayanhongor\",\"walvis bay\",\"jiuquan\",\"bilibino\",\"whangarei\",\"buritis\",\"hamilton\",\"palmer\",\"tolanaro\",\"mana\",\"barcelos\",\"pont rouge\",\"aykhal\",\"inderbor\",\"kailua-kona\",\"hithadhoo\",\"douglas\",\"bennington\",\"kavaratti\",\"wagar\",\"souillac\",\"covington\",\"mendoza\",\"bathsheba\",\"sao joao da barra\",\"ta`u\",\"devoto\",\"nyurba\",\"kirkwood\",\"vera\",\"keelung\",\"genhe\",\"hammerfest\",\"red hill\",\"siwa oasis\",\"utrik\",\"sinabang\",\"oriximina\",\"la trinite\",\"alesund\",\"vadso\",\"aztec\",\"vernon\",\"nar'yan-mar\",\"geraldton\",\"kodiak\",\"xiaogan\",\"waiuku\",\"frontera\",\"slave lake\",\"mil'kovo\",\"bardai\",\"noyabrsk\",\"seosan\",\"port saint john's\",\"kirchenviertel\",\"codrington\",\"tralee\",\"new norfolk\",\"happy valley-goose bay\",\"afif\",\"mounana\",\"cajica\",\"parthenay\",\"pori\",\"pizarro\",\"joshimath\",\"aras-asan\",\"nikolayevsk-on-amure\",\"coromandel\",\"mutuali\",\"lib\",\"kenai\",\"masuguru\",\"yambio\",\"trairi\",\"constantia\",\"kargopol'\",\"afaahiti\",\"sarigol\",\"douentza\",\"muncar\",\"pakokku\",\"key west\",\"sabana de torres\",\"alpena\",\"aqaba\",\"isafjordur\",\"salinopolis\",\"shitanjing\",\"polyarnyy\",\"talnakh\",\"guerrero negro\",\"minas de marcona\",\"mata-utu\",\"ulladulla\",\"nadi\",\"vilyuysk\",\"san sebastian de la gomera\",\"san antonio de pale\",\"gharo\",\"aasiaat\",\"tinogasta\",\"san pedro pochutla\",\"juan griego\",\"labasa\",\"natal\",\"kloulklubed\",\"buryn'\",\"carnarvon\",\"anadyr\",\"bikenibeu village\",\"petrovsk\",\"morondava\",\"dakoro\",\"kerikeri\",\"akureyri\",\"n'dalatando\",\"thabazimbi\",\"queenstown\",\"iskateley\",\"necochea\",\"tyukalinsk\",\"goz beida\",\"nuuk\",\"vorgashor\",\"machico\",\"kapuskasing\",\"cabo san lucas\",\"kourou\",\"filadelfia\",\"antofagasta\",\"presidente medici\",\"sattahip\",\"togur\",\"sarangani\",\"ihtiman\",\"port lincoln\",\"abhayapuri\",\"makushino\",\"banswara\",\"selfoss\",\"sao tome\",\"santarem\",\"maxcanu\",\"cururupu\",\"at taj\",\"bengkulu\",\"aral\",\"northam\",\"ola\",\"ankazobe\",\"mazamitla\",\"cole harbour\",\"jayapura\",\"igarka\",\"galesong\",\"vila velha\",\"chalons-en-champagne\",\"severo-yeniseyskiy\",\"nogliki\",\"cortland\",\"ayr\",\"sayan\",\"kavieng\",\"malango\",\"nyala\",\"puerto boyaca\",\"sur\",\"revda\",\"flin flon\",\"macau\",\"mach\",\"san juan nepomuceno\",\"vydrino\",\"fisterra\",\"palikir - national government center\",\"olyokminsk\",\"touros\",\"fada\",\"fale old settlement\",\"lincoln city\",\"pisco\",\"kuta\",\"olinda\",\"taoudenni\",\"dakhla\",\"jalapa\",\"tomatlan\",\"labrador city\",\"bodaybo\",\"saldanha\",\"nemuro\",\"ust-nera\",\"manokwari\",\"suntar\",\"east london\",\"villa de san antonio\",\"ha'il\",\"baiyin\",\"san rafael del yuma\",\"faya-largeau\",\"wanning\",\"tazovsky\",\"kisanga\",\"kafr ad dawwar\",\"weno\",\"cromwell\",\"badger\",\"urumqi\",\"rio grande\",\"rehoboth\",\"marsabit\",\"manismata\",\"akjoujt\",\"kone\",\"mount isa\",\"kayar\",\"shenjiamen\",\"terme\",\"bairnsdale\",\"umluj\",\"berezovyy\",\"west island\",\"petrozavodsk\",\"achit\",\"port isabel\",\"serhetabat\",\"salaga\",\"bandon\",\"saudarkrokur\",\"malpe\",\"puerto baquerizo moreno\",\"dolores\",\"nefta\",\"remire-montjoly\",\"salinas\",\"emporia\",\"east falmouth\",\"atar\",\"tangalle\",\"mpongwe\",\"zhangjiajie\",\"arno\",\"dawson creek\",\"soure\",\"olds\",\"shibetsu\",\"egilsstadir\",\"malanje\",\"viqueque\",\"larache\",\"tukrah\",\"midvagur\",\"teno\",\"pariaman\",\"colac\",\"lautoka\",\"hasaki\",\"sambava\",\"abepura\",\"isangel\",\"fortuna\",\"ambon\",\"porto seguro\",\"chos malal\",\"quelimane\",\"champerico\",\"katsuura\",\"okayama\",\"kachia\",\"kirakira\",\"cove\",\"ketchikan\",\"bacalar\",\"kigoma\",\"tan-tan\",\"qom\",\"tofol\",\"bubaque\",\"balaipungut\",\"grahamstown\",\"puerto aysen\",\"mount gambier\",\"yinchuan\",\"matola\",\"mercedes\",\"sidi khaled\",\"puerto carreno\",\"chibougamau\",\"nasice\",\"durham\",\"ulsteinvik\",\"cacoal\",\"atakpame\",\"tirebolu\",\"cabaritan east\",\"sansanne-mango\",\"larroque\",\"hobyo\",\"benguela\",\"nizhnesortymskiy\",\"kristiansund\",\"arraial do cabo\",\"fuglafjordur\",\"san patricio\",\"scarborough\",\"taroa\",\"seven pagodas\",\"yenangyaung\",\"la ronge\",\"bin yauri\",\"bamboo flat\",\"shumikha\",\"arteche\",\"antalaha\",\"praia da vitoria\",\"dunedin\",\"fort st. john\",\"el nido\",\"hastings\",\"lospalos\",\"sinan\",\"letlhakane\",\"chimoio\",\"buka\",\"adre\",\"meiganga\",\"polla\",\"mumbwa\",\"yulinshi\",\"prince rupert\",\"ocean city\",\"mandalgovi\",\"grootfontein\",\"kumeny\",\"ringkobing\",\"velikiye luki\",\"keetmanshoop\",\"nova xavantina\",\"shindand\",\"hwange\",\"kushiro\",\"kibi\",\"urucara\",\"valle de la pascua\",\"katabu\",\"kill devil hills\",\"la'ie\",\"atafu village\",\"pundong\",\"goure\",\"mafra\",\"ismailia\",\"pierre\",\"yuyao\",\"sao paulo de olivenca\",\"challapata\",\"huarmey\",\"bel ombre\",\"khilok\",\"kuraymah\",\"kralendijk\",\"sao jose da coroa grande\",\"pacific grove\",\"puerto deseado\",\"soio\",\"fort bragg\",\"megion\",\"kununurra\",\"usogorsk\",\"carutapera\",\"duyun\",\"tengrela\",\"leninskoye\",\"krasnoyarsk\",\"santa cruz\",\"the pas\",\"midoun\",\"waliso\",\"zeya\",\"lewiston orchards\",\"charters towers\",\"san agustin de valle fertil\",\"la sarre\",\"kondoa\",\"acapulco de juarez\",\"lehighton\",\"ancud\",\"awjilah\",\"chicoana\",\"mahina\",\"pandan\",\"zemio\",\"talitsa\",\"lompoc\",\"mwinilunga\",\"ixtapa\",\"vakarai\",\"byala slatina\",\"koster\",\"kudahuvadhoo\",\"linares\",\"doka\",\"okhotsk\",\"mejit\",\"zarzis\",\"puerto armuelles\",\"mountain home\",\"heroica matamoros\",\"kharovsk\",\"fortaleza\",\"szczyrk\",\"starotitarovskaya\",\"coxim\",\"araripe\",\"sandnessjoen\",\"bhim tal\",\"sarukhan\",\"qandala\",\"puerto real\",\"waterloo\",\"tinajo\",\"salinas de hidalgo\",\"seabra\",\"ribeira brava\",\"cabedelo\",\"bandar lampung\",\"patterson\",\"changling\",\"vicam\",\"monroe\",\"changtu\",\"al ain city\",\"kaiyuan\",\"saint-pathus\",\"kuusamo\",\"liepaja\",\"khandyga\",\"arar\",\"lorengau\",\"garden city\"],\"palette\":[\"#1f77b3\",\"#ff7e0e\",\"#2ba02b\",\"#d62628\",\"#9367bc\",\"#8c564b\",\"#e277c1\",\"#7e7e7e\",\"#bcbc21\",\"#16bdcf\",\"#3a0182\",\"#004201\",\"#0fffa8\",\"#5d003f\",\"#bcbcff\",\"#d8afa1\",\"#b80080\",\"#004d52\",\"#6b6400\",\"#7c0100\",\"#6026ff\",\"#ffff9a\",\"#564964\",\"#8cb893\",\"#93fbff\",\"#018267\",\"#90ff00\",\"#8200a0\",\"#ac8944\",\"#5b3400\",\"#ffbff2\",\"#ff6e75\",\"#798cff\",\"#dd00ff\",\"#505646\",\"#004489\",\"#ffbf60\",\"#ff018c\",\"#bdc8cf\",\"#af97b5\",\"#b65600\",\"#017000\",\"#cd87ff\",\"#1cd646\",\"#bfebc3\",\"#7997b5\",\"#a56089\",\"#6e8956\",\"#bc7c75\",\"#8a2844\",\"#00acff\",\"#8ed4ff\",\"#4b6d77\",\"#00d4b1\",\"#9300f2\",\"#8a9500\",\"#5d5b9e\",\"#fddfba\",\"#00939e\",\"#ffdb00\",\"#00aa79\",\"#520067\",\"#000091\",\"#0a5d3d\",\"#a5e275\",\"#623b41\",\"#c6c689\",\"#ff9eb5\",\"#cd4f6b\",\"#ff07d6\",\"#8a3a05\",\"#7e3d70\",\"#ff4901\",\"#602ba5\",\"#1c00ff\",\"#e6dfff\",\"#aa3baf\",\"#d89c00\",\"#a3a39e\",\"#3f69ff\",\"#46490c\",\"#7b6985\",\"#6b978c\",\"#ff9a75\",\"#835bff\",\"#7c6b46\",\"#80b654\",\"#bc0049\",\"#fd93ff\",\"#5d0018\",\"#89d1d1\",\"#9c8cd3\",\"#da6d42\",\"#8a5700\",\"#3b5069\",\"#4b6b3b\",\"#edcfd8\",\"#cfedff\",\"#aa1500\",\"#dfff4f\",\"#ff2a56\",\"#d1499e\",\"#707cb8\",\"#598000\",\"#00e4fd\",\"#774b95\",\"#67d48c\",\"#3d3a72\",\"#ac413f\",\"#d6a166\",\"#c169cd\",\"#69595d\",\"#87aced\",\"#a0a569\",\"#d1aae6\",\"#870062\",\"#00fddb\",\"#672818\",\"#b342ff\",\"#0e59c4\",\"#168742\",\"#90d300\",\"#cd7900\",\"#f959ff\",\"#5b7466\",\"#8eaeb3\",\"#9c7c8c\",\"#4600c6\",\"#6b4d2d\",\"#a56d46\",\"#9e8972\",\"#a8afca\",\"#cd8ca7\",\"#00fd64\",\"#917900\",\"#ff62a1\",\"#f4ffd8\",\"#018cf0\",\"#13aca0\",\"#5b2d59\",\"#89859e\",\"#cfccba\",\"#d4afc4\",\"#dbdd6d\",\"#cffff4\",\"#006485\",\"#006962\",\"#a84167\",\"#2d97c4\",\"#a874ff\",\"#26ba5d\",\"#57b600\",\"#caffa7\",\"#a379aa\",\"#ffbc93\",\"#89e2c1\",\"#0fc8ff\",\"#d400c4\",\"#626d89\",\"#69858e\",\"#4b4d52\",\"#aa6067\",\"#79b5d4\",\"#2b5916\",\"#9a0024\",\"#bdd1f2\",\"#896e67\",\"#69a56b\",\"#855467\",\"#aecdba\",\"#87997e\",\"#cadb00\",\"#9a0390\",\"#ebbc1a\",\"#eb9cd1\",\"#70006e\",\"#b1a131\",\"#ca6b93\",\"#4146a3\",\"#e48c89\",\"#d44400\",\"#c68aca\",\"#b69597\",\"#d41f75\",\"#724bcc\",\"#674d00\",\"#672138\",\"#38564f\",\"#6ebaaa\",\"#853a31\",\"#a5d397\",\"#b8af8e\",\"#d8e4df\",\"#aa00df\",\"#cac1db\",\"#ffdf8c\",\"#e2524d\",\"#66696e\",\"#ff001c\",\"#522d72\",\"#4d906b\",\"#a86d11\",\"#ff9e26\",\"#5ea3af\",\"#c88556\",\"#915997\",\"#a3a1ff\",\"#fdbaba\",\"#242a87\",\"#dbe6a8\",\"#97f2a7\",\"#6793d6\",\"#ba5b3f\",\"#3a5d91\",\"#364f2f\",\"#267c95\",\"#89959a\",\"#cfb356\",\"#004664\",\"#5e5d2f\",\"#8e8e41\",\"#ac3f13\",\"#69953b\",\"#a13d85\",\"#bfb6ba\",\"#acc667\",\"#6469cf\",\"#91af00\",\"#2be2da\",\"#016e36\",\"#ff7952\",\"#42807e\",\"#4fe800\",\"#995428\",\"#5d0a00\",\"#a30057\",\"#0c8700\",\"#5982a7\",\"#ffebfb\",\"#4b6901\",\"#8775d4\",\"#e6c6ff\",\"#a5ffda\",\"#d86e77\",\"#df014b\",\"#69675b\",\"#776ba1\",\"#7e8067\",\"#594685\",\"#0000ca\",\"#7c002a\",\"#97ff72\",\"#b5e2e1\",\"#db52c8\",\"#777734\",\"#57bd8e\",\"#1f77b3\",\"#ff7e0e\",\"#2ba02b\",\"#d62628\",\"#9367bc\",\"#8c564b\",\"#e277c1\",\"#7e7e7e\",\"#bcbc21\",\"#16bdcf\",\"#3a0182\",\"#004201\",\"#0fffa8\",\"#5d003f\",\"#bcbcff\",\"#d8afa1\",\"#b80080\",\"#004d52\",\"#6b6400\",\"#7c0100\",\"#6026ff\",\"#ffff9a\",\"#564964\",\"#8cb893\",\"#93fbff\",\"#018267\",\"#90ff00\",\"#8200a0\",\"#ac8944\",\"#5b3400\",\"#ffbff2\",\"#ff6e75\",\"#798cff\",\"#dd00ff\",\"#505646\",\"#004489\",\"#ffbf60\",\"#ff018c\",\"#bdc8cf\",\"#af97b5\",\"#b65600\",\"#017000\",\"#cd87ff\",\"#1cd646\",\"#bfebc3\",\"#7997b5\",\"#a56089\",\"#6e8956\",\"#bc7c75\",\"#8a2844\",\"#00acff\",\"#8ed4ff\",\"#4b6d77\",\"#00d4b1\",\"#9300f2\",\"#8a9500\",\"#5d5b9e\",\"#fddfba\",\"#00939e\",\"#ffdb00\",\"#00aa79\",\"#520067\",\"#000091\",\"#0a5d3d\",\"#a5e275\",\"#623b41\",\"#c6c689\",\"#ff9eb5\",\"#cd4f6b\",\"#ff07d6\",\"#8a3a05\",\"#7e3d70\",\"#ff4901\",\"#602ba5\",\"#1c00ff\",\"#e6dfff\",\"#aa3baf\",\"#d89c00\",\"#a3a39e\",\"#3f69ff\",\"#46490c\",\"#7b6985\",\"#6b978c\",\"#ff9a75\",\"#835bff\",\"#7c6b46\",\"#80b654\",\"#bc0049\",\"#fd93ff\",\"#5d0018\",\"#89d1d1\",\"#9c8cd3\",\"#da6d42\",\"#8a5700\",\"#3b5069\",\"#4b6b3b\",\"#edcfd8\",\"#cfedff\",\"#aa1500\",\"#dfff4f\",\"#ff2a56\",\"#d1499e\",\"#707cb8\",\"#598000\",\"#00e4fd\",\"#774b95\",\"#67d48c\",\"#3d3a72\",\"#ac413f\",\"#d6a166\",\"#c169cd\",\"#69595d\",\"#87aced\",\"#a0a569\",\"#d1aae6\",\"#870062\",\"#00fddb\",\"#672818\",\"#b342ff\",\"#0e59c4\",\"#168742\",\"#90d300\",\"#cd7900\",\"#f959ff\",\"#5b7466\",\"#8eaeb3\",\"#9c7c8c\",\"#4600c6\",\"#6b4d2d\",\"#a56d46\",\"#9e8972\",\"#a8afca\",\"#cd8ca7\",\"#00fd64\",\"#917900\",\"#ff62a1\",\"#f4ffd8\",\"#018cf0\",\"#13aca0\",\"#5b2d59\",\"#89859e\",\"#cfccba\",\"#d4afc4\",\"#dbdd6d\",\"#cffff4\",\"#006485\",\"#006962\",\"#a84167\",\"#2d97c4\",\"#a874ff\",\"#26ba5d\",\"#57b600\",\"#caffa7\",\"#a379aa\",\"#ffbc93\",\"#89e2c1\",\"#0fc8ff\",\"#d400c4\",\"#626d89\",\"#69858e\",\"#4b4d52\",\"#aa6067\",\"#79b5d4\",\"#2b5916\",\"#9a0024\",\"#bdd1f2\",\"#896e67\",\"#69a56b\",\"#855467\",\"#aecdba\",\"#87997e\",\"#cadb00\",\"#9a0390\",\"#ebbc1a\",\"#eb9cd1\",\"#70006e\",\"#b1a131\",\"#ca6b93\",\"#4146a3\",\"#e48c89\",\"#d44400\",\"#c68aca\",\"#b69597\",\"#d41f75\",\"#724bcc\",\"#674d00\",\"#672138\",\"#38564f\",\"#6ebaaa\",\"#853a31\",\"#a5d397\",\"#b8af8e\",\"#d8e4df\",\"#aa00df\",\"#cac1db\",\"#ffdf8c\",\"#e2524d\",\"#66696e\",\"#ff001c\",\"#522d72\",\"#4d906b\",\"#a86d11\",\"#ff9e26\",\"#5ea3af\",\"#c88556\",\"#915997\",\"#a3a1ff\",\"#fdbaba\",\"#242a87\",\"#dbe6a8\",\"#97f2a7\",\"#6793d6\",\"#ba5b3f\",\"#3a5d91\",\"#364f2f\",\"#267c95\",\"#89959a\",\"#cfb356\",\"#004664\",\"#5e5d2f\",\"#8e8e41\",\"#ac3f13\",\"#69953b\",\"#a13d85\",\"#bfb6ba\",\"#acc667\",\"#6469cf\",\"#91af00\",\"#2be2da\",\"#016e36\",\"#ff7952\",\"#42807e\",\"#4fe800\",\"#995428\",\"#5d0a00\",\"#a30057\",\"#0c8700\",\"#5982a7\",\"#ffebfb\",\"#4b6901\",\"#8775d4\",\"#e6c6ff\",\"#a5ffda\",\"#d86e77\",\"#df014b\",\"#69675b\",\"#776ba1\",\"#7e8067\",\"#594685\",\"#0000ca\",\"#7c002a\",\"#97ff72\",\"#b5e2e1\",\"#db52c8\",\"#777734\",\"#57bd8e\",\"#1f77b3\",\"#ff7e0e\",\"#2ba02b\",\"#d62628\",\"#9367bc\",\"#8c564b\",\"#e277c1\",\"#7e7e7e\",\"#bcbc21\",\"#16bdcf\",\"#3a0182\",\"#004201\",\"#0fffa8\",\"#5d003f\",\"#bcbcff\",\"#d8afa1\",\"#b80080\",\"#004d52\",\"#6b6400\",\"#7c0100\",\"#6026ff\",\"#ffff9a\",\"#564964\",\"#8cb893\",\"#93fbff\",\"#018267\",\"#90ff00\",\"#8200a0\",\"#ac8944\",\"#5b3400\",\"#ffbff2\",\"#ff6e75\",\"#798cff\",\"#dd00ff\",\"#505646\",\"#004489\",\"#ffbf60\",\"#ff018c\",\"#bdc8cf\",\"#af97b5\",\"#b65600\",\"#017000\",\"#cd87ff\",\"#1cd646\",\"#bfebc3\",\"#7997b5\",\"#a56089\",\"#6e8956\",\"#bc7c75\",\"#8a2844\",\"#00acff\",\"#8ed4ff\",\"#4b6d77\",\"#00d4b1\",\"#9300f2\",\"#8a9500\",\"#5d5b9e\",\"#fddfba\",\"#00939e\",\"#ffdb00\",\"#00aa79\",\"#520067\",\"#000091\",\"#0a5d3d\",\"#a5e275\",\"#623b41\",\"#c6c689\",\"#ff9eb5\",\"#cd4f6b\",\"#ff07d6\",\"#8a3a05\",\"#7e3d70\",\"#ff4901\"]},\"id\":\"1076\",\"type\":\"CategoricalColorMapper\"},{\"attributes\":{},\"id\":\"1090\",\"type\":\"UnionRenderers\"},{\"attributes\":{\"below\":[{\"id\":\"1024\"}],\"center\":[{\"id\":\"1027\"},{\"id\":\"1031\"}],\"frame_height\":600,\"frame_width\":800,\"height\":null,\"left\":[{\"id\":\"1028\"}],\"margin\":[5,5,5,5],\"match_aspect\":true,\"min_border_bottom\":10,\"min_border_left\":10,\"min_border_right\":10,\"min_border_top\":10,\"output_backend\":\"webgl\",\"renderers\":[{\"id\":\"1074\"},{\"id\":\"1085\"}],\"right\":[{\"id\":\"1093\"}],\"sizing_mode\":\"fixed\",\"title\":{\"id\":\"1016\"},\"toolbar\":{\"id\":\"1038\"},\"width\":null,\"x_range\":{\"id\":\"1010\"},\"x_scale\":{\"id\":\"1020\"},\"y_range\":{\"id\":\"1011\"},\"y_scale\":{\"id\":\"1022\"}},\"id\":\"1015\",\"subtype\":\"Figure\",\"type\":\"Plot\"},{\"attributes\":{\"end\":20669409.87538901,\"min_interval\":5,\"reset_end\":20669409.87538901,\"reset_start\":-13505766.83619354,\"start\":-13505766.83619354,\"tags\":[[[\"Lat\",\"Lat\",null]]]},\"id\":\"1011\",\"type\":\"Range1d\"},{\"attributes\":{\"axis_label\":\"x\",\"coordinates\":null,\"formatter\":{\"id\":\"1046\"},\"group\":null,\"major_label_policy\":{\"id\":\"1051\"},\"ticker\":{\"id\":\"1045\"}},\"id\":\"1024\",\"type\":\"LinearAxis\"},{\"attributes\":{\"fill_alpha\":{\"value\":0.1},\"fill_color\":{\"field\":\"color\",\"transform\":{\"id\":\"1076\"}},\"hatch_alpha\":{\"value\":0.1},\"hatch_color\":{\"field\":\"color\",\"transform\":{\"id\":\"1076\"}},\"line_alpha\":{\"value\":0.1},\"line_color\":{\"field\":\"color\",\"transform\":{\"id\":\"1076\"}},\"size\":{\"field\":\"size\"},\"tags\":[\"apply_ranges\"],\"x\":{\"field\":\"Lng\"},\"y\":{\"field\":\"Lat\"}},\"id\":\"1081\",\"type\":\"Scatter\"},{\"attributes\":{\"attribution\":\"&copy; <a href=\\\"https://www.openstreetmap.org/copyright\\\">OpenStreetMap</a> contributors\",\"url\":\"https://c.tile.openstreetmap.org/{Z}/{X}/{Y}.png\"},\"id\":\"1071\",\"type\":\"WMTSTileSource\"},{\"attributes\":{},\"id\":\"1020\",\"type\":\"LinearScale\"},{\"attributes\":{\"axis\":{\"id\":\"1024\"},\"coordinates\":null,\"grid_line_color\":null,\"group\":null,\"ticker\":null},\"id\":\"1027\",\"type\":\"Grid\"}],\"root_ids\":[\"1004\"]},\"title\":\"Bokeh Application\",\"version\":\"2.4.3\"}};\n",
       "    var render_items = [{\"docid\":\"d9ae11fb-ca26-4295-aa92-bcaba35f2674\",\"root_ids\":[\"1004\"],\"roots\":{\"1004\":\"aca17145-83ab-44aa-ab53-65758cdf3e6f\"}}];\n",
       "    root.Bokeh.embed.embed_items_notebook(docs_json, render_items);\n",
       "    for (const render_item of render_items) {\n",
       "      for (const root_id of render_item.root_ids) {\n",
       "\tconst id_el = document.getElementById(root_id)\n",
       "\tif (id_el.children.length && (id_el.children[0].className === 'bk-root')) {\n",
       "\t  const root_el = id_el.children[0]\n",
       "\t  root_el.id = root_el.id + '-rendered'\n",
       "\t}\n",
       "      }\n",
       "    }\n",
       "  }\n",
       "  if (root.Bokeh !== undefined && root.Bokeh.Panel !== undefined) {\n",
       "    embed_document(root);\n",
       "  } else {\n",
       "    var attempts = 0;\n",
       "    var timer = setInterval(function(root) {\n",
       "      if (root.Bokeh !== undefined && root.Bokeh.Panel !== undefined) {\n",
       "        clearInterval(timer);\n",
       "        embed_document(root);\n",
       "      } else if (document.readyState == \"complete\") {\n",
       "        attempts++;\n",
       "        if (attempts > 200) {\n",
       "          clearInterval(timer);\n",
       "          console.log(\"Bokeh: ERROR: Unable to run BokehJS code because BokehJS library is missing\");\n",
       "        }\n",
       "      }\n",
       "    }, 25, root)\n",
       "  }\n",
       "})(window);</script>"
      ],
      "text/plain": [
       ":Overlay\n",
       "   .Tiles.I  :Tiles   [x,y]\n",
       "   .Points.I :Points   [Lng,Lat]   (City,Humidity)"
      ]
     },
     "execution_count": 4,
     "metadata": {
      "application/vnd.holoviews_exec.v0+json": {
       "id": "1004"
      }
     },
     "output_type": "execute_result"
    }
   ],
   "source": [
    "humidity_plot = city_data_df.hvplot.points(\n",
    "    \"Lng\",\n",
    "    \"Lat\",\n",
    "    geo = True,\n",
    "    frame_width = 800,\n",
    "    frame_height = 600,\n",
    "    tiles =\"OSM\",\n",
    "    size = \"Humidity\",\n",
    "    color = \"City\"\n",
    ")\n",
    "\n",
    "humidity_plot"
   ]
  },
  {
   "cell_type": "code",
   "execution_count": 15,
   "metadata": {},
   "outputs": [
    {
     "data": {
      "application/vnd.plotly.v1+json": {
       "config": {
        "plotlyServerURL": "https://plot.ly"
       },
       "data": [
        {
         "hovertemplate": "City=ushuaia<br>Lat=%{lat}<br>Lng=%{lon}<extra></extra>",
         "lat": [
          -54.8
         ],
         "legendgroup": "ushuaia",
         "lon": [
          -68.3
         ],
         "marker": {
          "color": "#636efa"
         },
         "mode": "markers",
         "name": "ushuaia",
         "showlegend": true,
         "subplot": "mapbox",
         "type": "scattermapbox"
        },
        {
         "hovertemplate": "City=amga<br>Lat=%{lat}<br>Lng=%{lon}<extra></extra>",
         "lat": [
          60.8953
         ],
         "legendgroup": "amga",
         "lon": [
          131.9608
         ],
         "marker": {
          "color": "#EF553B"
         },
         "mode": "markers",
         "name": "amga",
         "showlegend": true,
         "subplot": "mapbox",
         "type": "scattermapbox"
        },
        {
         "hovertemplate": "City=tidjikja<br>Lat=%{lat}<br>Lng=%{lon}<extra></extra>",
         "lat": [
          18.5564
         ],
         "legendgroup": "tidjikja",
         "lon": [
          -11.4271
         ],
         "marker": {
          "color": "#00cc96"
         },
         "mode": "markers",
         "name": "tidjikja",
         "showlegend": true,
         "subplot": "mapbox",
         "type": "scattermapbox"
        },
        {
         "hovertemplate": "City=ilulissat<br>Lat=%{lat}<br>Lng=%{lon}<extra></extra>",
         "lat": [
          69.2167
         ],
         "legendgroup": "ilulissat",
         "lon": [
          -51.1
         ],
         "marker": {
          "color": "#ab63fa"
         },
         "mode": "markers",
         "name": "ilulissat",
         "showlegend": true,
         "subplot": "mapbox",
         "type": "scattermapbox"
        },
        {
         "hovertemplate": "City=tromso<br>Lat=%{lat}<br>Lng=%{lon}<extra></extra>",
         "lat": [
          69.6496
         ],
         "legendgroup": "tromso",
         "lon": [
          18.957
         ],
         "marker": {
          "color": "#FFA15A"
         },
         "mode": "markers",
         "name": "tromso",
         "showlegend": true,
         "subplot": "mapbox",
         "type": "scattermapbox"
        },
        {
         "hovertemplate": "City=nagykoros<br>Lat=%{lat}<br>Lng=%{lon}<extra></extra>",
         "lat": [
          47.0342
         ],
         "legendgroup": "nagykoros",
         "lon": [
          19.7786
         ],
         "marker": {
          "color": "#19d3f3"
         },
         "mode": "markers",
         "name": "nagykoros",
         "showlegend": true,
         "subplot": "mapbox",
         "type": "scattermapbox"
        },
        {
         "hovertemplate": "City=nagqu<br>Lat=%{lat}<br>Lng=%{lon}<extra></extra>",
         "lat": [
          31.5
         ],
         "legendgroup": "nagqu",
         "lon": [
          92
         ],
         "marker": {
          "color": "#FF6692"
         },
         "mode": "markers",
         "name": "nagqu",
         "showlegend": true,
         "subplot": "mapbox",
         "type": "scattermapbox"
        },
        {
         "hovertemplate": "City=alta<br>Lat=%{lat}<br>Lng=%{lon}<extra></extra>",
         "lat": [
          69.9689
         ],
         "legendgroup": "alta",
         "lon": [
          23.2717
         ],
         "marker": {
          "color": "#B6E880"
         },
         "mode": "markers",
         "name": "alta",
         "showlegend": true,
         "subplot": "mapbox",
         "type": "scattermapbox"
        },
        {
         "hovertemplate": "City=tabou<br>Lat=%{lat}<br>Lng=%{lon}<extra></extra>",
         "lat": [
          4.423
         ],
         "legendgroup": "tabou",
         "lon": [
          -7.3528
         ],
         "marker": {
          "color": "#FF97FF"
         },
         "mode": "markers",
         "name": "tabou",
         "showlegend": true,
         "subplot": "mapbox",
         "type": "scattermapbox"
        },
        {
         "hovertemplate": "City=ratnagiri<br>Lat=%{lat}<br>Lng=%{lon}<extra></extra>",
         "lat": [
          16.9833
         ],
         "legendgroup": "ratnagiri",
         "lon": [
          73.3
         ],
         "marker": {
          "color": "#FECB52"
         },
         "mode": "markers",
         "name": "ratnagiri",
         "showlegend": true,
         "subplot": "mapbox",
         "type": "scattermapbox"
        },
        {
         "hovertemplate": "City=udachny<br>Lat=%{lat}<br>Lng=%{lon}<extra></extra>",
         "lat": [
          66.4167
         ],
         "legendgroup": "udachny",
         "lon": [
          112.4
         ],
         "marker": {
          "color": "#636efa"
         },
         "mode": "markers",
         "name": "udachny",
         "showlegend": true,
         "subplot": "mapbox",
         "type": "scattermapbox"
        },
        {
         "hovertemplate": "City=tanjung pandan<br>Lat=%{lat}<br>Lng=%{lon}<extra></extra>",
         "lat": [
          -2.75
         ],
         "legendgroup": "tanjung pandan",
         "lon": [
          107.65
         ],
         "marker": {
          "color": "#EF553B"
         },
         "mode": "markers",
         "name": "tanjung pandan",
         "showlegend": true,
         "subplot": "mapbox",
         "type": "scattermapbox"
        },
        {
         "hovertemplate": "City=forster<br>Lat=%{lat}<br>Lng=%{lon}<extra></extra>",
         "lat": [
          -32.1667
         ],
         "legendgroup": "forster",
         "lon": [
          152.5167
         ],
         "marker": {
          "color": "#00cc96"
         },
         "mode": "markers",
         "name": "forster",
         "showlegend": true,
         "subplot": "mapbox",
         "type": "scattermapbox"
        },
        {
         "hovertemplate": "City=grytviken<br>Lat=%{lat}<br>Lng=%{lon}<extra></extra>",
         "lat": [
          -54.2811
         ],
         "legendgroup": "grytviken",
         "lon": [
          -36.5092
         ],
         "marker": {
          "color": "#ab63fa"
         },
         "mode": "markers",
         "name": "grytviken",
         "showlegend": true,
         "subplot": "mapbox",
         "type": "scattermapbox"
        },
        {
         "hovertemplate": "City=whitehorse<br>Lat=%{lat}<br>Lng=%{lon}<extra></extra>",
         "lat": [
          60.7161
         ],
         "legendgroup": "whitehorse",
         "lon": [
          -135.0538
         ],
         "marker": {
          "color": "#FFA15A"
         },
         "mode": "markers",
         "name": "whitehorse",
         "showlegend": true,
         "subplot": "mapbox",
         "type": "scattermapbox"
        },
        {
         "hovertemplate": "City=edinburgh of the seven seas<br>Lat=%{lat}<br>Lng=%{lon}<extra></extra>",
         "lat": [
          -37.0676
         ],
         "legendgroup": "edinburgh of the seven seas",
         "lon": [
          -12.3116
         ],
         "marker": {
          "color": "#19d3f3"
         },
         "mode": "markers",
         "name": "edinburgh of the seven seas",
         "showlegend": true,
         "subplot": "mapbox",
         "type": "scattermapbox"
        },
        {
         "hovertemplate": "City=tommot<br>Lat=%{lat}<br>Lng=%{lon}<extra></extra>",
         "lat": [
          58.9564
         ],
         "legendgroup": "tommot",
         "lon": [
          126.2925
         ],
         "marker": {
          "color": "#FF6692"
         },
         "mode": "markers",
         "name": "tommot",
         "showlegend": true,
         "subplot": "mapbox",
         "type": "scattermapbox"
        },
        {
         "hovertemplate": "City=potoci<br>Lat=%{lat}<br>Lng=%{lon}<extra></extra>",
         "lat": [
          43.4086
         ],
         "legendgroup": "potoci",
         "lon": [
          17.8786
         ],
         "marker": {
          "color": "#B6E880"
         },
         "mode": "markers",
         "name": "potoci",
         "showlegend": true,
         "subplot": "mapbox",
         "type": "scattermapbox"
        },
        {
         "hovertemplate": "City=urangan<br>Lat=%{lat}<br>Lng=%{lon}<extra></extra>",
         "lat": [
          -25.3
         ],
         "legendgroup": "urangan",
         "lon": [
          152.9
         ],
         "marker": {
          "color": "#FF97FF"
         },
         "mode": "markers",
         "name": "urangan",
         "showlegend": true,
         "subplot": "mapbox",
         "type": "scattermapbox"
        },
        {
         "hovertemplate": "City=abancay<br>Lat=%{lat}<br>Lng=%{lon}<extra></extra>",
         "lat": [
          -13.6339
         ],
         "legendgroup": "abancay",
         "lon": [
          -72.8814
         ],
         "marker": {
          "color": "#FECB52"
         },
         "mode": "markers",
         "name": "abancay",
         "showlegend": true,
         "subplot": "mapbox",
         "type": "scattermapbox"
        },
        {
         "hovertemplate": "City=saiha<br>Lat=%{lat}<br>Lng=%{lon}<extra></extra>",
         "lat": [
          22.4833
         ],
         "legendgroup": "saiha",
         "lon": [
          92.9667
         ],
         "marker": {
          "color": "#636efa"
         },
         "mode": "markers",
         "name": "saiha",
         "showlegend": true,
         "subplot": "mapbox",
         "type": "scattermapbox"
        },
        {
         "hovertemplate": "City=klyuchi<br>Lat=%{lat}<br>Lng=%{lon}<extra></extra>",
         "lat": [
          52.2667
         ],
         "legendgroup": "klyuchi",
         "lon": [
          79.1667
         ],
         "marker": {
          "color": "#EF553B"
         },
         "mode": "markers",
         "name": "klyuchi",
         "showlegend": true,
         "subplot": "mapbox",
         "type": "scattermapbox"
        },
        {
         "hovertemplate": "City=port-aux-francais<br>Lat=%{lat}<br>Lng=%{lon}<extra></extra>",
         "lat": [
          -49.35
         ],
         "legendgroup": "port-aux-francais",
         "lon": [
          70.2167
         ],
         "marker": {
          "color": "#00cc96"
         },
         "mode": "markers",
         "name": "port-aux-francais",
         "showlegend": true,
         "subplot": "mapbox",
         "type": "scattermapbox"
        },
        {
         "hovertemplate": "City=dudinka<br>Lat=%{lat}<br>Lng=%{lon}<extra></extra>",
         "lat": [
          69.4058
         ],
         "legendgroup": "dudinka",
         "lon": [
          86.1778
         ],
         "marker": {
          "color": "#ab63fa"
         },
         "mode": "markers",
         "name": "dudinka",
         "showlegend": true,
         "subplot": "mapbox",
         "type": "scattermapbox"
        },
        {
         "hovertemplate": "City=college<br>Lat=%{lat}<br>Lng=%{lon}<extra></extra>",
         "lat": [
          64.8569
         ],
         "legendgroup": "college",
         "lon": [
          -147.8028
         ],
         "marker": {
          "color": "#FFA15A"
         },
         "mode": "markers",
         "name": "college",
         "showlegend": true,
         "subplot": "mapbox",
         "type": "scattermapbox"
        },
        {
         "hovertemplate": "City=berdigestyakh<br>Lat=%{lat}<br>Lng=%{lon}<extra></extra>",
         "lat": [
          62.0989
         ],
         "legendgroup": "berdigestyakh",
         "lon": [
          126.6992
         ],
         "marker": {
          "color": "#19d3f3"
         },
         "mode": "markers",
         "name": "berdigestyakh",
         "showlegend": true,
         "subplot": "mapbox",
         "type": "scattermapbox"
        },
        {
         "hovertemplate": "City=suoyarvi<br>Lat=%{lat}<br>Lng=%{lon}<extra></extra>",
         "lat": [
          62.0833
         ],
         "legendgroup": "suoyarvi",
         "lon": [
          32.35
         ],
         "marker": {
          "color": "#FF6692"
         },
         "mode": "markers",
         "name": "suoyarvi",
         "showlegend": true,
         "subplot": "mapbox",
         "type": "scattermapbox"
        },
        {
         "hovertemplate": "City=kingston<br>Lat=%{lat}<br>Lng=%{lon}<extra></extra>",
         "lat": [
          17.997
         ],
         "legendgroup": "kingston",
         "lon": [
          -76.7936
         ],
         "marker": {
          "color": "#B6E880"
         },
         "mode": "markers",
         "name": "kingston",
         "showlegend": true,
         "subplot": "mapbox",
         "type": "scattermapbox"
        },
        {
         "hovertemplate": "City=st. john's<br>Lat=%{lat}<br>Lng=%{lon}<extra></extra>",
         "lat": [
          47.5649
         ],
         "legendgroup": "st. john's",
         "lon": [
          -52.7093
         ],
         "marker": {
          "color": "#FF97FF"
         },
         "mode": "markers",
         "name": "st. john's",
         "showlegend": true,
         "subplot": "mapbox",
         "type": "scattermapbox"
        },
        {
         "hovertemplate": "City=albany<br>Lat=%{lat}<br>Lng=%{lon}<extra></extra>",
         "lat": [
          42.6001
         ],
         "legendgroup": "albany",
         "lon": [
          -73.9662
         ],
         "marker": {
          "color": "#FECB52"
         },
         "mode": "markers",
         "name": "albany",
         "showlegend": true,
         "subplot": "mapbox",
         "type": "scattermapbox"
        },
        {
         "hovertemplate": "City=lebu<br>Lat=%{lat}<br>Lng=%{lon}<extra></extra>",
         "lat": [
          -37.6167
         ],
         "legendgroup": "lebu",
         "lon": [
          -73.65
         ],
         "marker": {
          "color": "#636efa"
         },
         "mode": "markers",
         "name": "lebu",
         "showlegend": true,
         "subplot": "mapbox",
         "type": "scattermapbox"
        },
        {
         "hovertemplate": "City=blackmans bay<br>Lat=%{lat}<br>Lng=%{lon}<extra></extra>",
         "lat": [
          -43.0167
         ],
         "legendgroup": "blackmans bay",
         "lon": [
          147.3167
         ],
         "marker": {
          "color": "#EF553B"
         },
         "mode": "markers",
         "name": "blackmans bay",
         "showlegend": true,
         "subplot": "mapbox",
         "type": "scattermapbox"
        },
        {
         "hovertemplate": "City=christchurch<br>Lat=%{lat}<br>Lng=%{lon}<extra></extra>",
         "lat": [
          -43.5333
         ],
         "legendgroup": "christchurch",
         "lon": [
          172.6333
         ],
         "marker": {
          "color": "#00cc96"
         },
         "mode": "markers",
         "name": "christchurch",
         "showlegend": true,
         "subplot": "mapbox",
         "type": "scattermapbox"
        },
        {
         "hovertemplate": "City=adamstown<br>Lat=%{lat}<br>Lng=%{lon}<extra></extra>",
         "lat": [
          -25.066
         ],
         "legendgroup": "adamstown",
         "lon": [
          -130.1015
         ],
         "marker": {
          "color": "#ab63fa"
         },
         "mode": "markers",
         "name": "adamstown",
         "showlegend": true,
         "subplot": "mapbox",
         "type": "scattermapbox"
        },
        {
         "hovertemplate": "City=uturoa<br>Lat=%{lat}<br>Lng=%{lon}<extra></extra>",
         "lat": [
          -16.7333
         ],
         "legendgroup": "uturoa",
         "lon": [
          -151.4333
         ],
         "marker": {
          "color": "#FFA15A"
         },
         "mode": "markers",
         "name": "uturoa",
         "showlegend": true,
         "subplot": "mapbox",
         "type": "scattermapbox"
        },
        {
         "hovertemplate": "City=invercargill<br>Lat=%{lat}<br>Lng=%{lon}<extra></extra>",
         "lat": [
          -46.4
         ],
         "legendgroup": "invercargill",
         "lon": [
          168.35
         ],
         "marker": {
          "color": "#19d3f3"
         },
         "mode": "markers",
         "name": "invercargill",
         "showlegend": true,
         "subplot": "mapbox",
         "type": "scattermapbox"
        },
        {
         "hovertemplate": "City=jertih<br>Lat=%{lat}<br>Lng=%{lon}<extra></extra>",
         "lat": [
          5.7336
         ],
         "legendgroup": "jertih",
         "lon": [
          102.4897
         ],
         "marker": {
          "color": "#FF6692"
         },
         "mode": "markers",
         "name": "jertih",
         "showlegend": true,
         "subplot": "mapbox",
         "type": "scattermapbox"
        },
        {
         "hovertemplate": "City=sodra sandby<br>Lat=%{lat}<br>Lng=%{lon}<extra></extra>",
         "lat": [
          56.5667
         ],
         "legendgroup": "sodra sandby",
         "lon": [
          16.6167
         ],
         "marker": {
          "color": "#B6E880"
         },
         "mode": "markers",
         "name": "sodra sandby",
         "showlegend": true,
         "subplot": "mapbox",
         "type": "scattermapbox"
        },
        {
         "hovertemplate": "City=kapa'a<br>Lat=%{lat}<br>Lng=%{lon}<extra></extra>",
         "lat": [
          22.0752
         ],
         "legendgroup": "kapa'a",
         "lon": [
          -159.319
         ],
         "marker": {
          "color": "#FF97FF"
         },
         "mode": "markers",
         "name": "kapa'a",
         "showlegend": true,
         "subplot": "mapbox",
         "type": "scattermapbox"
        },
        {
         "hovertemplate": "City=chonchi<br>Lat=%{lat}<br>Lng=%{lon}<extra></extra>",
         "lat": [
          -42.6128
         ],
         "legendgroup": "chonchi",
         "lon": [
          -73.8092
         ],
         "marker": {
          "color": "#FECB52"
         },
         "mode": "markers",
         "name": "chonchi",
         "showlegend": true,
         "subplot": "mapbox",
         "type": "scattermapbox"
        },
        {
         "hovertemplate": "City=bethel<br>Lat=%{lat}<br>Lng=%{lon}<extra></extra>",
         "lat": [
          41.3712
         ],
         "legendgroup": "bethel",
         "lon": [
          -73.414
         ],
         "marker": {
          "color": "#636efa"
         },
         "mode": "markers",
         "name": "bethel",
         "showlegend": true,
         "subplot": "mapbox",
         "type": "scattermapbox"
        },
        {
         "hovertemplate": "City=longyearbyen<br>Lat=%{lat}<br>Lng=%{lon}<extra></extra>",
         "lat": [
          78.2186
         ],
         "legendgroup": "longyearbyen",
         "lon": [
          15.6401
         ],
         "marker": {
          "color": "#EF553B"
         },
         "mode": "markers",
         "name": "longyearbyen",
         "showlegend": true,
         "subplot": "mapbox",
         "type": "scattermapbox"
        },
        {
         "hovertemplate": "City=saint-pierre<br>Lat=%{lat}<br>Lng=%{lon}<extra></extra>",
         "lat": [
          -21.3393
         ],
         "legendgroup": "saint-pierre",
         "lon": [
          55.4781
         ],
         "marker": {
          "color": "#00cc96"
         },
         "mode": "markers",
         "name": "saint-pierre",
         "showlegend": true,
         "subplot": "mapbox",
         "type": "scattermapbox"
        },
        {
         "hovertemplate": "City=kon tum<br>Lat=%{lat}<br>Lng=%{lon}<extra></extra>",
         "lat": [
          14.35
         ],
         "legendgroup": "kon tum",
         "lon": [
          108
         ],
         "marker": {
          "color": "#ab63fa"
         },
         "mode": "markers",
         "name": "kon tum",
         "showlegend": true,
         "subplot": "mapbox",
         "type": "scattermapbox"
        },
        {
         "hovertemplate": "City=puerto ayora<br>Lat=%{lat}<br>Lng=%{lon}<extra></extra>",
         "lat": [
          -0.7393
         ],
         "legendgroup": "puerto ayora",
         "lon": [
          -90.3518
         ],
         "marker": {
          "color": "#FFA15A"
         },
         "mode": "markers",
         "name": "puerto ayora",
         "showlegend": true,
         "subplot": "mapbox",
         "type": "scattermapbox"
        },
        {
         "hovertemplate": "City=labytnangi<br>Lat=%{lat}<br>Lng=%{lon}<extra></extra>",
         "lat": [
          66.6572
         ],
         "legendgroup": "labytnangi",
         "lon": [
          66.4183
         ],
         "marker": {
          "color": "#19d3f3"
         },
         "mode": "markers",
         "name": "labytnangi",
         "showlegend": true,
         "subplot": "mapbox",
         "type": "scattermapbox"
        },
        {
         "hovertemplate": "City=stanley<br>Lat=%{lat}<br>Lng=%{lon}<extra></extra>",
         "lat": [
          54.868
         ],
         "legendgroup": "stanley",
         "lon": [
          -1.6985
         ],
         "marker": {
          "color": "#FF6692"
         },
         "mode": "markers",
         "name": "stanley",
         "showlegend": true,
         "subplot": "mapbox",
         "type": "scattermapbox"
        },
        {
         "hovertemplate": "City=yellowknife<br>Lat=%{lat}<br>Lng=%{lon}<extra></extra>",
         "lat": [
          62.456
         ],
         "legendgroup": "yellowknife",
         "lon": [
          -114.3525
         ],
         "marker": {
          "color": "#B6E880"
         },
         "mode": "markers",
         "name": "yellowknife",
         "showlegend": true,
         "subplot": "mapbox",
         "type": "scattermapbox"
        },
        {
         "hovertemplate": "City=vikhorevka<br>Lat=%{lat}<br>Lng=%{lon}<extra></extra>",
         "lat": [
          56.1201
         ],
         "legendgroup": "vikhorevka",
         "lon": [
          101.1636
         ],
         "marker": {
          "color": "#FF97FF"
         },
         "mode": "markers",
         "name": "vikhorevka",
         "showlegend": true,
         "subplot": "mapbox",
         "type": "scattermapbox"
        },
        {
         "hovertemplate": "City=margate<br>Lat=%{lat}<br>Lng=%{lon}<extra></extra>",
         "lat": [
          51.3813
         ],
         "legendgroup": "margate",
         "lon": [
          1.3862
         ],
         "marker": {
          "color": "#FECB52"
         },
         "mode": "markers",
         "name": "margate",
         "showlegend": true,
         "subplot": "mapbox",
         "type": "scattermapbox"
        },
        {
         "hovertemplate": "City=bredasdorp<br>Lat=%{lat}<br>Lng=%{lon}<extra></extra>",
         "lat": [
          -34.5322
         ],
         "legendgroup": "bredasdorp",
         "lon": [
          20.0403
         ],
         "marker": {
          "color": "#636efa"
         },
         "mode": "markers",
         "name": "bredasdorp",
         "showlegend": true,
         "subplot": "mapbox",
         "type": "scattermapbox"
        },
        {
         "hovertemplate": "City=copala<br>Lat=%{lat}<br>Lng=%{lon}<extra></extra>",
         "lat": [
          16.65
         ],
         "legendgroup": "copala",
         "lon": [
          -98.9833
         ],
         "marker": {
          "color": "#EF553B"
         },
         "mode": "markers",
         "name": "copala",
         "showlegend": true,
         "subplot": "mapbox",
         "type": "scattermapbox"
        },
        {
         "hovertemplate": "City=papatowai<br>Lat=%{lat}<br>Lng=%{lon}<extra></extra>",
         "lat": [
          -46.5619
         ],
         "legendgroup": "papatowai",
         "lon": [
          169.4708
         ],
         "marker": {
          "color": "#00cc96"
         },
         "mode": "markers",
         "name": "papatowai",
         "showlegend": true,
         "subplot": "mapbox",
         "type": "scattermapbox"
        },
        {
         "hovertemplate": "City=bac lieu<br>Lat=%{lat}<br>Lng=%{lon}<extra></extra>",
         "lat": [
          9.285
         ],
         "legendgroup": "bac lieu",
         "lon": [
          105.7244
         ],
         "marker": {
          "color": "#ab63fa"
         },
         "mode": "markers",
         "name": "bac lieu",
         "showlegend": true,
         "subplot": "mapbox",
         "type": "scattermapbox"
        },
        {
         "hovertemplate": "City=jagnair<br>Lat=%{lat}<br>Lng=%{lon}<extra></extra>",
         "lat": [
          26.8667
         ],
         "legendgroup": "jagnair",
         "lon": [
          77.6
         ],
         "marker": {
          "color": "#FFA15A"
         },
         "mode": "markers",
         "name": "jagnair",
         "showlegend": true,
         "subplot": "mapbox",
         "type": "scattermapbox"
        },
        {
         "hovertemplate": "City=shimoda<br>Lat=%{lat}<br>Lng=%{lon}<extra></extra>",
         "lat": [
          34.6667
         ],
         "legendgroup": "shimoda",
         "lon": [
          138.95
         ],
         "marker": {
          "color": "#19d3f3"
         },
         "mode": "markers",
         "name": "shimoda",
         "showlegend": true,
         "subplot": "mapbox",
         "type": "scattermapbox"
        },
        {
         "hovertemplate": "City=tura<br>Lat=%{lat}<br>Lng=%{lon}<extra></extra>",
         "lat": [
          25.5198
         ],
         "legendgroup": "tura",
         "lon": [
          90.2201
         ],
         "marker": {
          "color": "#FF6692"
         },
         "mode": "markers",
         "name": "tura",
         "showlegend": true,
         "subplot": "mapbox",
         "type": "scattermapbox"
        },
        {
         "hovertemplate": "City=puerto natales<br>Lat=%{lat}<br>Lng=%{lon}<extra></extra>",
         "lat": [
          -51.7236
         ],
         "legendgroup": "puerto natales",
         "lon": [
          -72.4875
         ],
         "marker": {
          "color": "#B6E880"
         },
         "mode": "markers",
         "name": "puerto natales",
         "showlegend": true,
         "subplot": "mapbox",
         "type": "scattermapbox"
        },
        {
         "hovertemplate": "City=margaret river<br>Lat=%{lat}<br>Lng=%{lon}<extra></extra>",
         "lat": [
          -33.95
         ],
         "legendgroup": "margaret river",
         "lon": [
          115.0667
         ],
         "marker": {
          "color": "#FF97FF"
         },
         "mode": "markers",
         "name": "margaret river",
         "showlegend": true,
         "subplot": "mapbox",
         "type": "scattermapbox"
        },
        {
         "hovertemplate": "City=port alfred<br>Lat=%{lat}<br>Lng=%{lon}<extra></extra>",
         "lat": [
          -33.5906
         ],
         "legendgroup": "port alfred",
         "lon": [
          26.891
         ],
         "marker": {
          "color": "#FECB52"
         },
         "mode": "markers",
         "name": "port alfred",
         "showlegend": true,
         "subplot": "mapbox",
         "type": "scattermapbox"
        },
        {
         "hovertemplate": "City=waitangi<br>Lat=%{lat}<br>Lng=%{lon}<extra></extra>",
         "lat": [
          -43.9535
         ],
         "legendgroup": "waitangi",
         "lon": [
          -176.5597
         ],
         "marker": {
          "color": "#636efa"
         },
         "mode": "markers",
         "name": "waitangi",
         "showlegend": true,
         "subplot": "mapbox",
         "type": "scattermapbox"
        },
        {
         "hovertemplate": "City=thompson<br>Lat=%{lat}<br>Lng=%{lon}<extra></extra>",
         "lat": [
          55.7435
         ],
         "legendgroup": "thompson",
         "lon": [
          -97.8558
         ],
         "marker": {
          "color": "#EF553B"
         },
         "mode": "markers",
         "name": "thompson",
         "showlegend": true,
         "subplot": "mapbox",
         "type": "scattermapbox"
        },
        {
         "hovertemplate": "City=kisangani<br>Lat=%{lat}<br>Lng=%{lon}<extra></extra>",
         "lat": [
          0.5167
         ],
         "legendgroup": "kisangani",
         "lon": [
          25.2
         ],
         "marker": {
          "color": "#00cc96"
         },
         "mode": "markers",
         "name": "kisangani",
         "showlegend": true,
         "subplot": "mapbox",
         "type": "scattermapbox"
        },
        {
         "hovertemplate": "City=windhoek<br>Lat=%{lat}<br>Lng=%{lon}<extra></extra>",
         "lat": [
          -22.5594
         ],
         "legendgroup": "windhoek",
         "lon": [
          17.0832
         ],
         "marker": {
          "color": "#ab63fa"
         },
         "mode": "markers",
         "name": "windhoek",
         "showlegend": true,
         "subplot": "mapbox",
         "type": "scattermapbox"
        },
        {
         "hovertemplate": "City=portland<br>Lat=%{lat}<br>Lng=%{lon}<extra></extra>",
         "lat": [
          45.5234
         ],
         "legendgroup": "portland",
         "lon": [
          -122.6762
         ],
         "marker": {
          "color": "#FFA15A"
         },
         "mode": "markers",
         "name": "portland",
         "showlegend": true,
         "subplot": "mapbox",
         "type": "scattermapbox"
        },
        {
         "hovertemplate": "City=hawaiian paradise park<br>Lat=%{lat}<br>Lng=%{lon}<extra></extra>",
         "lat": [
          19.5933
         ],
         "legendgroup": "hawaiian paradise park",
         "lon": [
          -154.9731
         ],
         "marker": {
          "color": "#19d3f3"
         },
         "mode": "markers",
         "name": "hawaiian paradise park",
         "showlegend": true,
         "subplot": "mapbox",
         "type": "scattermapbox"
        },
        {
         "hovertemplate": "City=port elizabeth<br>Lat=%{lat}<br>Lng=%{lon}<extra></extra>",
         "lat": [
          -33.918
         ],
         "legendgroup": "port elizabeth",
         "lon": [
          25.5701
         ],
         "marker": {
          "color": "#FF6692"
         },
         "mode": "markers",
         "name": "port elizabeth",
         "showlegend": true,
         "subplot": "mapbox",
         "type": "scattermapbox"
        },
        {
         "hovertemplate": "City=avarua<br>Lat=%{lat}<br>Lng=%{lon}<extra></extra>",
         "lat": [
          -21.2078
         ],
         "legendgroup": "avarua",
         "lon": [
          -159.775
         ],
         "marker": {
          "color": "#B6E880"
         },
         "mode": "markers",
         "name": "avarua",
         "showlegend": true,
         "subplot": "mapbox",
         "type": "scattermapbox"
        },
        {
         "hovertemplate": "City=qaqortoq<br>Lat=%{lat}<br>Lng=%{lon}<extra></extra>",
         "lat": [
          60.7167
         ],
         "legendgroup": "qaqortoq",
         "lon": [
          -46.0333
         ],
         "marker": {
          "color": "#FF97FF"
         },
         "mode": "markers",
         "name": "qaqortoq",
         "showlegend": true,
         "subplot": "mapbox",
         "type": "scattermapbox"
        },
        {
         "hovertemplate": "City=presque isle<br>Lat=%{lat}<br>Lng=%{lon}<extra></extra>",
         "lat": [
          46.6811
         ],
         "legendgroup": "presque isle",
         "lon": [
          -68.0159
         ],
         "marker": {
          "color": "#FECB52"
         },
         "mode": "markers",
         "name": "presque isle",
         "showlegend": true,
         "subplot": "mapbox",
         "type": "scattermapbox"
        },
        {
         "hovertemplate": "City=rawson<br>Lat=%{lat}<br>Lng=%{lon}<extra></extra>",
         "lat": [
          -43.3002
         ],
         "legendgroup": "rawson",
         "lon": [
          -65.1023
         ],
         "marker": {
          "color": "#636efa"
         },
         "mode": "markers",
         "name": "rawson",
         "showlegend": true,
         "subplot": "mapbox",
         "type": "scattermapbox"
        },
        {
         "hovertemplate": "City=jamestown<br>Lat=%{lat}<br>Lng=%{lon}<extra></extra>",
         "lat": [
          42.097
         ],
         "legendgroup": "jamestown",
         "lon": [
          -79.2353
         ],
         "marker": {
          "color": "#EF553B"
         },
         "mode": "markers",
         "name": "jamestown",
         "showlegend": true,
         "subplot": "mapbox",
         "type": "scattermapbox"
        },
        {
         "hovertemplate": "City=djibo<br>Lat=%{lat}<br>Lng=%{lon}<extra></extra>",
         "lat": [
          14.1022
         ],
         "legendgroup": "djibo",
         "lon": [
          -1.6306
         ],
         "marker": {
          "color": "#00cc96"
         },
         "mode": "markers",
         "name": "djibo",
         "showlegend": true,
         "subplot": "mapbox",
         "type": "scattermapbox"
        },
        {
         "hovertemplate": "City=iqaluit<br>Lat=%{lat}<br>Lng=%{lon}<extra></extra>",
         "lat": [
          63.7506
         ],
         "legendgroup": "iqaluit",
         "lon": [
          -68.5145
         ],
         "marker": {
          "color": "#ab63fa"
         },
         "mode": "markers",
         "name": "iqaluit",
         "showlegend": true,
         "subplot": "mapbox",
         "type": "scattermapbox"
        },
        {
         "hovertemplate": "City=san antonio<br>Lat=%{lat}<br>Lng=%{lon}<extra></extra>",
         "lat": [
          29.4241
         ],
         "legendgroup": "san antonio",
         "lon": [
          -98.4936
         ],
         "marker": {
          "color": "#FFA15A"
         },
         "mode": "markers",
         "name": "san antonio",
         "showlegend": true,
         "subplot": "mapbox",
         "type": "scattermapbox"
        },
        {
         "hovertemplate": "City=kruisfontein<br>Lat=%{lat}<br>Lng=%{lon}<extra></extra>",
         "lat": [
          -34.0033
         ],
         "legendgroup": "kruisfontein",
         "lon": [
          24.7314
         ],
         "marker": {
          "color": "#19d3f3"
         },
         "mode": "markers",
         "name": "kruisfontein",
         "showlegend": true,
         "subplot": "mapbox",
         "type": "scattermapbox"
        },
        {
         "hovertemplate": "City=oroqen zizhiqi<br>Lat=%{lat}<br>Lng=%{lon}<extra></extra>",
         "lat": [
          50.5667
         ],
         "legendgroup": "oroqen zizhiqi",
         "lon": [
          123.7167
         ],
         "marker": {
          "color": "#FF6692"
         },
         "mode": "markers",
         "name": "oroqen zizhiqi",
         "showlegend": true,
         "subplot": "mapbox",
         "type": "scattermapbox"
        },
        {
         "hovertemplate": "City=morant bay<br>Lat=%{lat}<br>Lng=%{lon}<extra></extra>",
         "lat": [
          17.8815
         ],
         "legendgroup": "morant bay",
         "lon": [
          -76.4093
         ],
         "marker": {
          "color": "#B6E880"
         },
         "mode": "markers",
         "name": "morant bay",
         "showlegend": true,
         "subplot": "mapbox",
         "type": "scattermapbox"
        },
        {
         "hovertemplate": "City=choele choel<br>Lat=%{lat}<br>Lng=%{lon}<extra></extra>",
         "lat": [
          -39.2667
         ],
         "legendgroup": "choele choel",
         "lon": [
          -65.6833
         ],
         "marker": {
          "color": "#FF97FF"
         },
         "mode": "markers",
         "name": "choele choel",
         "showlegend": true,
         "subplot": "mapbox",
         "type": "scattermapbox"
        },
        {
         "hovertemplate": "City=shalqar<br>Lat=%{lat}<br>Lng=%{lon}<extra></extra>",
         "lat": [
          47.8333
         ],
         "legendgroup": "shalqar",
         "lon": [
          59.6
         ],
         "marker": {
          "color": "#FECB52"
         },
         "mode": "markers",
         "name": "shalqar",
         "showlegend": true,
         "subplot": "mapbox",
         "type": "scattermapbox"
        },
        {
         "hovertemplate": "City=alice springs<br>Lat=%{lat}<br>Lng=%{lon}<extra></extra>",
         "lat": [
          -23.7
         ],
         "legendgroup": "alice springs",
         "lon": [
          133.8833
         ],
         "marker": {
          "color": "#636efa"
         },
         "mode": "markers",
         "name": "alice springs",
         "showlegend": true,
         "subplot": "mapbox",
         "type": "scattermapbox"
        },
        {
         "hovertemplate": "City=sao gabriel da cachoeira<br>Lat=%{lat}<br>Lng=%{lon}<extra></extra>",
         "lat": [
          -0.1303
         ],
         "legendgroup": "sao gabriel da cachoeira",
         "lon": [
          -67.0892
         ],
         "marker": {
          "color": "#EF553B"
         },
         "mode": "markers",
         "name": "sao gabriel da cachoeira",
         "showlegend": true,
         "subplot": "mapbox",
         "type": "scattermapbox"
        },
        {
         "hovertemplate": "City=khovd<br>Lat=%{lat}<br>Lng=%{lon}<extra></extra>",
         "lat": [
          48.0056
         ],
         "legendgroup": "khovd",
         "lon": [
          91.6419
         ],
         "marker": {
          "color": "#00cc96"
         },
         "mode": "markers",
         "name": "khovd",
         "showlegend": true,
         "subplot": "mapbox",
         "type": "scattermapbox"
        },
        {
         "hovertemplate": "City=saipan<br>Lat=%{lat}<br>Lng=%{lon}<extra></extra>",
         "lat": [
          15.1355
         ],
         "legendgroup": "saipan",
         "lon": [
          145.701
         ],
         "marker": {
          "color": "#ab63fa"
         },
         "mode": "markers",
         "name": "saipan",
         "showlegend": true,
         "subplot": "mapbox",
         "type": "scattermapbox"
        },
        {
         "hovertemplate": "City=nova sintra<br>Lat=%{lat}<br>Lng=%{lon}<extra></extra>",
         "lat": [
          14.8667
         ],
         "legendgroup": "nova sintra",
         "lon": [
          -24.7167
         ],
         "marker": {
          "color": "#FFA15A"
         },
         "mode": "markers",
         "name": "nova sintra",
         "showlegend": true,
         "subplot": "mapbox",
         "type": "scattermapbox"
        },
        {
         "hovertemplate": "City=keflavik<br>Lat=%{lat}<br>Lng=%{lon}<extra></extra>",
         "lat": [
          64.0049
         ],
         "legendgroup": "keflavik",
         "lon": [
          -22.5624
         ],
         "marker": {
          "color": "#19d3f3"
         },
         "mode": "markers",
         "name": "keflavik",
         "showlegend": true,
         "subplot": "mapbox",
         "type": "scattermapbox"
        },
        {
         "hovertemplate": "City=rikaze<br>Lat=%{lat}<br>Lng=%{lon}<extra></extra>",
         "lat": [
          29.25
         ],
         "legendgroup": "rikaze",
         "lon": [
          88.8833
         ],
         "marker": {
          "color": "#FF6692"
         },
         "mode": "markers",
         "name": "rikaze",
         "showlegend": true,
         "subplot": "mapbox",
         "type": "scattermapbox"
        },
        {
         "hovertemplate": "City=at taraf<br>Lat=%{lat}<br>Lng=%{lon}<extra></extra>",
         "lat": [
          25.3628
         ],
         "legendgroup": "at taraf",
         "lon": [
          49.725
         ],
         "marker": {
          "color": "#B6E880"
         },
         "mode": "markers",
         "name": "at taraf",
         "showlegend": true,
         "subplot": "mapbox",
         "type": "scattermapbox"
        },
        {
         "hovertemplate": "City=hakha<br>Lat=%{lat}<br>Lng=%{lon}<extra></extra>",
         "lat": [
          22.65
         ],
         "legendgroup": "hakha",
         "lon": [
          93.6167
         ],
         "marker": {
          "color": "#FF97FF"
         },
         "mode": "markers",
         "name": "hakha",
         "showlegend": true,
         "subplot": "mapbox",
         "type": "scattermapbox"
        },
        {
         "hovertemplate": "City=songling<br>Lat=%{lat}<br>Lng=%{lon}<extra></extra>",
         "lat": [
          31.1933
         ],
         "legendgroup": "songling",
         "lon": [
          120.7176
         ],
         "marker": {
          "color": "#FECB52"
         },
         "mode": "markers",
         "name": "songling",
         "showlegend": true,
         "subplot": "mapbox",
         "type": "scattermapbox"
        },
        {
         "hovertemplate": "City=petropavlovsk-kamchatsky<br>Lat=%{lat}<br>Lng=%{lon}<extra></extra>",
         "lat": [
          53.0452
         ],
         "legendgroup": "petropavlovsk-kamchatsky",
         "lon": [
          158.6483
         ],
         "marker": {
          "color": "#636efa"
         },
         "mode": "markers",
         "name": "petropavlovsk-kamchatsky",
         "showlegend": true,
         "subplot": "mapbox",
         "type": "scattermapbox"
        },
        {
         "hovertemplate": "City=hermanus<br>Lat=%{lat}<br>Lng=%{lon}<extra></extra>",
         "lat": [
          -34.4187
         ],
         "legendgroup": "hermanus",
         "lon": [
          19.2345
         ],
         "marker": {
          "color": "#EF553B"
         },
         "mode": "markers",
         "name": "hermanus",
         "showlegend": true,
         "subplot": "mapbox",
         "type": "scattermapbox"
        },
        {
         "hovertemplate": "City=kayangel<br>Lat=%{lat}<br>Lng=%{lon}<extra></extra>",
         "lat": [
          8.0823
         ],
         "legendgroup": "kayangel",
         "lon": [
          134.7173
         ],
         "marker": {
          "color": "#00cc96"
         },
         "mode": "markers",
         "name": "kayangel",
         "showlegend": true,
         "subplot": "mapbox",
         "type": "scattermapbox"
        },
        {
         "hovertemplate": "City=sierra grande<br>Lat=%{lat}<br>Lng=%{lon}<extra></extra>",
         "lat": [
          -41.606
         ],
         "legendgroup": "sierra grande",
         "lon": [
          -65.3557
         ],
         "marker": {
          "color": "#ab63fa"
         },
         "mode": "markers",
         "name": "sierra grande",
         "showlegend": true,
         "subplot": "mapbox",
         "type": "scattermapbox"
        },
        {
         "hovertemplate": "City=sungai raya<br>Lat=%{lat}<br>Lng=%{lon}<extra></extra>",
         "lat": [
          0.7
         ],
         "legendgroup": "sungai raya",
         "lon": [
          108.9
         ],
         "marker": {
          "color": "#FFA15A"
         },
         "mode": "markers",
         "name": "sungai raya",
         "showlegend": true,
         "subplot": "mapbox",
         "type": "scattermapbox"
        },
        {
         "hovertemplate": "City=at-bashi<br>Lat=%{lat}<br>Lng=%{lon}<extra></extra>",
         "lat": [
          41.1702
         ],
         "legendgroup": "at-bashi",
         "lon": [
          75.8106
         ],
         "marker": {
          "color": "#19d3f3"
         },
         "mode": "markers",
         "name": "at-bashi",
         "showlegend": true,
         "subplot": "mapbox",
         "type": "scattermapbox"
        },
        {
         "hovertemplate": "City=patnanungan<br>Lat=%{lat}<br>Lng=%{lon}<extra></extra>",
         "lat": [
          14.7833
         ],
         "legendgroup": "patnanungan",
         "lon": [
          122.1833
         ],
         "marker": {
          "color": "#FF6692"
         },
         "mode": "markers",
         "name": "patnanungan",
         "showlegend": true,
         "subplot": "mapbox",
         "type": "scattermapbox"
        },
        {
         "hovertemplate": "City=enewetak<br>Lat=%{lat}<br>Lng=%{lon}<extra></extra>",
         "lat": [
          11.3474
         ],
         "legendgroup": "enewetak",
         "lon": [
          162.3373
         ],
         "marker": {
          "color": "#B6E880"
         },
         "mode": "markers",
         "name": "enewetak",
         "showlegend": true,
         "subplot": "mapbox",
         "type": "scattermapbox"
        },
        {
         "hovertemplate": "City=arkhangel'sk<br>Lat=%{lat}<br>Lng=%{lon}<extra></extra>",
         "lat": [
          64.5401
         ],
         "legendgroup": "arkhangel'sk",
         "lon": [
          40.5433
         ],
         "marker": {
          "color": "#FF97FF"
         },
         "mode": "markers",
         "name": "arkhangel'sk",
         "showlegend": true,
         "subplot": "mapbox",
         "type": "scattermapbox"
        },
        {
         "hovertemplate": "City=camana<br>Lat=%{lat}<br>Lng=%{lon}<extra></extra>",
         "lat": [
          -16.6228
         ],
         "legendgroup": "camana",
         "lon": [
          -72.7111
         ],
         "marker": {
          "color": "#FECB52"
         },
         "mode": "markers",
         "name": "camana",
         "showlegend": true,
         "subplot": "mapbox",
         "type": "scattermapbox"
        },
        {
         "hovertemplate": "City=coquimbo<br>Lat=%{lat}<br>Lng=%{lon}<extra></extra>",
         "lat": [
          -29.9533
         ],
         "legendgroup": "coquimbo",
         "lon": [
          -71.3436
         ],
         "marker": {
          "color": "#636efa"
         },
         "mode": "markers",
         "name": "coquimbo",
         "showlegend": true,
         "subplot": "mapbox",
         "type": "scattermapbox"
        },
        {
         "hovertemplate": "City=kuala terengganu<br>Lat=%{lat}<br>Lng=%{lon}<extra></extra>",
         "lat": [
          5.3302
         ],
         "legendgroup": "kuala terengganu",
         "lon": [
          103.1408
         ],
         "marker": {
          "color": "#EF553B"
         },
         "mode": "markers",
         "name": "kuala terengganu",
         "showlegend": true,
         "subplot": "mapbox",
         "type": "scattermapbox"
        },
        {
         "hovertemplate": "City=touggourt<br>Lat=%{lat}<br>Lng=%{lon}<extra></extra>",
         "lat": [
          33.1053
         ],
         "legendgroup": "touggourt",
         "lon": [
          6.058
         ],
         "marker": {
          "color": "#00cc96"
         },
         "mode": "markers",
         "name": "touggourt",
         "showlegend": true,
         "subplot": "mapbox",
         "type": "scattermapbox"
        },
        {
         "hovertemplate": "City=sola<br>Lat=%{lat}<br>Lng=%{lon}<extra></extra>",
         "lat": [
          -13.8833
         ],
         "legendgroup": "sola",
         "lon": [
          167.55
         ],
         "marker": {
          "color": "#ab63fa"
         },
         "mode": "markers",
         "name": "sola",
         "showlegend": true,
         "subplot": "mapbox",
         "type": "scattermapbox"
        },
        {
         "hovertemplate": "City=port mathurin<br>Lat=%{lat}<br>Lng=%{lon}<extra></extra>",
         "lat": [
          -19.6833
         ],
         "legendgroup": "port mathurin",
         "lon": [
          63.4167
         ],
         "marker": {
          "color": "#FFA15A"
         },
         "mode": "markers",
         "name": "port mathurin",
         "showlegend": true,
         "subplot": "mapbox",
         "type": "scattermapbox"
        },
        {
         "hovertemplate": "City=mancio lima<br>Lat=%{lat}<br>Lng=%{lon}<extra></extra>",
         "lat": [
          -7.6142
         ],
         "legendgroup": "mancio lima",
         "lon": [
          -72.8958
         ],
         "marker": {
          "color": "#19d3f3"
         },
         "mode": "markers",
         "name": "mancio lima",
         "showlegend": true,
         "subplot": "mapbox",
         "type": "scattermapbox"
        },
        {
         "hovertemplate": "City=tumbes<br>Lat=%{lat}<br>Lng=%{lon}<extra></extra>",
         "lat": [
          -3.5667
         ],
         "legendgroup": "tumbes",
         "lon": [
          -80.4414
         ],
         "marker": {
          "color": "#FF6692"
         },
         "mode": "markers",
         "name": "tumbes",
         "showlegend": true,
         "subplot": "mapbox",
         "type": "scattermapbox"
        },
        {
         "hovertemplate": "City=tiksi<br>Lat=%{lat}<br>Lng=%{lon}<extra></extra>",
         "lat": [
          71.6872
         ],
         "legendgroup": "tiksi",
         "lon": [
          128.8694
         ],
         "marker": {
          "color": "#B6E880"
         },
         "mode": "markers",
         "name": "tiksi",
         "showlegend": true,
         "subplot": "mapbox",
         "type": "scattermapbox"
        },
        {
         "hovertemplate": "City=mokopane<br>Lat=%{lat}<br>Lng=%{lon}<extra></extra>",
         "lat": [
          -24.1944
         ],
         "legendgroup": "mokopane",
         "lon": [
          29.0097
         ],
         "marker": {
          "color": "#FF97FF"
         },
         "mode": "markers",
         "name": "mokopane",
         "showlegend": true,
         "subplot": "mapbox",
         "type": "scattermapbox"
        },
        {
         "hovertemplate": "City=cockburn town<br>Lat=%{lat}<br>Lng=%{lon}<extra></extra>",
         "lat": [
          21.4612
         ],
         "legendgroup": "cockburn town",
         "lon": [
          -71.1419
         ],
         "marker": {
          "color": "#FECB52"
         },
         "mode": "markers",
         "name": "cockburn town",
         "showlegend": true,
         "subplot": "mapbox",
         "type": "scattermapbox"
        },
        {
         "hovertemplate": "City=sinjar<br>Lat=%{lat}<br>Lng=%{lon}<extra></extra>",
         "lat": [
          36.3209
         ],
         "legendgroup": "sinjar",
         "lon": [
          41.8754
         ],
         "marker": {
          "color": "#636efa"
         },
         "mode": "markers",
         "name": "sinjar",
         "showlegend": true,
         "subplot": "mapbox",
         "type": "scattermapbox"
        },
        {
         "hovertemplate": "City=crane<br>Lat=%{lat}<br>Lng=%{lon}<extra></extra>",
         "lat": [
          31.3974
         ],
         "legendgroup": "crane",
         "lon": [
          -102.3501
         ],
         "marker": {
          "color": "#EF553B"
         },
         "mode": "markers",
         "name": "crane",
         "showlegend": true,
         "subplot": "mapbox",
         "type": "scattermapbox"
        },
        {
         "hovertemplate": "City=la passe<br>Lat=%{lat}<br>Lng=%{lon}<extra></extra>",
         "lat": [
          45.5549
         ],
         "legendgroup": "la passe",
         "lon": [
          -0.8967
         ],
         "marker": {
          "color": "#00cc96"
         },
         "mode": "markers",
         "name": "la passe",
         "showlegend": true,
         "subplot": "mapbox",
         "type": "scattermapbox"
        },
        {
         "hovertemplate": "City=wailua homesteads<br>Lat=%{lat}<br>Lng=%{lon}<extra></extra>",
         "lat": [
          22.0669
         ],
         "legendgroup": "wailua homesteads",
         "lon": [
          -159.378
         ],
         "marker": {
          "color": "#ab63fa"
         },
         "mode": "markers",
         "name": "wailua homesteads",
         "showlegend": true,
         "subplot": "mapbox",
         "type": "scattermapbox"
        },
        {
         "hovertemplate": "City=lihue<br>Lat=%{lat}<br>Lng=%{lon}<extra></extra>",
         "lat": [
          21.9789
         ],
         "legendgroup": "lihue",
         "lon": [
          -159.3672
         ],
         "marker": {
          "color": "#FFA15A"
         },
         "mode": "markers",
         "name": "lihue",
         "showlegend": true,
         "subplot": "mapbox",
         "type": "scattermapbox"
        },
        {
         "hovertemplate": "City=al qusiyah<br>Lat=%{lat}<br>Lng=%{lon}<extra></extra>",
         "lat": [
          27.4402
         ],
         "legendgroup": "al qusiyah",
         "lon": [
          30.8184
         ],
         "marker": {
          "color": "#19d3f3"
         },
         "mode": "markers",
         "name": "al qusiyah",
         "showlegend": true,
         "subplot": "mapbox",
         "type": "scattermapbox"
        },
        {
         "hovertemplate": "City=island harbour<br>Lat=%{lat}<br>Lng=%{lon}<extra></extra>",
         "lat": [
          50.724
         ],
         "legendgroup": "island harbour",
         "lon": [
          -1.2758
         ],
         "marker": {
          "color": "#FF6692"
         },
         "mode": "markers",
         "name": "island harbour",
         "showlegend": true,
         "subplot": "mapbox",
         "type": "scattermapbox"
        },
        {
         "hovertemplate": "City=tamanrasset<br>Lat=%{lat}<br>Lng=%{lon}<extra></extra>",
         "lat": [
          22.785
         ],
         "legendgroup": "tamanrasset",
         "lon": [
          5.5228
         ],
         "marker": {
          "color": "#B6E880"
         },
         "mode": "markers",
         "name": "tamanrasset",
         "showlegend": true,
         "subplot": "mapbox",
         "type": "scattermapbox"
        },
        {
         "hovertemplate": "City=sitka<br>Lat=%{lat}<br>Lng=%{lon}<extra></extra>",
         "lat": [
          57.0531
         ],
         "legendgroup": "sitka",
         "lon": [
          -135.33
         ],
         "marker": {
          "color": "#FF97FF"
         },
         "mode": "markers",
         "name": "sitka",
         "showlegend": true,
         "subplot": "mapbox",
         "type": "scattermapbox"
        },
        {
         "hovertemplate": "City=gadzhiyevo<br>Lat=%{lat}<br>Lng=%{lon}<extra></extra>",
         "lat": [
          69.2551
         ],
         "legendgroup": "gadzhiyevo",
         "lon": [
          33.3362
         ],
         "marker": {
          "color": "#FECB52"
         },
         "mode": "markers",
         "name": "gadzhiyevo",
         "showlegend": true,
         "subplot": "mapbox",
         "type": "scattermapbox"
        },
        {
         "hovertemplate": "City=olonkinbyen<br>Lat=%{lat}<br>Lng=%{lon}<extra></extra>",
         "lat": [
          70.9221
         ],
         "legendgroup": "olonkinbyen",
         "lon": [
          -8.7187
         ],
         "marker": {
          "color": "#636efa"
         },
         "mode": "markers",
         "name": "olonkinbyen",
         "showlegend": true,
         "subplot": "mapbox",
         "type": "scattermapbox"
        },
        {
         "hovertemplate": "City=vrede<br>Lat=%{lat}<br>Lng=%{lon}<extra></extra>",
         "lat": [
          -27.4257
         ],
         "legendgroup": "vrede",
         "lon": [
          29.1659
         ],
         "marker": {
          "color": "#EF553B"
         },
         "mode": "markers",
         "name": "vrede",
         "showlegend": true,
         "subplot": "mapbox",
         "type": "scattermapbox"
        },
        {
         "hovertemplate": "City=ratangarh<br>Lat=%{lat}<br>Lng=%{lon}<extra></extra>",
         "lat": [
          28.0833
         ],
         "legendgroup": "ratangarh",
         "lon": [
          74.6
         ],
         "marker": {
          "color": "#00cc96"
         },
         "mode": "markers",
         "name": "ratangarh",
         "showlegend": true,
         "subplot": "mapbox",
         "type": "scattermapbox"
        },
        {
         "hovertemplate": "City=rongelap<br>Lat=%{lat}<br>Lng=%{lon}<extra></extra>",
         "lat": [
          11.1635
         ],
         "legendgroup": "rongelap",
         "lon": [
          166.8941
         ],
         "marker": {
          "color": "#ab63fa"
         },
         "mode": "markers",
         "name": "rongelap",
         "showlegend": true,
         "subplot": "mapbox",
         "type": "scattermapbox"
        },
        {
         "hovertemplate": "City=georgetown<br>Lat=%{lat}<br>Lng=%{lon}<extra></extra>",
         "lat": [
          5.4112
         ],
         "legendgroup": "georgetown",
         "lon": [
          100.3354
         ],
         "marker": {
          "color": "#FFA15A"
         },
         "mode": "markers",
         "name": "georgetown",
         "showlegend": true,
         "subplot": "mapbox",
         "type": "scattermapbox"
        },
        {
         "hovertemplate": "City=ndioum<br>Lat=%{lat}<br>Lng=%{lon}<extra></extra>",
         "lat": [
          16.5129
         ],
         "legendgroup": "ndioum",
         "lon": [
          -14.6471
         ],
         "marker": {
          "color": "#19d3f3"
         },
         "mode": "markers",
         "name": "ndioum",
         "showlegend": true,
         "subplot": "mapbox",
         "type": "scattermapbox"
        },
        {
         "hovertemplate": "City=corner brook<br>Lat=%{lat}<br>Lng=%{lon}<extra></extra>",
         "lat": [
          48.9667
         ],
         "legendgroup": "corner brook",
         "lon": [
          -57.9484
         ],
         "marker": {
          "color": "#FF6692"
         },
         "mode": "markers",
         "name": "corner brook",
         "showlegend": true,
         "subplot": "mapbox",
         "type": "scattermapbox"
        },
        {
         "hovertemplate": "City=greenville<br>Lat=%{lat}<br>Lng=%{lon}<extra></extra>",
         "lat": [
          35.6127
         ],
         "legendgroup": "greenville",
         "lon": [
          -77.3663
         ],
         "marker": {
          "color": "#B6E880"
         },
         "mode": "markers",
         "name": "greenville",
         "showlegend": true,
         "subplot": "mapbox",
         "type": "scattermapbox"
        },
        {
         "hovertemplate": "City=maceio<br>Lat=%{lat}<br>Lng=%{lon}<extra></extra>",
         "lat": [
          -9.6658
         ],
         "legendgroup": "maceio",
         "lon": [
          -35.7353
         ],
         "marker": {
          "color": "#FF97FF"
         },
         "mode": "markers",
         "name": "maceio",
         "showlegend": true,
         "subplot": "mapbox",
         "type": "scattermapbox"
        },
        {
         "hovertemplate": "City=calama<br>Lat=%{lat}<br>Lng=%{lon}<extra></extra>",
         "lat": [
          -22.4667
         ],
         "legendgroup": "calama",
         "lon": [
          -68.9333
         ],
         "marker": {
          "color": "#FECB52"
         },
         "mode": "markers",
         "name": "calama",
         "showlegend": true,
         "subplot": "mapbox",
         "type": "scattermapbox"
        },
        {
         "hovertemplate": "City=shaowu<br>Lat=%{lat}<br>Lng=%{lon}<extra></extra>",
         "lat": [
          27.3409
         ],
         "legendgroup": "shaowu",
         "lon": [
          117.4831
         ],
         "marker": {
          "color": "#636efa"
         },
         "mode": "markers",
         "name": "shaowu",
         "showlegend": true,
         "subplot": "mapbox",
         "type": "scattermapbox"
        },
        {
         "hovertemplate": "City=punta arenas<br>Lat=%{lat}<br>Lng=%{lon}<extra></extra>",
         "lat": [
          -53.15
         ],
         "legendgroup": "punta arenas",
         "lon": [
          -70.9167
         ],
         "marker": {
          "color": "#EF553B"
         },
         "mode": "markers",
         "name": "punta arenas",
         "showlegend": true,
         "subplot": "mapbox",
         "type": "scattermapbox"
        },
        {
         "hovertemplate": "City=maniago<br>Lat=%{lat}<br>Lng=%{lon}<extra></extra>",
         "lat": [
          46.1706
         ],
         "legendgroup": "maniago",
         "lon": [
          12.7078
         ],
         "marker": {
          "color": "#00cc96"
         },
         "mode": "markers",
         "name": "maniago",
         "showlegend": true,
         "subplot": "mapbox",
         "type": "scattermapbox"
        },
        {
         "hovertemplate": "City=hami<br>Lat=%{lat}<br>Lng=%{lon}<extra></extra>",
         "lat": [
          42.8
         ],
         "legendgroup": "hami",
         "lon": [
          93.45
         ],
         "marker": {
          "color": "#ab63fa"
         },
         "mode": "markers",
         "name": "hami",
         "showlegend": true,
         "subplot": "mapbox",
         "type": "scattermapbox"
        },
        {
         "hovertemplate": "City=chernomorskoye<br>Lat=%{lat}<br>Lng=%{lon}<extra></extra>",
         "lat": [
          45.5039
         ],
         "legendgroup": "chernomorskoye",
         "lon": [
          32.6997
         ],
         "marker": {
          "color": "#FFA15A"
         },
         "mode": "markers",
         "name": "chernomorskoye",
         "showlegend": true,
         "subplot": "mapbox",
         "type": "scattermapbox"
        },
        {
         "hovertemplate": "City=ribeira grande<br>Lat=%{lat}<br>Lng=%{lon}<extra></extra>",
         "lat": [
          38.5167
         ],
         "legendgroup": "ribeira grande",
         "lon": [
          -28.7
         ],
         "marker": {
          "color": "#19d3f3"
         },
         "mode": "markers",
         "name": "ribeira grande",
         "showlegend": true,
         "subplot": "mapbox",
         "type": "scattermapbox"
        },
        {
         "hovertemplate": "City=sisimiut<br>Lat=%{lat}<br>Lng=%{lon}<extra></extra>",
         "lat": [
          66.9395
         ],
         "legendgroup": "sisimiut",
         "lon": [
          -53.6735
         ],
         "marker": {
          "color": "#FF6692"
         },
         "mode": "markers",
         "name": "sisimiut",
         "showlegend": true,
         "subplot": "mapbox",
         "type": "scattermapbox"
        },
        {
         "hovertemplate": "City=vila franca do campo<br>Lat=%{lat}<br>Lng=%{lon}<extra></extra>",
         "lat": [
          37.7167
         ],
         "legendgroup": "vila franca do campo",
         "lon": [
          -25.4333
         ],
         "marker": {
          "color": "#B6E880"
         },
         "mode": "markers",
         "name": "vila franca do campo",
         "showlegend": true,
         "subplot": "mapbox",
         "type": "scattermapbox"
        },
        {
         "hovertemplate": "City=sinop<br>Lat=%{lat}<br>Lng=%{lon}<extra></extra>",
         "lat": [
          41.7711
         ],
         "legendgroup": "sinop",
         "lon": [
          34.8709
         ],
         "marker": {
          "color": "#FF97FF"
         },
         "mode": "markers",
         "name": "sinop",
         "showlegend": true,
         "subplot": "mapbox",
         "type": "scattermapbox"
        },
        {
         "hovertemplate": "City=saint-philippe<br>Lat=%{lat}<br>Lng=%{lon}<extra></extra>",
         "lat": [
          -21.3585
         ],
         "legendgroup": "saint-philippe",
         "lon": [
          55.7679
         ],
         "marker": {
          "color": "#FECB52"
         },
         "mode": "markers",
         "name": "saint-philippe",
         "showlegend": true,
         "subplot": "mapbox",
         "type": "scattermapbox"
        },
        {
         "hovertemplate": "City=haiku-pauwela<br>Lat=%{lat}<br>Lng=%{lon}<extra></extra>",
         "lat": [
          20.9219
         ],
         "legendgroup": "haiku-pauwela",
         "lon": [
          -156.3051
         ],
         "marker": {
          "color": "#636efa"
         },
         "mode": "markers",
         "name": "haiku-pauwela",
         "showlegend": true,
         "subplot": "mapbox",
         "type": "scattermapbox"
        },
        {
         "hovertemplate": "City=maragogi<br>Lat=%{lat}<br>Lng=%{lon}<extra></extra>",
         "lat": [
          -9.0122
         ],
         "legendgroup": "maragogi",
         "lon": [
          -35.2225
         ],
         "marker": {
          "color": "#EF553B"
         },
         "mode": "markers",
         "name": "maragogi",
         "showlegend": true,
         "subplot": "mapbox",
         "type": "scattermapbox"
        },
        {
         "hovertemplate": "City=chabahar<br>Lat=%{lat}<br>Lng=%{lon}<extra></extra>",
         "lat": [
          25.2919
         ],
         "legendgroup": "chabahar",
         "lon": [
          60.643
         ],
         "marker": {
          "color": "#00cc96"
         },
         "mode": "markers",
         "name": "chabahar",
         "showlegend": true,
         "subplot": "mapbox",
         "type": "scattermapbox"
        },
        {
         "hovertemplate": "City=bayanhongor<br>Lat=%{lat}<br>Lng=%{lon}<extra></extra>",
         "lat": [
          46.7167
         ],
         "legendgroup": "bayanhongor",
         "lon": [
          100.1167
         ],
         "marker": {
          "color": "#ab63fa"
         },
         "mode": "markers",
         "name": "bayanhongor",
         "showlegend": true,
         "subplot": "mapbox",
         "type": "scattermapbox"
        },
        {
         "hovertemplate": "City=walvis bay<br>Lat=%{lat}<br>Lng=%{lon}<extra></extra>",
         "lat": [
          -22.9575
         ],
         "legendgroup": "walvis bay",
         "lon": [
          14.5053
         ],
         "marker": {
          "color": "#FFA15A"
         },
         "mode": "markers",
         "name": "walvis bay",
         "showlegend": true,
         "subplot": "mapbox",
         "type": "scattermapbox"
        },
        {
         "hovertemplate": "City=jiuquan<br>Lat=%{lat}<br>Lng=%{lon}<extra></extra>",
         "lat": [
          39.7432
         ],
         "legendgroup": "jiuquan",
         "lon": [
          98.5174
         ],
         "marker": {
          "color": "#19d3f3"
         },
         "mode": "markers",
         "name": "jiuquan",
         "showlegend": true,
         "subplot": "mapbox",
         "type": "scattermapbox"
        },
        {
         "hovertemplate": "City=bilibino<br>Lat=%{lat}<br>Lng=%{lon}<extra></extra>",
         "lat": [
          68.0546
         ],
         "legendgroup": "bilibino",
         "lon": [
          166.4372
         ],
         "marker": {
          "color": "#FF6692"
         },
         "mode": "markers",
         "name": "bilibino",
         "showlegend": true,
         "subplot": "mapbox",
         "type": "scattermapbox"
        },
        {
         "hovertemplate": "City=whangarei<br>Lat=%{lat}<br>Lng=%{lon}<extra></extra>",
         "lat": [
          -35.7317
         ],
         "legendgroup": "whangarei",
         "lon": [
          174.3239
         ],
         "marker": {
          "color": "#B6E880"
         },
         "mode": "markers",
         "name": "whangarei",
         "showlegend": true,
         "subplot": "mapbox",
         "type": "scattermapbox"
        },
        {
         "hovertemplate": "City=buritis<br>Lat=%{lat}<br>Lng=%{lon}<extra></extra>",
         "lat": [
          -15.6178
         ],
         "legendgroup": "buritis",
         "lon": [
          -46.4233
         ],
         "marker": {
          "color": "#FF97FF"
         },
         "mode": "markers",
         "name": "buritis",
         "showlegend": true,
         "subplot": "mapbox",
         "type": "scattermapbox"
        },
        {
         "hovertemplate": "City=hamilton<br>Lat=%{lat}<br>Lng=%{lon}<extra></extra>",
         "lat": [
          39.1834
         ],
         "legendgroup": "hamilton",
         "lon": [
          -84.5333
         ],
         "marker": {
          "color": "#FECB52"
         },
         "mode": "markers",
         "name": "hamilton",
         "showlegend": true,
         "subplot": "mapbox",
         "type": "scattermapbox"
        },
        {
         "hovertemplate": "City=palmer<br>Lat=%{lat}<br>Lng=%{lon}<extra></extra>",
         "lat": [
          42.1584
         ],
         "legendgroup": "palmer",
         "lon": [
          -72.3287
         ],
         "marker": {
          "color": "#636efa"
         },
         "mode": "markers",
         "name": "palmer",
         "showlegend": true,
         "subplot": "mapbox",
         "type": "scattermapbox"
        },
        {
         "hovertemplate": "City=tolanaro<br>Lat=%{lat}<br>Lng=%{lon}<extra></extra>",
         "lat": [
          -25.0319
         ],
         "legendgroup": "tolanaro",
         "lon": [
          46.9987
         ],
         "marker": {
          "color": "#EF553B"
         },
         "mode": "markers",
         "name": "tolanaro",
         "showlegend": true,
         "subplot": "mapbox",
         "type": "scattermapbox"
        },
        {
         "hovertemplate": "City=mana<br>Lat=%{lat}<br>Lng=%{lon}<extra></extra>",
         "lat": [
          5.6592
         ],
         "legendgroup": "mana",
         "lon": [
          -53.7767
         ],
         "marker": {
          "color": "#00cc96"
         },
         "mode": "markers",
         "name": "mana",
         "showlegend": true,
         "subplot": "mapbox",
         "type": "scattermapbox"
        },
        {
         "hovertemplate": "City=barcelos<br>Lat=%{lat}<br>Lng=%{lon}<extra></extra>",
         "lat": [
          41.5388
         ],
         "legendgroup": "barcelos",
         "lon": [
          -8.6151
         ],
         "marker": {
          "color": "#ab63fa"
         },
         "mode": "markers",
         "name": "barcelos",
         "showlegend": true,
         "subplot": "mapbox",
         "type": "scattermapbox"
        },
        {
         "hovertemplate": "City=pont rouge<br>Lat=%{lat}<br>Lng=%{lon}<extra></extra>",
         "lat": [
          48.8833
         ],
         "legendgroup": "pont rouge",
         "lon": [
          -72.0825
         ],
         "marker": {
          "color": "#FFA15A"
         },
         "mode": "markers",
         "name": "pont rouge",
         "showlegend": true,
         "subplot": "mapbox",
         "type": "scattermapbox"
        },
        {
         "hovertemplate": "City=aykhal<br>Lat=%{lat}<br>Lng=%{lon}<extra></extra>",
         "lat": [
          66
         ],
         "legendgroup": "aykhal",
         "lon": [
          111.5
         ],
         "marker": {
          "color": "#19d3f3"
         },
         "mode": "markers",
         "name": "aykhal",
         "showlegend": true,
         "subplot": "mapbox",
         "type": "scattermapbox"
        },
        {
         "hovertemplate": "City=inderbor<br>Lat=%{lat}<br>Lng=%{lon}<extra></extra>",
         "lat": [
          48.55
         ],
         "legendgroup": "inderbor",
         "lon": [
          51.7833
         ],
         "marker": {
          "color": "#FF6692"
         },
         "mode": "markers",
         "name": "inderbor",
         "showlegend": true,
         "subplot": "mapbox",
         "type": "scattermapbox"
        },
        {
         "hovertemplate": "City=kailua-kona<br>Lat=%{lat}<br>Lng=%{lon}<extra></extra>",
         "lat": [
          19.6406
         ],
         "legendgroup": "kailua-kona",
         "lon": [
          -155.9956
         ],
         "marker": {
          "color": "#B6E880"
         },
         "mode": "markers",
         "name": "kailua-kona",
         "showlegend": true,
         "subplot": "mapbox",
         "type": "scattermapbox"
        },
        {
         "hovertemplate": "City=hithadhoo<br>Lat=%{lat}<br>Lng=%{lon}<extra></extra>",
         "lat": [
          -0.6
         ],
         "legendgroup": "hithadhoo",
         "lon": [
          73.0833
         ],
         "marker": {
          "color": "#FF97FF"
         },
         "mode": "markers",
         "name": "hithadhoo",
         "showlegend": true,
         "subplot": "mapbox",
         "type": "scattermapbox"
        },
        {
         "hovertemplate": "City=douglas<br>Lat=%{lat}<br>Lng=%{lon}<extra></extra>",
         "lat": [
          41.3
         ],
         "legendgroup": "douglas",
         "lon": [
          -96.167
         ],
         "marker": {
          "color": "#FECB52"
         },
         "mode": "markers",
         "name": "douglas",
         "showlegend": true,
         "subplot": "mapbox",
         "type": "scattermapbox"
        },
        {
         "hovertemplate": "City=bennington<br>Lat=%{lat}<br>Lng=%{lon}<extra></extra>",
         "lat": [
          42.8781
         ],
         "legendgroup": "bennington",
         "lon": [
          -73.1968
         ],
         "marker": {
          "color": "#636efa"
         },
         "mode": "markers",
         "name": "bennington",
         "showlegend": true,
         "subplot": "mapbox",
         "type": "scattermapbox"
        },
        {
         "hovertemplate": "City=kavaratti<br>Lat=%{lat}<br>Lng=%{lon}<extra></extra>",
         "lat": [
          10.5669
         ],
         "legendgroup": "kavaratti",
         "lon": [
          72.642
         ],
         "marker": {
          "color": "#EF553B"
         },
         "mode": "markers",
         "name": "kavaratti",
         "showlegend": true,
         "subplot": "mapbox",
         "type": "scattermapbox"
        },
        {
         "hovertemplate": "City=wagar<br>Lat=%{lat}<br>Lng=%{lon}<extra></extra>",
         "lat": [
          16.1525
         ],
         "legendgroup": "wagar",
         "lon": [
          36.2032
         ],
         "marker": {
          "color": "#00cc96"
         },
         "mode": "markers",
         "name": "wagar",
         "showlegend": true,
         "subplot": "mapbox",
         "type": "scattermapbox"
        },
        {
         "hovertemplate": "City=souillac<br>Lat=%{lat}<br>Lng=%{lon}<extra></extra>",
         "lat": [
          -20.5167
         ],
         "legendgroup": "souillac",
         "lon": [
          57.5167
         ],
         "marker": {
          "color": "#ab63fa"
         },
         "mode": "markers",
         "name": "souillac",
         "showlegend": true,
         "subplot": "mapbox",
         "type": "scattermapbox"
        },
        {
         "hovertemplate": "City=covington<br>Lat=%{lat}<br>Lng=%{lon}<extra></extra>",
         "lat": [
          39.0837
         ],
         "legendgroup": "covington",
         "lon": [
          -84.5086
         ],
         "marker": {
          "color": "#FFA15A"
         },
         "mode": "markers",
         "name": "covington",
         "showlegend": true,
         "subplot": "mapbox",
         "type": "scattermapbox"
        },
        {
         "hovertemplate": "City=mendoza<br>Lat=%{lat}<br>Lng=%{lon}<extra></extra>",
         "lat": [
          -32.8908
         ],
         "legendgroup": "mendoza",
         "lon": [
          -68.8272
         ],
         "marker": {
          "color": "#19d3f3"
         },
         "mode": "markers",
         "name": "mendoza",
         "showlegend": true,
         "subplot": "mapbox",
         "type": "scattermapbox"
        },
        {
         "hovertemplate": "City=bathsheba<br>Lat=%{lat}<br>Lng=%{lon}<extra></extra>",
         "lat": [
          13.2167
         ],
         "legendgroup": "bathsheba",
         "lon": [
          -59.5167
         ],
         "marker": {
          "color": "#FF6692"
         },
         "mode": "markers",
         "name": "bathsheba",
         "showlegend": true,
         "subplot": "mapbox",
         "type": "scattermapbox"
        },
        {
         "hovertemplate": "City=sao joao da barra<br>Lat=%{lat}<br>Lng=%{lon}<extra></extra>",
         "lat": [
          -21.6403
         ],
         "legendgroup": "sao joao da barra",
         "lon": [
          -41.0511
         ],
         "marker": {
          "color": "#B6E880"
         },
         "mode": "markers",
         "name": "sao joao da barra",
         "showlegend": true,
         "subplot": "mapbox",
         "type": "scattermapbox"
        },
        {
         "hovertemplate": "City=ta`u<br>Lat=%{lat}<br>Lng=%{lon}<extra></extra>",
         "lat": [
          -14.2336
         ],
         "legendgroup": "ta`u",
         "lon": [
          -169.5144
         ],
         "marker": {
          "color": "#FF97FF"
         },
         "mode": "markers",
         "name": "ta`u",
         "showlegend": true,
         "subplot": "mapbox",
         "type": "scattermapbox"
        },
        {
         "hovertemplate": "City=devoto<br>Lat=%{lat}<br>Lng=%{lon}<extra></extra>",
         "lat": [
          -31.4043
         ],
         "legendgroup": "devoto",
         "lon": [
          -62.3063
         ],
         "marker": {
          "color": "#FECB52"
         },
         "mode": "markers",
         "name": "devoto",
         "showlegend": true,
         "subplot": "mapbox",
         "type": "scattermapbox"
        },
        {
         "hovertemplate": "City=nyurba<br>Lat=%{lat}<br>Lng=%{lon}<extra></extra>",
         "lat": [
          63.2842
         ],
         "legendgroup": "nyurba",
         "lon": [
          118.3319
         ],
         "marker": {
          "color": "#636efa"
         },
         "mode": "markers",
         "name": "nyurba",
         "showlegend": true,
         "subplot": "mapbox",
         "type": "scattermapbox"
        },
        {
         "hovertemplate": "City=kirkwood<br>Lat=%{lat}<br>Lng=%{lon}<extra></extra>",
         "lat": [
          38.5834
         ],
         "legendgroup": "kirkwood",
         "lon": [
          -90.4068
         ],
         "marker": {
          "color": "#EF553B"
         },
         "mode": "markers",
         "name": "kirkwood",
         "showlegend": true,
         "subplot": "mapbox",
         "type": "scattermapbox"
        },
        {
         "hovertemplate": "City=vera<br>Lat=%{lat}<br>Lng=%{lon}<extra></extra>",
         "lat": [
          -29.4593
         ],
         "legendgroup": "vera",
         "lon": [
          -60.2126
         ],
         "marker": {
          "color": "#00cc96"
         },
         "mode": "markers",
         "name": "vera",
         "showlegend": true,
         "subplot": "mapbox",
         "type": "scattermapbox"
        },
        {
         "hovertemplate": "City=keelung<br>Lat=%{lat}<br>Lng=%{lon}<extra></extra>",
         "lat": [
          25.1283
         ],
         "legendgroup": "keelung",
         "lon": [
          121.7419
         ],
         "marker": {
          "color": "#ab63fa"
         },
         "mode": "markers",
         "name": "keelung",
         "showlegend": true,
         "subplot": "mapbox",
         "type": "scattermapbox"
        },
        {
         "hovertemplate": "City=genhe<br>Lat=%{lat}<br>Lng=%{lon}<extra></extra>",
         "lat": [
          50.7833
         ],
         "legendgroup": "genhe",
         "lon": [
          121.5167
         ],
         "marker": {
          "color": "#FFA15A"
         },
         "mode": "markers",
         "name": "genhe",
         "showlegend": true,
         "subplot": "mapbox",
         "type": "scattermapbox"
        },
        {
         "hovertemplate": "City=hammerfest<br>Lat=%{lat}<br>Lng=%{lon}<extra></extra>",
         "lat": [
          70.6634
         ],
         "legendgroup": "hammerfest",
         "lon": [
          23.6821
         ],
         "marker": {
          "color": "#19d3f3"
         },
         "mode": "markers",
         "name": "hammerfest",
         "showlegend": true,
         "subplot": "mapbox",
         "type": "scattermapbox"
        },
        {
         "hovertemplate": "City=red hill<br>Lat=%{lat}<br>Lng=%{lon}<extra></extra>",
         "lat": [
          33.9996
         ],
         "legendgroup": "red hill",
         "lon": [
          -79.2581
         ],
         "marker": {
          "color": "#FF6692"
         },
         "mode": "markers",
         "name": "red hill",
         "showlegend": true,
         "subplot": "mapbox",
         "type": "scattermapbox"
        },
        {
         "hovertemplate": "City=siwa oasis<br>Lat=%{lat}<br>Lng=%{lon}<extra></extra>",
         "lat": [
          29.2041
         ],
         "legendgroup": "siwa oasis",
         "lon": [
          25.5195
         ],
         "marker": {
          "color": "#B6E880"
         },
         "mode": "markers",
         "name": "siwa oasis",
         "showlegend": true,
         "subplot": "mapbox",
         "type": "scattermapbox"
        },
        {
         "hovertemplate": "City=utrik<br>Lat=%{lat}<br>Lng=%{lon}<extra></extra>",
         "lat": [
          11.2278
         ],
         "legendgroup": "utrik",
         "lon": [
          169.8474
         ],
         "marker": {
          "color": "#FF97FF"
         },
         "mode": "markers",
         "name": "utrik",
         "showlegend": true,
         "subplot": "mapbox",
         "type": "scattermapbox"
        },
        {
         "hovertemplate": "City=sinabang<br>Lat=%{lat}<br>Lng=%{lon}<extra></extra>",
         "lat": [
          2.4803
         ],
         "legendgroup": "sinabang",
         "lon": [
          96.3801
         ],
         "marker": {
          "color": "#FECB52"
         },
         "mode": "markers",
         "name": "sinabang",
         "showlegend": true,
         "subplot": "mapbox",
         "type": "scattermapbox"
        },
        {
         "hovertemplate": "City=oriximina<br>Lat=%{lat}<br>Lng=%{lon}<extra></extra>",
         "lat": [
          -1.7656
         ],
         "legendgroup": "oriximina",
         "lon": [
          -55.8661
         ],
         "marker": {
          "color": "#636efa"
         },
         "mode": "markers",
         "name": "oriximina",
         "showlegend": true,
         "subplot": "mapbox",
         "type": "scattermapbox"
        },
        {
         "hovertemplate": "City=la trinite<br>Lat=%{lat}<br>Lng=%{lon}<extra></extra>",
         "lat": [
          14.7376
         ],
         "legendgroup": "la trinite",
         "lon": [
          -60.9629
         ],
         "marker": {
          "color": "#EF553B"
         },
         "mode": "markers",
         "name": "la trinite",
         "showlegend": true,
         "subplot": "mapbox",
         "type": "scattermapbox"
        },
        {
         "hovertemplate": "City=alesund<br>Lat=%{lat}<br>Lng=%{lon}<extra></extra>",
         "lat": [
          62.4723
         ],
         "legendgroup": "alesund",
         "lon": [
          6.1549
         ],
         "marker": {
          "color": "#00cc96"
         },
         "mode": "markers",
         "name": "alesund",
         "showlegend": true,
         "subplot": "mapbox",
         "type": "scattermapbox"
        },
        {
         "hovertemplate": "City=vadso<br>Lat=%{lat}<br>Lng=%{lon}<extra></extra>",
         "lat": [
          70.0744
         ],
         "legendgroup": "vadso",
         "lon": [
          29.7487
         ],
         "marker": {
          "color": "#ab63fa"
         },
         "mode": "markers",
         "name": "vadso",
         "showlegend": true,
         "subplot": "mapbox",
         "type": "scattermapbox"
        },
        {
         "hovertemplate": "City=aztec<br>Lat=%{lat}<br>Lng=%{lon}<extra></extra>",
         "lat": [
          36.8222
         ],
         "legendgroup": "aztec",
         "lon": [
          -107.9929
         ],
         "marker": {
          "color": "#FFA15A"
         },
         "mode": "markers",
         "name": "aztec",
         "showlegend": true,
         "subplot": "mapbox",
         "type": "scattermapbox"
        },
        {
         "hovertemplate": "City=vernon<br>Lat=%{lat}<br>Lng=%{lon}<extra></extra>",
         "lat": [
          50.2581
         ],
         "legendgroup": "vernon",
         "lon": [
          -119.2691
         ],
         "marker": {
          "color": "#19d3f3"
         },
         "mode": "markers",
         "name": "vernon",
         "showlegend": true,
         "subplot": "mapbox",
         "type": "scattermapbox"
        },
        {
         "hovertemplate": "City=nar'yan-mar<br>Lat=%{lat}<br>Lng=%{lon}<extra></extra>",
         "lat": [
          67.6713
         ],
         "legendgroup": "nar'yan-mar",
         "lon": [
          53.087
         ],
         "marker": {
          "color": "#FF6692"
         },
         "mode": "markers",
         "name": "nar'yan-mar",
         "showlegend": true,
         "subplot": "mapbox",
         "type": "scattermapbox"
        },
        {
         "hovertemplate": "City=geraldton<br>Lat=%{lat}<br>Lng=%{lon}<extra></extra>",
         "lat": [
          -28.7667
         ],
         "legendgroup": "geraldton",
         "lon": [
          114.6
         ],
         "marker": {
          "color": "#B6E880"
         },
         "mode": "markers",
         "name": "geraldton",
         "showlegend": true,
         "subplot": "mapbox",
         "type": "scattermapbox"
        },
        {
         "hovertemplate": "City=kodiak<br>Lat=%{lat}<br>Lng=%{lon}<extra></extra>",
         "lat": [
          57.79
         ],
         "legendgroup": "kodiak",
         "lon": [
          -152.4072
         ],
         "marker": {
          "color": "#FF97FF"
         },
         "mode": "markers",
         "name": "kodiak",
         "showlegend": true,
         "subplot": "mapbox",
         "type": "scattermapbox"
        },
        {
         "hovertemplate": "City=xiaogan<br>Lat=%{lat}<br>Lng=%{lon}<extra></extra>",
         "lat": [
          30.9167
         ],
         "legendgroup": "xiaogan",
         "lon": [
          113.9
         ],
         "marker": {
          "color": "#FECB52"
         },
         "mode": "markers",
         "name": "xiaogan",
         "showlegend": true,
         "subplot": "mapbox",
         "type": "scattermapbox"
        },
        {
         "hovertemplate": "City=waiuku<br>Lat=%{lat}<br>Lng=%{lon}<extra></extra>",
         "lat": [
          -37.25
         ],
         "legendgroup": "waiuku",
         "lon": [
          174.75
         ],
         "marker": {
          "color": "#636efa"
         },
         "mode": "markers",
         "name": "waiuku",
         "showlegend": true,
         "subplot": "mapbox",
         "type": "scattermapbox"
        },
        {
         "hovertemplate": "City=frontera<br>Lat=%{lat}<br>Lng=%{lon}<extra></extra>",
         "lat": [
          26.9333
         ],
         "legendgroup": "frontera",
         "lon": [
          -101.45
         ],
         "marker": {
          "color": "#EF553B"
         },
         "mode": "markers",
         "name": "frontera",
         "showlegend": true,
         "subplot": "mapbox",
         "type": "scattermapbox"
        },
        {
         "hovertemplate": "City=slave lake<br>Lat=%{lat}<br>Lng=%{lon}<extra></extra>",
         "lat": [
          55.2834
         ],
         "legendgroup": "slave lake",
         "lon": [
          -114.769
         ],
         "marker": {
          "color": "#00cc96"
         },
         "mode": "markers",
         "name": "slave lake",
         "showlegend": true,
         "subplot": "mapbox",
         "type": "scattermapbox"
        },
        {
         "hovertemplate": "City=mil'kovo<br>Lat=%{lat}<br>Lng=%{lon}<extra></extra>",
         "lat": [
          55.6078
         ],
         "legendgroup": "mil'kovo",
         "lon": [
          37.7956
         ],
         "marker": {
          "color": "#ab63fa"
         },
         "mode": "markers",
         "name": "mil'kovo",
         "showlegend": true,
         "subplot": "mapbox",
         "type": "scattermapbox"
        },
        {
         "hovertemplate": "City=bardai<br>Lat=%{lat}<br>Lng=%{lon}<extra></extra>",
         "lat": [
          11.65
         ],
         "legendgroup": "bardai",
         "lon": [
          7.2333
         ],
         "marker": {
          "color": "#FFA15A"
         },
         "mode": "markers",
         "name": "bardai",
         "showlegend": true,
         "subplot": "mapbox",
         "type": "scattermapbox"
        },
        {
         "hovertemplate": "City=noyabrsk<br>Lat=%{lat}<br>Lng=%{lon}<extra></extra>",
         "lat": [
          63.1994
         ],
         "legendgroup": "noyabrsk",
         "lon": [
          75.4507
         ],
         "marker": {
          "color": "#19d3f3"
         },
         "mode": "markers",
         "name": "noyabrsk",
         "showlegend": true,
         "subplot": "mapbox",
         "type": "scattermapbox"
        },
        {
         "hovertemplate": "City=seosan<br>Lat=%{lat}<br>Lng=%{lon}<extra></extra>",
         "lat": [
          36.7817
         ],
         "legendgroup": "seosan",
         "lon": [
          126.4522
         ],
         "marker": {
          "color": "#FF6692"
         },
         "mode": "markers",
         "name": "seosan",
         "showlegend": true,
         "subplot": "mapbox",
         "type": "scattermapbox"
        },
        {
         "hovertemplate": "City=port saint john's<br>Lat=%{lat}<br>Lng=%{lon}<extra></extra>",
         "lat": [
          -31.6229
         ],
         "legendgroup": "port saint john's",
         "lon": [
          29.5448
         ],
         "marker": {
          "color": "#B6E880"
         },
         "mode": "markers",
         "name": "port saint john's",
         "showlegend": true,
         "subplot": "mapbox",
         "type": "scattermapbox"
        },
        {
         "hovertemplate": "City=kirchenviertel<br>Lat=%{lat}<br>Lng=%{lon}<extra></extra>",
         "lat": [
          47.1362
         ],
         "legendgroup": "kirchenviertel",
         "lon": [
          15.3457
         ],
         "marker": {
          "color": "#FF97FF"
         },
         "mode": "markers",
         "name": "kirchenviertel",
         "showlegend": true,
         "subplot": "mapbox",
         "type": "scattermapbox"
        },
        {
         "hovertemplate": "City=codrington<br>Lat=%{lat}<br>Lng=%{lon}<extra></extra>",
         "lat": [
          -38.2667
         ],
         "legendgroup": "codrington",
         "lon": [
          141.9667
         ],
         "marker": {
          "color": "#FECB52"
         },
         "mode": "markers",
         "name": "codrington",
         "showlegend": true,
         "subplot": "mapbox",
         "type": "scattermapbox"
        },
        {
         "hovertemplate": "City=tralee<br>Lat=%{lat}<br>Lng=%{lon}<extra></extra>",
         "lat": [
          52.2704
         ],
         "legendgroup": "tralee",
         "lon": [
          -9.7026
         ],
         "marker": {
          "color": "#636efa"
         },
         "mode": "markers",
         "name": "tralee",
         "showlegend": true,
         "subplot": "mapbox",
         "type": "scattermapbox"
        },
        {
         "hovertemplate": "City=new norfolk<br>Lat=%{lat}<br>Lng=%{lon}<extra></extra>",
         "lat": [
          -42.7826
         ],
         "legendgroup": "new norfolk",
         "lon": [
          147.0587
         ],
         "marker": {
          "color": "#EF553B"
         },
         "mode": "markers",
         "name": "new norfolk",
         "showlegend": true,
         "subplot": "mapbox",
         "type": "scattermapbox"
        },
        {
         "hovertemplate": "City=happy valley-goose bay<br>Lat=%{lat}<br>Lng=%{lon}<extra></extra>",
         "lat": [
          53.3168
         ],
         "legendgroup": "happy valley-goose bay",
         "lon": [
          -60.3315
         ],
         "marker": {
          "color": "#00cc96"
         },
         "mode": "markers",
         "name": "happy valley-goose bay",
         "showlegend": true,
         "subplot": "mapbox",
         "type": "scattermapbox"
        },
        {
         "hovertemplate": "City=afif<br>Lat=%{lat}<br>Lng=%{lon}<extra></extra>",
         "lat": [
          23.9065
         ],
         "legendgroup": "afif",
         "lon": [
          42.9172
         ],
         "marker": {
          "color": "#ab63fa"
         },
         "mode": "markers",
         "name": "afif",
         "showlegend": true,
         "subplot": "mapbox",
         "type": "scattermapbox"
        },
        {
         "hovertemplate": "City=mounana<br>Lat=%{lat}<br>Lng=%{lon}<extra></extra>",
         "lat": [
          -1.4085
         ],
         "legendgroup": "mounana",
         "lon": [
          13.1586
         ],
         "marker": {
          "color": "#FFA15A"
         },
         "mode": "markers",
         "name": "mounana",
         "showlegend": true,
         "subplot": "mapbox",
         "type": "scattermapbox"
        },
        {
         "hovertemplate": "City=cajica<br>Lat=%{lat}<br>Lng=%{lon}<extra></extra>",
         "lat": [
          4.9186
         ],
         "legendgroup": "cajica",
         "lon": [
          -74.028
         ],
         "marker": {
          "color": "#19d3f3"
         },
         "mode": "markers",
         "name": "cajica",
         "showlegend": true,
         "subplot": "mapbox",
         "type": "scattermapbox"
        },
        {
         "hovertemplate": "City=parthenay<br>Lat=%{lat}<br>Lng=%{lon}<extra></extra>",
         "lat": [
          46.6667
         ],
         "legendgroup": "parthenay",
         "lon": [
          -0.4167
         ],
         "marker": {
          "color": "#FF6692"
         },
         "mode": "markers",
         "name": "parthenay",
         "showlegend": true,
         "subplot": "mapbox",
         "type": "scattermapbox"
        },
        {
         "hovertemplate": "City=pori<br>Lat=%{lat}<br>Lng=%{lon}<extra></extra>",
         "lat": [
          61.4833
         ],
         "legendgroup": "pori",
         "lon": [
          21.7833
         ],
         "marker": {
          "color": "#B6E880"
         },
         "mode": "markers",
         "name": "pori",
         "showlegend": true,
         "subplot": "mapbox",
         "type": "scattermapbox"
        },
        {
         "hovertemplate": "City=pizarro<br>Lat=%{lat}<br>Lng=%{lon}<extra></extra>",
         "lat": [
          4.9533
         ],
         "legendgroup": "pizarro",
         "lon": [
          -77.366
         ],
         "marker": {
          "color": "#FF97FF"
         },
         "mode": "markers",
         "name": "pizarro",
         "showlegend": true,
         "subplot": "mapbox",
         "type": "scattermapbox"
        },
        {
         "hovertemplate": "City=joshimath<br>Lat=%{lat}<br>Lng=%{lon}<extra></extra>",
         "lat": [
          30.5667
         ],
         "legendgroup": "joshimath",
         "lon": [
          79.5667
         ],
         "marker": {
          "color": "#FECB52"
         },
         "mode": "markers",
         "name": "joshimath",
         "showlegend": true,
         "subplot": "mapbox",
         "type": "scattermapbox"
        },
        {
         "hovertemplate": "City=aras-asan<br>Lat=%{lat}<br>Lng=%{lon}<extra></extra>",
         "lat": [
          8.8908
         ],
         "legendgroup": "aras-asan",
         "lon": [
          126.3033
         ],
         "marker": {
          "color": "#636efa"
         },
         "mode": "markers",
         "name": "aras-asan",
         "showlegend": true,
         "subplot": "mapbox",
         "type": "scattermapbox"
        },
        {
         "hovertemplate": "City=nikolayevsk-on-amure<br>Lat=%{lat}<br>Lng=%{lon}<extra></extra>",
         "lat": [
          53.1406
         ],
         "legendgroup": "nikolayevsk-on-amure",
         "lon": [
          140.73
         ],
         "marker": {
          "color": "#EF553B"
         },
         "mode": "markers",
         "name": "nikolayevsk-on-amure",
         "showlegend": true,
         "subplot": "mapbox",
         "type": "scattermapbox"
        },
        {
         "hovertemplate": "City=coromandel<br>Lat=%{lat}<br>Lng=%{lon}<extra></extra>",
         "lat": [
          -18.4733
         ],
         "legendgroup": "coromandel",
         "lon": [
          -47.2003
         ],
         "marker": {
          "color": "#00cc96"
         },
         "mode": "markers",
         "name": "coromandel",
         "showlegend": true,
         "subplot": "mapbox",
         "type": "scattermapbox"
        },
        {
         "hovertemplate": "City=mutuali<br>Lat=%{lat}<br>Lng=%{lon}<extra></extra>",
         "lat": [
          -14.8706
         ],
         "legendgroup": "mutuali",
         "lon": [
          37.0044
         ],
         "marker": {
          "color": "#ab63fa"
         },
         "mode": "markers",
         "name": "mutuali",
         "showlegend": true,
         "subplot": "mapbox",
         "type": "scattermapbox"
        },
        {
         "hovertemplate": "City=lib<br>Lat=%{lat}<br>Lng=%{lon}<extra></extra>",
         "lat": [
          8.3122
         ],
         "legendgroup": "lib",
         "lon": [
          167.3766
         ],
         "marker": {
          "color": "#FFA15A"
         },
         "mode": "markers",
         "name": "lib",
         "showlegend": true,
         "subplot": "mapbox",
         "type": "scattermapbox"
        },
        {
         "hovertemplate": "City=kenai<br>Lat=%{lat}<br>Lng=%{lon}<extra></extra>",
         "lat": [
          60.5544
         ],
         "legendgroup": "kenai",
         "lon": [
          -151.2583
         ],
         "marker": {
          "color": "#19d3f3"
         },
         "mode": "markers",
         "name": "kenai",
         "showlegend": true,
         "subplot": "mapbox",
         "type": "scattermapbox"
        },
        {
         "hovertemplate": "City=masuguru<br>Lat=%{lat}<br>Lng=%{lon}<extra></extra>",
         "lat": [
          -11.3667
         ],
         "legendgroup": "masuguru",
         "lon": [
          38.4167
         ],
         "marker": {
          "color": "#FF6692"
         },
         "mode": "markers",
         "name": "masuguru",
         "showlegend": true,
         "subplot": "mapbox",
         "type": "scattermapbox"
        },
        {
         "hovertemplate": "City=yambio<br>Lat=%{lat}<br>Lng=%{lon}<extra></extra>",
         "lat": [
          4.5721
         ],
         "legendgroup": "yambio",
         "lon": [
          28.3955
         ],
         "marker": {
          "color": "#B6E880"
         },
         "mode": "markers",
         "name": "yambio",
         "showlegend": true,
         "subplot": "mapbox",
         "type": "scattermapbox"
        },
        {
         "hovertemplate": "City=trairi<br>Lat=%{lat}<br>Lng=%{lon}<extra></extra>",
         "lat": [
          -3.2778
         ],
         "legendgroup": "trairi",
         "lon": [
          -39.2689
         ],
         "marker": {
          "color": "#FF97FF"
         },
         "mode": "markers",
         "name": "trairi",
         "showlegend": true,
         "subplot": "mapbox",
         "type": "scattermapbox"
        },
        {
         "hovertemplate": "City=constantia<br>Lat=%{lat}<br>Lng=%{lon}<extra></extra>",
         "lat": [
          44.1833
         ],
         "legendgroup": "constantia",
         "lon": [
          28.65
         ],
         "marker": {
          "color": "#FECB52"
         },
         "mode": "markers",
         "name": "constantia",
         "showlegend": true,
         "subplot": "mapbox",
         "type": "scattermapbox"
        },
        {
         "hovertemplate": "City=kargopol'<br>Lat=%{lat}<br>Lng=%{lon}<extra></extra>",
         "lat": [
          61.5071
         ],
         "legendgroup": "kargopol'",
         "lon": [
          38.9456
         ],
         "marker": {
          "color": "#636efa"
         },
         "mode": "markers",
         "name": "kargopol'",
         "showlegend": true,
         "subplot": "mapbox",
         "type": "scattermapbox"
        },
        {
         "hovertemplate": "City=afaahiti<br>Lat=%{lat}<br>Lng=%{lon}<extra></extra>",
         "lat": [
          -17.75
         ],
         "legendgroup": "afaahiti",
         "lon": [
          -149.2833
         ],
         "marker": {
          "color": "#EF553B"
         },
         "mode": "markers",
         "name": "afaahiti",
         "showlegend": true,
         "subplot": "mapbox",
         "type": "scattermapbox"
        },
        {
         "hovertemplate": "City=sarigol<br>Lat=%{lat}<br>Lng=%{lon}<extra></extra>",
         "lat": [
          38.2395
         ],
         "legendgroup": "sarigol",
         "lon": [
          28.6966
         ],
         "marker": {
          "color": "#00cc96"
         },
         "mode": "markers",
         "name": "sarigol",
         "showlegend": true,
         "subplot": "mapbox",
         "type": "scattermapbox"
        },
        {
         "hovertemplate": "City=douentza<br>Lat=%{lat}<br>Lng=%{lon}<extra></extra>",
         "lat": [
          14.9951
         ],
         "legendgroup": "douentza",
         "lon": [
          -2.9517
         ],
         "marker": {
          "color": "#ab63fa"
         },
         "mode": "markers",
         "name": "douentza",
         "showlegend": true,
         "subplot": "mapbox",
         "type": "scattermapbox"
        },
        {
         "hovertemplate": "City=muncar<br>Lat=%{lat}<br>Lng=%{lon}<extra></extra>",
         "lat": [
          -8.4333
         ],
         "legendgroup": "muncar",
         "lon": [
          114.3333
         ],
         "marker": {
          "color": "#FFA15A"
         },
         "mode": "markers",
         "name": "muncar",
         "showlegend": true,
         "subplot": "mapbox",
         "type": "scattermapbox"
        },
        {
         "hovertemplate": "City=pakokku<br>Lat=%{lat}<br>Lng=%{lon}<extra></extra>",
         "lat": [
          21.3333
         ],
         "legendgroup": "pakokku",
         "lon": [
          95.1
         ],
         "marker": {
          "color": "#19d3f3"
         },
         "mode": "markers",
         "name": "pakokku",
         "showlegend": true,
         "subplot": "mapbox",
         "type": "scattermapbox"
        },
        {
         "hovertemplate": "City=key west<br>Lat=%{lat}<br>Lng=%{lon}<extra></extra>",
         "lat": [
          24.5557
         ],
         "legendgroup": "key west",
         "lon": [
          -81.7826
         ],
         "marker": {
          "color": "#FF6692"
         },
         "mode": "markers",
         "name": "key west",
         "showlegend": true,
         "subplot": "mapbox",
         "type": "scattermapbox"
        },
        {
         "hovertemplate": "City=sabana de torres<br>Lat=%{lat}<br>Lng=%{lon}<extra></extra>",
         "lat": [
          7.3915
         ],
         "legendgroup": "sabana de torres",
         "lon": [
          -73.4957
         ],
         "marker": {
          "color": "#B6E880"
         },
         "mode": "markers",
         "name": "sabana de torres",
         "showlegend": true,
         "subplot": "mapbox",
         "type": "scattermapbox"
        },
        {
         "hovertemplate": "City=alpena<br>Lat=%{lat}<br>Lng=%{lon}<extra></extra>",
         "lat": [
          45.0617
         ],
         "legendgroup": "alpena",
         "lon": [
          -83.4327
         ],
         "marker": {
          "color": "#FF97FF"
         },
         "mode": "markers",
         "name": "alpena",
         "showlegend": true,
         "subplot": "mapbox",
         "type": "scattermapbox"
        },
        {
         "hovertemplate": "City=aqaba<br>Lat=%{lat}<br>Lng=%{lon}<extra></extra>",
         "lat": [
          29.5267
         ],
         "legendgroup": "aqaba",
         "lon": [
          35.0078
         ],
         "marker": {
          "color": "#FECB52"
         },
         "mode": "markers",
         "name": "aqaba",
         "showlegend": true,
         "subplot": "mapbox",
         "type": "scattermapbox"
        },
        {
         "hovertemplate": "City=isafjordur<br>Lat=%{lat}<br>Lng=%{lon}<extra></extra>",
         "lat": [
          66.0755
         ],
         "legendgroup": "isafjordur",
         "lon": [
          -23.124
         ],
         "marker": {
          "color": "#636efa"
         },
         "mode": "markers",
         "name": "isafjordur",
         "showlegend": true,
         "subplot": "mapbox",
         "type": "scattermapbox"
        },
        {
         "hovertemplate": "City=salinopolis<br>Lat=%{lat}<br>Lng=%{lon}<extra></extra>",
         "lat": [
          -0.6136
         ],
         "legendgroup": "salinopolis",
         "lon": [
          -47.3561
         ],
         "marker": {
          "color": "#EF553B"
         },
         "mode": "markers",
         "name": "salinopolis",
         "showlegend": true,
         "subplot": "mapbox",
         "type": "scattermapbox"
        },
        {
         "hovertemplate": "City=shitanjing<br>Lat=%{lat}<br>Lng=%{lon}<extra></extra>",
         "lat": [
          39.2342
         ],
         "legendgroup": "shitanjing",
         "lon": [
          106.3439
         ],
         "marker": {
          "color": "#00cc96"
         },
         "mode": "markers",
         "name": "shitanjing",
         "showlegend": true,
         "subplot": "mapbox",
         "type": "scattermapbox"
        },
        {
         "hovertemplate": "City=polyarnyy<br>Lat=%{lat}<br>Lng=%{lon}<extra></extra>",
         "lat": [
          69.1989
         ],
         "legendgroup": "polyarnyy",
         "lon": [
          33.4478
         ],
         "marker": {
          "color": "#ab63fa"
         },
         "mode": "markers",
         "name": "polyarnyy",
         "showlegend": true,
         "subplot": "mapbox",
         "type": "scattermapbox"
        },
        {
         "hovertemplate": "City=talnakh<br>Lat=%{lat}<br>Lng=%{lon}<extra></extra>",
         "lat": [
          69.4865
         ],
         "legendgroup": "talnakh",
         "lon": [
          88.3972
         ],
         "marker": {
          "color": "#FFA15A"
         },
         "mode": "markers",
         "name": "talnakh",
         "showlegend": true,
         "subplot": "mapbox",
         "type": "scattermapbox"
        },
        {
         "hovertemplate": "City=guerrero negro<br>Lat=%{lat}<br>Lng=%{lon}<extra></extra>",
         "lat": [
          27.9769
         ],
         "legendgroup": "guerrero negro",
         "lon": [
          -114.0611
         ],
         "marker": {
          "color": "#19d3f3"
         },
         "mode": "markers",
         "name": "guerrero negro",
         "showlegend": true,
         "subplot": "mapbox",
         "type": "scattermapbox"
        },
        {
         "hovertemplate": "City=minas de marcona<br>Lat=%{lat}<br>Lng=%{lon}<extra></extra>",
         "lat": [
          -15.2119
         ],
         "legendgroup": "minas de marcona",
         "lon": [
          -75.1103
         ],
         "marker": {
          "color": "#FF6692"
         },
         "mode": "markers",
         "name": "minas de marcona",
         "showlegend": true,
         "subplot": "mapbox",
         "type": "scattermapbox"
        },
        {
         "hovertemplate": "City=mata-utu<br>Lat=%{lat}<br>Lng=%{lon}<extra></extra>",
         "lat": [
          -13.2816
         ],
         "legendgroup": "mata-utu",
         "lon": [
          -176.1745
         ],
         "marker": {
          "color": "#B6E880"
         },
         "mode": "markers",
         "name": "mata-utu",
         "showlegend": true,
         "subplot": "mapbox",
         "type": "scattermapbox"
        },
        {
         "hovertemplate": "City=ulladulla<br>Lat=%{lat}<br>Lng=%{lon}<extra></extra>",
         "lat": [
          -35.35
         ],
         "legendgroup": "ulladulla",
         "lon": [
          150.4667
         ],
         "marker": {
          "color": "#FF97FF"
         },
         "mode": "markers",
         "name": "ulladulla",
         "showlegend": true,
         "subplot": "mapbox",
         "type": "scattermapbox"
        },
        {
         "hovertemplate": "City=nadi<br>Lat=%{lat}<br>Lng=%{lon}<extra></extra>",
         "lat": [
          -17.8
         ],
         "legendgroup": "nadi",
         "lon": [
          177.4167
         ],
         "marker": {
          "color": "#FECB52"
         },
         "mode": "markers",
         "name": "nadi",
         "showlegend": true,
         "subplot": "mapbox",
         "type": "scattermapbox"
        },
        {
         "hovertemplate": "City=vilyuysk<br>Lat=%{lat}<br>Lng=%{lon}<extra></extra>",
         "lat": [
          63.7553
         ],
         "legendgroup": "vilyuysk",
         "lon": [
          121.6247
         ],
         "marker": {
          "color": "#636efa"
         },
         "mode": "markers",
         "name": "vilyuysk",
         "showlegend": true,
         "subplot": "mapbox",
         "type": "scattermapbox"
        },
        {
         "hovertemplate": "City=san sebastian de la gomera<br>Lat=%{lat}<br>Lng=%{lon}<extra></extra>",
         "lat": [
          28.0916
         ],
         "legendgroup": "san sebastian de la gomera",
         "lon": [
          -17.1133
         ],
         "marker": {
          "color": "#EF553B"
         },
         "mode": "markers",
         "name": "san sebastian de la gomera",
         "showlegend": true,
         "subplot": "mapbox",
         "type": "scattermapbox"
        },
        {
         "hovertemplate": "City=san antonio de pale<br>Lat=%{lat}<br>Lng=%{lon}<extra></extra>",
         "lat": [
          -1.4014
         ],
         "legendgroup": "san antonio de pale",
         "lon": [
          5.6325
         ],
         "marker": {
          "color": "#00cc96"
         },
         "mode": "markers",
         "name": "san antonio de pale",
         "showlegend": true,
         "subplot": "mapbox",
         "type": "scattermapbox"
        },
        {
         "hovertemplate": "City=gharo<br>Lat=%{lat}<br>Lng=%{lon}<extra></extra>",
         "lat": [
          24.7424
         ],
         "legendgroup": "gharo",
         "lon": [
          67.5856
         ],
         "marker": {
          "color": "#ab63fa"
         },
         "mode": "markers",
         "name": "gharo",
         "showlegend": true,
         "subplot": "mapbox",
         "type": "scattermapbox"
        },
        {
         "hovertemplate": "City=aasiaat<br>Lat=%{lat}<br>Lng=%{lon}<extra></extra>",
         "lat": [
          68.7098
         ],
         "legendgroup": "aasiaat",
         "lon": [
          -52.8699
         ],
         "marker": {
          "color": "#FFA15A"
         },
         "mode": "markers",
         "name": "aasiaat",
         "showlegend": true,
         "subplot": "mapbox",
         "type": "scattermapbox"
        },
        {
         "hovertemplate": "City=tinogasta<br>Lat=%{lat}<br>Lng=%{lon}<extra></extra>",
         "lat": [
          -28.0632
         ],
         "legendgroup": "tinogasta",
         "lon": [
          -67.5649
         ],
         "marker": {
          "color": "#19d3f3"
         },
         "mode": "markers",
         "name": "tinogasta",
         "showlegend": true,
         "subplot": "mapbox",
         "type": "scattermapbox"
        },
        {
         "hovertemplate": "City=san pedro pochutla<br>Lat=%{lat}<br>Lng=%{lon}<extra></extra>",
         "lat": [
          15.7333
         ],
         "legendgroup": "san pedro pochutla",
         "lon": [
          -96.4667
         ],
         "marker": {
          "color": "#FF6692"
         },
         "mode": "markers",
         "name": "san pedro pochutla",
         "showlegend": true,
         "subplot": "mapbox",
         "type": "scattermapbox"
        },
        {
         "hovertemplate": "City=juan griego<br>Lat=%{lat}<br>Lng=%{lon}<extra></extra>",
         "lat": [
          11.0817
         ],
         "legendgroup": "juan griego",
         "lon": [
          -63.9655
         ],
         "marker": {
          "color": "#B6E880"
         },
         "mode": "markers",
         "name": "juan griego",
         "showlegend": true,
         "subplot": "mapbox",
         "type": "scattermapbox"
        },
        {
         "hovertemplate": "City=labasa<br>Lat=%{lat}<br>Lng=%{lon}<extra></extra>",
         "lat": [
          -16.4167
         ],
         "legendgroup": "labasa",
         "lon": [
          179.3833
         ],
         "marker": {
          "color": "#FF97FF"
         },
         "mode": "markers",
         "name": "labasa",
         "showlegend": true,
         "subplot": "mapbox",
         "type": "scattermapbox"
        },
        {
         "hovertemplate": "City=natal<br>Lat=%{lat}<br>Lng=%{lon}<extra></extra>",
         "lat": [
          -5.795
         ],
         "legendgroup": "natal",
         "lon": [
          -35.2094
         ],
         "marker": {
          "color": "#FECB52"
         },
         "mode": "markers",
         "name": "natal",
         "showlegend": true,
         "subplot": "mapbox",
         "type": "scattermapbox"
        },
        {
         "hovertemplate": "City=kloulklubed<br>Lat=%{lat}<br>Lng=%{lon}<extra></extra>",
         "lat": [
          7.0419
         ],
         "legendgroup": "kloulklubed",
         "lon": [
          134.2556
         ],
         "marker": {
          "color": "#636efa"
         },
         "mode": "markers",
         "name": "kloulklubed",
         "showlegend": true,
         "subplot": "mapbox",
         "type": "scattermapbox"
        },
        {
         "hovertemplate": "City=buryn'<br>Lat=%{lat}<br>Lng=%{lon}<extra></extra>",
         "lat": [
          51.1991
         ],
         "legendgroup": "buryn'",
         "lon": [
          33.8352
         ],
         "marker": {
          "color": "#EF553B"
         },
         "mode": "markers",
         "name": "buryn'",
         "showlegend": true,
         "subplot": "mapbox",
         "type": "scattermapbox"
        },
        {
         "hovertemplate": "City=carnarvon<br>Lat=%{lat}<br>Lng=%{lon}<extra></extra>",
         "lat": [
          -24.8667
         ],
         "legendgroup": "carnarvon",
         "lon": [
          113.6333
         ],
         "marker": {
          "color": "#00cc96"
         },
         "mode": "markers",
         "name": "carnarvon",
         "showlegend": true,
         "subplot": "mapbox",
         "type": "scattermapbox"
        },
        {
         "hovertemplate": "City=anadyr<br>Lat=%{lat}<br>Lng=%{lon}<extra></extra>",
         "lat": [
          64.75
         ],
         "legendgroup": "anadyr",
         "lon": [
          177.4833
         ],
         "marker": {
          "color": "#ab63fa"
         },
         "mode": "markers",
         "name": "anadyr",
         "showlegend": true,
         "subplot": "mapbox",
         "type": "scattermapbox"
        },
        {
         "hovertemplate": "City=bikenibeu village<br>Lat=%{lat}<br>Lng=%{lon}<extra></extra>",
         "lat": [
          1.3673
         ],
         "legendgroup": "bikenibeu village",
         "lon": [
          173.1241
         ],
         "marker": {
          "color": "#FFA15A"
         },
         "mode": "markers",
         "name": "bikenibeu village",
         "showlegend": true,
         "subplot": "mapbox",
         "type": "scattermapbox"
        },
        {
         "hovertemplate": "City=petrovsk<br>Lat=%{lat}<br>Lng=%{lon}<extra></extra>",
         "lat": [
          52.3064
         ],
         "legendgroup": "petrovsk",
         "lon": [
          45.3917
         ],
         "marker": {
          "color": "#19d3f3"
         },
         "mode": "markers",
         "name": "petrovsk",
         "showlegend": true,
         "subplot": "mapbox",
         "type": "scattermapbox"
        },
        {
         "hovertemplate": "City=morondava<br>Lat=%{lat}<br>Lng=%{lon}<extra></extra>",
         "lat": [
          -20.2833
         ],
         "legendgroup": "morondava",
         "lon": [
          44.2833
         ],
         "marker": {
          "color": "#FF6692"
         },
         "mode": "markers",
         "name": "morondava",
         "showlegend": true,
         "subplot": "mapbox",
         "type": "scattermapbox"
        },
        {
         "hovertemplate": "City=dakoro<br>Lat=%{lat}<br>Lng=%{lon}<extra></extra>",
         "lat": [
          14.5106
         ],
         "legendgroup": "dakoro",
         "lon": [
          6.765
         ],
         "marker": {
          "color": "#B6E880"
         },
         "mode": "markers",
         "name": "dakoro",
         "showlegend": true,
         "subplot": "mapbox",
         "type": "scattermapbox"
        },
        {
         "hovertemplate": "City=kerikeri<br>Lat=%{lat}<br>Lng=%{lon}<extra></extra>",
         "lat": [
          -35.2268
         ],
         "legendgroup": "kerikeri",
         "lon": [
          173.9474
         ],
         "marker": {
          "color": "#FF97FF"
         },
         "mode": "markers",
         "name": "kerikeri",
         "showlegend": true,
         "subplot": "mapbox",
         "type": "scattermapbox"
        },
        {
         "hovertemplate": "City=akureyri<br>Lat=%{lat}<br>Lng=%{lon}<extra></extra>",
         "lat": [
          65.6835
         ],
         "legendgroup": "akureyri",
         "lon": [
          -18.0878
         ],
         "marker": {
          "color": "#FECB52"
         },
         "mode": "markers",
         "name": "akureyri",
         "showlegend": true,
         "subplot": "mapbox",
         "type": "scattermapbox"
        },
        {
         "hovertemplate": "City=n'dalatando<br>Lat=%{lat}<br>Lng=%{lon}<extra></extra>",
         "lat": [
          -9.2978
         ],
         "legendgroup": "n'dalatando",
         "lon": [
          14.9116
         ],
         "marker": {
          "color": "#636efa"
         },
         "mode": "markers",
         "name": "n'dalatando",
         "showlegend": true,
         "subplot": "mapbox",
         "type": "scattermapbox"
        },
        {
         "hovertemplate": "City=thabazimbi<br>Lat=%{lat}<br>Lng=%{lon}<extra></extra>",
         "lat": [
          -24.5917
         ],
         "legendgroup": "thabazimbi",
         "lon": [
          27.4116
         ],
         "marker": {
          "color": "#EF553B"
         },
         "mode": "markers",
         "name": "thabazimbi",
         "showlegend": true,
         "subplot": "mapbox",
         "type": "scattermapbox"
        },
        {
         "hovertemplate": "City=queenstown<br>Lat=%{lat}<br>Lng=%{lon}<extra></extra>",
         "lat": [
          -31.8976
         ],
         "legendgroup": "queenstown",
         "lon": [
          26.8753
         ],
         "marker": {
          "color": "#00cc96"
         },
         "mode": "markers",
         "name": "queenstown",
         "showlegend": true,
         "subplot": "mapbox",
         "type": "scattermapbox"
        },
        {
         "hovertemplate": "City=iskateley<br>Lat=%{lat}<br>Lng=%{lon}<extra></extra>",
         "lat": [
          67.6803
         ],
         "legendgroup": "iskateley",
         "lon": [
          53.1512
         ],
         "marker": {
          "color": "#ab63fa"
         },
         "mode": "markers",
         "name": "iskateley",
         "showlegend": true,
         "subplot": "mapbox",
         "type": "scattermapbox"
        },
        {
         "hovertemplate": "City=necochea<br>Lat=%{lat}<br>Lng=%{lon}<extra></extra>",
         "lat": [
          -38.5473
         ],
         "legendgroup": "necochea",
         "lon": [
          -58.7368
         ],
         "marker": {
          "color": "#FFA15A"
         },
         "mode": "markers",
         "name": "necochea",
         "showlegend": true,
         "subplot": "mapbox",
         "type": "scattermapbox"
        },
        {
         "hovertemplate": "City=tyukalinsk<br>Lat=%{lat}<br>Lng=%{lon}<extra></extra>",
         "lat": [
          55.8732
         ],
         "legendgroup": "tyukalinsk",
         "lon": [
          72.1967
         ],
         "marker": {
          "color": "#19d3f3"
         },
         "mode": "markers",
         "name": "tyukalinsk",
         "showlegend": true,
         "subplot": "mapbox",
         "type": "scattermapbox"
        },
        {
         "hovertemplate": "City=goz beida<br>Lat=%{lat}<br>Lng=%{lon}<extra></extra>",
         "lat": [
          13.95
         ],
         "legendgroup": "goz beida",
         "lon": [
          20.55
         ],
         "marker": {
          "color": "#FF6692"
         },
         "mode": "markers",
         "name": "goz beida",
         "showlegend": true,
         "subplot": "mapbox",
         "type": "scattermapbox"
        },
        {
         "hovertemplate": "City=nuuk<br>Lat=%{lat}<br>Lng=%{lon}<extra></extra>",
         "lat": [
          64.1835
         ],
         "legendgroup": "nuuk",
         "lon": [
          -51.7216
         ],
         "marker": {
          "color": "#B6E880"
         },
         "mode": "markers",
         "name": "nuuk",
         "showlegend": true,
         "subplot": "mapbox",
         "type": "scattermapbox"
        },
        {
         "hovertemplate": "City=vorgashor<br>Lat=%{lat}<br>Lng=%{lon}<extra></extra>",
         "lat": [
          67.5833
         ],
         "legendgroup": "vorgashor",
         "lon": [
          63.95
         ],
         "marker": {
          "color": "#FF97FF"
         },
         "mode": "markers",
         "name": "vorgashor",
         "showlegend": true,
         "subplot": "mapbox",
         "type": "scattermapbox"
        },
        {
         "hovertemplate": "City=machico<br>Lat=%{lat}<br>Lng=%{lon}<extra></extra>",
         "lat": [
          32.7
         ],
         "legendgroup": "machico",
         "lon": [
          -16.7667
         ],
         "marker": {
          "color": "#FECB52"
         },
         "mode": "markers",
         "name": "machico",
         "showlegend": true,
         "subplot": "mapbox",
         "type": "scattermapbox"
        },
        {
         "hovertemplate": "City=kapuskasing<br>Lat=%{lat}<br>Lng=%{lon}<extra></extra>",
         "lat": [
          49.4169
         ],
         "legendgroup": "kapuskasing",
         "lon": [
          -82.4331
         ],
         "marker": {
          "color": "#636efa"
         },
         "mode": "markers",
         "name": "kapuskasing",
         "showlegend": true,
         "subplot": "mapbox",
         "type": "scattermapbox"
        },
        {
         "hovertemplate": "City=cabo san lucas<br>Lat=%{lat}<br>Lng=%{lon}<extra></extra>",
         "lat": [
          22.8909
         ],
         "legendgroup": "cabo san lucas",
         "lon": [
          -109.9124
         ],
         "marker": {
          "color": "#EF553B"
         },
         "mode": "markers",
         "name": "cabo san lucas",
         "showlegend": true,
         "subplot": "mapbox",
         "type": "scattermapbox"
        },
        {
         "hovertemplate": "City=kourou<br>Lat=%{lat}<br>Lng=%{lon}<extra></extra>",
         "lat": [
          5.1552
         ],
         "legendgroup": "kourou",
         "lon": [
          -52.6478
         ],
         "marker": {
          "color": "#00cc96"
         },
         "mode": "markers",
         "name": "kourou",
         "showlegend": true,
         "subplot": "mapbox",
         "type": "scattermapbox"
        },
        {
         "hovertemplate": "City=filadelfia<br>Lat=%{lat}<br>Lng=%{lon}<extra></extra>",
         "lat": [
          39.9523
         ],
         "legendgroup": "filadelfia",
         "lon": [
          -75.1638
         ],
         "marker": {
          "color": "#ab63fa"
         },
         "mode": "markers",
         "name": "filadelfia",
         "showlegend": true,
         "subplot": "mapbox",
         "type": "scattermapbox"
        },
        {
         "hovertemplate": "City=antofagasta<br>Lat=%{lat}<br>Lng=%{lon}<extra></extra>",
         "lat": [
          -23.65
         ],
         "legendgroup": "antofagasta",
         "lon": [
          -70.4
         ],
         "marker": {
          "color": "#FFA15A"
         },
         "mode": "markers",
         "name": "antofagasta",
         "showlegend": true,
         "subplot": "mapbox",
         "type": "scattermapbox"
        },
        {
         "hovertemplate": "City=presidente medici<br>Lat=%{lat}<br>Lng=%{lon}<extra></extra>",
         "lat": [
          -11.1753
         ],
         "legendgroup": "presidente medici",
         "lon": [
          -61.9014
         ],
         "marker": {
          "color": "#19d3f3"
         },
         "mode": "markers",
         "name": "presidente medici",
         "showlegend": true,
         "subplot": "mapbox",
         "type": "scattermapbox"
        },
        {
         "hovertemplate": "City=sattahip<br>Lat=%{lat}<br>Lng=%{lon}<extra></extra>",
         "lat": [
          12.6664
         ],
         "legendgroup": "sattahip",
         "lon": [
          100.9007
         ],
         "marker": {
          "color": "#FF6692"
         },
         "mode": "markers",
         "name": "sattahip",
         "showlegend": true,
         "subplot": "mapbox",
         "type": "scattermapbox"
        },
        {
         "hovertemplate": "City=togur<br>Lat=%{lat}<br>Lng=%{lon}<extra></extra>",
         "lat": [
          58.3631
         ],
         "legendgroup": "togur",
         "lon": [
          82.8265
         ],
         "marker": {
          "color": "#B6E880"
         },
         "mode": "markers",
         "name": "togur",
         "showlegend": true,
         "subplot": "mapbox",
         "type": "scattermapbox"
        },
        {
         "hovertemplate": "City=sarangani<br>Lat=%{lat}<br>Lng=%{lon}<extra></extra>",
         "lat": [
          5.4033
         ],
         "legendgroup": "sarangani",
         "lon": [
          125.4636
         ],
         "marker": {
          "color": "#FF97FF"
         },
         "mode": "markers",
         "name": "sarangani",
         "showlegend": true,
         "subplot": "mapbox",
         "type": "scattermapbox"
        },
        {
         "hovertemplate": "City=ihtiman<br>Lat=%{lat}<br>Lng=%{lon}<extra></extra>",
         "lat": [
          42.4333
         ],
         "legendgroup": "ihtiman",
         "lon": [
          23.8167
         ],
         "marker": {
          "color": "#FECB52"
         },
         "mode": "markers",
         "name": "ihtiman",
         "showlegend": true,
         "subplot": "mapbox",
         "type": "scattermapbox"
        },
        {
         "hovertemplate": "City=port lincoln<br>Lat=%{lat}<br>Lng=%{lon}<extra></extra>",
         "lat": [
          -34.7333
         ],
         "legendgroup": "port lincoln",
         "lon": [
          135.8667
         ],
         "marker": {
          "color": "#636efa"
         },
         "mode": "markers",
         "name": "port lincoln",
         "showlegend": true,
         "subplot": "mapbox",
         "type": "scattermapbox"
        },
        {
         "hovertemplate": "City=abhayapuri<br>Lat=%{lat}<br>Lng=%{lon}<extra></extra>",
         "lat": [
          26.3333
         ],
         "legendgroup": "abhayapuri",
         "lon": [
          90.6667
         ],
         "marker": {
          "color": "#EF553B"
         },
         "mode": "markers",
         "name": "abhayapuri",
         "showlegend": true,
         "subplot": "mapbox",
         "type": "scattermapbox"
        },
        {
         "hovertemplate": "City=makushino<br>Lat=%{lat}<br>Lng=%{lon}<extra></extra>",
         "lat": [
          55.2103
         ],
         "legendgroup": "makushino",
         "lon": [
          67.2442
         ],
         "marker": {
          "color": "#00cc96"
         },
         "mode": "markers",
         "name": "makushino",
         "showlegend": true,
         "subplot": "mapbox",
         "type": "scattermapbox"
        },
        {
         "hovertemplate": "City=banswara<br>Lat=%{lat}<br>Lng=%{lon}<extra></extra>",
         "lat": [
          23.55
         ],
         "legendgroup": "banswara",
         "lon": [
          74.45
         ],
         "marker": {
          "color": "#ab63fa"
         },
         "mode": "markers",
         "name": "banswara",
         "showlegend": true,
         "subplot": "mapbox",
         "type": "scattermapbox"
        },
        {
         "hovertemplate": "City=selfoss<br>Lat=%{lat}<br>Lng=%{lon}<extra></extra>",
         "lat": [
          63.9331
         ],
         "legendgroup": "selfoss",
         "lon": [
          -20.9971
         ],
         "marker": {
          "color": "#FFA15A"
         },
         "mode": "markers",
         "name": "selfoss",
         "showlegend": true,
         "subplot": "mapbox",
         "type": "scattermapbox"
        },
        {
         "hovertemplate": "City=sao tome<br>Lat=%{lat}<br>Lng=%{lon}<extra></extra>",
         "lat": [
          0.3365
         ],
         "legendgroup": "sao tome",
         "lon": [
          6.7273
         ],
         "marker": {
          "color": "#19d3f3"
         },
         "mode": "markers",
         "name": "sao tome",
         "showlegend": true,
         "subplot": "mapbox",
         "type": "scattermapbox"
        },
        {
         "hovertemplate": "City=santarem<br>Lat=%{lat}<br>Lng=%{lon}<extra></extra>",
         "lat": [
          -2.4431
         ],
         "legendgroup": "santarem",
         "lon": [
          -54.7083
         ],
         "marker": {
          "color": "#FF6692"
         },
         "mode": "markers",
         "name": "santarem",
         "showlegend": true,
         "subplot": "mapbox",
         "type": "scattermapbox"
        },
        {
         "hovertemplate": "City=maxcanu<br>Lat=%{lat}<br>Lng=%{lon}<extra></extra>",
         "lat": [
          20.5833
         ],
         "legendgroup": "maxcanu",
         "lon": [
          -89.9833
         ],
         "marker": {
          "color": "#B6E880"
         },
         "mode": "markers",
         "name": "maxcanu",
         "showlegend": true,
         "subplot": "mapbox",
         "type": "scattermapbox"
        },
        {
         "hovertemplate": "City=cururupu<br>Lat=%{lat}<br>Lng=%{lon}<extra></extra>",
         "lat": [
          -1.8283
         ],
         "legendgroup": "cururupu",
         "lon": [
          -44.8683
         ],
         "marker": {
          "color": "#FF97FF"
         },
         "mode": "markers",
         "name": "cururupu",
         "showlegend": true,
         "subplot": "mapbox",
         "type": "scattermapbox"
        },
        {
         "hovertemplate": "City=at taj<br>Lat=%{lat}<br>Lng=%{lon}<extra></extra>",
         "lat": [
          24.2049
         ],
         "legendgroup": "at taj",
         "lon": [
          23.2857
         ],
         "marker": {
          "color": "#FECB52"
         },
         "mode": "markers",
         "name": "at taj",
         "showlegend": true,
         "subplot": "mapbox",
         "type": "scattermapbox"
        },
        {
         "hovertemplate": "City=bengkulu<br>Lat=%{lat}<br>Lng=%{lon}<extra></extra>",
         "lat": [
          -3.8004
         ],
         "legendgroup": "bengkulu",
         "lon": [
          102.2655
         ],
         "marker": {
          "color": "#636efa"
         },
         "mode": "markers",
         "name": "bengkulu",
         "showlegend": true,
         "subplot": "mapbox",
         "type": "scattermapbox"
        },
        {
         "hovertemplate": "City=aral<br>Lat=%{lat}<br>Lng=%{lon}<extra></extra>",
         "lat": [
          40.5156
         ],
         "legendgroup": "aral",
         "lon": [
          81.2636
         ],
         "marker": {
          "color": "#EF553B"
         },
         "mode": "markers",
         "name": "aral",
         "showlegend": true,
         "subplot": "mapbox",
         "type": "scattermapbox"
        },
        {
         "hovertemplate": "City=northam<br>Lat=%{lat}<br>Lng=%{lon}<extra></extra>",
         "lat": [
          51.0333
         ],
         "legendgroup": "northam",
         "lon": [
          -4.2167
         ],
         "marker": {
          "color": "#00cc96"
         },
         "mode": "markers",
         "name": "northam",
         "showlegend": true,
         "subplot": "mapbox",
         "type": "scattermapbox"
        },
        {
         "hovertemplate": "City=ola<br>Lat=%{lat}<br>Lng=%{lon}<extra></extra>",
         "lat": [
          59.5833
         ],
         "legendgroup": "ola",
         "lon": [
          151.2833
         ],
         "marker": {
          "color": "#ab63fa"
         },
         "mode": "markers",
         "name": "ola",
         "showlegend": true,
         "subplot": "mapbox",
         "type": "scattermapbox"
        },
        {
         "hovertemplate": "City=ankazobe<br>Lat=%{lat}<br>Lng=%{lon}<extra></extra>",
         "lat": [
          -18.3167
         ],
         "legendgroup": "ankazobe",
         "lon": [
          47.1167
         ],
         "marker": {
          "color": "#FFA15A"
         },
         "mode": "markers",
         "name": "ankazobe",
         "showlegend": true,
         "subplot": "mapbox",
         "type": "scattermapbox"
        },
        {
         "hovertemplate": "City=mazamitla<br>Lat=%{lat}<br>Lng=%{lon}<extra></extra>",
         "lat": [
          19.9167
         ],
         "legendgroup": "mazamitla",
         "lon": [
          -103.0333
         ],
         "marker": {
          "color": "#19d3f3"
         },
         "mode": "markers",
         "name": "mazamitla",
         "showlegend": true,
         "subplot": "mapbox",
         "type": "scattermapbox"
        },
        {
         "hovertemplate": "City=cole harbour<br>Lat=%{lat}<br>Lng=%{lon}<extra></extra>",
         "lat": [
          44.6724
         ],
         "legendgroup": "cole harbour",
         "lon": [
          -63.4751
         ],
         "marker": {
          "color": "#FF6692"
         },
         "mode": "markers",
         "name": "cole harbour",
         "showlegend": true,
         "subplot": "mapbox",
         "type": "scattermapbox"
        },
        {
         "hovertemplate": "City=jayapura<br>Lat=%{lat}<br>Lng=%{lon}<extra></extra>",
         "lat": [
          -2.5333
         ],
         "legendgroup": "jayapura",
         "lon": [
          140.7
         ],
         "marker": {
          "color": "#B6E880"
         },
         "mode": "markers",
         "name": "jayapura",
         "showlegend": true,
         "subplot": "mapbox",
         "type": "scattermapbox"
        },
        {
         "hovertemplate": "City=igarka<br>Lat=%{lat}<br>Lng=%{lon}<extra></extra>",
         "lat": [
          67.4667
         ],
         "legendgroup": "igarka",
         "lon": [
          86.5833
         ],
         "marker": {
          "color": "#FF97FF"
         },
         "mode": "markers",
         "name": "igarka",
         "showlegend": true,
         "subplot": "mapbox",
         "type": "scattermapbox"
        },
        {
         "hovertemplate": "City=galesong<br>Lat=%{lat}<br>Lng=%{lon}<extra></extra>",
         "lat": [
          -5.3166
         ],
         "legendgroup": "galesong",
         "lon": [
          119.3661
         ],
         "marker": {
          "color": "#FECB52"
         },
         "mode": "markers",
         "name": "galesong",
         "showlegend": true,
         "subplot": "mapbox",
         "type": "scattermapbox"
        },
        {
         "hovertemplate": "City=vila velha<br>Lat=%{lat}<br>Lng=%{lon}<extra></extra>",
         "lat": [
          -20.3297
         ],
         "legendgroup": "vila velha",
         "lon": [
          -40.2925
         ],
         "marker": {
          "color": "#636efa"
         },
         "mode": "markers",
         "name": "vila velha",
         "showlegend": true,
         "subplot": "mapbox",
         "type": "scattermapbox"
        },
        {
         "hovertemplate": "City=chalons-en-champagne<br>Lat=%{lat}<br>Lng=%{lon}<extra></extra>",
         "lat": [
          48.9539
         ],
         "legendgroup": "chalons-en-champagne",
         "lon": [
          4.3672
         ],
         "marker": {
          "color": "#EF553B"
         },
         "mode": "markers",
         "name": "chalons-en-champagne",
         "showlegend": true,
         "subplot": "mapbox",
         "type": "scattermapbox"
        },
        {
         "hovertemplate": "City=severo-yeniseyskiy<br>Lat=%{lat}<br>Lng=%{lon}<extra></extra>",
         "lat": [
          60.3725
         ],
         "legendgroup": "severo-yeniseyskiy",
         "lon": [
          93.0408
         ],
         "marker": {
          "color": "#00cc96"
         },
         "mode": "markers",
         "name": "severo-yeniseyskiy",
         "showlegend": true,
         "subplot": "mapbox",
         "type": "scattermapbox"
        },
        {
         "hovertemplate": "City=nogliki<br>Lat=%{lat}<br>Lng=%{lon}<extra></extra>",
         "lat": [
          51.8333
         ],
         "legendgroup": "nogliki",
         "lon": [
          143.1667
         ],
         "marker": {
          "color": "#ab63fa"
         },
         "mode": "markers",
         "name": "nogliki",
         "showlegend": true,
         "subplot": "mapbox",
         "type": "scattermapbox"
        },
        {
         "hovertemplate": "City=cortland<br>Lat=%{lat}<br>Lng=%{lon}<extra></extra>",
         "lat": [
          42.6001
         ],
         "legendgroup": "cortland",
         "lon": [
          -76.083
         ],
         "marker": {
          "color": "#FFA15A"
         },
         "mode": "markers",
         "name": "cortland",
         "showlegend": true,
         "subplot": "mapbox",
         "type": "scattermapbox"
        },
        {
         "hovertemplate": "City=ayr<br>Lat=%{lat}<br>Lng=%{lon}<extra></extra>",
         "lat": [
          55.4627
         ],
         "legendgroup": "ayr",
         "lon": [
          -4.6339
         ],
         "marker": {
          "color": "#19d3f3"
         },
         "mode": "markers",
         "name": "ayr",
         "showlegend": true,
         "subplot": "mapbox",
         "type": "scattermapbox"
        },
        {
         "hovertemplate": "City=sayan<br>Lat=%{lat}<br>Lng=%{lon}<extra></extra>",
         "lat": [
          -11.1361
         ],
         "legendgroup": "sayan",
         "lon": [
          -77.1933
         ],
         "marker": {
          "color": "#FF6692"
         },
         "mode": "markers",
         "name": "sayan",
         "showlegend": true,
         "subplot": "mapbox",
         "type": "scattermapbox"
        },
        {
         "hovertemplate": "City=kavieng<br>Lat=%{lat}<br>Lng=%{lon}<extra></extra>",
         "lat": [
          -2.5744
         ],
         "legendgroup": "kavieng",
         "lon": [
          150.7967
         ],
         "marker": {
          "color": "#B6E880"
         },
         "mode": "markers",
         "name": "kavieng",
         "showlegend": true,
         "subplot": "mapbox",
         "type": "scattermapbox"
        },
        {
         "hovertemplate": "City=malango<br>Lat=%{lat}<br>Lng=%{lon}<extra></extra>",
         "lat": [
          -2.9627
         ],
         "legendgroup": "malango",
         "lon": [
          119.9001
         ],
         "marker": {
          "color": "#FF97FF"
         },
         "mode": "markers",
         "name": "malango",
         "showlegend": true,
         "subplot": "mapbox",
         "type": "scattermapbox"
        },
        {
         "hovertemplate": "City=nyala<br>Lat=%{lat}<br>Lng=%{lon}<extra></extra>",
         "lat": [
          12.05
         ],
         "legendgroup": "nyala",
         "lon": [
          24.8833
         ],
         "marker": {
          "color": "#FECB52"
         },
         "mode": "markers",
         "name": "nyala",
         "showlegend": true,
         "subplot": "mapbox",
         "type": "scattermapbox"
        },
        {
         "hovertemplate": "City=puerto boyaca<br>Lat=%{lat}<br>Lng=%{lon}<extra></extra>",
         "lat": [
          5.9758
         ],
         "legendgroup": "puerto boyaca",
         "lon": [
          -74.5885
         ],
         "marker": {
          "color": "#636efa"
         },
         "mode": "markers",
         "name": "puerto boyaca",
         "showlegend": true,
         "subplot": "mapbox",
         "type": "scattermapbox"
        },
        {
         "hovertemplate": "City=sur<br>Lat=%{lat}<br>Lng=%{lon}<extra></extra>",
         "lat": [
          22.5667
         ],
         "legendgroup": "sur",
         "lon": [
          59.5289
         ],
         "marker": {
          "color": "#EF553B"
         },
         "mode": "markers",
         "name": "sur",
         "showlegend": true,
         "subplot": "mapbox",
         "type": "scattermapbox"
        },
        {
         "hovertemplate": "City=revda<br>Lat=%{lat}<br>Lng=%{lon}<extra></extra>",
         "lat": [
          56.801
         ],
         "legendgroup": "revda",
         "lon": [
          59.9303
         ],
         "marker": {
          "color": "#00cc96"
         },
         "mode": "markers",
         "name": "revda",
         "showlegend": true,
         "subplot": "mapbox",
         "type": "scattermapbox"
        },
        {
         "hovertemplate": "City=flin flon<br>Lat=%{lat}<br>Lng=%{lon}<extra></extra>",
         "lat": [
          54.7682
         ],
         "legendgroup": "flin flon",
         "lon": [
          -101.865
         ],
         "marker": {
          "color": "#ab63fa"
         },
         "mode": "markers",
         "name": "flin flon",
         "showlegend": true,
         "subplot": "mapbox",
         "type": "scattermapbox"
        },
        {
         "hovertemplate": "City=macau<br>Lat=%{lat}<br>Lng=%{lon}<extra></extra>",
         "lat": [
          22.2006
         ],
         "legendgroup": "macau",
         "lon": [
          113.5461
         ],
         "marker": {
          "color": "#FFA15A"
         },
         "mode": "markers",
         "name": "macau",
         "showlegend": true,
         "subplot": "mapbox",
         "type": "scattermapbox"
        },
        {
         "hovertemplate": "City=mach<br>Lat=%{lat}<br>Lng=%{lon}<extra></extra>",
         "lat": [
          29.8637
         ],
         "legendgroup": "mach",
         "lon": [
          67.3298
         ],
         "marker": {
          "color": "#19d3f3"
         },
         "mode": "markers",
         "name": "mach",
         "showlegend": true,
         "subplot": "mapbox",
         "type": "scattermapbox"
        },
        {
         "hovertemplate": "City=san juan nepomuceno<br>Lat=%{lat}<br>Lng=%{lon}<extra></extra>",
         "lat": [
          9.9516
         ],
         "legendgroup": "san juan nepomuceno",
         "lon": [
          -75.082
         ],
         "marker": {
          "color": "#FF6692"
         },
         "mode": "markers",
         "name": "san juan nepomuceno",
         "showlegend": true,
         "subplot": "mapbox",
         "type": "scattermapbox"
        },
        {
         "hovertemplate": "City=vydrino<br>Lat=%{lat}<br>Lng=%{lon}<extra></extra>",
         "lat": [
          51.485
         ],
         "legendgroup": "vydrino",
         "lon": [
          104.8461
         ],
         "marker": {
          "color": "#B6E880"
         },
         "mode": "markers",
         "name": "vydrino",
         "showlegend": true,
         "subplot": "mapbox",
         "type": "scattermapbox"
        },
        {
         "hovertemplate": "City=fisterra<br>Lat=%{lat}<br>Lng=%{lon}<extra></extra>",
         "lat": [
          42.9049
         ],
         "legendgroup": "fisterra",
         "lon": [
          -9.2629
         ],
         "marker": {
          "color": "#FF97FF"
         },
         "mode": "markers",
         "name": "fisterra",
         "showlegend": true,
         "subplot": "mapbox",
         "type": "scattermapbox"
        },
        {
         "hovertemplate": "City=palikir - national government center<br>Lat=%{lat}<br>Lng=%{lon}<extra></extra>",
         "lat": [
          6.9248
         ],
         "legendgroup": "palikir - national government center",
         "lon": [
          158.1611
         ],
         "marker": {
          "color": "#FECB52"
         },
         "mode": "markers",
         "name": "palikir - national government center",
         "showlegend": true,
         "subplot": "mapbox",
         "type": "scattermapbox"
        },
        {
         "hovertemplate": "City=olyokminsk<br>Lat=%{lat}<br>Lng=%{lon}<extra></extra>",
         "lat": [
          60.3736
         ],
         "legendgroup": "olyokminsk",
         "lon": [
          120.4264
         ],
         "marker": {
          "color": "#636efa"
         },
         "mode": "markers",
         "name": "olyokminsk",
         "showlegend": true,
         "subplot": "mapbox",
         "type": "scattermapbox"
        },
        {
         "hovertemplate": "City=touros<br>Lat=%{lat}<br>Lng=%{lon}<extra></extra>",
         "lat": [
          -5.1989
         ],
         "legendgroup": "touros",
         "lon": [
          -35.4608
         ],
         "marker": {
          "color": "#EF553B"
         },
         "mode": "markers",
         "name": "touros",
         "showlegend": true,
         "subplot": "mapbox",
         "type": "scattermapbox"
        },
        {
         "hovertemplate": "City=fada<br>Lat=%{lat}<br>Lng=%{lon}<extra></extra>",
         "lat": [
          9.5667
         ],
         "legendgroup": "fada",
         "lon": [
          8.3
         ],
         "marker": {
          "color": "#00cc96"
         },
         "mode": "markers",
         "name": "fada",
         "showlegend": true,
         "subplot": "mapbox",
         "type": "scattermapbox"
        },
        {
         "hovertemplate": "City=fale old settlement<br>Lat=%{lat}<br>Lng=%{lon}<extra></extra>",
         "lat": [
          -9.3852
         ],
         "legendgroup": "fale old settlement",
         "lon": [
          -171.2468
         ],
         "marker": {
          "color": "#ab63fa"
         },
         "mode": "markers",
         "name": "fale old settlement",
         "showlegend": true,
         "subplot": "mapbox",
         "type": "scattermapbox"
        },
        {
         "hovertemplate": "City=lincoln city<br>Lat=%{lat}<br>Lng=%{lon}<extra></extra>",
         "lat": [
          44.9582
         ],
         "legendgroup": "lincoln city",
         "lon": [
          -124.0179
         ],
         "marker": {
          "color": "#FFA15A"
         },
         "mode": "markers",
         "name": "lincoln city",
         "showlegend": true,
         "subplot": "mapbox",
         "type": "scattermapbox"
        },
        {
         "hovertemplate": "City=pisco<br>Lat=%{lat}<br>Lng=%{lon}<extra></extra>",
         "lat": [
          -13.7
         ],
         "legendgroup": "pisco",
         "lon": [
          -76.2167
         ],
         "marker": {
          "color": "#19d3f3"
         },
         "mode": "markers",
         "name": "pisco",
         "showlegend": true,
         "subplot": "mapbox",
         "type": "scattermapbox"
        },
        {
         "hovertemplate": "City=kuta<br>Lat=%{lat}<br>Lng=%{lon}<extra></extra>",
         "lat": [
          -8.7233
         ],
         "legendgroup": "kuta",
         "lon": [
          115.1723
         ],
         "marker": {
          "color": "#FF6692"
         },
         "mode": "markers",
         "name": "kuta",
         "showlegend": true,
         "subplot": "mapbox",
         "type": "scattermapbox"
        },
        {
         "hovertemplate": "City=olinda<br>Lat=%{lat}<br>Lng=%{lon}<extra></extra>",
         "lat": [
          -8.0089
         ],
         "legendgroup": "olinda",
         "lon": [
          -34.8553
         ],
         "marker": {
          "color": "#B6E880"
         },
         "mode": "markers",
         "name": "olinda",
         "showlegend": true,
         "subplot": "mapbox",
         "type": "scattermapbox"
        },
        {
         "hovertemplate": "City=taoudenni<br>Lat=%{lat}<br>Lng=%{lon}<extra></extra>",
         "lat": [
          22.6783
         ],
         "legendgroup": "taoudenni",
         "lon": [
          -3.9836
         ],
         "marker": {
          "color": "#FF97FF"
         },
         "mode": "markers",
         "name": "taoudenni",
         "showlegend": true,
         "subplot": "mapbox",
         "type": "scattermapbox"
        },
        {
         "hovertemplate": "City=dakhla<br>Lat=%{lat}<br>Lng=%{lon}<extra></extra>",
         "lat": [
          23.6848
         ],
         "legendgroup": "dakhla",
         "lon": [
          -15.958
         ],
         "marker": {
          "color": "#FECB52"
         },
         "mode": "markers",
         "name": "dakhla",
         "showlegend": true,
         "subplot": "mapbox",
         "type": "scattermapbox"
        },
        {
         "hovertemplate": "City=jalapa<br>Lat=%{lat}<br>Lng=%{lon}<extra></extra>",
         "lat": [
          19.5333
         ],
         "legendgroup": "jalapa",
         "lon": [
          -96.9167
         ],
         "marker": {
          "color": "#636efa"
         },
         "mode": "markers",
         "name": "jalapa",
         "showlegend": true,
         "subplot": "mapbox",
         "type": "scattermapbox"
        },
        {
         "hovertemplate": "City=tomatlan<br>Lat=%{lat}<br>Lng=%{lon}<extra></extra>",
         "lat": [
          19.9333
         ],
         "legendgroup": "tomatlan",
         "lon": [
          -105.25
         ],
         "marker": {
          "color": "#EF553B"
         },
         "mode": "markers",
         "name": "tomatlan",
         "showlegend": true,
         "subplot": "mapbox",
         "type": "scattermapbox"
        },
        {
         "hovertemplate": "City=labrador city<br>Lat=%{lat}<br>Lng=%{lon}<extra></extra>",
         "lat": [
          52.9463
         ],
         "legendgroup": "labrador city",
         "lon": [
          -66.9114
         ],
         "marker": {
          "color": "#00cc96"
         },
         "mode": "markers",
         "name": "labrador city",
         "showlegend": true,
         "subplot": "mapbox",
         "type": "scattermapbox"
        },
        {
         "hovertemplate": "City=bodaybo<br>Lat=%{lat}<br>Lng=%{lon}<extra></extra>",
         "lat": [
          57.8506
         ],
         "legendgroup": "bodaybo",
         "lon": [
          114.1933
         ],
         "marker": {
          "color": "#ab63fa"
         },
         "mode": "markers",
         "name": "bodaybo",
         "showlegend": true,
         "subplot": "mapbox",
         "type": "scattermapbox"
        },
        {
         "hovertemplate": "City=saldanha<br>Lat=%{lat}<br>Lng=%{lon}<extra></extra>",
         "lat": [
          -33.0117
         ],
         "legendgroup": "saldanha",
         "lon": [
          17.9442
         ],
         "marker": {
          "color": "#FFA15A"
         },
         "mode": "markers",
         "name": "saldanha",
         "showlegend": true,
         "subplot": "mapbox",
         "type": "scattermapbox"
        },
        {
         "hovertemplate": "City=nemuro<br>Lat=%{lat}<br>Lng=%{lon}<extra></extra>",
         "lat": [
          43.3236
         ],
         "legendgroup": "nemuro",
         "lon": [
          145.575
         ],
         "marker": {
          "color": "#19d3f3"
         },
         "mode": "markers",
         "name": "nemuro",
         "showlegend": true,
         "subplot": "mapbox",
         "type": "scattermapbox"
        },
        {
         "hovertemplate": "City=ust-nera<br>Lat=%{lat}<br>Lng=%{lon}<extra></extra>",
         "lat": [
          64.5667
         ],
         "legendgroup": "ust-nera",
         "lon": [
          143.2
         ],
         "marker": {
          "color": "#FF6692"
         },
         "mode": "markers",
         "name": "ust-nera",
         "showlegend": true,
         "subplot": "mapbox",
         "type": "scattermapbox"
        },
        {
         "hovertemplate": "City=manokwari<br>Lat=%{lat}<br>Lng=%{lon}<extra></extra>",
         "lat": [
          -0.8667
         ],
         "legendgroup": "manokwari",
         "lon": [
          134.0833
         ],
         "marker": {
          "color": "#B6E880"
         },
         "mode": "markers",
         "name": "manokwari",
         "showlegend": true,
         "subplot": "mapbox",
         "type": "scattermapbox"
        },
        {
         "hovertemplate": "City=suntar<br>Lat=%{lat}<br>Lng=%{lon}<extra></extra>",
         "lat": [
          62.1444
         ],
         "legendgroup": "suntar",
         "lon": [
          117.6319
         ],
         "marker": {
          "color": "#FF97FF"
         },
         "mode": "markers",
         "name": "suntar",
         "showlegend": true,
         "subplot": "mapbox",
         "type": "scattermapbox"
        },
        {
         "hovertemplate": "City=east london<br>Lat=%{lat}<br>Lng=%{lon}<extra></extra>",
         "lat": [
          -33.0153
         ],
         "legendgroup": "east london",
         "lon": [
          27.9116
         ],
         "marker": {
          "color": "#FECB52"
         },
         "mode": "markers",
         "name": "east london",
         "showlegend": true,
         "subplot": "mapbox",
         "type": "scattermapbox"
        },
        {
         "hovertemplate": "City=villa de san antonio<br>Lat=%{lat}<br>Lng=%{lon}<extra></extra>",
         "lat": [
          14.3167
         ],
         "legendgroup": "villa de san antonio",
         "lon": [
          -87.6167
         ],
         "marker": {
          "color": "#636efa"
         },
         "mode": "markers",
         "name": "villa de san antonio",
         "showlegend": true,
         "subplot": "mapbox",
         "type": "scattermapbox"
        },
        {
         "hovertemplate": "City=ha'il<br>Lat=%{lat}<br>Lng=%{lon}<extra></extra>",
         "lat": [
          27.5219
         ],
         "legendgroup": "ha'il",
         "lon": [
          41.6907
         ],
         "marker": {
          "color": "#EF553B"
         },
         "mode": "markers",
         "name": "ha'il",
         "showlegend": true,
         "subplot": "mapbox",
         "type": "scattermapbox"
        },
        {
         "hovertemplate": "City=baiyin<br>Lat=%{lat}<br>Lng=%{lon}<extra></extra>",
         "lat": [
          36.5583
         ],
         "legendgroup": "baiyin",
         "lon": [
          104.2081
         ],
         "marker": {
          "color": "#00cc96"
         },
         "mode": "markers",
         "name": "baiyin",
         "showlegend": true,
         "subplot": "mapbox",
         "type": "scattermapbox"
        },
        {
         "hovertemplate": "City=san rafael del yuma<br>Lat=%{lat}<br>Lng=%{lon}<extra></extra>",
         "lat": [
          18.4299
         ],
         "legendgroup": "san rafael del yuma",
         "lon": [
          -68.6739
         ],
         "marker": {
          "color": "#ab63fa"
         },
         "mode": "markers",
         "name": "san rafael del yuma",
         "showlegend": true,
         "subplot": "mapbox",
         "type": "scattermapbox"
        },
        {
         "hovertemplate": "City=faya-largeau<br>Lat=%{lat}<br>Lng=%{lon}<extra></extra>",
         "lat": [
          17.9257
         ],
         "legendgroup": "faya-largeau",
         "lon": [
          19.1043
         ],
         "marker": {
          "color": "#FFA15A"
         },
         "mode": "markers",
         "name": "faya-largeau",
         "showlegend": true,
         "subplot": "mapbox",
         "type": "scattermapbox"
        },
        {
         "hovertemplate": "City=wanning<br>Lat=%{lat}<br>Lng=%{lon}<extra></extra>",
         "lat": [
          18.8003
         ],
         "legendgroup": "wanning",
         "lon": [
          110.3967
         ],
         "marker": {
          "color": "#19d3f3"
         },
         "mode": "markers",
         "name": "wanning",
         "showlegend": true,
         "subplot": "mapbox",
         "type": "scattermapbox"
        },
        {
         "hovertemplate": "City=tazovsky<br>Lat=%{lat}<br>Lng=%{lon}<extra></extra>",
         "lat": [
          67.4667
         ],
         "legendgroup": "tazovsky",
         "lon": [
          78.7
         ],
         "marker": {
          "color": "#FF6692"
         },
         "mode": "markers",
         "name": "tazovsky",
         "showlegend": true,
         "subplot": "mapbox",
         "type": "scattermapbox"
        },
        {
         "hovertemplate": "City=kisanga<br>Lat=%{lat}<br>Lng=%{lon}<extra></extra>",
         "lat": [
          -7.4362
         ],
         "legendgroup": "kisanga",
         "lon": [
          37.7034
         ],
         "marker": {
          "color": "#B6E880"
         },
         "mode": "markers",
         "name": "kisanga",
         "showlegend": true,
         "subplot": "mapbox",
         "type": "scattermapbox"
        },
        {
         "hovertemplate": "City=kafr ad dawwar<br>Lat=%{lat}<br>Lng=%{lon}<extra></extra>",
         "lat": [
          31.1339
         ],
         "legendgroup": "kafr ad dawwar",
         "lon": [
          30.1284
         ],
         "marker": {
          "color": "#FF97FF"
         },
         "mode": "markers",
         "name": "kafr ad dawwar",
         "showlegend": true,
         "subplot": "mapbox",
         "type": "scattermapbox"
        },
        {
         "hovertemplate": "City=weno<br>Lat=%{lat}<br>Lng=%{lon}<extra></extra>",
         "lat": [
          7.4515
         ],
         "legendgroup": "weno",
         "lon": [
          151.8468
         ],
         "marker": {
          "color": "#FECB52"
         },
         "mode": "markers",
         "name": "weno",
         "showlegend": true,
         "subplot": "mapbox",
         "type": "scattermapbox"
        },
        {
         "hovertemplate": "City=cromwell<br>Lat=%{lat}<br>Lng=%{lon}<extra></extra>",
         "lat": [
          41.5951
         ],
         "legendgroup": "cromwell",
         "lon": [
          -72.6454
         ],
         "marker": {
          "color": "#636efa"
         },
         "mode": "markers",
         "name": "cromwell",
         "showlegend": true,
         "subplot": "mapbox",
         "type": "scattermapbox"
        },
        {
         "hovertemplate": "City=badger<br>Lat=%{lat}<br>Lng=%{lon}<extra></extra>",
         "lat": [
          64.8
         ],
         "legendgroup": "badger",
         "lon": [
          -147.5333
         ],
         "marker": {
          "color": "#EF553B"
         },
         "mode": "markers",
         "name": "badger",
         "showlegend": true,
         "subplot": "mapbox",
         "type": "scattermapbox"
        },
        {
         "hovertemplate": "City=urumqi<br>Lat=%{lat}<br>Lng=%{lon}<extra></extra>",
         "lat": [
          43.801
         ],
         "legendgroup": "urumqi",
         "lon": [
          87.6005
         ],
         "marker": {
          "color": "#00cc96"
         },
         "mode": "markers",
         "name": "urumqi",
         "showlegend": true,
         "subplot": "mapbox",
         "type": "scattermapbox"
        },
        {
         "hovertemplate": "City=rio grande<br>Lat=%{lat}<br>Lng=%{lon}<extra></extra>",
         "lat": [
          -32.035
         ],
         "legendgroup": "rio grande",
         "lon": [
          -52.0986
         ],
         "marker": {
          "color": "#ab63fa"
         },
         "mode": "markers",
         "name": "rio grande",
         "showlegend": true,
         "subplot": "mapbox",
         "type": "scattermapbox"
        },
        {
         "hovertemplate": "City=rehoboth<br>Lat=%{lat}<br>Lng=%{lon}<extra></extra>",
         "lat": [
          -23.3167
         ],
         "legendgroup": "rehoboth",
         "lon": [
          17.0833
         ],
         "marker": {
          "color": "#FFA15A"
         },
         "mode": "markers",
         "name": "rehoboth",
         "showlegend": true,
         "subplot": "mapbox",
         "type": "scattermapbox"
        },
        {
         "hovertemplate": "City=marsabit<br>Lat=%{lat}<br>Lng=%{lon}<extra></extra>",
         "lat": [
          2.3284
         ],
         "legendgroup": "marsabit",
         "lon": [
          37.9899
         ],
         "marker": {
          "color": "#19d3f3"
         },
         "mode": "markers",
         "name": "marsabit",
         "showlegend": true,
         "subplot": "mapbox",
         "type": "scattermapbox"
        },
        {
         "hovertemplate": "City=manismata<br>Lat=%{lat}<br>Lng=%{lon}<extra></extra>",
         "lat": [
          -2.4667
         ],
         "legendgroup": "manismata",
         "lon": [
          111.0333
         ],
         "marker": {
          "color": "#FF6692"
         },
         "mode": "markers",
         "name": "manismata",
         "showlegend": true,
         "subplot": "mapbox",
         "type": "scattermapbox"
        },
        {
         "hovertemplate": "City=akjoujt<br>Lat=%{lat}<br>Lng=%{lon}<extra></extra>",
         "lat": [
          19.6969
         ],
         "legendgroup": "akjoujt",
         "lon": [
          -14.4164
         ],
         "marker": {
          "color": "#B6E880"
         },
         "mode": "markers",
         "name": "akjoujt",
         "showlegend": true,
         "subplot": "mapbox",
         "type": "scattermapbox"
        },
        {
         "hovertemplate": "City=kone<br>Lat=%{lat}<br>Lng=%{lon}<extra></extra>",
         "lat": [
          -21.0595
         ],
         "legendgroup": "kone",
         "lon": [
          164.8658
         ],
         "marker": {
          "color": "#FF97FF"
         },
         "mode": "markers",
         "name": "kone",
         "showlegend": true,
         "subplot": "mapbox",
         "type": "scattermapbox"
        },
        {
         "hovertemplate": "City=mount isa<br>Lat=%{lat}<br>Lng=%{lon}<extra></extra>",
         "lat": [
          -20.7333
         ],
         "legendgroup": "mount isa",
         "lon": [
          139.5
         ],
         "marker": {
          "color": "#FECB52"
         },
         "mode": "markers",
         "name": "mount isa",
         "showlegend": true,
         "subplot": "mapbox",
         "type": "scattermapbox"
        },
        {
         "hovertemplate": "City=kayar<br>Lat=%{lat}<br>Lng=%{lon}<extra></extra>",
         "lat": [
          14.9192
         ],
         "legendgroup": "kayar",
         "lon": [
          -17.1211
         ],
         "marker": {
          "color": "#636efa"
         },
         "mode": "markers",
         "name": "kayar",
         "showlegend": true,
         "subplot": "mapbox",
         "type": "scattermapbox"
        },
        {
         "hovertemplate": "City=shenjiamen<br>Lat=%{lat}<br>Lng=%{lon}<extra></extra>",
         "lat": [
          29.9576
         ],
         "legendgroup": "shenjiamen",
         "lon": [
          122.298
         ],
         "marker": {
          "color": "#EF553B"
         },
         "mode": "markers",
         "name": "shenjiamen",
         "showlegend": true,
         "subplot": "mapbox",
         "type": "scattermapbox"
        },
        {
         "hovertemplate": "City=terme<br>Lat=%{lat}<br>Lng=%{lon}<extra></extra>",
         "lat": [
          41.2092
         ],
         "legendgroup": "terme",
         "lon": [
          36.9739
         ],
         "marker": {
          "color": "#00cc96"
         },
         "mode": "markers",
         "name": "terme",
         "showlegend": true,
         "subplot": "mapbox",
         "type": "scattermapbox"
        },
        {
         "hovertemplate": "City=bairnsdale<br>Lat=%{lat}<br>Lng=%{lon}<extra></extra>",
         "lat": [
          -37.8333
         ],
         "legendgroup": "bairnsdale",
         "lon": [
          147.6167
         ],
         "marker": {
          "color": "#ab63fa"
         },
         "mode": "markers",
         "name": "bairnsdale",
         "showlegend": true,
         "subplot": "mapbox",
         "type": "scattermapbox"
        },
        {
         "hovertemplate": "City=umluj<br>Lat=%{lat}<br>Lng=%{lon}<extra></extra>",
         "lat": [
          25.0213
         ],
         "legendgroup": "umluj",
         "lon": [
          37.2685
         ],
         "marker": {
          "color": "#FFA15A"
         },
         "mode": "markers",
         "name": "umluj",
         "showlegend": true,
         "subplot": "mapbox",
         "type": "scattermapbox"
        },
        {
         "hovertemplate": "City=berezovyy<br>Lat=%{lat}<br>Lng=%{lon}<extra></extra>",
         "lat": [
          51.6667
         ],
         "legendgroup": "berezovyy",
         "lon": [
          135.7
         ],
         "marker": {
          "color": "#19d3f3"
         },
         "mode": "markers",
         "name": "berezovyy",
         "showlegend": true,
         "subplot": "mapbox",
         "type": "scattermapbox"
        },
        {
         "hovertemplate": "City=west island<br>Lat=%{lat}<br>Lng=%{lon}<extra></extra>",
         "lat": [
          -12.1568
         ],
         "legendgroup": "west island",
         "lon": [
          96.8225
         ],
         "marker": {
          "color": "#FF6692"
         },
         "mode": "markers",
         "name": "west island",
         "showlegend": true,
         "subplot": "mapbox",
         "type": "scattermapbox"
        },
        {
         "hovertemplate": "City=petrozavodsk<br>Lat=%{lat}<br>Lng=%{lon}<extra></extra>",
         "lat": [
          61.7849
         ],
         "legendgroup": "petrozavodsk",
         "lon": [
          34.3469
         ],
         "marker": {
          "color": "#B6E880"
         },
         "mode": "markers",
         "name": "petrozavodsk",
         "showlegend": true,
         "subplot": "mapbox",
         "type": "scattermapbox"
        },
        {
         "hovertemplate": "City=achit<br>Lat=%{lat}<br>Lng=%{lon}<extra></extra>",
         "lat": [
          56.7985
         ],
         "legendgroup": "achit",
         "lon": [
          57.8994
         ],
         "marker": {
          "color": "#FF97FF"
         },
         "mode": "markers",
         "name": "achit",
         "showlegend": true,
         "subplot": "mapbox",
         "type": "scattermapbox"
        },
        {
         "hovertemplate": "City=port isabel<br>Lat=%{lat}<br>Lng=%{lon}<extra></extra>",
         "lat": [
          26.0734
         ],
         "legendgroup": "port isabel",
         "lon": [
          -97.2086
         ],
         "marker": {
          "color": "#FECB52"
         },
         "mode": "markers",
         "name": "port isabel",
         "showlegend": true,
         "subplot": "mapbox",
         "type": "scattermapbox"
        },
        {
         "hovertemplate": "City=serhetabat<br>Lat=%{lat}<br>Lng=%{lon}<extra></extra>",
         "lat": [
          35.2799
         ],
         "legendgroup": "serhetabat",
         "lon": [
          62.3438
         ],
         "marker": {
          "color": "#636efa"
         },
         "mode": "markers",
         "name": "serhetabat",
         "showlegend": true,
         "subplot": "mapbox",
         "type": "scattermapbox"
        },
        {
         "hovertemplate": "City=salaga<br>Lat=%{lat}<br>Lng=%{lon}<extra></extra>",
         "lat": [
          8.5508
         ],
         "legendgroup": "salaga",
         "lon": [
          -0.5188
         ],
         "marker": {
          "color": "#EF553B"
         },
         "mode": "markers",
         "name": "salaga",
         "showlegend": true,
         "subplot": "mapbox",
         "type": "scattermapbox"
        },
        {
         "hovertemplate": "City=bandon<br>Lat=%{lat}<br>Lng=%{lon}<extra></extra>",
         "lat": [
          51.7469
         ],
         "legendgroup": "bandon",
         "lon": [
          -8.7425
         ],
         "marker": {
          "color": "#00cc96"
         },
         "mode": "markers",
         "name": "bandon",
         "showlegend": true,
         "subplot": "mapbox",
         "type": "scattermapbox"
        },
        {
         "hovertemplate": "City=saudarkrokur<br>Lat=%{lat}<br>Lng=%{lon}<extra></extra>",
         "lat": [
          65.7461
         ],
         "legendgroup": "saudarkrokur",
         "lon": [
          -19.6394
         ],
         "marker": {
          "color": "#ab63fa"
         },
         "mode": "markers",
         "name": "saudarkrokur",
         "showlegend": true,
         "subplot": "mapbox",
         "type": "scattermapbox"
        },
        {
         "hovertemplate": "City=malpe<br>Lat=%{lat}<br>Lng=%{lon}<extra></extra>",
         "lat": [
          13.35
         ],
         "legendgroup": "malpe",
         "lon": [
          74.7167
         ],
         "marker": {
          "color": "#FFA15A"
         },
         "mode": "markers",
         "name": "malpe",
         "showlegend": true,
         "subplot": "mapbox",
         "type": "scattermapbox"
        },
        {
         "hovertemplate": "City=puerto baquerizo moreno<br>Lat=%{lat}<br>Lng=%{lon}<extra></extra>",
         "lat": [
          -0.9
         ],
         "legendgroup": "puerto baquerizo moreno",
         "lon": [
          -89.6
         ],
         "marker": {
          "color": "#19d3f3"
         },
         "mode": "markers",
         "name": "puerto baquerizo moreno",
         "showlegend": true,
         "subplot": "mapbox",
         "type": "scattermapbox"
        },
        {
         "hovertemplate": "City=dolores<br>Lat=%{lat}<br>Lng=%{lon}<extra></extra>",
         "lat": [
          -36.3132
         ],
         "legendgroup": "dolores",
         "lon": [
          -57.6792
         ],
         "marker": {
          "color": "#FF6692"
         },
         "mode": "markers",
         "name": "dolores",
         "showlegend": true,
         "subplot": "mapbox",
         "type": "scattermapbox"
        },
        {
         "hovertemplate": "City=nefta<br>Lat=%{lat}<br>Lng=%{lon}<extra></extra>",
         "lat": [
          33.8731
         ],
         "legendgroup": "nefta",
         "lon": [
          7.8777
         ],
         "marker": {
          "color": "#B6E880"
         },
         "mode": "markers",
         "name": "nefta",
         "showlegend": true,
         "subplot": "mapbox",
         "type": "scattermapbox"
        },
        {
         "hovertemplate": "City=remire-montjoly<br>Lat=%{lat}<br>Lng=%{lon}<extra></extra>",
         "lat": [
          4.9167
         ],
         "legendgroup": "remire-montjoly",
         "lon": [
          -52.2667
         ],
         "marker": {
          "color": "#FF97FF"
         },
         "mode": "markers",
         "name": "remire-montjoly",
         "showlegend": true,
         "subplot": "mapbox",
         "type": "scattermapbox"
        },
        {
         "hovertemplate": "City=salinas<br>Lat=%{lat}<br>Lng=%{lon}<extra></extra>",
         "lat": [
          36.6777
         ],
         "legendgroup": "salinas",
         "lon": [
          -121.6555
         ],
         "marker": {
          "color": "#FECB52"
         },
         "mode": "markers",
         "name": "salinas",
         "showlegend": true,
         "subplot": "mapbox",
         "type": "scattermapbox"
        },
        {
         "hovertemplate": "City=emporia<br>Lat=%{lat}<br>Lng=%{lon}<extra></extra>",
         "lat": [
          38.4039
         ],
         "legendgroup": "emporia",
         "lon": [
          -96.1817
         ],
         "marker": {
          "color": "#636efa"
         },
         "mode": "markers",
         "name": "emporia",
         "showlegend": true,
         "subplot": "mapbox",
         "type": "scattermapbox"
        },
        {
         "hovertemplate": "City=east falmouth<br>Lat=%{lat}<br>Lng=%{lon}<extra></extra>",
         "lat": [
          41.5784
         ],
         "legendgroup": "east falmouth",
         "lon": [
          -70.5586
         ],
         "marker": {
          "color": "#EF553B"
         },
         "mode": "markers",
         "name": "east falmouth",
         "showlegend": true,
         "subplot": "mapbox",
         "type": "scattermapbox"
        },
        {
         "hovertemplate": "City=atar<br>Lat=%{lat}<br>Lng=%{lon}<extra></extra>",
         "lat": [
          20.5169
         ],
         "legendgroup": "atar",
         "lon": [
          -13.0499
         ],
         "marker": {
          "color": "#00cc96"
         },
         "mode": "markers",
         "name": "atar",
         "showlegend": true,
         "subplot": "mapbox",
         "type": "scattermapbox"
        },
        {
         "hovertemplate": "City=tangalle<br>Lat=%{lat}<br>Lng=%{lon}<extra></extra>",
         "lat": [
          6.024
         ],
         "legendgroup": "tangalle",
         "lon": [
          80.7911
         ],
         "marker": {
          "color": "#ab63fa"
         },
         "mode": "markers",
         "name": "tangalle",
         "showlegend": true,
         "subplot": "mapbox",
         "type": "scattermapbox"
        },
        {
         "hovertemplate": "City=mpongwe<br>Lat=%{lat}<br>Lng=%{lon}<extra></extra>",
         "lat": [
          -13.5091
         ],
         "legendgroup": "mpongwe",
         "lon": [
          28.155
         ],
         "marker": {
          "color": "#FFA15A"
         },
         "mode": "markers",
         "name": "mpongwe",
         "showlegend": true,
         "subplot": "mapbox",
         "type": "scattermapbox"
        },
        {
         "hovertemplate": "City=zhangjiajie<br>Lat=%{lat}<br>Lng=%{lon}<extra></extra>",
         "lat": [
          29.1294
         ],
         "legendgroup": "zhangjiajie",
         "lon": [
          110.4783
         ],
         "marker": {
          "color": "#19d3f3"
         },
         "mode": "markers",
         "name": "zhangjiajie",
         "showlegend": true,
         "subplot": "mapbox",
         "type": "scattermapbox"
        },
        {
         "hovertemplate": "City=arno<br>Lat=%{lat}<br>Lng=%{lon}<extra></extra>",
         "lat": [
          60.1167
         ],
         "legendgroup": "arno",
         "lon": [
          18.6333
         ],
         "marker": {
          "color": "#FF6692"
         },
         "mode": "markers",
         "name": "arno",
         "showlegend": true,
         "subplot": "mapbox",
         "type": "scattermapbox"
        },
        {
         "hovertemplate": "City=dawson creek<br>Lat=%{lat}<br>Lng=%{lon}<extra></extra>",
         "lat": [
          55.7666
         ],
         "legendgroup": "dawson creek",
         "lon": [
          -120.2362
         ],
         "marker": {
          "color": "#B6E880"
         },
         "mode": "markers",
         "name": "dawson creek",
         "showlegend": true,
         "subplot": "mapbox",
         "type": "scattermapbox"
        },
        {
         "hovertemplate": "City=soure<br>Lat=%{lat}<br>Lng=%{lon}<extra></extra>",
         "lat": [
          -0.7167
         ],
         "legendgroup": "soure",
         "lon": [
          -48.5233
         ],
         "marker": {
          "color": "#FF97FF"
         },
         "mode": "markers",
         "name": "soure",
         "showlegend": true,
         "subplot": "mapbox",
         "type": "scattermapbox"
        },
        {
         "hovertemplate": "City=olds<br>Lat=%{lat}<br>Lng=%{lon}<extra></extra>",
         "lat": [
          51.7834
         ],
         "legendgroup": "olds",
         "lon": [
          -114.102
         ],
         "marker": {
          "color": "#FECB52"
         },
         "mode": "markers",
         "name": "olds",
         "showlegend": true,
         "subplot": "mapbox",
         "type": "scattermapbox"
        },
        {
         "hovertemplate": "City=shibetsu<br>Lat=%{lat}<br>Lng=%{lon}<extra></extra>",
         "lat": [
          43.659
         ],
         "legendgroup": "shibetsu",
         "lon": [
          145.132
         ],
         "marker": {
          "color": "#636efa"
         },
         "mode": "markers",
         "name": "shibetsu",
         "showlegend": true,
         "subplot": "mapbox",
         "type": "scattermapbox"
        },
        {
         "hovertemplate": "City=egilsstadir<br>Lat=%{lat}<br>Lng=%{lon}<extra></extra>",
         "lat": [
          65.2653
         ],
         "legendgroup": "egilsstadir",
         "lon": [
          -14.3948
         ],
         "marker": {
          "color": "#EF553B"
         },
         "mode": "markers",
         "name": "egilsstadir",
         "showlegend": true,
         "subplot": "mapbox",
         "type": "scattermapbox"
        },
        {
         "hovertemplate": "City=malanje<br>Lat=%{lat}<br>Lng=%{lon}<extra></extra>",
         "lat": [
          -9.5402
         ],
         "legendgroup": "malanje",
         "lon": [
          16.341
         ],
         "marker": {
          "color": "#00cc96"
         },
         "mode": "markers",
         "name": "malanje",
         "showlegend": true,
         "subplot": "mapbox",
         "type": "scattermapbox"
        },
        {
         "hovertemplate": "City=viqueque<br>Lat=%{lat}<br>Lng=%{lon}<extra></extra>",
         "lat": [
          -8.8673
         ],
         "legendgroup": "viqueque",
         "lon": [
          126.3658
         ],
         "marker": {
          "color": "#ab63fa"
         },
         "mode": "markers",
         "name": "viqueque",
         "showlegend": true,
         "subplot": "mapbox",
         "type": "scattermapbox"
        },
        {
         "hovertemplate": "City=larache<br>Lat=%{lat}<br>Lng=%{lon}<extra></extra>",
         "lat": [
          35.1932
         ],
         "legendgroup": "larache",
         "lon": [
          -6.1557
         ],
         "marker": {
          "color": "#FFA15A"
         },
         "mode": "markers",
         "name": "larache",
         "showlegend": true,
         "subplot": "mapbox",
         "type": "scattermapbox"
        },
        {
         "hovertemplate": "City=tukrah<br>Lat=%{lat}<br>Lng=%{lon}<extra></extra>",
         "lat": [
          32.5341
         ],
         "legendgroup": "tukrah",
         "lon": [
          20.5791
         ],
         "marker": {
          "color": "#19d3f3"
         },
         "mode": "markers",
         "name": "tukrah",
         "showlegend": true,
         "subplot": "mapbox",
         "type": "scattermapbox"
        },
        {
         "hovertemplate": "City=midvagur<br>Lat=%{lat}<br>Lng=%{lon}<extra></extra>",
         "lat": [
          62.0511
         ],
         "legendgroup": "midvagur",
         "lon": [
          -7.1939
         ],
         "marker": {
          "color": "#FF6692"
         },
         "mode": "markers",
         "name": "midvagur",
         "showlegend": true,
         "subplot": "mapbox",
         "type": "scattermapbox"
        },
        {
         "hovertemplate": "City=teno<br>Lat=%{lat}<br>Lng=%{lon}<extra></extra>",
         "lat": [
          -34.8667
         ],
         "legendgroup": "teno",
         "lon": [
          -71.1833
         ],
         "marker": {
          "color": "#B6E880"
         },
         "mode": "markers",
         "name": "teno",
         "showlegend": true,
         "subplot": "mapbox",
         "type": "scattermapbox"
        },
        {
         "hovertemplate": "City=pariaman<br>Lat=%{lat}<br>Lng=%{lon}<extra></extra>",
         "lat": [
          -0.619
         ],
         "legendgroup": "pariaman",
         "lon": [
          100.12
         ],
         "marker": {
          "color": "#FF97FF"
         },
         "mode": "markers",
         "name": "pariaman",
         "showlegend": true,
         "subplot": "mapbox",
         "type": "scattermapbox"
        },
        {
         "hovertemplate": "City=colac<br>Lat=%{lat}<br>Lng=%{lon}<extra></extra>",
         "lat": [
          -38.3333
         ],
         "legendgroup": "colac",
         "lon": [
          143.5833
         ],
         "marker": {
          "color": "#FECB52"
         },
         "mode": "markers",
         "name": "colac",
         "showlegend": true,
         "subplot": "mapbox",
         "type": "scattermapbox"
        },
        {
         "hovertemplate": "City=lautoka<br>Lat=%{lat}<br>Lng=%{lon}<extra></extra>",
         "lat": [
          -17.6167
         ],
         "legendgroup": "lautoka",
         "lon": [
          177.4667
         ],
         "marker": {
          "color": "#636efa"
         },
         "mode": "markers",
         "name": "lautoka",
         "showlegend": true,
         "subplot": "mapbox",
         "type": "scattermapbox"
        },
        {
         "hovertemplate": "City=hasaki<br>Lat=%{lat}<br>Lng=%{lon}<extra></extra>",
         "lat": [
          35.7333
         ],
         "legendgroup": "hasaki",
         "lon": [
          140.8333
         ],
         "marker": {
          "color": "#EF553B"
         },
         "mode": "markers",
         "name": "hasaki",
         "showlegend": true,
         "subplot": "mapbox",
         "type": "scattermapbox"
        },
        {
         "hovertemplate": "City=sambava<br>Lat=%{lat}<br>Lng=%{lon}<extra></extra>",
         "lat": [
          -14.2667
         ],
         "legendgroup": "sambava",
         "lon": [
          50.1667
         ],
         "marker": {
          "color": "#00cc96"
         },
         "mode": "markers",
         "name": "sambava",
         "showlegend": true,
         "subplot": "mapbox",
         "type": "scattermapbox"
        },
        {
         "hovertemplate": "City=abepura<br>Lat=%{lat}<br>Lng=%{lon}<extra></extra>",
         "lat": [
          -2.6333
         ],
         "legendgroup": "abepura",
         "lon": [
          140.5833
         ],
         "marker": {
          "color": "#ab63fa"
         },
         "mode": "markers",
         "name": "abepura",
         "showlegend": true,
         "subplot": "mapbox",
         "type": "scattermapbox"
        },
        {
         "hovertemplate": "City=isangel<br>Lat=%{lat}<br>Lng=%{lon}<extra></extra>",
         "lat": [
          -19.55
         ],
         "legendgroup": "isangel",
         "lon": [
          169.2667
         ],
         "marker": {
          "color": "#FFA15A"
         },
         "mode": "markers",
         "name": "isangel",
         "showlegend": true,
         "subplot": "mapbox",
         "type": "scattermapbox"
        },
        {
         "hovertemplate": "City=fortuna<br>Lat=%{lat}<br>Lng=%{lon}<extra></extra>",
         "lat": [
          40.5982
         ],
         "legendgroup": "fortuna",
         "lon": [
          -124.1573
         ],
         "marker": {
          "color": "#19d3f3"
         },
         "mode": "markers",
         "name": "fortuna",
         "showlegend": true,
         "subplot": "mapbox",
         "type": "scattermapbox"
        },
        {
         "hovertemplate": "City=ambon<br>Lat=%{lat}<br>Lng=%{lon}<extra></extra>",
         "lat": [
          -3.6954
         ],
         "legendgroup": "ambon",
         "lon": [
          128.1814
         ],
         "marker": {
          "color": "#FF6692"
         },
         "mode": "markers",
         "name": "ambon",
         "showlegend": true,
         "subplot": "mapbox",
         "type": "scattermapbox"
        },
        {
         "hovertemplate": "City=porto seguro<br>Lat=%{lat}<br>Lng=%{lon}<extra></extra>",
         "lat": [
          -16.4497
         ],
         "legendgroup": "porto seguro",
         "lon": [
          -39.0647
         ],
         "marker": {
          "color": "#B6E880"
         },
         "mode": "markers",
         "name": "porto seguro",
         "showlegend": true,
         "subplot": "mapbox",
         "type": "scattermapbox"
        },
        {
         "hovertemplate": "City=chos malal<br>Lat=%{lat}<br>Lng=%{lon}<extra></extra>",
         "lat": [
          -37.3781
         ],
         "legendgroup": "chos malal",
         "lon": [
          -70.2709
         ],
         "marker": {
          "color": "#FF97FF"
         },
         "mode": "markers",
         "name": "chos malal",
         "showlegend": true,
         "subplot": "mapbox",
         "type": "scattermapbox"
        },
        {
         "hovertemplate": "City=quelimane<br>Lat=%{lat}<br>Lng=%{lon}<extra></extra>",
         "lat": [
          -17.8786
         ],
         "legendgroup": "quelimane",
         "lon": [
          36.8883
         ],
         "marker": {
          "color": "#FECB52"
         },
         "mode": "markers",
         "name": "quelimane",
         "showlegend": true,
         "subplot": "mapbox",
         "type": "scattermapbox"
        },
        {
         "hovertemplate": "City=champerico<br>Lat=%{lat}<br>Lng=%{lon}<extra></extra>",
         "lat": [
          14.3
         ],
         "legendgroup": "champerico",
         "lon": [
          -91.9167
         ],
         "marker": {
          "color": "#636efa"
         },
         "mode": "markers",
         "name": "champerico",
         "showlegend": true,
         "subplot": "mapbox",
         "type": "scattermapbox"
        },
        {
         "hovertemplate": "City=katsuura<br>Lat=%{lat}<br>Lng=%{lon}<extra></extra>",
         "lat": [
          35.1333
         ],
         "legendgroup": "katsuura",
         "lon": [
          140.3
         ],
         "marker": {
          "color": "#EF553B"
         },
         "mode": "markers",
         "name": "katsuura",
         "showlegend": true,
         "subplot": "mapbox",
         "type": "scattermapbox"
        },
        {
         "hovertemplate": "City=okayama<br>Lat=%{lat}<br>Lng=%{lon}<extra></extra>",
         "lat": [
          34.6617
         ],
         "legendgroup": "okayama",
         "lon": [
          133.935
         ],
         "marker": {
          "color": "#00cc96"
         },
         "mode": "markers",
         "name": "okayama",
         "showlegend": true,
         "subplot": "mapbox",
         "type": "scattermapbox"
        },
        {
         "hovertemplate": "City=kachia<br>Lat=%{lat}<br>Lng=%{lon}<extra></extra>",
         "lat": [
          9.8667
         ],
         "legendgroup": "kachia",
         "lon": [
          7.95
         ],
         "marker": {
          "color": "#ab63fa"
         },
         "mode": "markers",
         "name": "kachia",
         "showlegend": true,
         "subplot": "mapbox",
         "type": "scattermapbox"
        },
        {
         "hovertemplate": "City=kirakira<br>Lat=%{lat}<br>Lng=%{lon}<extra></extra>",
         "lat": [
          -10.4544
         ],
         "legendgroup": "kirakira",
         "lon": [
          161.9205
         ],
         "marker": {
          "color": "#FFA15A"
         },
         "mode": "markers",
         "name": "kirakira",
         "showlegend": true,
         "subplot": "mapbox",
         "type": "scattermapbox"
        },
        {
         "hovertemplate": "City=cove<br>Lat=%{lat}<br>Lng=%{lon}<extra></extra>",
         "lat": [
          7.221
         ],
         "legendgroup": "cove",
         "lon": [
          2.3402
         ],
         "marker": {
          "color": "#19d3f3"
         },
         "mode": "markers",
         "name": "cove",
         "showlegend": true,
         "subplot": "mapbox",
         "type": "scattermapbox"
        },
        {
         "hovertemplate": "City=ketchikan<br>Lat=%{lat}<br>Lng=%{lon}<extra></extra>",
         "lat": [
          55.3422
         ],
         "legendgroup": "ketchikan",
         "lon": [
          -131.6461
         ],
         "marker": {
          "color": "#FF6692"
         },
         "mode": "markers",
         "name": "ketchikan",
         "showlegend": true,
         "subplot": "mapbox",
         "type": "scattermapbox"
        },
        {
         "hovertemplate": "City=bacalar<br>Lat=%{lat}<br>Lng=%{lon}<extra></extra>",
         "lat": [
          18.6667
         ],
         "legendgroup": "bacalar",
         "lon": [
          -88.3833
         ],
         "marker": {
          "color": "#B6E880"
         },
         "mode": "markers",
         "name": "bacalar",
         "showlegend": true,
         "subplot": "mapbox",
         "type": "scattermapbox"
        },
        {
         "hovertemplate": "City=kigoma<br>Lat=%{lat}<br>Lng=%{lon}<extra></extra>",
         "lat": [
          -4.8769
         ],
         "legendgroup": "kigoma",
         "lon": [
          29.6267
         ],
         "marker": {
          "color": "#FF97FF"
         },
         "mode": "markers",
         "name": "kigoma",
         "showlegend": true,
         "subplot": "mapbox",
         "type": "scattermapbox"
        },
        {
         "hovertemplate": "City=tan-tan<br>Lat=%{lat}<br>Lng=%{lon}<extra></extra>",
         "lat": [
          28.438
         ],
         "legendgroup": "tan-tan",
         "lon": [
          -11.1032
         ],
         "marker": {
          "color": "#FECB52"
         },
         "mode": "markers",
         "name": "tan-tan",
         "showlegend": true,
         "subplot": "mapbox",
         "type": "scattermapbox"
        },
        {
         "hovertemplate": "City=qom<br>Lat=%{lat}<br>Lng=%{lon}<extra></extra>",
         "lat": [
          34.6401
         ],
         "legendgroup": "qom",
         "lon": [
          50.8764
         ],
         "marker": {
          "color": "#636efa"
         },
         "mode": "markers",
         "name": "qom",
         "showlegend": true,
         "subplot": "mapbox",
         "type": "scattermapbox"
        },
        {
         "hovertemplate": "City=tofol<br>Lat=%{lat}<br>Lng=%{lon}<extra></extra>",
         "lat": [
          5.3248
         ],
         "legendgroup": "tofol",
         "lon": [
          163.0078
         ],
         "marker": {
          "color": "#EF553B"
         },
         "mode": "markers",
         "name": "tofol",
         "showlegend": true,
         "subplot": "mapbox",
         "type": "scattermapbox"
        },
        {
         "hovertemplate": "City=bubaque<br>Lat=%{lat}<br>Lng=%{lon}<extra></extra>",
         "lat": [
          11.2833
         ],
         "legendgroup": "bubaque",
         "lon": [
          -15.8333
         ],
         "marker": {
          "color": "#00cc96"
         },
         "mode": "markers",
         "name": "bubaque",
         "showlegend": true,
         "subplot": "mapbox",
         "type": "scattermapbox"
        },
        {
         "hovertemplate": "City=balaipungut<br>Lat=%{lat}<br>Lng=%{lon}<extra></extra>",
         "lat": [
          1.05
         ],
         "legendgroup": "balaipungut",
         "lon": [
          101.2833
         ],
         "marker": {
          "color": "#ab63fa"
         },
         "mode": "markers",
         "name": "balaipungut",
         "showlegend": true,
         "subplot": "mapbox",
         "type": "scattermapbox"
        },
        {
         "hovertemplate": "City=grahamstown<br>Lat=%{lat}<br>Lng=%{lon}<extra></extra>",
         "lat": [
          -33.3042
         ],
         "legendgroup": "grahamstown",
         "lon": [
          26.5328
         ],
         "marker": {
          "color": "#FFA15A"
         },
         "mode": "markers",
         "name": "grahamstown",
         "showlegend": true,
         "subplot": "mapbox",
         "type": "scattermapbox"
        },
        {
         "hovertemplate": "City=puerto aysen<br>Lat=%{lat}<br>Lng=%{lon}<extra></extra>",
         "lat": [
          -45.4
         ],
         "legendgroup": "puerto aysen",
         "lon": [
          -72.7
         ],
         "marker": {
          "color": "#19d3f3"
         },
         "mode": "markers",
         "name": "puerto aysen",
         "showlegend": true,
         "subplot": "mapbox",
         "type": "scattermapbox"
        },
        {
         "hovertemplate": "City=mount gambier<br>Lat=%{lat}<br>Lng=%{lon}<extra></extra>",
         "lat": [
          -37.8333
         ],
         "legendgroup": "mount gambier",
         "lon": [
          140.7667
         ],
         "marker": {
          "color": "#FF6692"
         },
         "mode": "markers",
         "name": "mount gambier",
         "showlegend": true,
         "subplot": "mapbox",
         "type": "scattermapbox"
        },
        {
         "hovertemplate": "City=yinchuan<br>Lat=%{lat}<br>Lng=%{lon}<extra></extra>",
         "lat": [
          38.4681
         ],
         "legendgroup": "yinchuan",
         "lon": [
          106.2731
         ],
         "marker": {
          "color": "#B6E880"
         },
         "mode": "markers",
         "name": "yinchuan",
         "showlegend": true,
         "subplot": "mapbox",
         "type": "scattermapbox"
        },
        {
         "hovertemplate": "City=matola<br>Lat=%{lat}<br>Lng=%{lon}<extra></extra>",
         "lat": [
          -25.9622
         ],
         "legendgroup": "matola",
         "lon": [
          32.4589
         ],
         "marker": {
          "color": "#FF97FF"
         },
         "mode": "markers",
         "name": "matola",
         "showlegend": true,
         "subplot": "mapbox",
         "type": "scattermapbox"
        },
        {
         "hovertemplate": "City=mercedes<br>Lat=%{lat}<br>Lng=%{lon}<extra></extra>",
         "lat": [
          -34.6515
         ],
         "legendgroup": "mercedes",
         "lon": [
          -59.4307
         ],
         "marker": {
          "color": "#FECB52"
         },
         "mode": "markers",
         "name": "mercedes",
         "showlegend": true,
         "subplot": "mapbox",
         "type": "scattermapbox"
        },
        {
         "hovertemplate": "City=sidi khaled<br>Lat=%{lat}<br>Lng=%{lon}<extra></extra>",
         "lat": [
          34.387
         ],
         "legendgroup": "sidi khaled",
         "lon": [
          4.9879
         ],
         "marker": {
          "color": "#636efa"
         },
         "mode": "markers",
         "name": "sidi khaled",
         "showlegend": true,
         "subplot": "mapbox",
         "type": "scattermapbox"
        },
        {
         "hovertemplate": "City=puerto carreno<br>Lat=%{lat}<br>Lng=%{lon}<extra></extra>",
         "lat": [
          6.189
         ],
         "legendgroup": "puerto carreno",
         "lon": [
          -67.4859
         ],
         "marker": {
          "color": "#EF553B"
         },
         "mode": "markers",
         "name": "puerto carreno",
         "showlegend": true,
         "subplot": "mapbox",
         "type": "scattermapbox"
        },
        {
         "hovertemplate": "City=chibougamau<br>Lat=%{lat}<br>Lng=%{lon}<extra></extra>",
         "lat": [
          49.9168
         ],
         "legendgroup": "chibougamau",
         "lon": [
          -74.3659
         ],
         "marker": {
          "color": "#00cc96"
         },
         "mode": "markers",
         "name": "chibougamau",
         "showlegend": true,
         "subplot": "mapbox",
         "type": "scattermapbox"
        },
        {
         "hovertemplate": "City=nasice<br>Lat=%{lat}<br>Lng=%{lon}<extra></extra>",
         "lat": [
          45.4886
         ],
         "legendgroup": "nasice",
         "lon": [
          18.0878
         ],
         "marker": {
          "color": "#ab63fa"
         },
         "mode": "markers",
         "name": "nasice",
         "showlegend": true,
         "subplot": "mapbox",
         "type": "scattermapbox"
        },
        {
         "hovertemplate": "City=durham<br>Lat=%{lat}<br>Lng=%{lon}<extra></extra>",
         "lat": [
          36.0335
         ],
         "legendgroup": "durham",
         "lon": [
          -78.8664
         ],
         "marker": {
          "color": "#FFA15A"
         },
         "mode": "markers",
         "name": "durham",
         "showlegend": true,
         "subplot": "mapbox",
         "type": "scattermapbox"
        },
        {
         "hovertemplate": "City=ulsteinvik<br>Lat=%{lat}<br>Lng=%{lon}<extra></extra>",
         "lat": [
          62.3432
         ],
         "legendgroup": "ulsteinvik",
         "lon": [
          5.8487
         ],
         "marker": {
          "color": "#19d3f3"
         },
         "mode": "markers",
         "name": "ulsteinvik",
         "showlegend": true,
         "subplot": "mapbox",
         "type": "scattermapbox"
        },
        {
         "hovertemplate": "City=cacoal<br>Lat=%{lat}<br>Lng=%{lon}<extra></extra>",
         "lat": [
          -11.4386
         ],
         "legendgroup": "cacoal",
         "lon": [
          -61.4472
         ],
         "marker": {
          "color": "#FF6692"
         },
         "mode": "markers",
         "name": "cacoal",
         "showlegend": true,
         "subplot": "mapbox",
         "type": "scattermapbox"
        },
        {
         "hovertemplate": "City=atakpame<br>Lat=%{lat}<br>Lng=%{lon}<extra></extra>",
         "lat": [
          7.5333
         ],
         "legendgroup": "atakpame",
         "lon": [
          1.1333
         ],
         "marker": {
          "color": "#B6E880"
         },
         "mode": "markers",
         "name": "atakpame",
         "showlegend": true,
         "subplot": "mapbox",
         "type": "scattermapbox"
        },
        {
         "hovertemplate": "City=tirebolu<br>Lat=%{lat}<br>Lng=%{lon}<extra></extra>",
         "lat": [
          41.0069
         ],
         "legendgroup": "tirebolu",
         "lon": [
          38.8139
         ],
         "marker": {
          "color": "#FF97FF"
         },
         "mode": "markers",
         "name": "tirebolu",
         "showlegend": true,
         "subplot": "mapbox",
         "type": "scattermapbox"
        },
        {
         "hovertemplate": "City=cabaritan east<br>Lat=%{lat}<br>Lng=%{lon}<extra></extra>",
         "lat": [
          18.4206
         ],
         "legendgroup": "cabaritan east",
         "lon": [
          121.4897
         ],
         "marker": {
          "color": "#FECB52"
         },
         "mode": "markers",
         "name": "cabaritan east",
         "showlegend": true,
         "subplot": "mapbox",
         "type": "scattermapbox"
        },
        {
         "hovertemplate": "City=sansanne-mango<br>Lat=%{lat}<br>Lng=%{lon}<extra></extra>",
         "lat": [
          10.3592
         ],
         "legendgroup": "sansanne-mango",
         "lon": [
          0.4708
         ],
         "marker": {
          "color": "#636efa"
         },
         "mode": "markers",
         "name": "sansanne-mango",
         "showlegend": true,
         "subplot": "mapbox",
         "type": "scattermapbox"
        },
        {
         "hovertemplate": "City=larroque<br>Lat=%{lat}<br>Lng=%{lon}<extra></extra>",
         "lat": [
          -33.036
         ],
         "legendgroup": "larroque",
         "lon": [
          -59.0013
         ],
         "marker": {
          "color": "#EF553B"
         },
         "mode": "markers",
         "name": "larroque",
         "showlegend": true,
         "subplot": "mapbox",
         "type": "scattermapbox"
        },
        {
         "hovertemplate": "City=hobyo<br>Lat=%{lat}<br>Lng=%{lon}<extra></extra>",
         "lat": [
          5.3505
         ],
         "legendgroup": "hobyo",
         "lon": [
          48.5268
         ],
         "marker": {
          "color": "#00cc96"
         },
         "mode": "markers",
         "name": "hobyo",
         "showlegend": true,
         "subplot": "mapbox",
         "type": "scattermapbox"
        },
        {
         "hovertemplate": "City=benguela<br>Lat=%{lat}<br>Lng=%{lon}<extra></extra>",
         "lat": [
          -12.5763
         ],
         "legendgroup": "benguela",
         "lon": [
          13.4055
         ],
         "marker": {
          "color": "#ab63fa"
         },
         "mode": "markers",
         "name": "benguela",
         "showlegend": true,
         "subplot": "mapbox",
         "type": "scattermapbox"
        },
        {
         "hovertemplate": "City=nizhnesortymskiy<br>Lat=%{lat}<br>Lng=%{lon}<extra></extra>",
         "lat": [
          62.4397
         ],
         "legendgroup": "nizhnesortymskiy",
         "lon": [
          71.7603
         ],
         "marker": {
          "color": "#FFA15A"
         },
         "mode": "markers",
         "name": "nizhnesortymskiy",
         "showlegend": true,
         "subplot": "mapbox",
         "type": "scattermapbox"
        },
        {
         "hovertemplate": "City=kristiansund<br>Lat=%{lat}<br>Lng=%{lon}<extra></extra>",
         "lat": [
          63.1115
         ],
         "legendgroup": "kristiansund",
         "lon": [
          7.732
         ],
         "marker": {
          "color": "#19d3f3"
         },
         "mode": "markers",
         "name": "kristiansund",
         "showlegend": true,
         "subplot": "mapbox",
         "type": "scattermapbox"
        },
        {
         "hovertemplate": "City=arraial do cabo<br>Lat=%{lat}<br>Lng=%{lon}<extra></extra>",
         "lat": [
          -22.9661
         ],
         "legendgroup": "arraial do cabo",
         "lon": [
          -42.0278
         ],
         "marker": {
          "color": "#FF6692"
         },
         "mode": "markers",
         "name": "arraial do cabo",
         "showlegend": true,
         "subplot": "mapbox",
         "type": "scattermapbox"
        },
        {
         "hovertemplate": "City=fuglafjordur<br>Lat=%{lat}<br>Lng=%{lon}<extra></extra>",
         "lat": [
          62.244
         ],
         "legendgroup": "fuglafjordur",
         "lon": [
          -6.814
         ],
         "marker": {
          "color": "#B6E880"
         },
         "mode": "markers",
         "name": "fuglafjordur",
         "showlegend": true,
         "subplot": "mapbox",
         "type": "scattermapbox"
        },
        {
         "hovertemplate": "City=san patricio<br>Lat=%{lat}<br>Lng=%{lon}<extra></extra>",
         "lat": [
          28.017
         ],
         "legendgroup": "san patricio",
         "lon": [
          -97.5169
         ],
         "marker": {
          "color": "#FF97FF"
         },
         "mode": "markers",
         "name": "san patricio",
         "showlegend": true,
         "subplot": "mapbox",
         "type": "scattermapbox"
        },
        {
         "hovertemplate": "City=scarborough<br>Lat=%{lat}<br>Lng=%{lon}<extra></extra>",
         "lat": [
          54.2797
         ],
         "legendgroup": "scarborough",
         "lon": [
          -0.4044
         ],
         "marker": {
          "color": "#FECB52"
         },
         "mode": "markers",
         "name": "scarborough",
         "showlegend": true,
         "subplot": "mapbox",
         "type": "scattermapbox"
        },
        {
         "hovertemplate": "City=taroa<br>Lat=%{lat}<br>Lng=%{lon}<extra></extra>",
         "lat": [
          8.7058
         ],
         "legendgroup": "taroa",
         "lon": [
          171.2275
         ],
         "marker": {
          "color": "#636efa"
         },
         "mode": "markers",
         "name": "taroa",
         "showlegend": true,
         "subplot": "mapbox",
         "type": "scattermapbox"
        },
        {
         "hovertemplate": "City=seven pagodas<br>Lat=%{lat}<br>Lng=%{lon}<extra></extra>",
         "lat": [
          12.6264
         ],
         "legendgroup": "seven pagodas",
         "lon": [
          80.1722
         ],
         "marker": {
          "color": "#EF553B"
         },
         "mode": "markers",
         "name": "seven pagodas",
         "showlegend": true,
         "subplot": "mapbox",
         "type": "scattermapbox"
        },
        {
         "hovertemplate": "City=yenangyaung<br>Lat=%{lat}<br>Lng=%{lon}<extra></extra>",
         "lat": [
          20.4667
         ],
         "legendgroup": "yenangyaung",
         "lon": [
          94.8833
         ],
         "marker": {
          "color": "#00cc96"
         },
         "mode": "markers",
         "name": "yenangyaung",
         "showlegend": true,
         "subplot": "mapbox",
         "type": "scattermapbox"
        },
        {
         "hovertemplate": "City=la ronge<br>Lat=%{lat}<br>Lng=%{lon}<extra></extra>",
         "lat": [
          55.1001
         ],
         "legendgroup": "la ronge",
         "lon": [
          -105.2842
         ],
         "marker": {
          "color": "#ab63fa"
         },
         "mode": "markers",
         "name": "la ronge",
         "showlegend": true,
         "subplot": "mapbox",
         "type": "scattermapbox"
        },
        {
         "hovertemplate": "City=bin yauri<br>Lat=%{lat}<br>Lng=%{lon}<extra></extra>",
         "lat": [
          10.7823
         ],
         "legendgroup": "bin yauri",
         "lon": [
          4.8114
         ],
         "marker": {
          "color": "#FFA15A"
         },
         "mode": "markers",
         "name": "bin yauri",
         "showlegend": true,
         "subplot": "mapbox",
         "type": "scattermapbox"
        },
        {
         "hovertemplate": "City=bamboo flat<br>Lat=%{lat}<br>Lng=%{lon}<extra></extra>",
         "lat": [
          11.7
         ],
         "legendgroup": "bamboo flat",
         "lon": [
          92.7167
         ],
         "marker": {
          "color": "#19d3f3"
         },
         "mode": "markers",
         "name": "bamboo flat",
         "showlegend": true,
         "subplot": "mapbox",
         "type": "scattermapbox"
        },
        {
         "hovertemplate": "City=shumikha<br>Lat=%{lat}<br>Lng=%{lon}<extra></extra>",
         "lat": [
          55.2261
         ],
         "legendgroup": "shumikha",
         "lon": [
          63.2961
         ],
         "marker": {
          "color": "#FF6692"
         },
         "mode": "markers",
         "name": "shumikha",
         "showlegend": true,
         "subplot": "mapbox",
         "type": "scattermapbox"
        },
        {
         "hovertemplate": "City=arteche<br>Lat=%{lat}<br>Lng=%{lon}<extra></extra>",
         "lat": [
          12.2645
         ],
         "legendgroup": "arteche",
         "lon": [
          125.4048
         ],
         "marker": {
          "color": "#B6E880"
         },
         "mode": "markers",
         "name": "arteche",
         "showlegend": true,
         "subplot": "mapbox",
         "type": "scattermapbox"
        },
        {
         "hovertemplate": "City=antalaha<br>Lat=%{lat}<br>Lng=%{lon}<extra></extra>",
         "lat": [
          -14.9003
         ],
         "legendgroup": "antalaha",
         "lon": [
          50.2788
         ],
         "marker": {
          "color": "#FF97FF"
         },
         "mode": "markers",
         "name": "antalaha",
         "showlegend": true,
         "subplot": "mapbox",
         "type": "scattermapbox"
        },
        {
         "hovertemplate": "City=praia da vitoria<br>Lat=%{lat}<br>Lng=%{lon}<extra></extra>",
         "lat": [
          38.7333
         ],
         "legendgroup": "praia da vitoria",
         "lon": [
          -27.0667
         ],
         "marker": {
          "color": "#FECB52"
         },
         "mode": "markers",
         "name": "praia da vitoria",
         "showlegend": true,
         "subplot": "mapbox",
         "type": "scattermapbox"
        },
        {
         "hovertemplate": "City=dunedin<br>Lat=%{lat}<br>Lng=%{lon}<extra></extra>",
         "lat": [
          -45.8742
         ],
         "legendgroup": "dunedin",
         "lon": [
          170.5036
         ],
         "marker": {
          "color": "#636efa"
         },
         "mode": "markers",
         "name": "dunedin",
         "showlegend": true,
         "subplot": "mapbox",
         "type": "scattermapbox"
        },
        {
         "hovertemplate": "City=fort st. john<br>Lat=%{lat}<br>Lng=%{lon}<extra></extra>",
         "lat": [
          56.2499
         ],
         "legendgroup": "fort st. john",
         "lon": [
          -120.8529
         ],
         "marker": {
          "color": "#EF553B"
         },
         "mode": "markers",
         "name": "fort st. john",
         "showlegend": true,
         "subplot": "mapbox",
         "type": "scattermapbox"
        },
        {
         "hovertemplate": "City=el nido<br>Lat=%{lat}<br>Lng=%{lon}<extra></extra>",
         "lat": [
          11.1858
         ],
         "legendgroup": "el nido",
         "lon": [
          119.3956
         ],
         "marker": {
          "color": "#00cc96"
         },
         "mode": "markers",
         "name": "el nido",
         "showlegend": true,
         "subplot": "mapbox",
         "type": "scattermapbox"
        },
        {
         "hovertemplate": "City=hastings<br>Lat=%{lat}<br>Lng=%{lon}<extra></extra>",
         "lat": [
          50.8552
         ],
         "legendgroup": "hastings",
         "lon": [
          0.5729
         ],
         "marker": {
          "color": "#ab63fa"
         },
         "mode": "markers",
         "name": "hastings",
         "showlegend": true,
         "subplot": "mapbox",
         "type": "scattermapbox"
        },
        {
         "hovertemplate": "City=lospalos<br>Lat=%{lat}<br>Lng=%{lon}<extra></extra>",
         "lat": [
          -8.5186
         ],
         "legendgroup": "lospalos",
         "lon": [
          127.0025
         ],
         "marker": {
          "color": "#FFA15A"
         },
         "mode": "markers",
         "name": "lospalos",
         "showlegend": true,
         "subplot": "mapbox",
         "type": "scattermapbox"
        },
        {
         "hovertemplate": "City=sinan<br>Lat=%{lat}<br>Lng=%{lon}<extra></extra>",
         "lat": [
          34.8262
         ],
         "legendgroup": "sinan",
         "lon": [
          126.1086
         ],
         "marker": {
          "color": "#19d3f3"
         },
         "mode": "markers",
         "name": "sinan",
         "showlegend": true,
         "subplot": "mapbox",
         "type": "scattermapbox"
        },
        {
         "hovertemplate": "City=letlhakane<br>Lat=%{lat}<br>Lng=%{lon}<extra></extra>",
         "lat": [
          -21.4167
         ],
         "legendgroup": "letlhakane",
         "lon": [
          25.5833
         ],
         "marker": {
          "color": "#FF6692"
         },
         "mode": "markers",
         "name": "letlhakane",
         "showlegend": true,
         "subplot": "mapbox",
         "type": "scattermapbox"
        },
        {
         "hovertemplate": "City=chimoio<br>Lat=%{lat}<br>Lng=%{lon}<extra></extra>",
         "lat": [
          -19.1164
         ],
         "legendgroup": "chimoio",
         "lon": [
          33.4833
         ],
         "marker": {
          "color": "#B6E880"
         },
         "mode": "markers",
         "name": "chimoio",
         "showlegend": true,
         "subplot": "mapbox",
         "type": "scattermapbox"
        },
        {
         "hovertemplate": "City=buka<br>Lat=%{lat}<br>Lng=%{lon}<extra></extra>",
         "lat": [
          40.8108
         ],
         "legendgroup": "buka",
         "lon": [
          69.1986
         ],
         "marker": {
          "color": "#FF97FF"
         },
         "mode": "markers",
         "name": "buka",
         "showlegend": true,
         "subplot": "mapbox",
         "type": "scattermapbox"
        },
        {
         "hovertemplate": "City=adre<br>Lat=%{lat}<br>Lng=%{lon}<extra></extra>",
         "lat": [
          13.4667
         ],
         "legendgroup": "adre",
         "lon": [
          22.2
         ],
         "marker": {
          "color": "#FECB52"
         },
         "mode": "markers",
         "name": "adre",
         "showlegend": true,
         "subplot": "mapbox",
         "type": "scattermapbox"
        },
        {
         "hovertemplate": "City=meiganga<br>Lat=%{lat}<br>Lng=%{lon}<extra></extra>",
         "lat": [
          6.5167
         ],
         "legendgroup": "meiganga",
         "lon": [
          14.3
         ],
         "marker": {
          "color": "#636efa"
         },
         "mode": "markers",
         "name": "meiganga",
         "showlegend": true,
         "subplot": "mapbox",
         "type": "scattermapbox"
        },
        {
         "hovertemplate": "City=polla<br>Lat=%{lat}<br>Lng=%{lon}<extra></extra>",
         "lat": [
          40.5171
         ],
         "legendgroup": "polla",
         "lon": [
          15.498
         ],
         "marker": {
          "color": "#EF553B"
         },
         "mode": "markers",
         "name": "polla",
         "showlegend": true,
         "subplot": "mapbox",
         "type": "scattermapbox"
        },
        {
         "hovertemplate": "City=mumbwa<br>Lat=%{lat}<br>Lng=%{lon}<extra></extra>",
         "lat": [
          -14.9783
         ],
         "legendgroup": "mumbwa",
         "lon": [
          27.0619
         ],
         "marker": {
          "color": "#00cc96"
         },
         "mode": "markers",
         "name": "mumbwa",
         "showlegend": true,
         "subplot": "mapbox",
         "type": "scattermapbox"
        },
        {
         "hovertemplate": "City=yulinshi<br>Lat=%{lat}<br>Lng=%{lon}<extra></extra>",
         "lat": [
          38.2906
         ],
         "legendgroup": "yulinshi",
         "lon": [
          109.7494
         ],
         "marker": {
          "color": "#ab63fa"
         },
         "mode": "markers",
         "name": "yulinshi",
         "showlegend": true,
         "subplot": "mapbox",
         "type": "scattermapbox"
        },
        {
         "hovertemplate": "City=prince rupert<br>Lat=%{lat}<br>Lng=%{lon}<extra></extra>",
         "lat": [
          54.3161
         ],
         "legendgroup": "prince rupert",
         "lon": [
          -130.3201
         ],
         "marker": {
          "color": "#FFA15A"
         },
         "mode": "markers",
         "name": "prince rupert",
         "showlegend": true,
         "subplot": "mapbox",
         "type": "scattermapbox"
        },
        {
         "hovertemplate": "City=ocean city<br>Lat=%{lat}<br>Lng=%{lon}<extra></extra>",
         "lat": [
          39.2776
         ],
         "legendgroup": "ocean city",
         "lon": [
          -74.5746
         ],
         "marker": {
          "color": "#19d3f3"
         },
         "mode": "markers",
         "name": "ocean city",
         "showlegend": true,
         "subplot": "mapbox",
         "type": "scattermapbox"
        },
        {
         "hovertemplate": "City=mandalgovi<br>Lat=%{lat}<br>Lng=%{lon}<extra></extra>",
         "lat": [
          45.7625
         ],
         "legendgroup": "mandalgovi",
         "lon": [
          106.2708
         ],
         "marker": {
          "color": "#FF6692"
         },
         "mode": "markers",
         "name": "mandalgovi",
         "showlegend": true,
         "subplot": "mapbox",
         "type": "scattermapbox"
        },
        {
         "hovertemplate": "City=grootfontein<br>Lat=%{lat}<br>Lng=%{lon}<extra></extra>",
         "lat": [
          -19.5667
         ],
         "legendgroup": "grootfontein",
         "lon": [
          18.1167
         ],
         "marker": {
          "color": "#B6E880"
         },
         "mode": "markers",
         "name": "grootfontein",
         "showlegend": true,
         "subplot": "mapbox",
         "type": "scattermapbox"
        },
        {
         "hovertemplate": "City=kumeny<br>Lat=%{lat}<br>Lng=%{lon}<extra></extra>",
         "lat": [
          58.1089
         ],
         "legendgroup": "kumeny",
         "lon": [
          49.9161
         ],
         "marker": {
          "color": "#FF97FF"
         },
         "mode": "markers",
         "name": "kumeny",
         "showlegend": true,
         "subplot": "mapbox",
         "type": "scattermapbox"
        },
        {
         "hovertemplate": "City=ringkobing<br>Lat=%{lat}<br>Lng=%{lon}<extra></extra>",
         "lat": [
          56.0901
         ],
         "legendgroup": "ringkobing",
         "lon": [
          8.244
         ],
         "marker": {
          "color": "#FECB52"
         },
         "mode": "markers",
         "name": "ringkobing",
         "showlegend": true,
         "subplot": "mapbox",
         "type": "scattermapbox"
        },
        {
         "hovertemplate": "City=velikiye luki<br>Lat=%{lat}<br>Lng=%{lon}<extra></extra>",
         "lat": [
          56.34
         ],
         "legendgroup": "velikiye luki",
         "lon": [
          30.5452
         ],
         "marker": {
          "color": "#636efa"
         },
         "mode": "markers",
         "name": "velikiye luki",
         "showlegend": true,
         "subplot": "mapbox",
         "type": "scattermapbox"
        },
        {
         "hovertemplate": "City=keetmanshoop<br>Lat=%{lat}<br>Lng=%{lon}<extra></extra>",
         "lat": [
          -26.5833
         ],
         "legendgroup": "keetmanshoop",
         "lon": [
          18.1333
         ],
         "marker": {
          "color": "#EF553B"
         },
         "mode": "markers",
         "name": "keetmanshoop",
         "showlegend": true,
         "subplot": "mapbox",
         "type": "scattermapbox"
        },
        {
         "hovertemplate": "City=nova xavantina<br>Lat=%{lat}<br>Lng=%{lon}<extra></extra>",
         "lat": [
          -14.6667
         ],
         "legendgroup": "nova xavantina",
         "lon": [
          -52.35
         ],
         "marker": {
          "color": "#00cc96"
         },
         "mode": "markers",
         "name": "nova xavantina",
         "showlegend": true,
         "subplot": "mapbox",
         "type": "scattermapbox"
        },
        {
         "hovertemplate": "City=shindand<br>Lat=%{lat}<br>Lng=%{lon}<extra></extra>",
         "lat": [
          33.3029
         ],
         "legendgroup": "shindand",
         "lon": [
          62.1474
         ],
         "marker": {
          "color": "#ab63fa"
         },
         "mode": "markers",
         "name": "shindand",
         "showlegend": true,
         "subplot": "mapbox",
         "type": "scattermapbox"
        },
        {
         "hovertemplate": "City=hwange<br>Lat=%{lat}<br>Lng=%{lon}<extra></extra>",
         "lat": [
          -18.3693
         ],
         "legendgroup": "hwange",
         "lon": [
          26.5019
         ],
         "marker": {
          "color": "#FFA15A"
         },
         "mode": "markers",
         "name": "hwange",
         "showlegend": true,
         "subplot": "mapbox",
         "type": "scattermapbox"
        },
        {
         "hovertemplate": "City=kushiro<br>Lat=%{lat}<br>Lng=%{lon}<extra></extra>",
         "lat": [
          42.975
         ],
         "legendgroup": "kushiro",
         "lon": [
          144.3747
         ],
         "marker": {
          "color": "#19d3f3"
         },
         "mode": "markers",
         "name": "kushiro",
         "showlegend": true,
         "subplot": "mapbox",
         "type": "scattermapbox"
        },
        {
         "hovertemplate": "City=kibi<br>Lat=%{lat}<br>Lng=%{lon}<extra></extra>",
         "lat": [
          6.1649
         ],
         "legendgroup": "kibi",
         "lon": [
          -0.5538
         ],
         "marker": {
          "color": "#FF6692"
         },
         "mode": "markers",
         "name": "kibi",
         "showlegend": true,
         "subplot": "mapbox",
         "type": "scattermapbox"
        },
        {
         "hovertemplate": "City=urucara<br>Lat=%{lat}<br>Lng=%{lon}<extra></extra>",
         "lat": [
          -2.5364
         ],
         "legendgroup": "urucara",
         "lon": [
          -57.76
         ],
         "marker": {
          "color": "#B6E880"
         },
         "mode": "markers",
         "name": "urucara",
         "showlegend": true,
         "subplot": "mapbox",
         "type": "scattermapbox"
        },
        {
         "hovertemplate": "City=valle de la pascua<br>Lat=%{lat}<br>Lng=%{lon}<extra></extra>",
         "lat": [
          9.2155
         ],
         "legendgroup": "valle de la pascua",
         "lon": [
          -66.0073
         ],
         "marker": {
          "color": "#FF97FF"
         },
         "mode": "markers",
         "name": "valle de la pascua",
         "showlegend": true,
         "subplot": "mapbox",
         "type": "scattermapbox"
        },
        {
         "hovertemplate": "City=katabu<br>Lat=%{lat}<br>Lng=%{lon}<extra></extra>",
         "lat": [
          -4.9333
         ],
         "legendgroup": "katabu",
         "lon": [
          122.5167
         ],
         "marker": {
          "color": "#FECB52"
         },
         "mode": "markers",
         "name": "katabu",
         "showlegend": true,
         "subplot": "mapbox",
         "type": "scattermapbox"
        },
        {
         "hovertemplate": "City=kill devil hills<br>Lat=%{lat}<br>Lng=%{lon}<extra></extra>",
         "lat": [
          36.0307
         ],
         "legendgroup": "kill devil hills",
         "lon": [
          -75.676
         ],
         "marker": {
          "color": "#636efa"
         },
         "mode": "markers",
         "name": "kill devil hills",
         "showlegend": true,
         "subplot": "mapbox",
         "type": "scattermapbox"
        },
        {
         "hovertemplate": "City=la'ie<br>Lat=%{lat}<br>Lng=%{lon}<extra></extra>",
         "lat": [
          21.6477
         ],
         "legendgroup": "la'ie",
         "lon": [
          -157.9253
         ],
         "marker": {
          "color": "#EF553B"
         },
         "mode": "markers",
         "name": "la'ie",
         "showlegend": true,
         "subplot": "mapbox",
         "type": "scattermapbox"
        },
        {
         "hovertemplate": "City=atafu village<br>Lat=%{lat}<br>Lng=%{lon}<extra></extra>",
         "lat": [
          -8.5421
         ],
         "legendgroup": "atafu village",
         "lon": [
          -172.5159
         ],
         "marker": {
          "color": "#00cc96"
         },
         "mode": "markers",
         "name": "atafu village",
         "showlegend": true,
         "subplot": "mapbox",
         "type": "scattermapbox"
        },
        {
         "hovertemplate": "City=pundong<br>Lat=%{lat}<br>Lng=%{lon}<extra></extra>",
         "lat": [
          -7.9522
         ],
         "legendgroup": "pundong",
         "lon": [
          110.3486
         ],
         "marker": {
          "color": "#ab63fa"
         },
         "mode": "markers",
         "name": "pundong",
         "showlegend": true,
         "subplot": "mapbox",
         "type": "scattermapbox"
        },
        {
         "hovertemplate": "City=goure<br>Lat=%{lat}<br>Lng=%{lon}<extra></extra>",
         "lat": [
          13.9835
         ],
         "legendgroup": "goure",
         "lon": [
          10.2704
         ],
         "marker": {
          "color": "#FFA15A"
         },
         "mode": "markers",
         "name": "goure",
         "showlegend": true,
         "subplot": "mapbox",
         "type": "scattermapbox"
        },
        {
         "hovertemplate": "City=mafra<br>Lat=%{lat}<br>Lng=%{lon}<extra></extra>",
         "lat": [
          -26.1114
         ],
         "legendgroup": "mafra",
         "lon": [
          -49.8053
         ],
         "marker": {
          "color": "#19d3f3"
         },
         "mode": "markers",
         "name": "mafra",
         "showlegend": true,
         "subplot": "mapbox",
         "type": "scattermapbox"
        },
        {
         "hovertemplate": "City=ismailia<br>Lat=%{lat}<br>Lng=%{lon}<extra></extra>",
         "lat": [
          30.6043
         ],
         "legendgroup": "ismailia",
         "lon": [
          32.2723
         ],
         "marker": {
          "color": "#FF6692"
         },
         "mode": "markers",
         "name": "ismailia",
         "showlegend": true,
         "subplot": "mapbox",
         "type": "scattermapbox"
        },
        {
         "hovertemplate": "City=pierre<br>Lat=%{lat}<br>Lng=%{lon}<extra></extra>",
         "lat": [
          44.3683
         ],
         "legendgroup": "pierre",
         "lon": [
          -100.351
         ],
         "marker": {
          "color": "#B6E880"
         },
         "mode": "markers",
         "name": "pierre",
         "showlegend": true,
         "subplot": "mapbox",
         "type": "scattermapbox"
        },
        {
         "hovertemplate": "City=yuyao<br>Lat=%{lat}<br>Lng=%{lon}<extra></extra>",
         "lat": [
          30.05
         ],
         "legendgroup": "yuyao",
         "lon": [
          121.1494
         ],
         "marker": {
          "color": "#FF97FF"
         },
         "mode": "markers",
         "name": "yuyao",
         "showlegend": true,
         "subplot": "mapbox",
         "type": "scattermapbox"
        },
        {
         "hovertemplate": "City=sao paulo de olivenca<br>Lat=%{lat}<br>Lng=%{lon}<extra></extra>",
         "lat": [
          -3.3783
         ],
         "legendgroup": "sao paulo de olivenca",
         "lon": [
          -68.8725
         ],
         "marker": {
          "color": "#FECB52"
         },
         "mode": "markers",
         "name": "sao paulo de olivenca",
         "showlegend": true,
         "subplot": "mapbox",
         "type": "scattermapbox"
        },
        {
         "hovertemplate": "City=challapata<br>Lat=%{lat}<br>Lng=%{lon}<extra></extra>",
         "lat": [
          -18.9
         ],
         "legendgroup": "challapata",
         "lon": [
          -66.7667
         ],
         "marker": {
          "color": "#636efa"
         },
         "mode": "markers",
         "name": "challapata",
         "showlegend": true,
         "subplot": "mapbox",
         "type": "scattermapbox"
        },
        {
         "hovertemplate": "City=huarmey<br>Lat=%{lat}<br>Lng=%{lon}<extra></extra>",
         "lat": [
          -10.0681
         ],
         "legendgroup": "huarmey",
         "lon": [
          -78.1522
         ],
         "marker": {
          "color": "#EF553B"
         },
         "mode": "markers",
         "name": "huarmey",
         "showlegend": true,
         "subplot": "mapbox",
         "type": "scattermapbox"
        },
        {
         "hovertemplate": "City=bel ombre<br>Lat=%{lat}<br>Lng=%{lon}<extra></extra>",
         "lat": [
          -4.6167
         ],
         "legendgroup": "bel ombre",
         "lon": [
          55.4167
         ],
         "marker": {
          "color": "#00cc96"
         },
         "mode": "markers",
         "name": "bel ombre",
         "showlegend": true,
         "subplot": "mapbox",
         "type": "scattermapbox"
        },
        {
         "hovertemplate": "City=khilok<br>Lat=%{lat}<br>Lng=%{lon}<extra></extra>",
         "lat": [
          51.3674
         ],
         "legendgroup": "khilok",
         "lon": [
          110.4676
         ],
         "marker": {
          "color": "#ab63fa"
         },
         "mode": "markers",
         "name": "khilok",
         "showlegend": true,
         "subplot": "mapbox",
         "type": "scattermapbox"
        },
        {
         "hovertemplate": "City=kuraymah<br>Lat=%{lat}<br>Lng=%{lon}<extra></extra>",
         "lat": [
          18.55
         ],
         "legendgroup": "kuraymah",
         "lon": [
          31.85
         ],
         "marker": {
          "color": "#FFA15A"
         },
         "mode": "markers",
         "name": "kuraymah",
         "showlegend": true,
         "subplot": "mapbox",
         "type": "scattermapbox"
        },
        {
         "hovertemplate": "City=kralendijk<br>Lat=%{lat}<br>Lng=%{lon}<extra></extra>",
         "lat": [
          12.15
         ],
         "legendgroup": "kralendijk",
         "lon": [
          -68.2667
         ],
         "marker": {
          "color": "#19d3f3"
         },
         "mode": "markers",
         "name": "kralendijk",
         "showlegend": true,
         "subplot": "mapbox",
         "type": "scattermapbox"
        },
        {
         "hovertemplate": "City=sao jose da coroa grande<br>Lat=%{lat}<br>Lng=%{lon}<extra></extra>",
         "lat": [
          -8.8978
         ],
         "legendgroup": "sao jose da coroa grande",
         "lon": [
          -35.1478
         ],
         "marker": {
          "color": "#FF6692"
         },
         "mode": "markers",
         "name": "sao jose da coroa grande",
         "showlegend": true,
         "subplot": "mapbox",
         "type": "scattermapbox"
        },
        {
         "hovertemplate": "City=pacific grove<br>Lat=%{lat}<br>Lng=%{lon}<extra></extra>",
         "lat": [
          36.6177
         ],
         "legendgroup": "pacific grove",
         "lon": [
          -121.9166
         ],
         "marker": {
          "color": "#B6E880"
         },
         "mode": "markers",
         "name": "pacific grove",
         "showlegend": true,
         "subplot": "mapbox",
         "type": "scattermapbox"
        },
        {
         "hovertemplate": "City=puerto deseado<br>Lat=%{lat}<br>Lng=%{lon}<extra></extra>",
         "lat": [
          -47.7503
         ],
         "legendgroup": "puerto deseado",
         "lon": [
          -65.8938
         ],
         "marker": {
          "color": "#FF97FF"
         },
         "mode": "markers",
         "name": "puerto deseado",
         "showlegend": true,
         "subplot": "mapbox",
         "type": "scattermapbox"
        },
        {
         "hovertemplate": "City=soio<br>Lat=%{lat}<br>Lng=%{lon}<extra></extra>",
         "lat": [
          -6.1349
         ],
         "legendgroup": "soio",
         "lon": [
          12.3689
         ],
         "marker": {
          "color": "#FECB52"
         },
         "mode": "markers",
         "name": "soio",
         "showlegend": true,
         "subplot": "mapbox",
         "type": "scattermapbox"
        },
        {
         "hovertemplate": "City=fort bragg<br>Lat=%{lat}<br>Lng=%{lon}<extra></extra>",
         "lat": [
          35.139
         ],
         "legendgroup": "fort bragg",
         "lon": [
          -79.006
         ],
         "marker": {
          "color": "#636efa"
         },
         "mode": "markers",
         "name": "fort bragg",
         "showlegend": true,
         "subplot": "mapbox",
         "type": "scattermapbox"
        },
        {
         "hovertemplate": "City=megion<br>Lat=%{lat}<br>Lng=%{lon}<extra></extra>",
         "lat": [
          61.0296
         ],
         "legendgroup": "megion",
         "lon": [
          76.1136
         ],
         "marker": {
          "color": "#EF553B"
         },
         "mode": "markers",
         "name": "megion",
         "showlegend": true,
         "subplot": "mapbox",
         "type": "scattermapbox"
        },
        {
         "hovertemplate": "City=kununurra<br>Lat=%{lat}<br>Lng=%{lon}<extra></extra>",
         "lat": [
          -15.7667
         ],
         "legendgroup": "kununurra",
         "lon": [
          128.7333
         ],
         "marker": {
          "color": "#00cc96"
         },
         "mode": "markers",
         "name": "kununurra",
         "showlegend": true,
         "subplot": "mapbox",
         "type": "scattermapbox"
        },
        {
         "hovertemplate": "City=usogorsk<br>Lat=%{lat}<br>Lng=%{lon}<extra></extra>",
         "lat": [
          63.4106
         ],
         "legendgroup": "usogorsk",
         "lon": [
          48.6872
         ],
         "marker": {
          "color": "#ab63fa"
         },
         "mode": "markers",
         "name": "usogorsk",
         "showlegend": true,
         "subplot": "mapbox",
         "type": "scattermapbox"
        },
        {
         "hovertemplate": "City=carutapera<br>Lat=%{lat}<br>Lng=%{lon}<extra></extra>",
         "lat": [
          -1.195
         ],
         "legendgroup": "carutapera",
         "lon": [
          -46.02
         ],
         "marker": {
          "color": "#FFA15A"
         },
         "mode": "markers",
         "name": "carutapera",
         "showlegend": true,
         "subplot": "mapbox",
         "type": "scattermapbox"
        },
        {
         "hovertemplate": "City=duyun<br>Lat=%{lat}<br>Lng=%{lon}<extra></extra>",
         "lat": [
          26.2667
         ],
         "legendgroup": "duyun",
         "lon": [
          107.5167
         ],
         "marker": {
          "color": "#19d3f3"
         },
         "mode": "markers",
         "name": "duyun",
         "showlegend": true,
         "subplot": "mapbox",
         "type": "scattermapbox"
        },
        {
         "hovertemplate": "City=tengrela<br>Lat=%{lat}<br>Lng=%{lon}<extra></extra>",
         "lat": [
          10.4869
         ],
         "legendgroup": "tengrela",
         "lon": [
          -6.4097
         ],
         "marker": {
          "color": "#FF6692"
         },
         "mode": "markers",
         "name": "tengrela",
         "showlegend": true,
         "subplot": "mapbox",
         "type": "scattermapbox"
        },
        {
         "hovertemplate": "City=leninskoye<br>Lat=%{lat}<br>Lng=%{lon}<extra></extra>",
         "lat": [
          41.7589
         ],
         "legendgroup": "leninskoye",
         "lon": [
          69.3864
         ],
         "marker": {
          "color": "#B6E880"
         },
         "mode": "markers",
         "name": "leninskoye",
         "showlegend": true,
         "subplot": "mapbox",
         "type": "scattermapbox"
        },
        {
         "hovertemplate": "City=krasnoyarsk<br>Lat=%{lat}<br>Lng=%{lon}<extra></extra>",
         "lat": [
          56.0097
         ],
         "legendgroup": "krasnoyarsk",
         "lon": [
          92.7917
         ],
         "marker": {
          "color": "#FF97FF"
         },
         "mode": "markers",
         "name": "krasnoyarsk",
         "showlegend": true,
         "subplot": "mapbox",
         "type": "scattermapbox"
        },
        {
         "hovertemplate": "City=santa cruz<br>Lat=%{lat}<br>Lng=%{lon}<extra></extra>",
         "lat": [
          -17.8
         ],
         "legendgroup": "santa cruz",
         "lon": [
          -63.1667
         ],
         "marker": {
          "color": "#FECB52"
         },
         "mode": "markers",
         "name": "santa cruz",
         "showlegend": true,
         "subplot": "mapbox",
         "type": "scattermapbox"
        },
        {
         "hovertemplate": "City=the pas<br>Lat=%{lat}<br>Lng=%{lon}<extra></extra>",
         "lat": [
          53.8251
         ],
         "legendgroup": "the pas",
         "lon": [
          -101.2541
         ],
         "marker": {
          "color": "#636efa"
         },
         "mode": "markers",
         "name": "the pas",
         "showlegend": true,
         "subplot": "mapbox",
         "type": "scattermapbox"
        },
        {
         "hovertemplate": "City=midoun<br>Lat=%{lat}<br>Lng=%{lon}<extra></extra>",
         "lat": [
          33.8081
         ],
         "legendgroup": "midoun",
         "lon": [
          10.9923
         ],
         "marker": {
          "color": "#EF553B"
         },
         "mode": "markers",
         "name": "midoun",
         "showlegend": true,
         "subplot": "mapbox",
         "type": "scattermapbox"
        },
        {
         "hovertemplate": "City=waliso<br>Lat=%{lat}<br>Lng=%{lon}<extra></extra>",
         "lat": [
          8.5333
         ],
         "legendgroup": "waliso",
         "lon": [
          37.9833
         ],
         "marker": {
          "color": "#00cc96"
         },
         "mode": "markers",
         "name": "waliso",
         "showlegend": true,
         "subplot": "mapbox",
         "type": "scattermapbox"
        },
        {
         "hovertemplate": "City=zeya<br>Lat=%{lat}<br>Lng=%{lon}<extra></extra>",
         "lat": [
          53.75
         ],
         "legendgroup": "zeya",
         "lon": [
          127.2667
         ],
         "marker": {
          "color": "#ab63fa"
         },
         "mode": "markers",
         "name": "zeya",
         "showlegend": true,
         "subplot": "mapbox",
         "type": "scattermapbox"
        },
        {
         "hovertemplate": "City=lewiston orchards<br>Lat=%{lat}<br>Lng=%{lon}<extra></extra>",
         "lat": [
          46.3804
         ],
         "legendgroup": "lewiston orchards",
         "lon": [
          -116.9754
         ],
         "marker": {
          "color": "#FFA15A"
         },
         "mode": "markers",
         "name": "lewiston orchards",
         "showlegend": true,
         "subplot": "mapbox",
         "type": "scattermapbox"
        },
        {
         "hovertemplate": "City=charters towers<br>Lat=%{lat}<br>Lng=%{lon}<extra></extra>",
         "lat": [
          -20.1
         ],
         "legendgroup": "charters towers",
         "lon": [
          146.2667
         ],
         "marker": {
          "color": "#19d3f3"
         },
         "mode": "markers",
         "name": "charters towers",
         "showlegend": true,
         "subplot": "mapbox",
         "type": "scattermapbox"
        },
        {
         "hovertemplate": "City=san agustin de valle fertil<br>Lat=%{lat}<br>Lng=%{lon}<extra></extra>",
         "lat": [
          -30.6335
         ],
         "legendgroup": "san agustin de valle fertil",
         "lon": [
          -67.4682
         ],
         "marker": {
          "color": "#FF6692"
         },
         "mode": "markers",
         "name": "san agustin de valle fertil",
         "showlegend": true,
         "subplot": "mapbox",
         "type": "scattermapbox"
        },
        {
         "hovertemplate": "City=la sarre<br>Lat=%{lat}<br>Lng=%{lon}<extra></extra>",
         "lat": [
          48.8002
         ],
         "legendgroup": "la sarre",
         "lon": [
          -79.1996
         ],
         "marker": {
          "color": "#B6E880"
         },
         "mode": "markers",
         "name": "la sarre",
         "showlegend": true,
         "subplot": "mapbox",
         "type": "scattermapbox"
        },
        {
         "hovertemplate": "City=kondoa<br>Lat=%{lat}<br>Lng=%{lon}<extra></extra>",
         "lat": [
          -4.9
         ],
         "legendgroup": "kondoa",
         "lon": [
          35.7833
         ],
         "marker": {
          "color": "#FF97FF"
         },
         "mode": "markers",
         "name": "kondoa",
         "showlegend": true,
         "subplot": "mapbox",
         "type": "scattermapbox"
        },
        {
         "hovertemplate": "City=acapulco de juarez<br>Lat=%{lat}<br>Lng=%{lon}<extra></extra>",
         "lat": [
          16.8634
         ],
         "legendgroup": "acapulco de juarez",
         "lon": [
          -99.8901
         ],
         "marker": {
          "color": "#FECB52"
         },
         "mode": "markers",
         "name": "acapulco de juarez",
         "showlegend": true,
         "subplot": "mapbox",
         "type": "scattermapbox"
        },
        {
         "hovertemplate": "City=lehighton<br>Lat=%{lat}<br>Lng=%{lon}<extra></extra>",
         "lat": [
          40.8337
         ],
         "legendgroup": "lehighton",
         "lon": [
          -75.7138
         ],
         "marker": {
          "color": "#636efa"
         },
         "mode": "markers",
         "name": "lehighton",
         "showlegend": true,
         "subplot": "mapbox",
         "type": "scattermapbox"
        },
        {
         "hovertemplate": "City=ancud<br>Lat=%{lat}<br>Lng=%{lon}<extra></extra>",
         "lat": [
          -41.8697
         ],
         "legendgroup": "ancud",
         "lon": [
          -73.8203
         ],
         "marker": {
          "color": "#EF553B"
         },
         "mode": "markers",
         "name": "ancud",
         "showlegend": true,
         "subplot": "mapbox",
         "type": "scattermapbox"
        },
        {
         "hovertemplate": "City=awjilah<br>Lat=%{lat}<br>Lng=%{lon}<extra></extra>",
         "lat": [
          29.1081
         ],
         "legendgroup": "awjilah",
         "lon": [
          21.2869
         ],
         "marker": {
          "color": "#00cc96"
         },
         "mode": "markers",
         "name": "awjilah",
         "showlegend": true,
         "subplot": "mapbox",
         "type": "scattermapbox"
        },
        {
         "hovertemplate": "City=chicoana<br>Lat=%{lat}<br>Lng=%{lon}<extra></extra>",
         "lat": [
          -25.1009
         ],
         "legendgroup": "chicoana",
         "lon": [
          -65.5331
         ],
         "marker": {
          "color": "#ab63fa"
         },
         "mode": "markers",
         "name": "chicoana",
         "showlegend": true,
         "subplot": "mapbox",
         "type": "scattermapbox"
        },
        {
         "hovertemplate": "City=mahina<br>Lat=%{lat}<br>Lng=%{lon}<extra></extra>",
         "lat": [
          -17.5065
         ],
         "legendgroup": "mahina",
         "lon": [
          -149.489
         ],
         "marker": {
          "color": "#FFA15A"
         },
         "mode": "markers",
         "name": "mahina",
         "showlegend": true,
         "subplot": "mapbox",
         "type": "scattermapbox"
        },
        {
         "hovertemplate": "City=pandan<br>Lat=%{lat}<br>Lng=%{lon}<extra></extra>",
         "lat": [
          14.0453
         ],
         "legendgroup": "pandan",
         "lon": [
          124.1694
         ],
         "marker": {
          "color": "#19d3f3"
         },
         "mode": "markers",
         "name": "pandan",
         "showlegend": true,
         "subplot": "mapbox",
         "type": "scattermapbox"
        },
        {
         "hovertemplate": "City=zemio<br>Lat=%{lat}<br>Lng=%{lon}<extra></extra>",
         "lat": [
          5.0314
         ],
         "legendgroup": "zemio",
         "lon": [
          25.1361
         ],
         "marker": {
          "color": "#FF6692"
         },
         "mode": "markers",
         "name": "zemio",
         "showlegend": true,
         "subplot": "mapbox",
         "type": "scattermapbox"
        },
        {
         "hovertemplate": "City=talitsa<br>Lat=%{lat}<br>Lng=%{lon}<extra></extra>",
         "lat": [
          56.8804
         ],
         "legendgroup": "talitsa",
         "lon": [
          60.0213
         ],
         "marker": {
          "color": "#B6E880"
         },
         "mode": "markers",
         "name": "talitsa",
         "showlegend": true,
         "subplot": "mapbox",
         "type": "scattermapbox"
        },
        {
         "hovertemplate": "City=lompoc<br>Lat=%{lat}<br>Lng=%{lon}<extra></extra>",
         "lat": [
          34.6391
         ],
         "legendgroup": "lompoc",
         "lon": [
          -120.4579
         ],
         "marker": {
          "color": "#FF97FF"
         },
         "mode": "markers",
         "name": "lompoc",
         "showlegend": true,
         "subplot": "mapbox",
         "type": "scattermapbox"
        },
        {
         "hovertemplate": "City=mwinilunga<br>Lat=%{lat}<br>Lng=%{lon}<extra></extra>",
         "lat": [
          -11.7358
         ],
         "legendgroup": "mwinilunga",
         "lon": [
          24.4293
         ],
         "marker": {
          "color": "#FECB52"
         },
         "mode": "markers",
         "name": "mwinilunga",
         "showlegend": true,
         "subplot": "mapbox",
         "type": "scattermapbox"
        },
        {
         "hovertemplate": "City=ixtapa<br>Lat=%{lat}<br>Lng=%{lon}<extra></extra>",
         "lat": [
          20.7
         ],
         "legendgroup": "ixtapa",
         "lon": [
          -105.2
         ],
         "marker": {
          "color": "#636efa"
         },
         "mode": "markers",
         "name": "ixtapa",
         "showlegend": true,
         "subplot": "mapbox",
         "type": "scattermapbox"
        },
        {
         "hovertemplate": "City=vakarai<br>Lat=%{lat}<br>Lng=%{lon}<extra></extra>",
         "lat": [
          55.6035
         ],
         "legendgroup": "vakarai",
         "lon": [
          23.8213
         ],
         "marker": {
          "color": "#EF553B"
         },
         "mode": "markers",
         "name": "vakarai",
         "showlegend": true,
         "subplot": "mapbox",
         "type": "scattermapbox"
        },
        {
         "hovertemplate": "City=byala slatina<br>Lat=%{lat}<br>Lng=%{lon}<extra></extra>",
         "lat": [
          43.4667
         ],
         "legendgroup": "byala slatina",
         "lon": [
          23.9333
         ],
         "marker": {
          "color": "#00cc96"
         },
         "mode": "markers",
         "name": "byala slatina",
         "showlegend": true,
         "subplot": "mapbox",
         "type": "scattermapbox"
        },
        {
         "hovertemplate": "City=koster<br>Lat=%{lat}<br>Lng=%{lon}<extra></extra>",
         "lat": [
          -25.863
         ],
         "legendgroup": "koster",
         "lon": [
          26.8976
         ],
         "marker": {
          "color": "#ab63fa"
         },
         "mode": "markers",
         "name": "koster",
         "showlegend": true,
         "subplot": "mapbox",
         "type": "scattermapbox"
        },
        {
         "hovertemplate": "City=kudahuvadhoo<br>Lat=%{lat}<br>Lng=%{lon}<extra></extra>",
         "lat": [
          2.6708
         ],
         "legendgroup": "kudahuvadhoo",
         "lon": [
          72.8944
         ],
         "marker": {
          "color": "#FFA15A"
         },
         "mode": "markers",
         "name": "kudahuvadhoo",
         "showlegend": true,
         "subplot": "mapbox",
         "type": "scattermapbox"
        },
        {
         "hovertemplate": "City=linares<br>Lat=%{lat}<br>Lng=%{lon}<extra></extra>",
         "lat": [
          -35.85
         ],
         "legendgroup": "linares",
         "lon": [
          -71.6
         ],
         "marker": {
          "color": "#19d3f3"
         },
         "mode": "markers",
         "name": "linares",
         "showlegend": true,
         "subplot": "mapbox",
         "type": "scattermapbox"
        },
        {
         "hovertemplate": "City=doka<br>Lat=%{lat}<br>Lng=%{lon}<extra></extra>",
         "lat": [
          13.5167
         ],
         "legendgroup": "doka",
         "lon": [
          35.7667
         ],
         "marker": {
          "color": "#FF6692"
         },
         "mode": "markers",
         "name": "doka",
         "showlegend": true,
         "subplot": "mapbox",
         "type": "scattermapbox"
        },
        {
         "hovertemplate": "City=okhotsk<br>Lat=%{lat}<br>Lng=%{lon}<extra></extra>",
         "lat": [
          59.3833
         ],
         "legendgroup": "okhotsk",
         "lon": [
          143.3
         ],
         "marker": {
          "color": "#B6E880"
         },
         "mode": "markers",
         "name": "okhotsk",
         "showlegend": true,
         "subplot": "mapbox",
         "type": "scattermapbox"
        },
        {
         "hovertemplate": "City=mejit<br>Lat=%{lat}<br>Lng=%{lon}<extra></extra>",
         "lat": [
          10.2753
         ],
         "legendgroup": "mejit",
         "lon": [
          170.8646
         ],
         "marker": {
          "color": "#FF97FF"
         },
         "mode": "markers",
         "name": "mejit",
         "showlegend": true,
         "subplot": "mapbox",
         "type": "scattermapbox"
        },
        {
         "hovertemplate": "City=zarzis<br>Lat=%{lat}<br>Lng=%{lon}<extra></extra>",
         "lat": [
          33.504
         ],
         "legendgroup": "zarzis",
         "lon": [
          11.1122
         ],
         "marker": {
          "color": "#FECB52"
         },
         "mode": "markers",
         "name": "zarzis",
         "showlegend": true,
         "subplot": "mapbox",
         "type": "scattermapbox"
        },
        {
         "hovertemplate": "City=puerto armuelles<br>Lat=%{lat}<br>Lng=%{lon}<extra></extra>",
         "lat": [
          8.2833
         ],
         "legendgroup": "puerto armuelles",
         "lon": [
          -82.8667
         ],
         "marker": {
          "color": "#636efa"
         },
         "mode": "markers",
         "name": "puerto armuelles",
         "showlegend": true,
         "subplot": "mapbox",
         "type": "scattermapbox"
        },
        {
         "hovertemplate": "City=mountain home<br>Lat=%{lat}<br>Lng=%{lon}<extra></extra>",
         "lat": [
          43.133
         ],
         "legendgroup": "mountain home",
         "lon": [
          -115.6912
         ],
         "marker": {
          "color": "#EF553B"
         },
         "mode": "markers",
         "name": "mountain home",
         "showlegend": true,
         "subplot": "mapbox",
         "type": "scattermapbox"
        },
        {
         "hovertemplate": "City=heroica matamoros<br>Lat=%{lat}<br>Lng=%{lon}<extra></extra>",
         "lat": [
          25.8833
         ],
         "legendgroup": "heroica matamoros",
         "lon": [
          -97.5
         ],
         "marker": {
          "color": "#00cc96"
         },
         "mode": "markers",
         "name": "heroica matamoros",
         "showlegend": true,
         "subplot": "mapbox",
         "type": "scattermapbox"
        },
        {
         "hovertemplate": "City=kharovsk<br>Lat=%{lat}<br>Lng=%{lon}<extra></extra>",
         "lat": [
          59.9642
         ],
         "legendgroup": "kharovsk",
         "lon": [
          40.1912
         ],
         "marker": {
          "color": "#ab63fa"
         },
         "mode": "markers",
         "name": "kharovsk",
         "showlegend": true,
         "subplot": "mapbox",
         "type": "scattermapbox"
        },
        {
         "hovertemplate": "City=fortaleza<br>Lat=%{lat}<br>Lng=%{lon}<extra></extra>",
         "lat": [
          -3.7227
         ],
         "legendgroup": "fortaleza",
         "lon": [
          -38.5247
         ],
         "marker": {
          "color": "#FFA15A"
         },
         "mode": "markers",
         "name": "fortaleza",
         "showlegend": true,
         "subplot": "mapbox",
         "type": "scattermapbox"
        },
        {
         "hovertemplate": "City=szczyrk<br>Lat=%{lat}<br>Lng=%{lon}<extra></extra>",
         "lat": [
          49.7172
         ],
         "legendgroup": "szczyrk",
         "lon": [
          19.0318
         ],
         "marker": {
          "color": "#19d3f3"
         },
         "mode": "markers",
         "name": "szczyrk",
         "showlegend": true,
         "subplot": "mapbox",
         "type": "scattermapbox"
        },
        {
         "hovertemplate": "City=starotitarovskaya<br>Lat=%{lat}<br>Lng=%{lon}<extra></extra>",
         "lat": [
          45.2136
         ],
         "legendgroup": "starotitarovskaya",
         "lon": [
          37.1439
         ],
         "marker": {
          "color": "#FF6692"
         },
         "mode": "markers",
         "name": "starotitarovskaya",
         "showlegend": true,
         "subplot": "mapbox",
         "type": "scattermapbox"
        },
        {
         "hovertemplate": "City=coxim<br>Lat=%{lat}<br>Lng=%{lon}<extra></extra>",
         "lat": [
          -18.5067
         ],
         "legendgroup": "coxim",
         "lon": [
          -54.76
         ],
         "marker": {
          "color": "#B6E880"
         },
         "mode": "markers",
         "name": "coxim",
         "showlegend": true,
         "subplot": "mapbox",
         "type": "scattermapbox"
        },
        {
         "hovertemplate": "City=araripe<br>Lat=%{lat}<br>Lng=%{lon}<extra></extra>",
         "lat": [
          -7.2125
         ],
         "legendgroup": "araripe",
         "lon": [
          -40.0461
         ],
         "marker": {
          "color": "#FF97FF"
         },
         "mode": "markers",
         "name": "araripe",
         "showlegend": true,
         "subplot": "mapbox",
         "type": "scattermapbox"
        },
        {
         "hovertemplate": "City=sandnessjoen<br>Lat=%{lat}<br>Lng=%{lon}<extra></extra>",
         "lat": [
          66.0217
         ],
         "legendgroup": "sandnessjoen",
         "lon": [
          12.6316
         ],
         "marker": {
          "color": "#FECB52"
         },
         "mode": "markers",
         "name": "sandnessjoen",
         "showlegend": true,
         "subplot": "mapbox",
         "type": "scattermapbox"
        },
        {
         "hovertemplate": "City=bhim tal<br>Lat=%{lat}<br>Lng=%{lon}<extra></extra>",
         "lat": [
          29.35
         ],
         "legendgroup": "bhim tal",
         "lon": [
          79.5667
         ],
         "marker": {
          "color": "#636efa"
         },
         "mode": "markers",
         "name": "bhim tal",
         "showlegend": true,
         "subplot": "mapbox",
         "type": "scattermapbox"
        },
        {
         "hovertemplate": "City=sarukhan<br>Lat=%{lat}<br>Lng=%{lon}<extra></extra>",
         "lat": [
          40.2905
         ],
         "legendgroup": "sarukhan",
         "lon": [
          45.1306
         ],
         "marker": {
          "color": "#EF553B"
         },
         "mode": "markers",
         "name": "sarukhan",
         "showlegend": true,
         "subplot": "mapbox",
         "type": "scattermapbox"
        },
        {
         "hovertemplate": "City=qandala<br>Lat=%{lat}<br>Lng=%{lon}<extra></extra>",
         "lat": [
          11.472
         ],
         "legendgroup": "qandala",
         "lon": [
          49.8728
         ],
         "marker": {
          "color": "#00cc96"
         },
         "mode": "markers",
         "name": "qandala",
         "showlegend": true,
         "subplot": "mapbox",
         "type": "scattermapbox"
        },
        {
         "hovertemplate": "City=puerto real<br>Lat=%{lat}<br>Lng=%{lon}<extra></extra>",
         "lat": [
          36.5282
         ],
         "legendgroup": "puerto real",
         "lon": [
          -6.1901
         ],
         "marker": {
          "color": "#ab63fa"
         },
         "mode": "markers",
         "name": "puerto real",
         "showlegend": true,
         "subplot": "mapbox",
         "type": "scattermapbox"
        },
        {
         "hovertemplate": "City=waterloo<br>Lat=%{lat}<br>Lng=%{lon}<extra></extra>",
         "lat": [
          43.4668
         ],
         "legendgroup": "waterloo",
         "lon": [
          -80.5164
         ],
         "marker": {
          "color": "#FFA15A"
         },
         "mode": "markers",
         "name": "waterloo",
         "showlegend": true,
         "subplot": "mapbox",
         "type": "scattermapbox"
        },
        {
         "hovertemplate": "City=tinajo<br>Lat=%{lat}<br>Lng=%{lon}<extra></extra>",
         "lat": [
          29.0788
         ],
         "legendgroup": "tinajo",
         "lon": [
          -13.7081
         ],
         "marker": {
          "color": "#19d3f3"
         },
         "mode": "markers",
         "name": "tinajo",
         "showlegend": true,
         "subplot": "mapbox",
         "type": "scattermapbox"
        },
        {
         "hovertemplate": "City=salinas de hidalgo<br>Lat=%{lat}<br>Lng=%{lon}<extra></extra>",
         "lat": [
          22.6333
         ],
         "legendgroup": "salinas de hidalgo",
         "lon": [
          -101.7167
         ],
         "marker": {
          "color": "#FF6692"
         },
         "mode": "markers",
         "name": "salinas de hidalgo",
         "showlegend": true,
         "subplot": "mapbox",
         "type": "scattermapbox"
        },
        {
         "hovertemplate": "City=seabra<br>Lat=%{lat}<br>Lng=%{lon}<extra></extra>",
         "lat": [
          -12.4186
         ],
         "legendgroup": "seabra",
         "lon": [
          -41.7703
         ],
         "marker": {
          "color": "#B6E880"
         },
         "mode": "markers",
         "name": "seabra",
         "showlegend": true,
         "subplot": "mapbox",
         "type": "scattermapbox"
        },
        {
         "hovertemplate": "City=ribeira brava<br>Lat=%{lat}<br>Lng=%{lon}<extra></extra>",
         "lat": [
          32.65
         ],
         "legendgroup": "ribeira brava",
         "lon": [
          -17.0667
         ],
         "marker": {
          "color": "#FF97FF"
         },
         "mode": "markers",
         "name": "ribeira brava",
         "showlegend": true,
         "subplot": "mapbox",
         "type": "scattermapbox"
        },
        {
         "hovertemplate": "City=cabedelo<br>Lat=%{lat}<br>Lng=%{lon}<extra></extra>",
         "lat": [
          -6.9811
         ],
         "legendgroup": "cabedelo",
         "lon": [
          -34.8339
         ],
         "marker": {
          "color": "#FECB52"
         },
         "mode": "markers",
         "name": "cabedelo",
         "showlegend": true,
         "subplot": "mapbox",
         "type": "scattermapbox"
        },
        {
         "hovertemplate": "City=bandar lampung<br>Lat=%{lat}<br>Lng=%{lon}<extra></extra>",
         "lat": [
          -5.4254
         ],
         "legendgroup": "bandar lampung",
         "lon": [
          105.258
         ],
         "marker": {
          "color": "#636efa"
         },
         "mode": "markers",
         "name": "bandar lampung",
         "showlegend": true,
         "subplot": "mapbox",
         "type": "scattermapbox"
        },
        {
         "hovertemplate": "City=patterson<br>Lat=%{lat}<br>Lng=%{lon}<extra></extra>",
         "lat": [
          37.4716
         ],
         "legendgroup": "patterson",
         "lon": [
          -121.1297
         ],
         "marker": {
          "color": "#EF553B"
         },
         "mode": "markers",
         "name": "patterson",
         "showlegend": true,
         "subplot": "mapbox",
         "type": "scattermapbox"
        },
        {
         "hovertemplate": "City=changling<br>Lat=%{lat}<br>Lng=%{lon}<extra></extra>",
         "lat": [
          44.2653
         ],
         "legendgroup": "changling",
         "lon": [
          124.0005
         ],
         "marker": {
          "color": "#00cc96"
         },
         "mode": "markers",
         "name": "changling",
         "showlegend": true,
         "subplot": "mapbox",
         "type": "scattermapbox"
        },
        {
         "hovertemplate": "City=vicam<br>Lat=%{lat}<br>Lng=%{lon}<extra></extra>",
         "lat": [
          27.6333
         ],
         "legendgroup": "vicam",
         "lon": [
          -110.2833
         ],
         "marker": {
          "color": "#ab63fa"
         },
         "mode": "markers",
         "name": "vicam",
         "showlegend": true,
         "subplot": "mapbox",
         "type": "scattermapbox"
        },
        {
         "hovertemplate": "City=monroe<br>Lat=%{lat}<br>Lng=%{lon}<extra></extra>",
         "lat": [
          43.1501
         ],
         "legendgroup": "monroe",
         "lon": [
          -77.6831
         ],
         "marker": {
          "color": "#FFA15A"
         },
         "mode": "markers",
         "name": "monroe",
         "showlegend": true,
         "subplot": "mapbox",
         "type": "scattermapbox"
        },
        {
         "hovertemplate": "City=changtu<br>Lat=%{lat}<br>Lng=%{lon}<extra></extra>",
         "lat": [
          42.7788
         ],
         "legendgroup": "changtu",
         "lon": [
          124.0955
         ],
         "marker": {
          "color": "#19d3f3"
         },
         "mode": "markers",
         "name": "changtu",
         "showlegend": true,
         "subplot": "mapbox",
         "type": "scattermapbox"
        },
        {
         "hovertemplate": "City=al ain city<br>Lat=%{lat}<br>Lng=%{lon}<extra></extra>",
         "lat": [
          24.1917
         ],
         "legendgroup": "al ain city",
         "lon": [
          55.7606
         ],
         "marker": {
          "color": "#FF6692"
         },
         "mode": "markers",
         "name": "al ain city",
         "showlegend": true,
         "subplot": "mapbox",
         "type": "scattermapbox"
        },
        {
         "hovertemplate": "City=kaiyuan<br>Lat=%{lat}<br>Lng=%{lon}<extra></extra>",
         "lat": [
          23.6977
         ],
         "legendgroup": "kaiyuan",
         "lon": [
          103.3037
         ],
         "marker": {
          "color": "#B6E880"
         },
         "mode": "markers",
         "name": "kaiyuan",
         "showlegend": true,
         "subplot": "mapbox",
         "type": "scattermapbox"
        },
        {
         "hovertemplate": "City=saint-pathus<br>Lat=%{lat}<br>Lng=%{lon}<extra></extra>",
         "lat": [
          49.0714
         ],
         "legendgroup": "saint-pathus",
         "lon": [
          2.7989
         ],
         "marker": {
          "color": "#FF97FF"
         },
         "mode": "markers",
         "name": "saint-pathus",
         "showlegend": true,
         "subplot": "mapbox",
         "type": "scattermapbox"
        },
        {
         "hovertemplate": "City=kuusamo<br>Lat=%{lat}<br>Lng=%{lon}<extra></extra>",
         "lat": [
          65.9667
         ],
         "legendgroup": "kuusamo",
         "lon": [
          29.1833
         ],
         "marker": {
          "color": "#FECB52"
         },
         "mode": "markers",
         "name": "kuusamo",
         "showlegend": true,
         "subplot": "mapbox",
         "type": "scattermapbox"
        },
        {
         "hovertemplate": "City=liepaja<br>Lat=%{lat}<br>Lng=%{lon}<extra></extra>",
         "lat": [
          56.5419
         ],
         "legendgroup": "liepaja",
         "lon": [
          21.0367
         ],
         "marker": {
          "color": "#636efa"
         },
         "mode": "markers",
         "name": "liepaja",
         "showlegend": true,
         "subplot": "mapbox",
         "type": "scattermapbox"
        },
        {
         "hovertemplate": "City=khandyga<br>Lat=%{lat}<br>Lng=%{lon}<extra></extra>",
         "lat": [
          62.6667
         ],
         "legendgroup": "khandyga",
         "lon": [
          135.6
         ],
         "marker": {
          "color": "#EF553B"
         },
         "mode": "markers",
         "name": "khandyga",
         "showlegend": true,
         "subplot": "mapbox",
         "type": "scattermapbox"
        },
        {
         "hovertemplate": "City=arar<br>Lat=%{lat}<br>Lng=%{lon}<extra></extra>",
         "lat": [
          30.9753
         ],
         "legendgroup": "arar",
         "lon": [
          41.0381
         ],
         "marker": {
          "color": "#00cc96"
         },
         "mode": "markers",
         "name": "arar",
         "showlegend": true,
         "subplot": "mapbox",
         "type": "scattermapbox"
        },
        {
         "hovertemplate": "City=lorengau<br>Lat=%{lat}<br>Lng=%{lon}<extra></extra>",
         "lat": [
          -2.0226
         ],
         "legendgroup": "lorengau",
         "lon": [
          147.2712
         ],
         "marker": {
          "color": "#ab63fa"
         },
         "mode": "markers",
         "name": "lorengau",
         "showlegend": true,
         "subplot": "mapbox",
         "type": "scattermapbox"
        },
        {
         "hovertemplate": "City=garden city<br>Lat=%{lat}<br>Lng=%{lon}<extra></extra>",
         "lat": [
          42.3256
         ],
         "legendgroup": "garden city",
         "lon": [
          -83.331
         ],
         "marker": {
          "color": "#FFA15A"
         },
         "mode": "markers",
         "name": "garden city",
         "showlegend": true,
         "subplot": "mapbox",
         "type": "scattermapbox"
        }
       ],
       "layout": {
        "legend": {
         "title": {
          "text": "City"
         },
         "tracegroupgap": 0
        },
        "mapbox": {
         "accesstoken": "pk.eyJ1IjoiZ3JlZW5ib2kxMDUiLCJhIjoiY2xlMGo4aGZ0MDlyNTN2cWtlYnAyeTduNCJ9.22dna4Wm_VmFU1OKBXCFgQ",
         "center": {
          "lat": 18.622356239316243,
          "lon": 15.026331965811968
         },
         "domain": {
          "x": [
           0,
           1
          ],
          "y": [
           0,
           1
          ]
         },
         "zoom": 8
        },
        "margin": {
         "t": 60
        },
        "template": {
         "data": {
          "bar": [
           {
            "error_x": {
             "color": "#2a3f5f"
            },
            "error_y": {
             "color": "#2a3f5f"
            },
            "marker": {
             "line": {
              "color": "#E5ECF6",
              "width": 0.5
             },
             "pattern": {
              "fillmode": "overlay",
              "size": 10,
              "solidity": 0.2
             }
            },
            "type": "bar"
           }
          ],
          "barpolar": [
           {
            "marker": {
             "line": {
              "color": "#E5ECF6",
              "width": 0.5
             },
             "pattern": {
              "fillmode": "overlay",
              "size": 10,
              "solidity": 0.2
             }
            },
            "type": "barpolar"
           }
          ],
          "carpet": [
           {
            "aaxis": {
             "endlinecolor": "#2a3f5f",
             "gridcolor": "white",
             "linecolor": "white",
             "minorgridcolor": "white",
             "startlinecolor": "#2a3f5f"
            },
            "baxis": {
             "endlinecolor": "#2a3f5f",
             "gridcolor": "white",
             "linecolor": "white",
             "minorgridcolor": "white",
             "startlinecolor": "#2a3f5f"
            },
            "type": "carpet"
           }
          ],
          "choropleth": [
           {
            "colorbar": {
             "outlinewidth": 0,
             "ticks": ""
            },
            "type": "choropleth"
           }
          ],
          "contour": [
           {
            "colorbar": {
             "outlinewidth": 0,
             "ticks": ""
            },
            "colorscale": [
             [
              0,
              "#0d0887"
             ],
             [
              0.1111111111111111,
              "#46039f"
             ],
             [
              0.2222222222222222,
              "#7201a8"
             ],
             [
              0.3333333333333333,
              "#9c179e"
             ],
             [
              0.4444444444444444,
              "#bd3786"
             ],
             [
              0.5555555555555556,
              "#d8576b"
             ],
             [
              0.6666666666666666,
              "#ed7953"
             ],
             [
              0.7777777777777778,
              "#fb9f3a"
             ],
             [
              0.8888888888888888,
              "#fdca26"
             ],
             [
              1,
              "#f0f921"
             ]
            ],
            "type": "contour"
           }
          ],
          "contourcarpet": [
           {
            "colorbar": {
             "outlinewidth": 0,
             "ticks": ""
            },
            "type": "contourcarpet"
           }
          ],
          "heatmap": [
           {
            "colorbar": {
             "outlinewidth": 0,
             "ticks": ""
            },
            "colorscale": [
             [
              0,
              "#0d0887"
             ],
             [
              0.1111111111111111,
              "#46039f"
             ],
             [
              0.2222222222222222,
              "#7201a8"
             ],
             [
              0.3333333333333333,
              "#9c179e"
             ],
             [
              0.4444444444444444,
              "#bd3786"
             ],
             [
              0.5555555555555556,
              "#d8576b"
             ],
             [
              0.6666666666666666,
              "#ed7953"
             ],
             [
              0.7777777777777778,
              "#fb9f3a"
             ],
             [
              0.8888888888888888,
              "#fdca26"
             ],
             [
              1,
              "#f0f921"
             ]
            ],
            "type": "heatmap"
           }
          ],
          "heatmapgl": [
           {
            "colorbar": {
             "outlinewidth": 0,
             "ticks": ""
            },
            "colorscale": [
             [
              0,
              "#0d0887"
             ],
             [
              0.1111111111111111,
              "#46039f"
             ],
             [
              0.2222222222222222,
              "#7201a8"
             ],
             [
              0.3333333333333333,
              "#9c179e"
             ],
             [
              0.4444444444444444,
              "#bd3786"
             ],
             [
              0.5555555555555556,
              "#d8576b"
             ],
             [
              0.6666666666666666,
              "#ed7953"
             ],
             [
              0.7777777777777778,
              "#fb9f3a"
             ],
             [
              0.8888888888888888,
              "#fdca26"
             ],
             [
              1,
              "#f0f921"
             ]
            ],
            "type": "heatmapgl"
           }
          ],
          "histogram": [
           {
            "marker": {
             "pattern": {
              "fillmode": "overlay",
              "size": 10,
              "solidity": 0.2
             }
            },
            "type": "histogram"
           }
          ],
          "histogram2d": [
           {
            "colorbar": {
             "outlinewidth": 0,
             "ticks": ""
            },
            "colorscale": [
             [
              0,
              "#0d0887"
             ],
             [
              0.1111111111111111,
              "#46039f"
             ],
             [
              0.2222222222222222,
              "#7201a8"
             ],
             [
              0.3333333333333333,
              "#9c179e"
             ],
             [
              0.4444444444444444,
              "#bd3786"
             ],
             [
              0.5555555555555556,
              "#d8576b"
             ],
             [
              0.6666666666666666,
              "#ed7953"
             ],
             [
              0.7777777777777778,
              "#fb9f3a"
             ],
             [
              0.8888888888888888,
              "#fdca26"
             ],
             [
              1,
              "#f0f921"
             ]
            ],
            "type": "histogram2d"
           }
          ],
          "histogram2dcontour": [
           {
            "colorbar": {
             "outlinewidth": 0,
             "ticks": ""
            },
            "colorscale": [
             [
              0,
              "#0d0887"
             ],
             [
              0.1111111111111111,
              "#46039f"
             ],
             [
              0.2222222222222222,
              "#7201a8"
             ],
             [
              0.3333333333333333,
              "#9c179e"
             ],
             [
              0.4444444444444444,
              "#bd3786"
             ],
             [
              0.5555555555555556,
              "#d8576b"
             ],
             [
              0.6666666666666666,
              "#ed7953"
             ],
             [
              0.7777777777777778,
              "#fb9f3a"
             ],
             [
              0.8888888888888888,
              "#fdca26"
             ],
             [
              1,
              "#f0f921"
             ]
            ],
            "type": "histogram2dcontour"
           }
          ],
          "mesh3d": [
           {
            "colorbar": {
             "outlinewidth": 0,
             "ticks": ""
            },
            "type": "mesh3d"
           }
          ],
          "parcoords": [
           {
            "line": {
             "colorbar": {
              "outlinewidth": 0,
              "ticks": ""
             }
            },
            "type": "parcoords"
           }
          ],
          "pie": [
           {
            "automargin": true,
            "type": "pie"
           }
          ],
          "scatter": [
           {
            "fillpattern": {
             "fillmode": "overlay",
             "size": 10,
             "solidity": 0.2
            },
            "type": "scatter"
           }
          ],
          "scatter3d": [
           {
            "line": {
             "colorbar": {
              "outlinewidth": 0,
              "ticks": ""
             }
            },
            "marker": {
             "colorbar": {
              "outlinewidth": 0,
              "ticks": ""
             }
            },
            "type": "scatter3d"
           }
          ],
          "scattercarpet": [
           {
            "marker": {
             "colorbar": {
              "outlinewidth": 0,
              "ticks": ""
             }
            },
            "type": "scattercarpet"
           }
          ],
          "scattergeo": [
           {
            "marker": {
             "colorbar": {
              "outlinewidth": 0,
              "ticks": ""
             }
            },
            "type": "scattergeo"
           }
          ],
          "scattergl": [
           {
            "marker": {
             "colorbar": {
              "outlinewidth": 0,
              "ticks": ""
             }
            },
            "type": "scattergl"
           }
          ],
          "scattermapbox": [
           {
            "marker": {
             "colorbar": {
              "outlinewidth": 0,
              "ticks": ""
             }
            },
            "type": "scattermapbox"
           }
          ],
          "scatterpolar": [
           {
            "marker": {
             "colorbar": {
              "outlinewidth": 0,
              "ticks": ""
             }
            },
            "type": "scatterpolar"
           }
          ],
          "scatterpolargl": [
           {
            "marker": {
             "colorbar": {
              "outlinewidth": 0,
              "ticks": ""
             }
            },
            "type": "scatterpolargl"
           }
          ],
          "scatterternary": [
           {
            "marker": {
             "colorbar": {
              "outlinewidth": 0,
              "ticks": ""
             }
            },
            "type": "scatterternary"
           }
          ],
          "surface": [
           {
            "colorbar": {
             "outlinewidth": 0,
             "ticks": ""
            },
            "colorscale": [
             [
              0,
              "#0d0887"
             ],
             [
              0.1111111111111111,
              "#46039f"
             ],
             [
              0.2222222222222222,
              "#7201a8"
             ],
             [
              0.3333333333333333,
              "#9c179e"
             ],
             [
              0.4444444444444444,
              "#bd3786"
             ],
             [
              0.5555555555555556,
              "#d8576b"
             ],
             [
              0.6666666666666666,
              "#ed7953"
             ],
             [
              0.7777777777777778,
              "#fb9f3a"
             ],
             [
              0.8888888888888888,
              "#fdca26"
             ],
             [
              1,
              "#f0f921"
             ]
            ],
            "type": "surface"
           }
          ],
          "table": [
           {
            "cells": {
             "fill": {
              "color": "#EBF0F8"
             },
             "line": {
              "color": "white"
             }
            },
            "header": {
             "fill": {
              "color": "#C8D4E3"
             },
             "line": {
              "color": "white"
             }
            },
            "type": "table"
           }
          ]
         },
         "layout": {
          "annotationdefaults": {
           "arrowcolor": "#2a3f5f",
           "arrowhead": 0,
           "arrowwidth": 1
          },
          "autotypenumbers": "strict",
          "coloraxis": {
           "colorbar": {
            "outlinewidth": 0,
            "ticks": ""
           }
          },
          "colorscale": {
           "diverging": [
            [
             0,
             "#8e0152"
            ],
            [
             0.1,
             "#c51b7d"
            ],
            [
             0.2,
             "#de77ae"
            ],
            [
             0.3,
             "#f1b6da"
            ],
            [
             0.4,
             "#fde0ef"
            ],
            [
             0.5,
             "#f7f7f7"
            ],
            [
             0.6,
             "#e6f5d0"
            ],
            [
             0.7,
             "#b8e186"
            ],
            [
             0.8,
             "#7fbc41"
            ],
            [
             0.9,
             "#4d9221"
            ],
            [
             1,
             "#276419"
            ]
           ],
           "sequential": [
            [
             0,
             "#0d0887"
            ],
            [
             0.1111111111111111,
             "#46039f"
            ],
            [
             0.2222222222222222,
             "#7201a8"
            ],
            [
             0.3333333333333333,
             "#9c179e"
            ],
            [
             0.4444444444444444,
             "#bd3786"
            ],
            [
             0.5555555555555556,
             "#d8576b"
            ],
            [
             0.6666666666666666,
             "#ed7953"
            ],
            [
             0.7777777777777778,
             "#fb9f3a"
            ],
            [
             0.8888888888888888,
             "#fdca26"
            ],
            [
             1,
             "#f0f921"
            ]
           ],
           "sequentialminus": [
            [
             0,
             "#0d0887"
            ],
            [
             0.1111111111111111,
             "#46039f"
            ],
            [
             0.2222222222222222,
             "#7201a8"
            ],
            [
             0.3333333333333333,
             "#9c179e"
            ],
            [
             0.4444444444444444,
             "#bd3786"
            ],
            [
             0.5555555555555556,
             "#d8576b"
            ],
            [
             0.6666666666666666,
             "#ed7953"
            ],
            [
             0.7777777777777778,
             "#fb9f3a"
            ],
            [
             0.8888888888888888,
             "#fdca26"
            ],
            [
             1,
             "#f0f921"
            ]
           ]
          },
          "colorway": [
           "#636efa",
           "#EF553B",
           "#00cc96",
           "#ab63fa",
           "#FFA15A",
           "#19d3f3",
           "#FF6692",
           "#B6E880",
           "#FF97FF",
           "#FECB52"
          ],
          "font": {
           "color": "#2a3f5f"
          },
          "geo": {
           "bgcolor": "white",
           "lakecolor": "white",
           "landcolor": "#E5ECF6",
           "showlakes": true,
           "showland": true,
           "subunitcolor": "white"
          },
          "hoverlabel": {
           "align": "left"
          },
          "hovermode": "closest",
          "mapbox": {
           "style": "light"
          },
          "paper_bgcolor": "white",
          "plot_bgcolor": "#E5ECF6",
          "polar": {
           "angularaxis": {
            "gridcolor": "white",
            "linecolor": "white",
            "ticks": ""
           },
           "bgcolor": "#E5ECF6",
           "radialaxis": {
            "gridcolor": "white",
            "linecolor": "white",
            "ticks": ""
           }
          },
          "scene": {
           "xaxis": {
            "backgroundcolor": "#E5ECF6",
            "gridcolor": "white",
            "gridwidth": 2,
            "linecolor": "white",
            "showbackground": true,
            "ticks": "",
            "zerolinecolor": "white"
           },
           "yaxis": {
            "backgroundcolor": "#E5ECF6",
            "gridcolor": "white",
            "gridwidth": 2,
            "linecolor": "white",
            "showbackground": true,
            "ticks": "",
            "zerolinecolor": "white"
           },
           "zaxis": {
            "backgroundcolor": "#E5ECF6",
            "gridcolor": "white",
            "gridwidth": 2,
            "linecolor": "white",
            "showbackground": true,
            "ticks": "",
            "zerolinecolor": "white"
           }
          },
          "shapedefaults": {
           "line": {
            "color": "#2a3f5f"
           }
          },
          "ternary": {
           "aaxis": {
            "gridcolor": "white",
            "linecolor": "white",
            "ticks": ""
           },
           "baxis": {
            "gridcolor": "white",
            "linecolor": "white",
            "ticks": ""
           },
           "bgcolor": "#E5ECF6",
           "caxis": {
            "gridcolor": "white",
            "linecolor": "white",
            "ticks": ""
           }
          },
          "title": {
           "x": 0.05
          },
          "xaxis": {
           "automargin": true,
           "gridcolor": "white",
           "linecolor": "white",
           "ticks": "",
           "title": {
            "standoff": 15
           },
           "zerolinecolor": "white",
           "zerolinewidth": 2
          },
          "yaxis": {
           "automargin": true,
           "gridcolor": "white",
           "linecolor": "white",
           "ticks": "",
           "title": {
            "standoff": 15
           },
           "zerolinecolor": "white",
           "zerolinewidth": 2
          }
         }
        }
       }
      }
     },
     "metadata": {},
     "output_type": "display_data"
    }
   ],
   "source": [
    "fig = px.scatter_mapbox(city_data_df, lat=\"Lat\", lon=\"Lng\", color=\"City\", color_continuous_scale=px.colors.cyclical.IceFire)\n",
    "\n",
    "fig"
   ]
  },
  {
   "cell_type": "code",
   "execution_count": 5,
   "metadata": {},
   "outputs": [
    {
     "data": {
      "text/html": [
       "<div>\n",
       "<style scoped>\n",
       "    .dataframe tbody tr th:only-of-type {\n",
       "        vertical-align: middle;\n",
       "    }\n",
       "\n",
       "    .dataframe tbody tr th {\n",
       "        vertical-align: top;\n",
       "    }\n",
       "\n",
       "    .dataframe thead th {\n",
       "        text-align: right;\n",
       "    }\n",
       "</style>\n",
       "<table border=\"1\" class=\"dataframe\">\n",
       "  <thead>\n",
       "    <tr style=\"text-align: right;\">\n",
       "      <th></th>\n",
       "      <th>City_ID</th>\n",
       "      <th>City</th>\n",
       "      <th>Lat</th>\n",
       "      <th>Lng</th>\n",
       "      <th>Max Temp</th>\n",
       "      <th>Humidity</th>\n",
       "      <th>Cloudiness</th>\n",
       "      <th>Wind Speed</th>\n",
       "      <th>Country</th>\n",
       "      <th>Date</th>\n",
       "    </tr>\n",
       "  </thead>\n",
       "  <tbody>\n",
       "    <tr>\n",
       "      <th>5</th>\n",
       "      <td>5</td>\n",
       "      <td>nagykoros</td>\n",
       "      <td>47.0342</td>\n",
       "      <td>19.7786</td>\n",
       "      <td>22.97</td>\n",
       "      <td>53</td>\n",
       "      <td>0</td>\n",
       "      <td>0.00</td>\n",
       "      <td>HU</td>\n",
       "      <td>1696006603</td>\n",
       "    </tr>\n",
       "    <tr>\n",
       "      <th>42</th>\n",
       "      <td>42</td>\n",
       "      <td>saint-pierre</td>\n",
       "      <td>-21.3393</td>\n",
       "      <td>55.4781</td>\n",
       "      <td>22.82</td>\n",
       "      <td>73</td>\n",
       "      <td>0</td>\n",
       "      <td>1.03</td>\n",
       "      <td>RE</td>\n",
       "      <td>1696006605</td>\n",
       "    </tr>\n",
       "    <tr>\n",
       "      <th>108</th>\n",
       "      <td>108</td>\n",
       "      <td>mokopane</td>\n",
       "      <td>-24.1944</td>\n",
       "      <td>29.0097</td>\n",
       "      <td>24.04</td>\n",
       "      <td>28</td>\n",
       "      <td>0</td>\n",
       "      <td>2.48</td>\n",
       "      <td>ZA</td>\n",
       "      <td>1696006608</td>\n",
       "    </tr>\n",
       "    <tr>\n",
       "      <th>129</th>\n",
       "      <td>129</td>\n",
       "      <td>calama</td>\n",
       "      <td>-22.4667</td>\n",
       "      <td>-68.9333</td>\n",
       "      <td>25.27</td>\n",
       "      <td>7</td>\n",
       "      <td>0</td>\n",
       "      <td>2.57</td>\n",
       "      <td>CL</td>\n",
       "      <td>1696006610</td>\n",
       "    </tr>\n",
       "    <tr>\n",
       "      <th>130</th>\n",
       "      <td>130</td>\n",
       "      <td>shaowu</td>\n",
       "      <td>27.3409</td>\n",
       "      <td>117.4831</td>\n",
       "      <td>23.65</td>\n",
       "      <td>93</td>\n",
       "      <td>0</td>\n",
       "      <td>1.11</td>\n",
       "      <td>CN</td>\n",
       "      <td>1696006610</td>\n",
       "    </tr>\n",
       "    <tr>\n",
       "      <th>132</th>\n",
       "      <td>132</td>\n",
       "      <td>maniago</td>\n",
       "      <td>46.1706</td>\n",
       "      <td>12.7078</td>\n",
       "      <td>25.47</td>\n",
       "      <td>44</td>\n",
       "      <td>0</td>\n",
       "      <td>1.03</td>\n",
       "      <td>IT</td>\n",
       "      <td>1696006610</td>\n",
       "    </tr>\n",
       "    <tr>\n",
       "      <th>140</th>\n",
       "      <td>140</td>\n",
       "      <td>haiku-pauwela</td>\n",
       "      <td>20.9219</td>\n",
       "      <td>-156.3051</td>\n",
       "      <td>26.13</td>\n",
       "      <td>78</td>\n",
       "      <td>0</td>\n",
       "      <td>1.54</td>\n",
       "      <td>US</td>\n",
       "      <td>1696006260</td>\n",
       "    </tr>\n",
       "    <tr>\n",
       "      <th>157</th>\n",
       "      <td>157</td>\n",
       "      <td>kailua-kona</td>\n",
       "      <td>19.6406</td>\n",
       "      <td>-155.9956</td>\n",
       "      <td>24.77</td>\n",
       "      <td>72</td>\n",
       "      <td>0</td>\n",
       "      <td>3.09</td>\n",
       "      <td>US</td>\n",
       "      <td>1696006268</td>\n",
       "    </tr>\n",
       "    <tr>\n",
       "      <th>197</th>\n",
       "      <td>197</td>\n",
       "      <td>port saint john's</td>\n",
       "      <td>-31.6229</td>\n",
       "      <td>29.5448</td>\n",
       "      <td>22.09</td>\n",
       "      <td>77</td>\n",
       "      <td>0</td>\n",
       "      <td>4.20</td>\n",
       "      <td>ZA</td>\n",
       "      <td>1696006255</td>\n",
       "    </tr>\n",
       "    <tr>\n",
       "      <th>261</th>\n",
       "      <td>261</td>\n",
       "      <td>thabazimbi</td>\n",
       "      <td>-24.5917</td>\n",
       "      <td>27.4116</td>\n",
       "      <td>25.11</td>\n",
       "      <td>26</td>\n",
       "      <td>0</td>\n",
       "      <td>1.61</td>\n",
       "      <td>ZA</td>\n",
       "      <td>1696006617</td>\n",
       "    </tr>\n",
       "    <tr>\n",
       "      <th>339</th>\n",
       "      <td>339</td>\n",
       "      <td>east london</td>\n",
       "      <td>-33.0153</td>\n",
       "      <td>27.9116</td>\n",
       "      <td>23.52</td>\n",
       "      <td>73</td>\n",
       "      <td>0</td>\n",
       "      <td>3.09</td>\n",
       "      <td>ZA</td>\n",
       "      <td>1696005981</td>\n",
       "    </tr>\n",
       "    <tr>\n",
       "      <th>359</th>\n",
       "      <td>359</td>\n",
       "      <td>mount isa</td>\n",
       "      <td>-20.7333</td>\n",
       "      <td>139.5000</td>\n",
       "      <td>25.87</td>\n",
       "      <td>24</td>\n",
       "      <td>0</td>\n",
       "      <td>3.09</td>\n",
       "      <td>AU</td>\n",
       "      <td>1696006066</td>\n",
       "    </tr>\n",
       "    <tr>\n",
       "      <th>412</th>\n",
       "      <td>412</td>\n",
       "      <td>okayama</td>\n",
       "      <td>34.6617</td>\n",
       "      <td>133.9350</td>\n",
       "      <td>21.80</td>\n",
       "      <td>72</td>\n",
       "      <td>0</td>\n",
       "      <td>1.44</td>\n",
       "      <td>JP</td>\n",
       "      <td>1696006627</td>\n",
       "    </tr>\n",
       "    <tr>\n",
       "      <th>420</th>\n",
       "      <td>420</td>\n",
       "      <td>qom</td>\n",
       "      <td>34.6401</td>\n",
       "      <td>50.8764</td>\n",
       "      <td>24.03</td>\n",
       "      <td>22</td>\n",
       "      <td>0</td>\n",
       "      <td>4.35</td>\n",
       "      <td>IR</td>\n",
       "      <td>1696006628</td>\n",
       "    </tr>\n",
       "    <tr>\n",
       "      <th>564</th>\n",
       "      <td>564</td>\n",
       "      <td>waterloo</td>\n",
       "      <td>43.4668</td>\n",
       "      <td>-80.5164</td>\n",
       "      <td>21.44</td>\n",
       "      <td>73</td>\n",
       "      <td>0</td>\n",
       "      <td>2.57</td>\n",
       "      <td>CA</td>\n",
       "      <td>1696006397</td>\n",
       "    </tr>\n",
       "  </tbody>\n",
       "</table>\n",
       "</div>"
      ],
      "text/plain": [
       "     City_ID               City      Lat       Lng  Max Temp  Humidity  \\\n",
       "5          5          nagykoros  47.0342   19.7786     22.97        53   \n",
       "42        42       saint-pierre -21.3393   55.4781     22.82        73   \n",
       "108      108           mokopane -24.1944   29.0097     24.04        28   \n",
       "129      129             calama -22.4667  -68.9333     25.27         7   \n",
       "130      130             shaowu  27.3409  117.4831     23.65        93   \n",
       "132      132            maniago  46.1706   12.7078     25.47        44   \n",
       "140      140      haiku-pauwela  20.9219 -156.3051     26.13        78   \n",
       "157      157        kailua-kona  19.6406 -155.9956     24.77        72   \n",
       "197      197  port saint john's -31.6229   29.5448     22.09        77   \n",
       "261      261         thabazimbi -24.5917   27.4116     25.11        26   \n",
       "339      339        east london -33.0153   27.9116     23.52        73   \n",
       "359      359          mount isa -20.7333  139.5000     25.87        24   \n",
       "412      412            okayama  34.6617  133.9350     21.80        72   \n",
       "420      420                qom  34.6401   50.8764     24.03        22   \n",
       "564      564           waterloo  43.4668  -80.5164     21.44        73   \n",
       "\n",
       "     Cloudiness  Wind Speed Country        Date  \n",
       "5             0        0.00      HU  1696006603  \n",
       "42            0        1.03      RE  1696006605  \n",
       "108           0        2.48      ZA  1696006608  \n",
       "129           0        2.57      CL  1696006610  \n",
       "130           0        1.11      CN  1696006610  \n",
       "132           0        1.03      IT  1696006610  \n",
       "140           0        1.54      US  1696006260  \n",
       "157           0        3.09      US  1696006268  \n",
       "197           0        4.20      ZA  1696006255  \n",
       "261           0        1.61      ZA  1696006617  \n",
       "339           0        3.09      ZA  1696005981  \n",
       "359           0        3.09      AU  1696006066  \n",
       "412           0        1.44      JP  1696006627  \n",
       "420           0        4.35      IR  1696006628  \n",
       "564           0        2.57      CA  1696006397  "
      ]
     },
     "execution_count": 5,
     "metadata": {},
     "output_type": "execute_result"
    }
   ],
   "source": [
    "# Narrow down cities that fit criteria and drop any results with null values\n",
    "# We want cities that have our ideal weather condition: a max temperature lower than 27 degrees but higher than 21, wind speed less than 4.5 m/s, and zero cloudiness\n",
    "ideal_condition_df = city_data_df[(city_data_df['Max Temp'] < 27) & (city_data_df['Max Temp'] > 21) & (city_data_df['Wind Speed'] < 4.5) & (city_data_df['Cloudiness'] == 0)]\n",
    "\n",
    "# Drop any rows with null values\n",
    "ideal_condition_df.dropna()\n",
    "\n",
    "# Display sample data\n",
    "ideal_condition_df"
   ]
  },
  {
   "cell_type": "code",
   "execution_count": 6,
   "metadata": {},
   "outputs": [
    {
     "data": {
      "text/html": [
       "<div>\n",
       "<style scoped>\n",
       "    .dataframe tbody tr th:only-of-type {\n",
       "        vertical-align: middle;\n",
       "    }\n",
       "\n",
       "    .dataframe tbody tr th {\n",
       "        vertical-align: top;\n",
       "    }\n",
       "\n",
       "    .dataframe thead th {\n",
       "        text-align: right;\n",
       "    }\n",
       "</style>\n",
       "<table border=\"1\" class=\"dataframe\">\n",
       "  <thead>\n",
       "    <tr style=\"text-align: right;\">\n",
       "      <th></th>\n",
       "      <th>City</th>\n",
       "      <th>Country</th>\n",
       "      <th>Lat</th>\n",
       "      <th>Lng</th>\n",
       "      <th>Humidity</th>\n",
       "      <th>Hotel Name</th>\n",
       "    </tr>\n",
       "  </thead>\n",
       "  <tbody>\n",
       "    <tr>\n",
       "      <th>5</th>\n",
       "      <td>nagykoros</td>\n",
       "      <td>HU</td>\n",
       "      <td>47.0342</td>\n",
       "      <td>19.7786</td>\n",
       "      <td>53</td>\n",
       "      <td>None</td>\n",
       "    </tr>\n",
       "    <tr>\n",
       "      <th>42</th>\n",
       "      <td>saint-pierre</td>\n",
       "      <td>RE</td>\n",
       "      <td>-21.3393</td>\n",
       "      <td>55.4781</td>\n",
       "      <td>73</td>\n",
       "      <td>None</td>\n",
       "    </tr>\n",
       "    <tr>\n",
       "      <th>108</th>\n",
       "      <td>mokopane</td>\n",
       "      <td>ZA</td>\n",
       "      <td>-24.1944</td>\n",
       "      <td>29.0097</td>\n",
       "      <td>28</td>\n",
       "      <td>None</td>\n",
       "    </tr>\n",
       "    <tr>\n",
       "      <th>129</th>\n",
       "      <td>calama</td>\n",
       "      <td>CL</td>\n",
       "      <td>-22.4667</td>\n",
       "      <td>-68.9333</td>\n",
       "      <td>7</td>\n",
       "      <td>None</td>\n",
       "    </tr>\n",
       "    <tr>\n",
       "      <th>130</th>\n",
       "      <td>shaowu</td>\n",
       "      <td>CN</td>\n",
       "      <td>27.3409</td>\n",
       "      <td>117.4831</td>\n",
       "      <td>93</td>\n",
       "      <td>None</td>\n",
       "    </tr>\n",
       "    <tr>\n",
       "      <th>132</th>\n",
       "      <td>maniago</td>\n",
       "      <td>IT</td>\n",
       "      <td>46.1706</td>\n",
       "      <td>12.7078</td>\n",
       "      <td>44</td>\n",
       "      <td>None</td>\n",
       "    </tr>\n",
       "    <tr>\n",
       "      <th>140</th>\n",
       "      <td>haiku-pauwela</td>\n",
       "      <td>US</td>\n",
       "      <td>20.9219</td>\n",
       "      <td>-156.3051</td>\n",
       "      <td>78</td>\n",
       "      <td>None</td>\n",
       "    </tr>\n",
       "    <tr>\n",
       "      <th>157</th>\n",
       "      <td>kailua-kona</td>\n",
       "      <td>US</td>\n",
       "      <td>19.6406</td>\n",
       "      <td>-155.9956</td>\n",
       "      <td>72</td>\n",
       "      <td>None</td>\n",
       "    </tr>\n",
       "    <tr>\n",
       "      <th>197</th>\n",
       "      <td>port saint john's</td>\n",
       "      <td>ZA</td>\n",
       "      <td>-31.6229</td>\n",
       "      <td>29.5448</td>\n",
       "      <td>77</td>\n",
       "      <td>None</td>\n",
       "    </tr>\n",
       "    <tr>\n",
       "      <th>261</th>\n",
       "      <td>thabazimbi</td>\n",
       "      <td>ZA</td>\n",
       "      <td>-24.5917</td>\n",
       "      <td>27.4116</td>\n",
       "      <td>26</td>\n",
       "      <td>None</td>\n",
       "    </tr>\n",
       "    <tr>\n",
       "      <th>339</th>\n",
       "      <td>east london</td>\n",
       "      <td>ZA</td>\n",
       "      <td>-33.0153</td>\n",
       "      <td>27.9116</td>\n",
       "      <td>73</td>\n",
       "      <td>None</td>\n",
       "    </tr>\n",
       "    <tr>\n",
       "      <th>359</th>\n",
       "      <td>mount isa</td>\n",
       "      <td>AU</td>\n",
       "      <td>-20.7333</td>\n",
       "      <td>139.5000</td>\n",
       "      <td>24</td>\n",
       "      <td>None</td>\n",
       "    </tr>\n",
       "    <tr>\n",
       "      <th>412</th>\n",
       "      <td>okayama</td>\n",
       "      <td>JP</td>\n",
       "      <td>34.6617</td>\n",
       "      <td>133.9350</td>\n",
       "      <td>72</td>\n",
       "      <td>None</td>\n",
       "    </tr>\n",
       "    <tr>\n",
       "      <th>420</th>\n",
       "      <td>qom</td>\n",
       "      <td>IR</td>\n",
       "      <td>34.6401</td>\n",
       "      <td>50.8764</td>\n",
       "      <td>22</td>\n",
       "      <td>None</td>\n",
       "    </tr>\n",
       "    <tr>\n",
       "      <th>564</th>\n",
       "      <td>waterloo</td>\n",
       "      <td>CA</td>\n",
       "      <td>43.4668</td>\n",
       "      <td>-80.5164</td>\n",
       "      <td>73</td>\n",
       "      <td>None</td>\n",
       "    </tr>\n",
       "  </tbody>\n",
       "</table>\n",
       "</div>"
      ],
      "text/plain": [
       "                  City Country      Lat       Lng  Humidity Hotel Name\n",
       "5            nagykoros      HU  47.0342   19.7786        53       None\n",
       "42        saint-pierre      RE -21.3393   55.4781        73       None\n",
       "108           mokopane      ZA -24.1944   29.0097        28       None\n",
       "129             calama      CL -22.4667  -68.9333         7       None\n",
       "130             shaowu      CN  27.3409  117.4831        93       None\n",
       "132            maniago      IT  46.1706   12.7078        44       None\n",
       "140      haiku-pauwela      US  20.9219 -156.3051        78       None\n",
       "157        kailua-kona      US  19.6406 -155.9956        72       None\n",
       "197  port saint john's      ZA -31.6229   29.5448        77       None\n",
       "261         thabazimbi      ZA -24.5917   27.4116        26       None\n",
       "339        east london      ZA -33.0153   27.9116        73       None\n",
       "359          mount isa      AU -20.7333  139.5000        24       None\n",
       "412            okayama      JP  34.6617  133.9350        72       None\n",
       "420                qom      IR  34.6401   50.8764        22       None\n",
       "564           waterloo      CA  43.4668  -80.5164        73       None"
      ]
     },
     "execution_count": 6,
     "metadata": {},
     "output_type": "execute_result"
    }
   ],
   "source": [
    "# Use the Pandas copy function to create DataFrame called hotel_df to store the city, country, coordinates, and humidity\n",
    "import numpy as np \n",
    "\n",
    "hotel_df = ideal_condition_df.copy(deep=True)\n",
    "hotel_df = hotel_df[['City', 'Country', 'Lat', 'Lng', 'Humidity']]\n",
    "\n",
    "# Add an empty column, \"Hotel Name,\" to the DataFrame so you can store the hotel found using the Geoapify API\n",
    "hotel_df['Hotel Name'] = None \n",
    "\n",
    "# Display sample data\n",
    "hotel_df"
   ]
  },
  {
   "cell_type": "code",
   "execution_count": 7,
   "metadata": {},
   "outputs": [
    {
     "name": "stdout",
     "output_type": "stream",
     "text": [
      "Starting hotel search\n",
      "nagykoros - nearest hotel: No hotel found\n",
      "saint-pierre - nearest hotel: Tropic Hotel\n",
      "mokopane - nearest hotel: Oasis Hotel\n",
      "calama - nearest hotel: Apart Hotel Geotel Calama\n",
      "shaowu - nearest hotel: Jinqiu Hotel\n",
      "maniago - nearest hotel: Montenegro\n",
      "haiku-pauwela - nearest hotel: Inn At Mama's Fish House\n",
      "kailua-kona - nearest hotel: Kona Seaside Hotel\n",
      "port saint john's - nearest hotel: Outback Inn\n",
      "thabazimbi - nearest hotel: Maroela Guest Lodge\n",
      "east london - nearest hotel: No hotel found\n",
      "mount isa - nearest hotel: Ibis Styles\n",
      "okayama - nearest hotel: ザ・ワンファイぷ岡山\n",
      "qom - nearest hotel: لاله\n",
      "waterloo - nearest hotel: Delta Waterloo\n"
     ]
    },
    {
     "data": {
      "text/html": [
       "<div>\n",
       "<style scoped>\n",
       "    .dataframe tbody tr th:only-of-type {\n",
       "        vertical-align: middle;\n",
       "    }\n",
       "\n",
       "    .dataframe tbody tr th {\n",
       "        vertical-align: top;\n",
       "    }\n",
       "\n",
       "    .dataframe thead th {\n",
       "        text-align: right;\n",
       "    }\n",
       "</style>\n",
       "<table border=\"1\" class=\"dataframe\">\n",
       "  <thead>\n",
       "    <tr style=\"text-align: right;\">\n",
       "      <th></th>\n",
       "      <th>City</th>\n",
       "      <th>Country</th>\n",
       "      <th>Lat</th>\n",
       "      <th>Lng</th>\n",
       "      <th>Humidity</th>\n",
       "      <th>Hotel Name</th>\n",
       "    </tr>\n",
       "  </thead>\n",
       "  <tbody>\n",
       "    <tr>\n",
       "      <th>5</th>\n",
       "      <td>nagykoros</td>\n",
       "      <td>HU</td>\n",
       "      <td>47.0342</td>\n",
       "      <td>19.7786</td>\n",
       "      <td>53</td>\n",
       "      <td>No hotel found</td>\n",
       "    </tr>\n",
       "    <tr>\n",
       "      <th>42</th>\n",
       "      <td>saint-pierre</td>\n",
       "      <td>RE</td>\n",
       "      <td>-21.3393</td>\n",
       "      <td>55.4781</td>\n",
       "      <td>73</td>\n",
       "      <td>Tropic Hotel</td>\n",
       "    </tr>\n",
       "    <tr>\n",
       "      <th>108</th>\n",
       "      <td>mokopane</td>\n",
       "      <td>ZA</td>\n",
       "      <td>-24.1944</td>\n",
       "      <td>29.0097</td>\n",
       "      <td>28</td>\n",
       "      <td>Oasis Hotel</td>\n",
       "    </tr>\n",
       "    <tr>\n",
       "      <th>129</th>\n",
       "      <td>calama</td>\n",
       "      <td>CL</td>\n",
       "      <td>-22.4667</td>\n",
       "      <td>-68.9333</td>\n",
       "      <td>7</td>\n",
       "      <td>Apart Hotel Geotel Calama</td>\n",
       "    </tr>\n",
       "    <tr>\n",
       "      <th>130</th>\n",
       "      <td>shaowu</td>\n",
       "      <td>CN</td>\n",
       "      <td>27.3409</td>\n",
       "      <td>117.4831</td>\n",
       "      <td>93</td>\n",
       "      <td>Jinqiu Hotel</td>\n",
       "    </tr>\n",
       "    <tr>\n",
       "      <th>132</th>\n",
       "      <td>maniago</td>\n",
       "      <td>IT</td>\n",
       "      <td>46.1706</td>\n",
       "      <td>12.7078</td>\n",
       "      <td>44</td>\n",
       "      <td>Montenegro</td>\n",
       "    </tr>\n",
       "    <tr>\n",
       "      <th>140</th>\n",
       "      <td>haiku-pauwela</td>\n",
       "      <td>US</td>\n",
       "      <td>20.9219</td>\n",
       "      <td>-156.3051</td>\n",
       "      <td>78</td>\n",
       "      <td>Inn At Mama's Fish House</td>\n",
       "    </tr>\n",
       "    <tr>\n",
       "      <th>157</th>\n",
       "      <td>kailua-kona</td>\n",
       "      <td>US</td>\n",
       "      <td>19.6406</td>\n",
       "      <td>-155.9956</td>\n",
       "      <td>72</td>\n",
       "      <td>Kona Seaside Hotel</td>\n",
       "    </tr>\n",
       "    <tr>\n",
       "      <th>197</th>\n",
       "      <td>port saint john's</td>\n",
       "      <td>ZA</td>\n",
       "      <td>-31.6229</td>\n",
       "      <td>29.5448</td>\n",
       "      <td>77</td>\n",
       "      <td>Outback Inn</td>\n",
       "    </tr>\n",
       "    <tr>\n",
       "      <th>261</th>\n",
       "      <td>thabazimbi</td>\n",
       "      <td>ZA</td>\n",
       "      <td>-24.5917</td>\n",
       "      <td>27.4116</td>\n",
       "      <td>26</td>\n",
       "      <td>Maroela Guest Lodge</td>\n",
       "    </tr>\n",
       "    <tr>\n",
       "      <th>339</th>\n",
       "      <td>east london</td>\n",
       "      <td>ZA</td>\n",
       "      <td>-33.0153</td>\n",
       "      <td>27.9116</td>\n",
       "      <td>73</td>\n",
       "      <td>No hotel found</td>\n",
       "    </tr>\n",
       "    <tr>\n",
       "      <th>359</th>\n",
       "      <td>mount isa</td>\n",
       "      <td>AU</td>\n",
       "      <td>-20.7333</td>\n",
       "      <td>139.5000</td>\n",
       "      <td>24</td>\n",
       "      <td>Ibis Styles</td>\n",
       "    </tr>\n",
       "    <tr>\n",
       "      <th>412</th>\n",
       "      <td>okayama</td>\n",
       "      <td>JP</td>\n",
       "      <td>34.6617</td>\n",
       "      <td>133.9350</td>\n",
       "      <td>72</td>\n",
       "      <td>ザ・ワンファイぷ岡山</td>\n",
       "    </tr>\n",
       "    <tr>\n",
       "      <th>420</th>\n",
       "      <td>qom</td>\n",
       "      <td>IR</td>\n",
       "      <td>34.6401</td>\n",
       "      <td>50.8764</td>\n",
       "      <td>22</td>\n",
       "      <td>لاله</td>\n",
       "    </tr>\n",
       "    <tr>\n",
       "      <th>564</th>\n",
       "      <td>waterloo</td>\n",
       "      <td>CA</td>\n",
       "      <td>43.4668</td>\n",
       "      <td>-80.5164</td>\n",
       "      <td>73</td>\n",
       "      <td>Delta Waterloo</td>\n",
       "    </tr>\n",
       "  </tbody>\n",
       "</table>\n",
       "</div>"
      ],
      "text/plain": [
       "                  City Country      Lat       Lng  Humidity  \\\n",
       "5            nagykoros      HU  47.0342   19.7786        53   \n",
       "42        saint-pierre      RE -21.3393   55.4781        73   \n",
       "108           mokopane      ZA -24.1944   29.0097        28   \n",
       "129             calama      CL -22.4667  -68.9333         7   \n",
       "130             shaowu      CN  27.3409  117.4831        93   \n",
       "132            maniago      IT  46.1706   12.7078        44   \n",
       "140      haiku-pauwela      US  20.9219 -156.3051        78   \n",
       "157        kailua-kona      US  19.6406 -155.9956        72   \n",
       "197  port saint john's      ZA -31.6229   29.5448        77   \n",
       "261         thabazimbi      ZA -24.5917   27.4116        26   \n",
       "339        east london      ZA -33.0153   27.9116        73   \n",
       "359          mount isa      AU -20.7333  139.5000        24   \n",
       "412            okayama      JP  34.6617  133.9350        72   \n",
       "420                qom      IR  34.6401   50.8764        22   \n",
       "564           waterloo      CA  43.4668  -80.5164        73   \n",
       "\n",
       "                    Hotel Name  \n",
       "5               No hotel found  \n",
       "42                Tropic Hotel  \n",
       "108                Oasis Hotel  \n",
       "129  Apart Hotel Geotel Calama  \n",
       "130               Jinqiu Hotel  \n",
       "132                 Montenegro  \n",
       "140   Inn At Mama's Fish House  \n",
       "157         Kona Seaside Hotel  \n",
       "197                Outback Inn  \n",
       "261        Maroela Guest Lodge  \n",
       "339             No hotel found  \n",
       "359                Ibis Styles  \n",
       "412                 ザ・ワンファイぷ岡山  \n",
       "420                       لاله  \n",
       "564             Delta Waterloo  "
      ]
     },
     "execution_count": 7,
     "metadata": {},
     "output_type": "execute_result"
    }
   ],
   "source": [
    "# Set parameters to search for a hotel\n",
    "from pprint import pprint \n",
    "\n",
    "radius = 10000\n",
    "\n",
    "params = {\n",
    "    \"categories\": \"accommodation.hotel\",\n",
    "    \"limit\": 1,\n",
    "    \"filter\": None,\n",
    "    \"bias\": None,\n",
    "    \"apiKey\": geoapify_key    \n",
    "}\n",
    "\n",
    "# Print a message to follow up the hotel search\n",
    "print(\"Starting hotel search\")\n",
    "\n",
    "# Iterate through the hotel_df DataFrame\n",
    "for index, row in hotel_df.iterrows():\n",
    "\n",
    "    # Set up the three elements of the params dictionary\n",
    "    latitude = row['Lat']\n",
    "    longitude = row['Lng']\n",
    "    params[\"filter\"] = f\"circle:{longitude},{latitude},{radius}\"\n",
    "    params[\"bias\"] = f\"proximity:{longitude},{latitude}\"\n",
    "    \n",
    "    # Set base URL\n",
    "    base_url = \"https://api.geoapify.com/v2/places\"\n",
    "\n",
    "    # Get the response from the API\n",
    "    response = requests.get(base_url, params=params).json()\n",
    "    \n",
    "    # Grab the first hotel from the results and store the name in the hotel_df DataFrame\n",
    "    try:\n",
    "        hotel_df.loc[index, \"Hotel Name\"] = response[\"features\"][0][\"properties\"][\"name\"]\n",
    "    except (KeyError, IndexError):\n",
    "        # If no hotel is found, set the hotel name as \"No hotel found\".\n",
    "        hotel_df.loc[index, \"Hotel Name\"] = \"No hotel found\"\n",
    "        \n",
    "    # Log the search results\n",
    "    print(f\"{hotel_df.loc[index, 'City']} - nearest hotel: {hotel_df.loc[index, 'Hotel Name']}\")\n",
    "\n",
    "# Display sample data\n",
    "hotel_df"
   ]
  },
  {
   "cell_type": "code",
   "execution_count": 8,
   "metadata": {},
   "outputs": [
    {
     "data": {},
     "metadata": {},
     "output_type": "display_data"
    },
    {
     "data": {
      "application/vnd.holoviews_exec.v0+json": "",
      "text/html": [
       "<div id='1137'>\n",
       "  <div class=\"bk-root\" id=\"e4dc66b4-7707-4e27-ae21-aef1b6d4c8b5\" data-root-id=\"1137\"></div>\n",
       "</div>\n",
       "<script type=\"application/javascript\">(function(root) {\n",
       "  function embed_document(root) {\n",
       "    var docs_json = {\"b620bfae-447a-4d9f-bbf8-3075d19063ff\":{\"defs\":[{\"extends\":null,\"module\":null,\"name\":\"ReactiveHTML1\",\"overrides\":[],\"properties\":[]},{\"extends\":null,\"module\":null,\"name\":\"FlexBox1\",\"overrides\":[],\"properties\":[{\"default\":\"flex-start\",\"kind\":null,\"name\":\"align_content\"},{\"default\":\"flex-start\",\"kind\":null,\"name\":\"align_items\"},{\"default\":\"row\",\"kind\":null,\"name\":\"flex_direction\"},{\"default\":\"wrap\",\"kind\":null,\"name\":\"flex_wrap\"},{\"default\":\"flex-start\",\"kind\":null,\"name\":\"justify_content\"}]},{\"extends\":null,\"module\":null,\"name\":\"GridStack1\",\"overrides\":[],\"properties\":[{\"default\":\"warn\",\"kind\":null,\"name\":\"mode\"},{\"default\":null,\"kind\":null,\"name\":\"ncols\"},{\"default\":null,\"kind\":null,\"name\":\"nrows\"},{\"default\":true,\"kind\":null,\"name\":\"allow_resize\"},{\"default\":true,\"kind\":null,\"name\":\"allow_drag\"},{\"default\":[],\"kind\":null,\"name\":\"state\"}]},{\"extends\":null,\"module\":null,\"name\":\"click1\",\"overrides\":[],\"properties\":[{\"default\":\"\",\"kind\":null,\"name\":\"terminal_output\"},{\"default\":\"\",\"kind\":null,\"name\":\"debug_name\"},{\"default\":0,\"kind\":null,\"name\":\"clears\"}]},{\"extends\":null,\"module\":null,\"name\":\"NotificationAreaBase1\",\"overrides\":[],\"properties\":[{\"default\":\"bottom-right\",\"kind\":null,\"name\":\"position\"},{\"default\":0,\"kind\":null,\"name\":\"_clear\"}]},{\"extends\":null,\"module\":null,\"name\":\"NotificationArea1\",\"overrides\":[],\"properties\":[{\"default\":[],\"kind\":null,\"name\":\"notifications\"},{\"default\":\"bottom-right\",\"kind\":null,\"name\":\"position\"},{\"default\":0,\"kind\":null,\"name\":\"_clear\"},{\"default\":[{\"background\":\"#ffc107\",\"icon\":{\"className\":\"fas fa-exclamation-triangle\",\"color\":\"white\",\"tagName\":\"i\"},\"type\":\"warning\"},{\"background\":\"#007bff\",\"icon\":{\"className\":\"fas fa-info-circle\",\"color\":\"white\",\"tagName\":\"i\"},\"type\":\"info\"}],\"kind\":null,\"name\":\"types\"}]},{\"extends\":null,\"module\":null,\"name\":\"Notification\",\"overrides\":[],\"properties\":[{\"default\":null,\"kind\":null,\"name\":\"background\"},{\"default\":3000,\"kind\":null,\"name\":\"duration\"},{\"default\":null,\"kind\":null,\"name\":\"icon\"},{\"default\":\"\",\"kind\":null,\"name\":\"message\"},{\"default\":null,\"kind\":null,\"name\":\"notification_type\"},{\"default\":false,\"kind\":null,\"name\":\"_destroyed\"}]},{\"extends\":null,\"module\":null,\"name\":\"TemplateActions1\",\"overrides\":[],\"properties\":[{\"default\":0,\"kind\":null,\"name\":\"open_modal\"},{\"default\":0,\"kind\":null,\"name\":\"close_modal\"}]},{\"extends\":null,\"module\":null,\"name\":\"MaterialTemplateActions1\",\"overrides\":[],\"properties\":[{\"default\":0,\"kind\":null,\"name\":\"open_modal\"},{\"default\":0,\"kind\":null,\"name\":\"close_modal\"}]}],\"roots\":{\"references\":[{\"attributes\":{\"axis_label\":\"x\",\"coordinates\":null,\"formatter\":{\"id\":\"1179\"},\"group\":null,\"major_label_policy\":{\"id\":\"1184\"},\"ticker\":{\"id\":\"1178\"}},\"id\":\"1157\",\"type\":\"LinearAxis\"},{\"attributes\":{\"fill_color\":{\"field\":\"color\",\"transform\":{\"id\":\"1209\"}},\"hatch_color\":{\"field\":\"color\",\"transform\":{\"id\":\"1209\"}},\"line_color\":{\"field\":\"color\",\"transform\":{\"id\":\"1209\"}},\"size\":{\"value\":5.477225575051661},\"tags\":[\"apply_ranges\"],\"x\":{\"field\":\"Lng\"},\"y\":{\"field\":\"Lat\"}},\"id\":\"1215\",\"type\":\"Scatter\"},{\"attributes\":{\"fill_alpha\":{\"value\":0.2},\"fill_color\":{\"field\":\"color\",\"transform\":{\"id\":\"1209\"}},\"hatch_alpha\":{\"value\":0.2},\"hatch_color\":{\"field\":\"color\",\"transform\":{\"id\":\"1209\"}},\"line_alpha\":{\"value\":0.2},\"line_color\":{\"field\":\"color\",\"transform\":{\"id\":\"1209\"}},\"size\":{\"value\":5.477225575051661},\"tags\":[\"apply_ranges\"],\"x\":{\"field\":\"Lng\"},\"y\":{\"field\":\"Lat\"}},\"id\":\"1217\",\"type\":\"Scatter\"},{\"attributes\":{\"axis\":{\"id\":\"1157\"},\"coordinates\":null,\"grid_line_color\":null,\"group\":null,\"ticker\":null},\"id\":\"1160\",\"type\":\"Grid\"},{\"attributes\":{\"click_policy\":\"mute\",\"coordinates\":null,\"group\":null,\"items\":[{\"id\":\"1227\"}],\"location\":[0,0]},\"id\":\"1226\",\"type\":\"Legend\"},{\"attributes\":{\"dimension\":\"lat\"},\"id\":\"1180\",\"type\":\"MercatorTicker\"},{\"attributes\":{},\"id\":\"1155\",\"type\":\"LinearScale\"},{\"attributes\":{\"code\":\"\\n        var projections = Bokeh.require(\\\"core/util/projections\\\");\\n        var x = special_vars.data_x\\n        var y = special_vars.data_y\\n        var coords = projections.wgs84_mercator.invert(x, y)\\n        return \\\"\\\" + (coords[1]).toFixed(4)\\n    \"},\"id\":\"1229\",\"type\":\"CustomJSHover\"},{\"attributes\":{},\"id\":\"1166\",\"type\":\"PanTool\"},{\"attributes\":{\"margin\":[5,5,5,5],\"name\":\"HSpacer01683\",\"sizing_mode\":\"stretch_width\"},\"id\":\"1238\",\"type\":\"Spacer\"},{\"attributes\":{\"dimension\":\"lat\"},\"id\":\"1181\",\"type\":\"MercatorTickFormatter\"},{\"attributes\":{\"margin\":[5,5,5,5],\"name\":\"HSpacer01682\",\"sizing_mode\":\"stretch_width\"},\"id\":\"1138\",\"type\":\"Spacer\"},{\"attributes\":{\"coordinates\":null,\"data_source\":{\"id\":\"1210\"},\"glyph\":{\"id\":\"1213\"},\"group\":null,\"hover_glyph\":{\"id\":\"1216\"},\"muted_glyph\":{\"id\":\"1217\"},\"nonselection_glyph\":{\"id\":\"1214\"},\"selection_glyph\":{\"id\":\"1215\"},\"view\":{\"id\":\"1219\"}},\"id\":\"1218\",\"type\":\"GlyphRenderer\"},{\"attributes\":{\"axis_label\":\"y\",\"coordinates\":null,\"formatter\":{\"id\":\"1181\"},\"group\":null,\"major_label_policy\":{\"id\":\"1191\"},\"ticker\":{\"id\":\"1180\"}},\"id\":\"1161\",\"type\":\"LinearAxis\"},{\"attributes\":{\"axis\":{\"id\":\"1161\"},\"coordinates\":null,\"dimension\":1,\"grid_line_color\":null,\"group\":null,\"ticker\":null},\"id\":\"1164\",\"type\":\"Grid\"},{\"attributes\":{},\"id\":\"1184\",\"type\":\"AllLabels\"},{\"attributes\":{\"zoom_on_axis\":false},\"id\":\"1167\",\"type\":\"WheelZoomTool\"},{\"attributes\":{\"source\":{\"id\":\"1210\"}},\"id\":\"1219\",\"type\":\"CDSView\"},{\"attributes\":{\"fill_color\":{\"field\":\"color\",\"transform\":{\"id\":\"1209\"}},\"hatch_color\":{\"field\":\"color\",\"transform\":{\"id\":\"1209\"}},\"line_color\":{\"field\":\"color\",\"transform\":{\"id\":\"1209\"}},\"size\":{\"value\":5.477225575051661},\"tags\":[\"apply_ranges\"],\"x\":{\"field\":\"Lng\"},\"y\":{\"field\":\"Lat\"}},\"id\":\"1216\",\"type\":\"Scatter\"},{\"attributes\":{},\"id\":\"1191\",\"type\":\"AllLabels\"},{\"attributes\":{},\"id\":\"1165\",\"type\":\"SaveTool\"},{\"attributes\":{\"match_aspect\":true,\"overlay\":{\"id\":\"1170\"}},\"id\":\"1168\",\"type\":\"BoxZoomTool\"},{\"attributes\":{},\"id\":\"1169\",\"type\":\"ResetTool\"},{\"attributes\":{\"bottom_units\":\"screen\",\"coordinates\":null,\"fill_alpha\":0.5,\"fill_color\":\"lightgrey\",\"group\":null,\"left_units\":\"screen\",\"level\":\"overlay\",\"line_alpha\":1.0,\"line_color\":\"black\",\"line_dash\":[4,4],\"line_width\":2,\"right_units\":\"screen\",\"syncable\":false,\"top_units\":\"screen\"},\"id\":\"1170\",\"type\":\"BoxAnnotation\"},{\"attributes\":{\"factors\":[\"No hotel found\",\"Tropic Hotel\",\"Oasis Hotel\",\"Apart Hotel Geotel Calama\",\"Jinqiu Hotel\",\"Montenegro\",\"Inn At Mama's Fish House\",\"Kona Seaside Hotel\",\"Outback Inn\",\"Maroela Guest Lodge\",\"Ibis Styles\",\"\\u30b6\\u30fb\\u30ef\\u30f3\\u30d5\\u30a1\\u30a4\\u3077\\u5ca1\\u5c71\",\"\\u0644\\u0627\\u0644\\u0647\",\"Delta Waterloo\"],\"palette\":[\"#1f77b3\",\"#ff7e0e\",\"#2ba02b\",\"#d62628\",\"#9367bc\",\"#8c564b\",\"#e277c1\",\"#7e7e7e\",\"#bcbc21\",\"#16bdcf\",\"#3a0182\",\"#004201\",\"#0fffa8\",\"#5d003f\"]},\"id\":\"1209\",\"type\":\"CategoricalColorMapper\"},{\"attributes\":{\"fill_alpha\":{\"value\":0.1},\"fill_color\":{\"field\":\"color\",\"transform\":{\"id\":\"1209\"}},\"hatch_alpha\":{\"value\":0.1},\"hatch_color\":{\"field\":\"color\",\"transform\":{\"id\":\"1209\"}},\"line_alpha\":{\"value\":0.1},\"line_color\":{\"field\":\"color\",\"transform\":{\"id\":\"1209\"}},\"size\":{\"value\":5.477225575051661},\"tags\":[\"apply_ranges\"],\"x\":{\"field\":\"Lng\"},\"y\":{\"field\":\"Lat\"}},\"id\":\"1214\",\"type\":\"Scatter\"},{\"attributes\":{\"active_drag\":{\"id\":\"1166\"},\"tools\":[{\"id\":\"1147\"},{\"id\":\"1165\"},{\"id\":\"1166\"},{\"id\":\"1167\"},{\"id\":\"1168\"},{\"id\":\"1169\"}]},\"id\":\"1171\",\"type\":\"Toolbar\"},{\"attributes\":{\"data\":{\"Hotel_Name\":[\"No hotel found\",\"Tropic Hotel\",\"Oasis Hotel\",\"Apart Hotel Geotel Calama\",\"Jinqiu Hotel\",\"Montenegro\",\"Inn At Mama's Fish House\",\"Kona Seaside Hotel\",\"Outback Inn\",\"Maroela Guest Lodge\",\"No hotel found\",\"Ibis Styles\",\"\\u30b6\\u30fb\\u30ef\\u30f3\\u30d5\\u30a1\\u30a4\\u3077\\u5ca1\\u5c71\",\"\\u0644\\u0627\\u0644\\u0647\",\"Delta Waterloo\"],\"Lat\":{\"__ndarray__\":\"AU/rikKwVkHJJrpjv45CwWVYlEYNMEXBuat+lfGWQ8EumxfS1ydIQWOI65CcJ1ZBO9AMN3QtQkGc5BGocwRBQfqHD8a7VUzBmnuLceaORcGkSLR6+7tNwYji2tyUAULBaWVSBPlqT0H020WMQ2VPQVGH4ugfiVRB\",\"dtype\":\"float64\",\"order\":\"little\",\"shape\":[15]},\"Lng\":{\"__ndarray__\":\"5AYe10fMQEH1P+Z1DI9XQRa6GoRQo0hBnGez9sRFXcG4Vc3b0fFoQVnvOdPhlTVBcgs/wv+XcMFwuyBslo9wwT0xuQuoF0lBBURKrdpHR0E2bLOMkLRHQWqz5p6Nnm1BvA/7/xBwbEF/0D+8y5pVQfGSwJR8GGHB\",\"dtype\":\"float64\",\"order\":\"little\",\"shape\":[15]},\"color\":[\"No hotel found\",\"Tropic Hotel\",\"Oasis Hotel\",\"Apart Hotel Geotel Calama\",\"Jinqiu Hotel\",\"Montenegro\",\"Inn At Mama's Fish House\",\"Kona Seaside Hotel\",\"Outback Inn\",\"Maroela Guest Lodge\",\"No hotel found\",\"Ibis Styles\",\"\\u30b6\\u30fb\\u30ef\\u30f3\\u30d5\\u30a1\\u30a4\\u3077\\u5ca1\\u5c71\",\"\\u0644\\u0627\\u0644\\u0647\",\"Delta Waterloo\"]},\"selected\":{\"id\":\"1211\"},\"selection_policy\":{\"id\":\"1223\"}},\"id\":\"1210\",\"type\":\"ColumnDataSource\"},{\"attributes\":{\"dimension\":\"lon\"},\"id\":\"1178\",\"type\":\"MercatorTicker\"},{\"attributes\":{\"callback\":null,\"formatters\":{\"$x\":{\"id\":\"1228\"},\"$y\":{\"id\":\"1229\"}},\"renderers\":[{\"id\":\"1218\"}],\"tags\":[\"hv_created\"],\"tooltips\":[[\"Lng\",\"$x{custom}\"],[\"Lat\",\"$y{custom}\"],[\"Hotel Name\",\"@{Hotel_Name}\"]]},\"id\":\"1147\",\"type\":\"HoverTool\"},{\"attributes\":{\"end\":15225738.021678288,\"min_interval\":5,\"reset_end\":15225738.021678288,\"reset_start\":-13175414.840266738,\"start\":-13175414.840266738,\"tags\":[[[\"Lat\",\"Lat\",null]]]},\"id\":\"1144\",\"type\":\"Range1d\"},{\"attributes\":{},\"id\":\"1211\",\"type\":\"Selection\"},{\"attributes\":{},\"id\":\"1223\",\"type\":\"UnionRenderers\"},{\"attributes\":{},\"id\":\"1153\",\"type\":\"LinearScale\"},{\"attributes\":{\"fill_color\":{\"field\":\"color\",\"transform\":{\"id\":\"1209\"}},\"hatch_color\":{\"field\":\"color\",\"transform\":{\"id\":\"1209\"}},\"line_color\":{\"field\":\"color\",\"transform\":{\"id\":\"1209\"}},\"size\":{\"value\":5.477225575051661},\"tags\":[\"apply_ranges\"],\"x\":{\"field\":\"Lng\"},\"y\":{\"field\":\"Lat\"}},\"id\":\"1213\",\"type\":\"Scatter\"},{\"attributes\":{\"dimension\":\"lon\"},\"id\":\"1179\",\"type\":\"MercatorTickFormatter\"},{\"attributes\":{\"attribution\":\"&copy; <a href=\\\"https://www.openstreetmap.org/copyright\\\">OpenStreetMap</a> contributors\",\"url\":\"https://c.tile.openstreetmap.org/{Z}/{X}/{Y}.png\"},\"id\":\"1204\",\"type\":\"WMTSTileSource\"},{\"attributes\":{\"end\":17998734.320598334,\"min_interval\":5,\"reset_end\":17998734.320598334,\"reset_start\":-19869469.49532837,\"start\":-19869469.49532837,\"tags\":[[[\"Lng\",\"Lng\",null]]]},\"id\":\"1143\",\"type\":\"Range1d\"},{\"attributes\":{\"coordinates\":null,\"group\":null,\"level\":\"glyph\",\"tile_source\":{\"id\":\"1204\"}},\"id\":\"1207\",\"type\":\"TileRenderer\"},{\"attributes\":{\"code\":\"\\n        var projections = Bokeh.require(\\\"core/util/projections\\\");\\n        var x = special_vars.data_x\\n        var y = special_vars.data_y\\n        var coords = projections.wgs84_mercator.invert(x, y)\\n        return \\\"\\\" + (coords[0]).toFixed(4)\\n    \"},\"id\":\"1228\",\"type\":\"CustomJSHover\"},{\"attributes\":{\"coordinates\":null,\"group\":null,\"text_color\":\"black\",\"text_font_size\":\"12pt\"},\"id\":\"1149\",\"type\":\"Title\"},{\"attributes\":{\"children\":[{\"id\":\"1138\"},{\"id\":\"1148\"},{\"id\":\"1238\"}],\"margin\":[0,0,0,0],\"name\":\"Row01678\",\"tags\":[\"embedded\"]},\"id\":\"1137\",\"type\":\"Row\"},{\"attributes\":{\"label\":{\"field\":\"color\"},\"renderers\":[{\"id\":\"1218\"}]},\"id\":\"1227\",\"type\":\"LegendItem\"},{\"attributes\":{\"below\":[{\"id\":\"1157\"}],\"center\":[{\"id\":\"1160\"},{\"id\":\"1164\"}],\"frame_height\":600,\"frame_width\":800,\"height\":null,\"left\":[{\"id\":\"1161\"}],\"margin\":[5,5,5,5],\"match_aspect\":true,\"min_border_bottom\":10,\"min_border_left\":10,\"min_border_right\":10,\"min_border_top\":10,\"output_backend\":\"webgl\",\"renderers\":[{\"id\":\"1207\"},{\"id\":\"1218\"}],\"right\":[{\"id\":\"1226\"}],\"sizing_mode\":\"fixed\",\"title\":{\"id\":\"1149\"},\"toolbar\":{\"id\":\"1171\"},\"width\":null,\"x_range\":{\"id\":\"1143\"},\"x_scale\":{\"id\":\"1153\"},\"y_range\":{\"id\":\"1144\"},\"y_scale\":{\"id\":\"1155\"}},\"id\":\"1148\",\"subtype\":\"Figure\",\"type\":\"Plot\"}],\"root_ids\":[\"1137\"]},\"title\":\"Bokeh Application\",\"version\":\"2.4.3\"}};\n",
       "    var render_items = [{\"docid\":\"b620bfae-447a-4d9f-bbf8-3075d19063ff\",\"root_ids\":[\"1137\"],\"roots\":{\"1137\":\"e4dc66b4-7707-4e27-ae21-aef1b6d4c8b5\"}}];\n",
       "    root.Bokeh.embed.embed_items_notebook(docs_json, render_items);\n",
       "    for (const render_item of render_items) {\n",
       "      for (const root_id of render_item.root_ids) {\n",
       "\tconst id_el = document.getElementById(root_id)\n",
       "\tif (id_el.children.length && (id_el.children[0].className === 'bk-root')) {\n",
       "\t  const root_el = id_el.children[0]\n",
       "\t  root_el.id = root_el.id + '-rendered'\n",
       "\t}\n",
       "      }\n",
       "    }\n",
       "  }\n",
       "  if (root.Bokeh !== undefined && root.Bokeh.Panel !== undefined) {\n",
       "    embed_document(root);\n",
       "  } else {\n",
       "    var attempts = 0;\n",
       "    var timer = setInterval(function(root) {\n",
       "      if (root.Bokeh !== undefined && root.Bokeh.Panel !== undefined) {\n",
       "        clearInterval(timer);\n",
       "        embed_document(root);\n",
       "      } else if (document.readyState == \"complete\") {\n",
       "        attempts++;\n",
       "        if (attempts > 200) {\n",
       "          clearInterval(timer);\n",
       "          console.log(\"Bokeh: ERROR: Unable to run BokehJS code because BokehJS library is missing\");\n",
       "        }\n",
       "      }\n",
       "    }, 25, root)\n",
       "  }\n",
       "})(window);</script>"
      ],
      "text/plain": [
       ":Overlay\n",
       "   .Tiles.I  :Tiles   [x,y]\n",
       "   .Points.I :Points   [Lng,Lat]   (Hotel Name)"
      ]
     },
     "execution_count": 8,
     "metadata": {
      "application/vnd.holoviews_exec.v0+json": {
       "id": "1137"
      }
     },
     "output_type": "execute_result"
    }
   ],
   "source": [
    "# Configure the map\n",
    "hotel_plot = hotel_df.hvplot.points(\n",
    "    \"Lng\",\n",
    "    \"Lat\",\n",
    "    geo = True,\n",
    "    tiles = \"OSM\",\n",
    "    frame_width = 800,\n",
    "    frame_height = 600,\n",
    "    color=\"Hotel Name\"\n",
    ")\n",
    "\n",
    "# Display the map plot\n",
    "hotel_plot"
   ]
  },
  {
   "cell_type": "code",
   "execution_count": 16,
   "metadata": {},
   "outputs": [
    {
     "data": {
      "application/vnd.plotly.v1+json": {
       "config": {
        "plotlyServerURL": "https://plot.ly"
       },
       "data": [
        {
         "hovertemplate": "Hotel Name=No hotel found<br>Lat=%{lat}<br>Lng=%{lon}<extra></extra>",
         "lat": [
          47.0342,
          -33.0153
         ],
         "legendgroup": "No hotel found",
         "lon": [
          19.7786,
          27.9116
         ],
         "marker": {
          "color": "#636efa"
         },
         "mode": "markers",
         "name": "No hotel found",
         "showlegend": true,
         "subplot": "mapbox",
         "type": "scattermapbox"
        },
        {
         "hovertemplate": "Hotel Name=Tropic Hotel<br>Lat=%{lat}<br>Lng=%{lon}<extra></extra>",
         "lat": [
          -21.3393
         ],
         "legendgroup": "Tropic Hotel",
         "lon": [
          55.4781
         ],
         "marker": {
          "color": "#EF553B"
         },
         "mode": "markers",
         "name": "Tropic Hotel",
         "showlegend": true,
         "subplot": "mapbox",
         "type": "scattermapbox"
        },
        {
         "hovertemplate": "Hotel Name=Oasis Hotel<br>Lat=%{lat}<br>Lng=%{lon}<extra></extra>",
         "lat": [
          -24.1944
         ],
         "legendgroup": "Oasis Hotel",
         "lon": [
          29.0097
         ],
         "marker": {
          "color": "#00cc96"
         },
         "mode": "markers",
         "name": "Oasis Hotel",
         "showlegend": true,
         "subplot": "mapbox",
         "type": "scattermapbox"
        },
        {
         "hovertemplate": "Hotel Name=Apart Hotel Geotel Calama<br>Lat=%{lat}<br>Lng=%{lon}<extra></extra>",
         "lat": [
          -22.4667
         ],
         "legendgroup": "Apart Hotel Geotel Calama",
         "lon": [
          -68.9333
         ],
         "marker": {
          "color": "#ab63fa"
         },
         "mode": "markers",
         "name": "Apart Hotel Geotel Calama",
         "showlegend": true,
         "subplot": "mapbox",
         "type": "scattermapbox"
        },
        {
         "hovertemplate": "Hotel Name=Jinqiu Hotel<br>Lat=%{lat}<br>Lng=%{lon}<extra></extra>",
         "lat": [
          27.3409
         ],
         "legendgroup": "Jinqiu Hotel",
         "lon": [
          117.4831
         ],
         "marker": {
          "color": "#FFA15A"
         },
         "mode": "markers",
         "name": "Jinqiu Hotel",
         "showlegend": true,
         "subplot": "mapbox",
         "type": "scattermapbox"
        },
        {
         "hovertemplate": "Hotel Name=Montenegro<br>Lat=%{lat}<br>Lng=%{lon}<extra></extra>",
         "lat": [
          46.1706
         ],
         "legendgroup": "Montenegro",
         "lon": [
          12.7078
         ],
         "marker": {
          "color": "#19d3f3"
         },
         "mode": "markers",
         "name": "Montenegro",
         "showlegend": true,
         "subplot": "mapbox",
         "type": "scattermapbox"
        },
        {
         "hovertemplate": "Hotel Name=Inn At Mama's Fish House<br>Lat=%{lat}<br>Lng=%{lon}<extra></extra>",
         "lat": [
          20.9219
         ],
         "legendgroup": "Inn At Mama's Fish House",
         "lon": [
          -156.3051
         ],
         "marker": {
          "color": "#FF6692"
         },
         "mode": "markers",
         "name": "Inn At Mama's Fish House",
         "showlegend": true,
         "subplot": "mapbox",
         "type": "scattermapbox"
        },
        {
         "hovertemplate": "Hotel Name=Kona Seaside Hotel<br>Lat=%{lat}<br>Lng=%{lon}<extra></extra>",
         "lat": [
          19.6406
         ],
         "legendgroup": "Kona Seaside Hotel",
         "lon": [
          -155.9956
         ],
         "marker": {
          "color": "#B6E880"
         },
         "mode": "markers",
         "name": "Kona Seaside Hotel",
         "showlegend": true,
         "subplot": "mapbox",
         "type": "scattermapbox"
        },
        {
         "hovertemplate": "Hotel Name=Outback Inn<br>Lat=%{lat}<br>Lng=%{lon}<extra></extra>",
         "lat": [
          -31.6229
         ],
         "legendgroup": "Outback Inn",
         "lon": [
          29.5448
         ],
         "marker": {
          "color": "#FF97FF"
         },
         "mode": "markers",
         "name": "Outback Inn",
         "showlegend": true,
         "subplot": "mapbox",
         "type": "scattermapbox"
        },
        {
         "hovertemplate": "Hotel Name=Maroela Guest Lodge<br>Lat=%{lat}<br>Lng=%{lon}<extra></extra>",
         "lat": [
          -24.5917
         ],
         "legendgroup": "Maroela Guest Lodge",
         "lon": [
          27.4116
         ],
         "marker": {
          "color": "#FECB52"
         },
         "mode": "markers",
         "name": "Maroela Guest Lodge",
         "showlegend": true,
         "subplot": "mapbox",
         "type": "scattermapbox"
        },
        {
         "hovertemplate": "Hotel Name=Ibis Styles<br>Lat=%{lat}<br>Lng=%{lon}<extra></extra>",
         "lat": [
          -20.7333
         ],
         "legendgroup": "Ibis Styles",
         "lon": [
          139.5
         ],
         "marker": {
          "color": "#636efa"
         },
         "mode": "markers",
         "name": "Ibis Styles",
         "showlegend": true,
         "subplot": "mapbox",
         "type": "scattermapbox"
        },
        {
         "hovertemplate": "Hotel Name=ザ・ワンファイぷ岡山<br>Lat=%{lat}<br>Lng=%{lon}<extra></extra>",
         "lat": [
          34.6617
         ],
         "legendgroup": "ザ・ワンファイぷ岡山",
         "lon": [
          133.935
         ],
         "marker": {
          "color": "#EF553B"
         },
         "mode": "markers",
         "name": "ザ・ワンファイぷ岡山",
         "showlegend": true,
         "subplot": "mapbox",
         "type": "scattermapbox"
        },
        {
         "hovertemplate": "Hotel Name=لاله<br>Lat=%{lat}<br>Lng=%{lon}<extra></extra>",
         "lat": [
          34.6401
         ],
         "legendgroup": "لاله",
         "lon": [
          50.8764
         ],
         "marker": {
          "color": "#00cc96"
         },
         "mode": "markers",
         "name": "لاله",
         "showlegend": true,
         "subplot": "mapbox",
         "type": "scattermapbox"
        },
        {
         "hovertemplate": "Hotel Name=Delta Waterloo<br>Lat=%{lat}<br>Lng=%{lon}<extra></extra>",
         "lat": [
          43.4668
         ],
         "legendgroup": "Delta Waterloo",
         "lon": [
          -80.5164
         ],
         "marker": {
          "color": "#ab63fa"
         },
         "mode": "markers",
         "name": "Delta Waterloo",
         "showlegend": true,
         "subplot": "mapbox",
         "type": "scattermapbox"
        }
       ],
       "layout": {
        "legend": {
         "title": {
          "text": "Hotel Name"
         },
         "tracegroupgap": 0
        },
        "mapbox": {
         "accesstoken": "pk.eyJ1IjoiZ3JlZW5ib2kxMDUiLCJhIjoiY2xlMGo4aGZ0MDlyNTN2cWtlYnAyeTduNCJ9.22dna4Wm_VmFU1OKBXCFgQ",
         "center": {
          "lat": 6.394213333333332,
          "lon": 12.125753333333332
         },
         "domain": {
          "x": [
           0,
           1
          ],
          "y": [
           0,
           1
          ]
         },
         "zoom": 8
        },
        "margin": {
         "t": 60
        },
        "template": {
         "data": {
          "bar": [
           {
            "error_x": {
             "color": "#2a3f5f"
            },
            "error_y": {
             "color": "#2a3f5f"
            },
            "marker": {
             "line": {
              "color": "#E5ECF6",
              "width": 0.5
             },
             "pattern": {
              "fillmode": "overlay",
              "size": 10,
              "solidity": 0.2
             }
            },
            "type": "bar"
           }
          ],
          "barpolar": [
           {
            "marker": {
             "line": {
              "color": "#E5ECF6",
              "width": 0.5
             },
             "pattern": {
              "fillmode": "overlay",
              "size": 10,
              "solidity": 0.2
             }
            },
            "type": "barpolar"
           }
          ],
          "carpet": [
           {
            "aaxis": {
             "endlinecolor": "#2a3f5f",
             "gridcolor": "white",
             "linecolor": "white",
             "minorgridcolor": "white",
             "startlinecolor": "#2a3f5f"
            },
            "baxis": {
             "endlinecolor": "#2a3f5f",
             "gridcolor": "white",
             "linecolor": "white",
             "minorgridcolor": "white",
             "startlinecolor": "#2a3f5f"
            },
            "type": "carpet"
           }
          ],
          "choropleth": [
           {
            "colorbar": {
             "outlinewidth": 0,
             "ticks": ""
            },
            "type": "choropleth"
           }
          ],
          "contour": [
           {
            "colorbar": {
             "outlinewidth": 0,
             "ticks": ""
            },
            "colorscale": [
             [
              0,
              "#0d0887"
             ],
             [
              0.1111111111111111,
              "#46039f"
             ],
             [
              0.2222222222222222,
              "#7201a8"
             ],
             [
              0.3333333333333333,
              "#9c179e"
             ],
             [
              0.4444444444444444,
              "#bd3786"
             ],
             [
              0.5555555555555556,
              "#d8576b"
             ],
             [
              0.6666666666666666,
              "#ed7953"
             ],
             [
              0.7777777777777778,
              "#fb9f3a"
             ],
             [
              0.8888888888888888,
              "#fdca26"
             ],
             [
              1,
              "#f0f921"
             ]
            ],
            "type": "contour"
           }
          ],
          "contourcarpet": [
           {
            "colorbar": {
             "outlinewidth": 0,
             "ticks": ""
            },
            "type": "contourcarpet"
           }
          ],
          "heatmap": [
           {
            "colorbar": {
             "outlinewidth": 0,
             "ticks": ""
            },
            "colorscale": [
             [
              0,
              "#0d0887"
             ],
             [
              0.1111111111111111,
              "#46039f"
             ],
             [
              0.2222222222222222,
              "#7201a8"
             ],
             [
              0.3333333333333333,
              "#9c179e"
             ],
             [
              0.4444444444444444,
              "#bd3786"
             ],
             [
              0.5555555555555556,
              "#d8576b"
             ],
             [
              0.6666666666666666,
              "#ed7953"
             ],
             [
              0.7777777777777778,
              "#fb9f3a"
             ],
             [
              0.8888888888888888,
              "#fdca26"
             ],
             [
              1,
              "#f0f921"
             ]
            ],
            "type": "heatmap"
           }
          ],
          "heatmapgl": [
           {
            "colorbar": {
             "outlinewidth": 0,
             "ticks": ""
            },
            "colorscale": [
             [
              0,
              "#0d0887"
             ],
             [
              0.1111111111111111,
              "#46039f"
             ],
             [
              0.2222222222222222,
              "#7201a8"
             ],
             [
              0.3333333333333333,
              "#9c179e"
             ],
             [
              0.4444444444444444,
              "#bd3786"
             ],
             [
              0.5555555555555556,
              "#d8576b"
             ],
             [
              0.6666666666666666,
              "#ed7953"
             ],
             [
              0.7777777777777778,
              "#fb9f3a"
             ],
             [
              0.8888888888888888,
              "#fdca26"
             ],
             [
              1,
              "#f0f921"
             ]
            ],
            "type": "heatmapgl"
           }
          ],
          "histogram": [
           {
            "marker": {
             "pattern": {
              "fillmode": "overlay",
              "size": 10,
              "solidity": 0.2
             }
            },
            "type": "histogram"
           }
          ],
          "histogram2d": [
           {
            "colorbar": {
             "outlinewidth": 0,
             "ticks": ""
            },
            "colorscale": [
             [
              0,
              "#0d0887"
             ],
             [
              0.1111111111111111,
              "#46039f"
             ],
             [
              0.2222222222222222,
              "#7201a8"
             ],
             [
              0.3333333333333333,
              "#9c179e"
             ],
             [
              0.4444444444444444,
              "#bd3786"
             ],
             [
              0.5555555555555556,
              "#d8576b"
             ],
             [
              0.6666666666666666,
              "#ed7953"
             ],
             [
              0.7777777777777778,
              "#fb9f3a"
             ],
             [
              0.8888888888888888,
              "#fdca26"
             ],
             [
              1,
              "#f0f921"
             ]
            ],
            "type": "histogram2d"
           }
          ],
          "histogram2dcontour": [
           {
            "colorbar": {
             "outlinewidth": 0,
             "ticks": ""
            },
            "colorscale": [
             [
              0,
              "#0d0887"
             ],
             [
              0.1111111111111111,
              "#46039f"
             ],
             [
              0.2222222222222222,
              "#7201a8"
             ],
             [
              0.3333333333333333,
              "#9c179e"
             ],
             [
              0.4444444444444444,
              "#bd3786"
             ],
             [
              0.5555555555555556,
              "#d8576b"
             ],
             [
              0.6666666666666666,
              "#ed7953"
             ],
             [
              0.7777777777777778,
              "#fb9f3a"
             ],
             [
              0.8888888888888888,
              "#fdca26"
             ],
             [
              1,
              "#f0f921"
             ]
            ],
            "type": "histogram2dcontour"
           }
          ],
          "mesh3d": [
           {
            "colorbar": {
             "outlinewidth": 0,
             "ticks": ""
            },
            "type": "mesh3d"
           }
          ],
          "parcoords": [
           {
            "line": {
             "colorbar": {
              "outlinewidth": 0,
              "ticks": ""
             }
            },
            "type": "parcoords"
           }
          ],
          "pie": [
           {
            "automargin": true,
            "type": "pie"
           }
          ],
          "scatter": [
           {
            "fillpattern": {
             "fillmode": "overlay",
             "size": 10,
             "solidity": 0.2
            },
            "type": "scatter"
           }
          ],
          "scatter3d": [
           {
            "line": {
             "colorbar": {
              "outlinewidth": 0,
              "ticks": ""
             }
            },
            "marker": {
             "colorbar": {
              "outlinewidth": 0,
              "ticks": ""
             }
            },
            "type": "scatter3d"
           }
          ],
          "scattercarpet": [
           {
            "marker": {
             "colorbar": {
              "outlinewidth": 0,
              "ticks": ""
             }
            },
            "type": "scattercarpet"
           }
          ],
          "scattergeo": [
           {
            "marker": {
             "colorbar": {
              "outlinewidth": 0,
              "ticks": ""
             }
            },
            "type": "scattergeo"
           }
          ],
          "scattergl": [
           {
            "marker": {
             "colorbar": {
              "outlinewidth": 0,
              "ticks": ""
             }
            },
            "type": "scattergl"
           }
          ],
          "scattermapbox": [
           {
            "marker": {
             "colorbar": {
              "outlinewidth": 0,
              "ticks": ""
             }
            },
            "type": "scattermapbox"
           }
          ],
          "scatterpolar": [
           {
            "marker": {
             "colorbar": {
              "outlinewidth": 0,
              "ticks": ""
             }
            },
            "type": "scatterpolar"
           }
          ],
          "scatterpolargl": [
           {
            "marker": {
             "colorbar": {
              "outlinewidth": 0,
              "ticks": ""
             }
            },
            "type": "scatterpolargl"
           }
          ],
          "scatterternary": [
           {
            "marker": {
             "colorbar": {
              "outlinewidth": 0,
              "ticks": ""
             }
            },
            "type": "scatterternary"
           }
          ],
          "surface": [
           {
            "colorbar": {
             "outlinewidth": 0,
             "ticks": ""
            },
            "colorscale": [
             [
              0,
              "#0d0887"
             ],
             [
              0.1111111111111111,
              "#46039f"
             ],
             [
              0.2222222222222222,
              "#7201a8"
             ],
             [
              0.3333333333333333,
              "#9c179e"
             ],
             [
              0.4444444444444444,
              "#bd3786"
             ],
             [
              0.5555555555555556,
              "#d8576b"
             ],
             [
              0.6666666666666666,
              "#ed7953"
             ],
             [
              0.7777777777777778,
              "#fb9f3a"
             ],
             [
              0.8888888888888888,
              "#fdca26"
             ],
             [
              1,
              "#f0f921"
             ]
            ],
            "type": "surface"
           }
          ],
          "table": [
           {
            "cells": {
             "fill": {
              "color": "#EBF0F8"
             },
             "line": {
              "color": "white"
             }
            },
            "header": {
             "fill": {
              "color": "#C8D4E3"
             },
             "line": {
              "color": "white"
             }
            },
            "type": "table"
           }
          ]
         },
         "layout": {
          "annotationdefaults": {
           "arrowcolor": "#2a3f5f",
           "arrowhead": 0,
           "arrowwidth": 1
          },
          "autotypenumbers": "strict",
          "coloraxis": {
           "colorbar": {
            "outlinewidth": 0,
            "ticks": ""
           }
          },
          "colorscale": {
           "diverging": [
            [
             0,
             "#8e0152"
            ],
            [
             0.1,
             "#c51b7d"
            ],
            [
             0.2,
             "#de77ae"
            ],
            [
             0.3,
             "#f1b6da"
            ],
            [
             0.4,
             "#fde0ef"
            ],
            [
             0.5,
             "#f7f7f7"
            ],
            [
             0.6,
             "#e6f5d0"
            ],
            [
             0.7,
             "#b8e186"
            ],
            [
             0.8,
             "#7fbc41"
            ],
            [
             0.9,
             "#4d9221"
            ],
            [
             1,
             "#276419"
            ]
           ],
           "sequential": [
            [
             0,
             "#0d0887"
            ],
            [
             0.1111111111111111,
             "#46039f"
            ],
            [
             0.2222222222222222,
             "#7201a8"
            ],
            [
             0.3333333333333333,
             "#9c179e"
            ],
            [
             0.4444444444444444,
             "#bd3786"
            ],
            [
             0.5555555555555556,
             "#d8576b"
            ],
            [
             0.6666666666666666,
             "#ed7953"
            ],
            [
             0.7777777777777778,
             "#fb9f3a"
            ],
            [
             0.8888888888888888,
             "#fdca26"
            ],
            [
             1,
             "#f0f921"
            ]
           ],
           "sequentialminus": [
            [
             0,
             "#0d0887"
            ],
            [
             0.1111111111111111,
             "#46039f"
            ],
            [
             0.2222222222222222,
             "#7201a8"
            ],
            [
             0.3333333333333333,
             "#9c179e"
            ],
            [
             0.4444444444444444,
             "#bd3786"
            ],
            [
             0.5555555555555556,
             "#d8576b"
            ],
            [
             0.6666666666666666,
             "#ed7953"
            ],
            [
             0.7777777777777778,
             "#fb9f3a"
            ],
            [
             0.8888888888888888,
             "#fdca26"
            ],
            [
             1,
             "#f0f921"
            ]
           ]
          },
          "colorway": [
           "#636efa",
           "#EF553B",
           "#00cc96",
           "#ab63fa",
           "#FFA15A",
           "#19d3f3",
           "#FF6692",
           "#B6E880",
           "#FF97FF",
           "#FECB52"
          ],
          "font": {
           "color": "#2a3f5f"
          },
          "geo": {
           "bgcolor": "white",
           "lakecolor": "white",
           "landcolor": "#E5ECF6",
           "showlakes": true,
           "showland": true,
           "subunitcolor": "white"
          },
          "hoverlabel": {
           "align": "left"
          },
          "hovermode": "closest",
          "mapbox": {
           "style": "light"
          },
          "paper_bgcolor": "white",
          "plot_bgcolor": "#E5ECF6",
          "polar": {
           "angularaxis": {
            "gridcolor": "white",
            "linecolor": "white",
            "ticks": ""
           },
           "bgcolor": "#E5ECF6",
           "radialaxis": {
            "gridcolor": "white",
            "linecolor": "white",
            "ticks": ""
           }
          },
          "scene": {
           "xaxis": {
            "backgroundcolor": "#E5ECF6",
            "gridcolor": "white",
            "gridwidth": 2,
            "linecolor": "white",
            "showbackground": true,
            "ticks": "",
            "zerolinecolor": "white"
           },
           "yaxis": {
            "backgroundcolor": "#E5ECF6",
            "gridcolor": "white",
            "gridwidth": 2,
            "linecolor": "white",
            "showbackground": true,
            "ticks": "",
            "zerolinecolor": "white"
           },
           "zaxis": {
            "backgroundcolor": "#E5ECF6",
            "gridcolor": "white",
            "gridwidth": 2,
            "linecolor": "white",
            "showbackground": true,
            "ticks": "",
            "zerolinecolor": "white"
           }
          },
          "shapedefaults": {
           "line": {
            "color": "#2a3f5f"
           }
          },
          "ternary": {
           "aaxis": {
            "gridcolor": "white",
            "linecolor": "white",
            "ticks": ""
           },
           "baxis": {
            "gridcolor": "white",
            "linecolor": "white",
            "ticks": ""
           },
           "bgcolor": "#E5ECF6",
           "caxis": {
            "gridcolor": "white",
            "linecolor": "white",
            "ticks": ""
           }
          },
          "title": {
           "x": 0.05
          },
          "xaxis": {
           "automargin": true,
           "gridcolor": "white",
           "linecolor": "white",
           "ticks": "",
           "title": {
            "standoff": 15
           },
           "zerolinecolor": "white",
           "zerolinewidth": 2
          },
          "yaxis": {
           "automargin": true,
           "gridcolor": "white",
           "linecolor": "white",
           "ticks": "",
           "title": {
            "standoff": 15
           },
           "zerolinecolor": "white",
           "zerolinewidth": 2
          }
         }
        }
       }
      }
     },
     "metadata": {},
     "output_type": "display_data"
    }
   ],
   "source": [
    "fig_hotel = px.scatter_mapbox(hotel_df, lat=\"Lat\", lon=\"Lng\", color=\"Hotel Name\", color_continuous_scale=px.colors.cyclical.IceFire)\n",
    "\n",
    "fig_hotel"
   ]
  },
  {
   "cell_type": "code",
   "execution_count": null,
   "metadata": {},
   "outputs": [],
   "source": []
  }
 ],
 "metadata": {
  "kernelspec": {
   "display_name": "Python 3 (ipykernel)",
   "language": "python",
   "name": "python3"
  },
  "language_info": {
   "codemirror_mode": {
    "name": "ipython",
    "version": 3
   },
   "file_extension": ".py",
   "mimetype": "text/x-python",
   "name": "python",
   "nbconvert_exporter": "python",
   "pygments_lexer": "ipython3",
   "version": "3.9.17"
  },
  "latex_envs": {
   "LaTeX_envs_menu_present": true,
   "autoclose": false,
   "autocomplete": true,
   "bibliofile": "biblio.bib",
   "cite_by": "apalike",
   "current_citInitial": 1,
   "eqLabelWithNumbers": true,
   "eqNumInitial": 1,
   "hotkeys": {
    "equation": "Ctrl-E",
    "itemize": "Ctrl-I"
   },
   "labels_anchors": false,
   "latex_user_defs": false,
   "report_style_numbering": false,
   "user_envs_cfg": false
  }
 },
 "nbformat": 4,
 "nbformat_minor": 4
}
